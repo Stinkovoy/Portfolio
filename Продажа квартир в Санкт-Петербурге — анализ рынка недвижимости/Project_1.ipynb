{
 "cells": [
  {
   "cell_type": "markdown",
   "metadata": {},
   "source": [
    "# Исследование объявлений о продаже квартир\n",
    "\n",
    "В нашем распоряжении данные сервиса Яндекс.Недвижимость — архив объявлений о продаже квартир в Санкт-Петербурге и соседних населённых пунктов за несколько лет. Нужно научиться определять рыночную стоимость объектов недвижимости. Задача — установить параметры. Это позволит построить автоматизированную систему: она отследит аномалии и мошенническую деятельность. \n",
    "\n",
    "По каждой квартире на продажу доступны два вида данных. Первые вписаны пользователем, вторые — получены автоматически на основе картографических данных. Например, расстояние до центра, аэропорта, ближайшего парка и водоёма. "
   ]
  },
  {
   "cell_type": "markdown",
   "metadata": {},
   "source": [
    "### Ознакомление с общей информацией."
   ]
  },
  {
   "cell_type": "code",
   "execution_count": 1,
   "metadata": {},
   "outputs": [],
   "source": [
    "import pandas as pd\n",
    "import matplotlib.pyplot as plt"
   ]
  },
  {
   "cell_type": "code",
   "execution_count": 2,
   "metadata": {},
   "outputs": [],
   "source": [
    "data = pd.read_csv('/datasets/real_estate_data.csv', sep='\\t')"
   ]
  },
  {
   "cell_type": "markdown",
   "metadata": {},
   "source": [
    "#### Изучаем общую информацию"
   ]
  },
  {
   "cell_type": "code",
   "execution_count": 3,
   "metadata": {},
   "outputs": [
    {
     "data": {
      "text/html": [
       "<div>\n",
       "<style scoped>\n",
       "    .dataframe tbody tr th:only-of-type {\n",
       "        vertical-align: middle;\n",
       "    }\n",
       "\n",
       "    .dataframe tbody tr th {\n",
       "        vertical-align: top;\n",
       "    }\n",
       "\n",
       "    .dataframe thead th {\n",
       "        text-align: right;\n",
       "    }\n",
       "</style>\n",
       "<table border=\"1\" class=\"dataframe\">\n",
       "  <thead>\n",
       "    <tr style=\"text-align: right;\">\n",
       "      <th></th>\n",
       "      <th>total_images</th>\n",
       "      <th>last_price</th>\n",
       "      <th>total_area</th>\n",
       "      <th>first_day_exposition</th>\n",
       "      <th>rooms</th>\n",
       "      <th>ceiling_height</th>\n",
       "      <th>floors_total</th>\n",
       "      <th>living_area</th>\n",
       "      <th>floor</th>\n",
       "      <th>is_apartment</th>\n",
       "      <th>studio</th>\n",
       "      <th>open_plan</th>\n",
       "      <th>kitchen_area</th>\n",
       "      <th>balcony</th>\n",
       "      <th>locality_name</th>\n",
       "      <th>airports_nearest</th>\n",
       "      <th>cityCenters_nearest</th>\n",
       "      <th>parks_around3000</th>\n",
       "      <th>parks_nearest</th>\n",
       "      <th>ponds_around3000</th>\n",
       "      <th>ponds_nearest</th>\n",
       "      <th>days_exposition</th>\n",
       "    </tr>\n",
       "  </thead>\n",
       "  <tbody>\n",
       "    <tr>\n",
       "      <th>0</th>\n",
       "      <td>20</td>\n",
       "      <td>13000000.0</td>\n",
       "      <td>108.00</td>\n",
       "      <td>2019-03-07T00:00:00</td>\n",
       "      <td>3</td>\n",
       "      <td>2.70</td>\n",
       "      <td>16.0</td>\n",
       "      <td>51.00</td>\n",
       "      <td>8</td>\n",
       "      <td>NaN</td>\n",
       "      <td>False</td>\n",
       "      <td>False</td>\n",
       "      <td>25.00</td>\n",
       "      <td>NaN</td>\n",
       "      <td>Санкт-Петербург</td>\n",
       "      <td>18863.0</td>\n",
       "      <td>16028.0</td>\n",
       "      <td>1.0</td>\n",
       "      <td>482.0</td>\n",
       "      <td>2.0</td>\n",
       "      <td>755.0</td>\n",
       "      <td>NaN</td>\n",
       "    </tr>\n",
       "    <tr>\n",
       "      <th>1</th>\n",
       "      <td>7</td>\n",
       "      <td>3350000.0</td>\n",
       "      <td>40.40</td>\n",
       "      <td>2018-12-04T00:00:00</td>\n",
       "      <td>1</td>\n",
       "      <td>NaN</td>\n",
       "      <td>11.0</td>\n",
       "      <td>18.60</td>\n",
       "      <td>1</td>\n",
       "      <td>NaN</td>\n",
       "      <td>False</td>\n",
       "      <td>False</td>\n",
       "      <td>11.00</td>\n",
       "      <td>2.0</td>\n",
       "      <td>посёлок Шушары</td>\n",
       "      <td>12817.0</td>\n",
       "      <td>18603.0</td>\n",
       "      <td>0.0</td>\n",
       "      <td>NaN</td>\n",
       "      <td>0.0</td>\n",
       "      <td>NaN</td>\n",
       "      <td>81.0</td>\n",
       "    </tr>\n",
       "    <tr>\n",
       "      <th>2</th>\n",
       "      <td>10</td>\n",
       "      <td>5196000.0</td>\n",
       "      <td>56.00</td>\n",
       "      <td>2015-08-20T00:00:00</td>\n",
       "      <td>2</td>\n",
       "      <td>NaN</td>\n",
       "      <td>5.0</td>\n",
       "      <td>34.30</td>\n",
       "      <td>4</td>\n",
       "      <td>NaN</td>\n",
       "      <td>False</td>\n",
       "      <td>False</td>\n",
       "      <td>8.30</td>\n",
       "      <td>0.0</td>\n",
       "      <td>Санкт-Петербург</td>\n",
       "      <td>21741.0</td>\n",
       "      <td>13933.0</td>\n",
       "      <td>1.0</td>\n",
       "      <td>90.0</td>\n",
       "      <td>2.0</td>\n",
       "      <td>574.0</td>\n",
       "      <td>558.0</td>\n",
       "    </tr>\n",
       "    <tr>\n",
       "      <th>3</th>\n",
       "      <td>0</td>\n",
       "      <td>64900000.0</td>\n",
       "      <td>159.00</td>\n",
       "      <td>2015-07-24T00:00:00</td>\n",
       "      <td>3</td>\n",
       "      <td>NaN</td>\n",
       "      <td>14.0</td>\n",
       "      <td>NaN</td>\n",
       "      <td>9</td>\n",
       "      <td>NaN</td>\n",
       "      <td>False</td>\n",
       "      <td>False</td>\n",
       "      <td>NaN</td>\n",
       "      <td>0.0</td>\n",
       "      <td>Санкт-Петербург</td>\n",
       "      <td>28098.0</td>\n",
       "      <td>6800.0</td>\n",
       "      <td>2.0</td>\n",
       "      <td>84.0</td>\n",
       "      <td>3.0</td>\n",
       "      <td>234.0</td>\n",
       "      <td>424.0</td>\n",
       "    </tr>\n",
       "    <tr>\n",
       "      <th>4</th>\n",
       "      <td>2</td>\n",
       "      <td>10000000.0</td>\n",
       "      <td>100.00</td>\n",
       "      <td>2018-06-19T00:00:00</td>\n",
       "      <td>2</td>\n",
       "      <td>3.03</td>\n",
       "      <td>14.0</td>\n",
       "      <td>32.00</td>\n",
       "      <td>13</td>\n",
       "      <td>NaN</td>\n",
       "      <td>False</td>\n",
       "      <td>False</td>\n",
       "      <td>41.00</td>\n",
       "      <td>NaN</td>\n",
       "      <td>Санкт-Петербург</td>\n",
       "      <td>31856.0</td>\n",
       "      <td>8098.0</td>\n",
       "      <td>2.0</td>\n",
       "      <td>112.0</td>\n",
       "      <td>1.0</td>\n",
       "      <td>48.0</td>\n",
       "      <td>121.0</td>\n",
       "    </tr>\n",
       "    <tr>\n",
       "      <th>5</th>\n",
       "      <td>10</td>\n",
       "      <td>2890000.0</td>\n",
       "      <td>30.40</td>\n",
       "      <td>2018-09-10T00:00:00</td>\n",
       "      <td>1</td>\n",
       "      <td>NaN</td>\n",
       "      <td>12.0</td>\n",
       "      <td>14.40</td>\n",
       "      <td>5</td>\n",
       "      <td>NaN</td>\n",
       "      <td>False</td>\n",
       "      <td>False</td>\n",
       "      <td>9.10</td>\n",
       "      <td>NaN</td>\n",
       "      <td>городской посёлок Янино-1</td>\n",
       "      <td>NaN</td>\n",
       "      <td>NaN</td>\n",
       "      <td>NaN</td>\n",
       "      <td>NaN</td>\n",
       "      <td>NaN</td>\n",
       "      <td>NaN</td>\n",
       "      <td>55.0</td>\n",
       "    </tr>\n",
       "    <tr>\n",
       "      <th>6</th>\n",
       "      <td>6</td>\n",
       "      <td>3700000.0</td>\n",
       "      <td>37.30</td>\n",
       "      <td>2017-11-02T00:00:00</td>\n",
       "      <td>1</td>\n",
       "      <td>NaN</td>\n",
       "      <td>26.0</td>\n",
       "      <td>10.60</td>\n",
       "      <td>6</td>\n",
       "      <td>NaN</td>\n",
       "      <td>False</td>\n",
       "      <td>False</td>\n",
       "      <td>14.40</td>\n",
       "      <td>1.0</td>\n",
       "      <td>посёлок Парголово</td>\n",
       "      <td>52996.0</td>\n",
       "      <td>19143.0</td>\n",
       "      <td>0.0</td>\n",
       "      <td>NaN</td>\n",
       "      <td>0.0</td>\n",
       "      <td>NaN</td>\n",
       "      <td>155.0</td>\n",
       "    </tr>\n",
       "    <tr>\n",
       "      <th>7</th>\n",
       "      <td>5</td>\n",
       "      <td>7915000.0</td>\n",
       "      <td>71.60</td>\n",
       "      <td>2019-04-18T00:00:00</td>\n",
       "      <td>2</td>\n",
       "      <td>NaN</td>\n",
       "      <td>24.0</td>\n",
       "      <td>NaN</td>\n",
       "      <td>22</td>\n",
       "      <td>NaN</td>\n",
       "      <td>False</td>\n",
       "      <td>False</td>\n",
       "      <td>18.90</td>\n",
       "      <td>2.0</td>\n",
       "      <td>Санкт-Петербург</td>\n",
       "      <td>23982.0</td>\n",
       "      <td>11634.0</td>\n",
       "      <td>0.0</td>\n",
       "      <td>NaN</td>\n",
       "      <td>0.0</td>\n",
       "      <td>NaN</td>\n",
       "      <td>NaN</td>\n",
       "    </tr>\n",
       "    <tr>\n",
       "      <th>8</th>\n",
       "      <td>20</td>\n",
       "      <td>2900000.0</td>\n",
       "      <td>33.16</td>\n",
       "      <td>2018-05-23T00:00:00</td>\n",
       "      <td>1</td>\n",
       "      <td>NaN</td>\n",
       "      <td>27.0</td>\n",
       "      <td>15.43</td>\n",
       "      <td>26</td>\n",
       "      <td>NaN</td>\n",
       "      <td>False</td>\n",
       "      <td>False</td>\n",
       "      <td>8.81</td>\n",
       "      <td>NaN</td>\n",
       "      <td>посёлок Мурино</td>\n",
       "      <td>NaN</td>\n",
       "      <td>NaN</td>\n",
       "      <td>NaN</td>\n",
       "      <td>NaN</td>\n",
       "      <td>NaN</td>\n",
       "      <td>NaN</td>\n",
       "      <td>189.0</td>\n",
       "    </tr>\n",
       "    <tr>\n",
       "      <th>9</th>\n",
       "      <td>18</td>\n",
       "      <td>5400000.0</td>\n",
       "      <td>61.00</td>\n",
       "      <td>2017-02-26T00:00:00</td>\n",
       "      <td>3</td>\n",
       "      <td>2.50</td>\n",
       "      <td>9.0</td>\n",
       "      <td>43.60</td>\n",
       "      <td>7</td>\n",
       "      <td>NaN</td>\n",
       "      <td>False</td>\n",
       "      <td>False</td>\n",
       "      <td>6.50</td>\n",
       "      <td>2.0</td>\n",
       "      <td>Санкт-Петербург</td>\n",
       "      <td>50898.0</td>\n",
       "      <td>15008.0</td>\n",
       "      <td>0.0</td>\n",
       "      <td>NaN</td>\n",
       "      <td>0.0</td>\n",
       "      <td>NaN</td>\n",
       "      <td>289.0</td>\n",
       "    </tr>\n",
       "    <tr>\n",
       "      <th>10</th>\n",
       "      <td>5</td>\n",
       "      <td>5050000.0</td>\n",
       "      <td>39.60</td>\n",
       "      <td>2017-11-16T00:00:00</td>\n",
       "      <td>1</td>\n",
       "      <td>2.67</td>\n",
       "      <td>12.0</td>\n",
       "      <td>20.30</td>\n",
       "      <td>3</td>\n",
       "      <td>NaN</td>\n",
       "      <td>False</td>\n",
       "      <td>False</td>\n",
       "      <td>8.50</td>\n",
       "      <td>NaN</td>\n",
       "      <td>Санкт-Петербург</td>\n",
       "      <td>38357.0</td>\n",
       "      <td>13878.0</td>\n",
       "      <td>1.0</td>\n",
       "      <td>310.0</td>\n",
       "      <td>2.0</td>\n",
       "      <td>553.0</td>\n",
       "      <td>137.0</td>\n",
       "    </tr>\n",
       "    <tr>\n",
       "      <th>11</th>\n",
       "      <td>9</td>\n",
       "      <td>3300000.0</td>\n",
       "      <td>44.00</td>\n",
       "      <td>2018-08-27T00:00:00</td>\n",
       "      <td>2</td>\n",
       "      <td>NaN</td>\n",
       "      <td>5.0</td>\n",
       "      <td>31.00</td>\n",
       "      <td>4</td>\n",
       "      <td>False</td>\n",
       "      <td>False</td>\n",
       "      <td>False</td>\n",
       "      <td>6.00</td>\n",
       "      <td>1.0</td>\n",
       "      <td>Ломоносов</td>\n",
       "      <td>48252.0</td>\n",
       "      <td>51677.0</td>\n",
       "      <td>0.0</td>\n",
       "      <td>NaN</td>\n",
       "      <td>0.0</td>\n",
       "      <td>NaN</td>\n",
       "      <td>7.0</td>\n",
       "    </tr>\n",
       "    <tr>\n",
       "      <th>12</th>\n",
       "      <td>10</td>\n",
       "      <td>3890000.0</td>\n",
       "      <td>54.00</td>\n",
       "      <td>2016-06-30T00:00:00</td>\n",
       "      <td>2</td>\n",
       "      <td>NaN</td>\n",
       "      <td>5.0</td>\n",
       "      <td>30.00</td>\n",
       "      <td>5</td>\n",
       "      <td>NaN</td>\n",
       "      <td>False</td>\n",
       "      <td>False</td>\n",
       "      <td>9.00</td>\n",
       "      <td>0.0</td>\n",
       "      <td>Сертолово</td>\n",
       "      <td>NaN</td>\n",
       "      <td>NaN</td>\n",
       "      <td>NaN</td>\n",
       "      <td>NaN</td>\n",
       "      <td>NaN</td>\n",
       "      <td>NaN</td>\n",
       "      <td>90.0</td>\n",
       "    </tr>\n",
       "    <tr>\n",
       "      <th>13</th>\n",
       "      <td>20</td>\n",
       "      <td>3550000.0</td>\n",
       "      <td>42.80</td>\n",
       "      <td>2017-07-01T00:00:00</td>\n",
       "      <td>2</td>\n",
       "      <td>2.56</td>\n",
       "      <td>5.0</td>\n",
       "      <td>27.00</td>\n",
       "      <td>5</td>\n",
       "      <td>NaN</td>\n",
       "      <td>False</td>\n",
       "      <td>False</td>\n",
       "      <td>5.20</td>\n",
       "      <td>1.0</td>\n",
       "      <td>Петергоф</td>\n",
       "      <td>37868.0</td>\n",
       "      <td>33058.0</td>\n",
       "      <td>1.0</td>\n",
       "      <td>294.0</td>\n",
       "      <td>3.0</td>\n",
       "      <td>298.0</td>\n",
       "      <td>366.0</td>\n",
       "    </tr>\n",
       "    <tr>\n",
       "      <th>14</th>\n",
       "      <td>1</td>\n",
       "      <td>4400000.0</td>\n",
       "      <td>36.00</td>\n",
       "      <td>2016-06-23T00:00:00</td>\n",
       "      <td>1</td>\n",
       "      <td>NaN</td>\n",
       "      <td>6.0</td>\n",
       "      <td>17.00</td>\n",
       "      <td>1</td>\n",
       "      <td>NaN</td>\n",
       "      <td>False</td>\n",
       "      <td>False</td>\n",
       "      <td>8.00</td>\n",
       "      <td>0.0</td>\n",
       "      <td>Пушкин</td>\n",
       "      <td>20782.0</td>\n",
       "      <td>30759.0</td>\n",
       "      <td>0.0</td>\n",
       "      <td>NaN</td>\n",
       "      <td>1.0</td>\n",
       "      <td>96.0</td>\n",
       "      <td>203.0</td>\n",
       "    </tr>\n",
       "    <tr>\n",
       "      <th>15</th>\n",
       "      <td>16</td>\n",
       "      <td>4650000.0</td>\n",
       "      <td>39.00</td>\n",
       "      <td>2017-11-18T00:00:00</td>\n",
       "      <td>1</td>\n",
       "      <td>NaN</td>\n",
       "      <td>14.0</td>\n",
       "      <td>20.50</td>\n",
       "      <td>5</td>\n",
       "      <td>NaN</td>\n",
       "      <td>False</td>\n",
       "      <td>False</td>\n",
       "      <td>7.60</td>\n",
       "      <td>1.0</td>\n",
       "      <td>Санкт-Петербург</td>\n",
       "      <td>12900.0</td>\n",
       "      <td>14259.0</td>\n",
       "      <td>1.0</td>\n",
       "      <td>590.0</td>\n",
       "      <td>1.0</td>\n",
       "      <td>296.0</td>\n",
       "      <td>19.0</td>\n",
       "    </tr>\n",
       "    <tr>\n",
       "      <th>16</th>\n",
       "      <td>11</td>\n",
       "      <td>6700000.0</td>\n",
       "      <td>82.00</td>\n",
       "      <td>2017-11-23T00:00:00</td>\n",
       "      <td>3</td>\n",
       "      <td>3.05</td>\n",
       "      <td>5.0</td>\n",
       "      <td>55.60</td>\n",
       "      <td>1</td>\n",
       "      <td>NaN</td>\n",
       "      <td>False</td>\n",
       "      <td>False</td>\n",
       "      <td>9.00</td>\n",
       "      <td>NaN</td>\n",
       "      <td>Санкт-Петербург</td>\n",
       "      <td>22108.0</td>\n",
       "      <td>10698.0</td>\n",
       "      <td>3.0</td>\n",
       "      <td>420.0</td>\n",
       "      <td>0.0</td>\n",
       "      <td>NaN</td>\n",
       "      <td>397.0</td>\n",
       "    </tr>\n",
       "    <tr>\n",
       "      <th>17</th>\n",
       "      <td>6</td>\n",
       "      <td>4180000.0</td>\n",
       "      <td>36.00</td>\n",
       "      <td>2016-09-09T00:00:00</td>\n",
       "      <td>1</td>\n",
       "      <td>NaN</td>\n",
       "      <td>17.0</td>\n",
       "      <td>16.50</td>\n",
       "      <td>7</td>\n",
       "      <td>NaN</td>\n",
       "      <td>False</td>\n",
       "      <td>False</td>\n",
       "      <td>11.00</td>\n",
       "      <td>1.0</td>\n",
       "      <td>Санкт-Петербург</td>\n",
       "      <td>33564.0</td>\n",
       "      <td>14616.0</td>\n",
       "      <td>0.0</td>\n",
       "      <td>NaN</td>\n",
       "      <td>1.0</td>\n",
       "      <td>859.0</td>\n",
       "      <td>571.0</td>\n",
       "    </tr>\n",
       "    <tr>\n",
       "      <th>18</th>\n",
       "      <td>8</td>\n",
       "      <td>3250000.0</td>\n",
       "      <td>31.00</td>\n",
       "      <td>2017-01-27T00:00:00</td>\n",
       "      <td>1</td>\n",
       "      <td>2.50</td>\n",
       "      <td>5.0</td>\n",
       "      <td>19.40</td>\n",
       "      <td>2</td>\n",
       "      <td>NaN</td>\n",
       "      <td>False</td>\n",
       "      <td>False</td>\n",
       "      <td>5.60</td>\n",
       "      <td>1.0</td>\n",
       "      <td>Санкт-Петербург</td>\n",
       "      <td>44060.0</td>\n",
       "      <td>10842.0</td>\n",
       "      <td>1.0</td>\n",
       "      <td>759.0</td>\n",
       "      <td>0.0</td>\n",
       "      <td>NaN</td>\n",
       "      <td>168.0</td>\n",
       "    </tr>\n",
       "    <tr>\n",
       "      <th>19</th>\n",
       "      <td>16</td>\n",
       "      <td>14200000.0</td>\n",
       "      <td>121.00</td>\n",
       "      <td>2019-01-09T00:00:00</td>\n",
       "      <td>3</td>\n",
       "      <td>2.75</td>\n",
       "      <td>16.0</td>\n",
       "      <td>76.00</td>\n",
       "      <td>8</td>\n",
       "      <td>NaN</td>\n",
       "      <td>False</td>\n",
       "      <td>False</td>\n",
       "      <td>12.00</td>\n",
       "      <td>NaN</td>\n",
       "      <td>Санкт-Петербург</td>\n",
       "      <td>38900.0</td>\n",
       "      <td>12843.0</td>\n",
       "      <td>0.0</td>\n",
       "      <td>NaN</td>\n",
       "      <td>0.0</td>\n",
       "      <td>NaN</td>\n",
       "      <td>97.0</td>\n",
       "    </tr>\n",
       "    <tr>\n",
       "      <th>20</th>\n",
       "      <td>12</td>\n",
       "      <td>6120000.0</td>\n",
       "      <td>80.00</td>\n",
       "      <td>2017-09-28T00:00:00</td>\n",
       "      <td>3</td>\n",
       "      <td>2.70</td>\n",
       "      <td>27.0</td>\n",
       "      <td>48.00</td>\n",
       "      <td>11</td>\n",
       "      <td>NaN</td>\n",
       "      <td>False</td>\n",
       "      <td>False</td>\n",
       "      <td>12.00</td>\n",
       "      <td>2.0</td>\n",
       "      <td>посёлок Парголово</td>\n",
       "      <td>53134.0</td>\n",
       "      <td>19311.0</td>\n",
       "      <td>0.0</td>\n",
       "      <td>NaN</td>\n",
       "      <td>0.0</td>\n",
       "      <td>NaN</td>\n",
       "      <td>74.0</td>\n",
       "    </tr>\n",
       "    <tr>\n",
       "      <th>21</th>\n",
       "      <td>13</td>\n",
       "      <td>3200000.0</td>\n",
       "      <td>31.60</td>\n",
       "      <td>2018-03-14T00:00:00</td>\n",
       "      <td>1</td>\n",
       "      <td>NaN</td>\n",
       "      <td>5.0</td>\n",
       "      <td>16.90</td>\n",
       "      <td>2</td>\n",
       "      <td>NaN</td>\n",
       "      <td>False</td>\n",
       "      <td>False</td>\n",
       "      <td>5.70</td>\n",
       "      <td>1.0</td>\n",
       "      <td>Санкт-Петербург</td>\n",
       "      <td>36064.0</td>\n",
       "      <td>9722.0</td>\n",
       "      <td>1.0</td>\n",
       "      <td>248.0</td>\n",
       "      <td>0.0</td>\n",
       "      <td>NaN</td>\n",
       "      <td>310.0</td>\n",
       "    </tr>\n",
       "    <tr>\n",
       "      <th>22</th>\n",
       "      <td>20</td>\n",
       "      <td>5000000.0</td>\n",
       "      <td>58.00</td>\n",
       "      <td>2017-04-24T00:00:00</td>\n",
       "      <td>2</td>\n",
       "      <td>2.75</td>\n",
       "      <td>25.0</td>\n",
       "      <td>30.00</td>\n",
       "      <td>15</td>\n",
       "      <td>NaN</td>\n",
       "      <td>False</td>\n",
       "      <td>False</td>\n",
       "      <td>11.00</td>\n",
       "      <td>2.0</td>\n",
       "      <td>деревня Кудрово</td>\n",
       "      <td>NaN</td>\n",
       "      <td>NaN</td>\n",
       "      <td>NaN</td>\n",
       "      <td>NaN</td>\n",
       "      <td>NaN</td>\n",
       "      <td>NaN</td>\n",
       "      <td>60.0</td>\n",
       "    </tr>\n",
       "    <tr>\n",
       "      <th>23</th>\n",
       "      <td>11</td>\n",
       "      <td>2950000.0</td>\n",
       "      <td>32.00</td>\n",
       "      <td>2016-10-29T00:00:00</td>\n",
       "      <td>1</td>\n",
       "      <td>2.60</td>\n",
       "      <td>9.0</td>\n",
       "      <td>17.70</td>\n",
       "      <td>9</td>\n",
       "      <td>NaN</td>\n",
       "      <td>False</td>\n",
       "      <td>False</td>\n",
       "      <td>6.10</td>\n",
       "      <td>NaN</td>\n",
       "      <td>Санкт-Петербург</td>\n",
       "      <td>15414.0</td>\n",
       "      <td>14211.0</td>\n",
       "      <td>2.0</td>\n",
       "      <td>517.0</td>\n",
       "      <td>1.0</td>\n",
       "      <td>190.0</td>\n",
       "      <td>615.0</td>\n",
       "    </tr>\n",
       "    <tr>\n",
       "      <th>24</th>\n",
       "      <td>8</td>\n",
       "      <td>6500000.0</td>\n",
       "      <td>97.20</td>\n",
       "      <td>2015-10-31T00:00:00</td>\n",
       "      <td>2</td>\n",
       "      <td>NaN</td>\n",
       "      <td>3.0</td>\n",
       "      <td>46.50</td>\n",
       "      <td>1</td>\n",
       "      <td>NaN</td>\n",
       "      <td>False</td>\n",
       "      <td>False</td>\n",
       "      <td>19.60</td>\n",
       "      <td>0.0</td>\n",
       "      <td>Санкт-Петербург</td>\n",
       "      <td>20052.0</td>\n",
       "      <td>2336.0</td>\n",
       "      <td>3.0</td>\n",
       "      <td>411.0</td>\n",
       "      <td>3.0</td>\n",
       "      <td>124.0</td>\n",
       "      <td>265.0</td>\n",
       "    </tr>\n",
       "    <tr>\n",
       "      <th>25</th>\n",
       "      <td>3</td>\n",
       "      <td>6800000.0</td>\n",
       "      <td>76.00</td>\n",
       "      <td>2015-10-01T00:00:00</td>\n",
       "      <td>2</td>\n",
       "      <td>2.75</td>\n",
       "      <td>23.0</td>\n",
       "      <td>39.00</td>\n",
       "      <td>18</td>\n",
       "      <td>False</td>\n",
       "      <td>False</td>\n",
       "      <td>False</td>\n",
       "      <td>15.00</td>\n",
       "      <td>2.0</td>\n",
       "      <td>Санкт-Петербург</td>\n",
       "      <td>34967.0</td>\n",
       "      <td>14640.0</td>\n",
       "      <td>0.0</td>\n",
       "      <td>NaN</td>\n",
       "      <td>1.0</td>\n",
       "      <td>564.0</td>\n",
       "      <td>300.0</td>\n",
       "    </tr>\n",
       "    <tr>\n",
       "      <th>26</th>\n",
       "      <td>6</td>\n",
       "      <td>4050000.0</td>\n",
       "      <td>60.00</td>\n",
       "      <td>2017-04-28T00:00:00</td>\n",
       "      <td>4</td>\n",
       "      <td>NaN</td>\n",
       "      <td>5.0</td>\n",
       "      <td>43.00</td>\n",
       "      <td>4</td>\n",
       "      <td>NaN</td>\n",
       "      <td>False</td>\n",
       "      <td>False</td>\n",
       "      <td>7.00</td>\n",
       "      <td>NaN</td>\n",
       "      <td>Санкт-Петербург</td>\n",
       "      <td>11580.0</td>\n",
       "      <td>10510.0</td>\n",
       "      <td>0.0</td>\n",
       "      <td>NaN</td>\n",
       "      <td>1.0</td>\n",
       "      <td>95.0</td>\n",
       "      <td>265.0</td>\n",
       "    </tr>\n",
       "    <tr>\n",
       "      <th>27</th>\n",
       "      <td>20</td>\n",
       "      <td>7100000.0</td>\n",
       "      <td>70.00</td>\n",
       "      <td>2017-05-12T00:00:00</td>\n",
       "      <td>3</td>\n",
       "      <td>2.60</td>\n",
       "      <td>17.0</td>\n",
       "      <td>49.00</td>\n",
       "      <td>11</td>\n",
       "      <td>NaN</td>\n",
       "      <td>False</td>\n",
       "      <td>False</td>\n",
       "      <td>9.20</td>\n",
       "      <td>0.0</td>\n",
       "      <td>Санкт-Петербург</td>\n",
       "      <td>29197.0</td>\n",
       "      <td>11456.0</td>\n",
       "      <td>2.0</td>\n",
       "      <td>452.0</td>\n",
       "      <td>1.0</td>\n",
       "      <td>779.0</td>\n",
       "      <td>151.0</td>\n",
       "    </tr>\n",
       "    <tr>\n",
       "      <th>28</th>\n",
       "      <td>8</td>\n",
       "      <td>4170000.0</td>\n",
       "      <td>44.00</td>\n",
       "      <td>2017-12-13T00:00:00</td>\n",
       "      <td>1</td>\n",
       "      <td>2.90</td>\n",
       "      <td>6.0</td>\n",
       "      <td>20.80</td>\n",
       "      <td>1</td>\n",
       "      <td>NaN</td>\n",
       "      <td>False</td>\n",
       "      <td>False</td>\n",
       "      <td>11.70</td>\n",
       "      <td>1.0</td>\n",
       "      <td>Пушкин</td>\n",
       "      <td>18557.0</td>\n",
       "      <td>30710.0</td>\n",
       "      <td>0.0</td>\n",
       "      <td>NaN</td>\n",
       "      <td>1.0</td>\n",
       "      <td>118.0</td>\n",
       "      <td>74.0</td>\n",
       "    </tr>\n",
       "    <tr>\n",
       "      <th>29</th>\n",
       "      <td>9</td>\n",
       "      <td>8600000.0</td>\n",
       "      <td>100.00</td>\n",
       "      <td>2016-04-09T00:00:00</td>\n",
       "      <td>3</td>\n",
       "      <td>NaN</td>\n",
       "      <td>19.0</td>\n",
       "      <td>52.00</td>\n",
       "      <td>15</td>\n",
       "      <td>False</td>\n",
       "      <td>False</td>\n",
       "      <td>False</td>\n",
       "      <td>11.00</td>\n",
       "      <td>0.0</td>\n",
       "      <td>Санкт-Петербург</td>\n",
       "      <td>30394.0</td>\n",
       "      <td>11526.0</td>\n",
       "      <td>1.0</td>\n",
       "      <td>532.0</td>\n",
       "      <td>1.0</td>\n",
       "      <td>896.0</td>\n",
       "      <td>125.0</td>\n",
       "    </tr>\n",
       "  </tbody>\n",
       "</table>\n",
       "</div>"
      ],
      "text/plain": [
       "    total_images  last_price  total_area first_day_exposition  rooms  \\\n",
       "0             20  13000000.0      108.00  2019-03-07T00:00:00      3   \n",
       "1              7   3350000.0       40.40  2018-12-04T00:00:00      1   \n",
       "2             10   5196000.0       56.00  2015-08-20T00:00:00      2   \n",
       "3              0  64900000.0      159.00  2015-07-24T00:00:00      3   \n",
       "4              2  10000000.0      100.00  2018-06-19T00:00:00      2   \n",
       "5             10   2890000.0       30.40  2018-09-10T00:00:00      1   \n",
       "6              6   3700000.0       37.30  2017-11-02T00:00:00      1   \n",
       "7              5   7915000.0       71.60  2019-04-18T00:00:00      2   \n",
       "8             20   2900000.0       33.16  2018-05-23T00:00:00      1   \n",
       "9             18   5400000.0       61.00  2017-02-26T00:00:00      3   \n",
       "10             5   5050000.0       39.60  2017-11-16T00:00:00      1   \n",
       "11             9   3300000.0       44.00  2018-08-27T00:00:00      2   \n",
       "12            10   3890000.0       54.00  2016-06-30T00:00:00      2   \n",
       "13            20   3550000.0       42.80  2017-07-01T00:00:00      2   \n",
       "14             1   4400000.0       36.00  2016-06-23T00:00:00      1   \n",
       "15            16   4650000.0       39.00  2017-11-18T00:00:00      1   \n",
       "16            11   6700000.0       82.00  2017-11-23T00:00:00      3   \n",
       "17             6   4180000.0       36.00  2016-09-09T00:00:00      1   \n",
       "18             8   3250000.0       31.00  2017-01-27T00:00:00      1   \n",
       "19            16  14200000.0      121.00  2019-01-09T00:00:00      3   \n",
       "20            12   6120000.0       80.00  2017-09-28T00:00:00      3   \n",
       "21            13   3200000.0       31.60  2018-03-14T00:00:00      1   \n",
       "22            20   5000000.0       58.00  2017-04-24T00:00:00      2   \n",
       "23            11   2950000.0       32.00  2016-10-29T00:00:00      1   \n",
       "24             8   6500000.0       97.20  2015-10-31T00:00:00      2   \n",
       "25             3   6800000.0       76.00  2015-10-01T00:00:00      2   \n",
       "26             6   4050000.0       60.00  2017-04-28T00:00:00      4   \n",
       "27            20   7100000.0       70.00  2017-05-12T00:00:00      3   \n",
       "28             8   4170000.0       44.00  2017-12-13T00:00:00      1   \n",
       "29             9   8600000.0      100.00  2016-04-09T00:00:00      3   \n",
       "\n",
       "    ceiling_height  floors_total  living_area  floor is_apartment  studio  \\\n",
       "0             2.70          16.0        51.00      8          NaN   False   \n",
       "1              NaN          11.0        18.60      1          NaN   False   \n",
       "2              NaN           5.0        34.30      4          NaN   False   \n",
       "3              NaN          14.0          NaN      9          NaN   False   \n",
       "4             3.03          14.0        32.00     13          NaN   False   \n",
       "5              NaN          12.0        14.40      5          NaN   False   \n",
       "6              NaN          26.0        10.60      6          NaN   False   \n",
       "7              NaN          24.0          NaN     22          NaN   False   \n",
       "8              NaN          27.0        15.43     26          NaN   False   \n",
       "9             2.50           9.0        43.60      7          NaN   False   \n",
       "10            2.67          12.0        20.30      3          NaN   False   \n",
       "11             NaN           5.0        31.00      4        False   False   \n",
       "12             NaN           5.0        30.00      5          NaN   False   \n",
       "13            2.56           5.0        27.00      5          NaN   False   \n",
       "14             NaN           6.0        17.00      1          NaN   False   \n",
       "15             NaN          14.0        20.50      5          NaN   False   \n",
       "16            3.05           5.0        55.60      1          NaN   False   \n",
       "17             NaN          17.0        16.50      7          NaN   False   \n",
       "18            2.50           5.0        19.40      2          NaN   False   \n",
       "19            2.75          16.0        76.00      8          NaN   False   \n",
       "20            2.70          27.0        48.00     11          NaN   False   \n",
       "21             NaN           5.0        16.90      2          NaN   False   \n",
       "22            2.75          25.0        30.00     15          NaN   False   \n",
       "23            2.60           9.0        17.70      9          NaN   False   \n",
       "24             NaN           3.0        46.50      1          NaN   False   \n",
       "25            2.75          23.0        39.00     18        False   False   \n",
       "26             NaN           5.0        43.00      4          NaN   False   \n",
       "27            2.60          17.0        49.00     11          NaN   False   \n",
       "28            2.90           6.0        20.80      1          NaN   False   \n",
       "29             NaN          19.0        52.00     15        False   False   \n",
       "\n",
       "    open_plan  kitchen_area  balcony              locality_name  \\\n",
       "0       False         25.00      NaN            Санкт-Петербург   \n",
       "1       False         11.00      2.0             посёлок Шушары   \n",
       "2       False          8.30      0.0            Санкт-Петербург   \n",
       "3       False           NaN      0.0            Санкт-Петербург   \n",
       "4       False         41.00      NaN            Санкт-Петербург   \n",
       "5       False          9.10      NaN  городской посёлок Янино-1   \n",
       "6       False         14.40      1.0          посёлок Парголово   \n",
       "7       False         18.90      2.0            Санкт-Петербург   \n",
       "8       False          8.81      NaN             посёлок Мурино   \n",
       "9       False          6.50      2.0            Санкт-Петербург   \n",
       "10      False          8.50      NaN            Санкт-Петербург   \n",
       "11      False          6.00      1.0                  Ломоносов   \n",
       "12      False          9.00      0.0                  Сертолово   \n",
       "13      False          5.20      1.0                   Петергоф   \n",
       "14      False          8.00      0.0                     Пушкин   \n",
       "15      False          7.60      1.0            Санкт-Петербург   \n",
       "16      False          9.00      NaN            Санкт-Петербург   \n",
       "17      False         11.00      1.0            Санкт-Петербург   \n",
       "18      False          5.60      1.0            Санкт-Петербург   \n",
       "19      False         12.00      NaN            Санкт-Петербург   \n",
       "20      False         12.00      2.0          посёлок Парголово   \n",
       "21      False          5.70      1.0            Санкт-Петербург   \n",
       "22      False         11.00      2.0            деревня Кудрово   \n",
       "23      False          6.10      NaN            Санкт-Петербург   \n",
       "24      False         19.60      0.0            Санкт-Петербург   \n",
       "25      False         15.00      2.0            Санкт-Петербург   \n",
       "26      False          7.00      NaN            Санкт-Петербург   \n",
       "27      False          9.20      0.0            Санкт-Петербург   \n",
       "28      False         11.70      1.0                     Пушкин   \n",
       "29      False         11.00      0.0            Санкт-Петербург   \n",
       "\n",
       "    airports_nearest  cityCenters_nearest  parks_around3000  parks_nearest  \\\n",
       "0            18863.0              16028.0               1.0          482.0   \n",
       "1            12817.0              18603.0               0.0            NaN   \n",
       "2            21741.0              13933.0               1.0           90.0   \n",
       "3            28098.0               6800.0               2.0           84.0   \n",
       "4            31856.0               8098.0               2.0          112.0   \n",
       "5                NaN                  NaN               NaN            NaN   \n",
       "6            52996.0              19143.0               0.0            NaN   \n",
       "7            23982.0              11634.0               0.0            NaN   \n",
       "8                NaN                  NaN               NaN            NaN   \n",
       "9            50898.0              15008.0               0.0            NaN   \n",
       "10           38357.0              13878.0               1.0          310.0   \n",
       "11           48252.0              51677.0               0.0            NaN   \n",
       "12               NaN                  NaN               NaN            NaN   \n",
       "13           37868.0              33058.0               1.0          294.0   \n",
       "14           20782.0              30759.0               0.0            NaN   \n",
       "15           12900.0              14259.0               1.0          590.0   \n",
       "16           22108.0              10698.0               3.0          420.0   \n",
       "17           33564.0              14616.0               0.0            NaN   \n",
       "18           44060.0              10842.0               1.0          759.0   \n",
       "19           38900.0              12843.0               0.0            NaN   \n",
       "20           53134.0              19311.0               0.0            NaN   \n",
       "21           36064.0               9722.0               1.0          248.0   \n",
       "22               NaN                  NaN               NaN            NaN   \n",
       "23           15414.0              14211.0               2.0          517.0   \n",
       "24           20052.0               2336.0               3.0          411.0   \n",
       "25           34967.0              14640.0               0.0            NaN   \n",
       "26           11580.0              10510.0               0.0            NaN   \n",
       "27           29197.0              11456.0               2.0          452.0   \n",
       "28           18557.0              30710.0               0.0            NaN   \n",
       "29           30394.0              11526.0               1.0          532.0   \n",
       "\n",
       "    ponds_around3000  ponds_nearest  days_exposition  \n",
       "0                2.0          755.0              NaN  \n",
       "1                0.0            NaN             81.0  \n",
       "2                2.0          574.0            558.0  \n",
       "3                3.0          234.0            424.0  \n",
       "4                1.0           48.0            121.0  \n",
       "5                NaN            NaN             55.0  \n",
       "6                0.0            NaN            155.0  \n",
       "7                0.0            NaN              NaN  \n",
       "8                NaN            NaN            189.0  \n",
       "9                0.0            NaN            289.0  \n",
       "10               2.0          553.0            137.0  \n",
       "11               0.0            NaN              7.0  \n",
       "12               NaN            NaN             90.0  \n",
       "13               3.0          298.0            366.0  \n",
       "14               1.0           96.0            203.0  \n",
       "15               1.0          296.0             19.0  \n",
       "16               0.0            NaN            397.0  \n",
       "17               1.0          859.0            571.0  \n",
       "18               0.0            NaN            168.0  \n",
       "19               0.0            NaN             97.0  \n",
       "20               0.0            NaN             74.0  \n",
       "21               0.0            NaN            310.0  \n",
       "22               NaN            NaN             60.0  \n",
       "23               1.0          190.0            615.0  \n",
       "24               3.0          124.0            265.0  \n",
       "25               1.0          564.0            300.0  \n",
       "26               1.0           95.0            265.0  \n",
       "27               1.0          779.0            151.0  \n",
       "28               1.0          118.0             74.0  \n",
       "29               1.0          896.0            125.0  "
      ]
     },
     "execution_count": 3,
     "metadata": {},
     "output_type": "execute_result"
    }
   ],
   "source": [
    "pd.set_option('display.max_columns', None)\n",
    "data.head(30)"
   ]
  },
  {
   "cell_type": "code",
   "execution_count": 4,
   "metadata": {},
   "outputs": [
    {
     "name": "stdout",
     "output_type": "stream",
     "text": [
      "<class 'pandas.core.frame.DataFrame'>\n",
      "RangeIndex: 23699 entries, 0 to 23698\n",
      "Data columns (total 22 columns):\n",
      " #   Column                Non-Null Count  Dtype  \n",
      "---  ------                --------------  -----  \n",
      " 0   total_images          23699 non-null  int64  \n",
      " 1   last_price            23699 non-null  float64\n",
      " 2   total_area            23699 non-null  float64\n",
      " 3   first_day_exposition  23699 non-null  object \n",
      " 4   rooms                 23699 non-null  int64  \n",
      " 5   ceiling_height        14504 non-null  float64\n",
      " 6   floors_total          23613 non-null  float64\n",
      " 7   living_area           21796 non-null  float64\n",
      " 8   floor                 23699 non-null  int64  \n",
      " 9   is_apartment          2775 non-null   object \n",
      " 10  studio                23699 non-null  bool   \n",
      " 11  open_plan             23699 non-null  bool   \n",
      " 12  kitchen_area          21421 non-null  float64\n",
      " 13  balcony               12180 non-null  float64\n",
      " 14  locality_name         23650 non-null  object \n",
      " 15  airports_nearest      18157 non-null  float64\n",
      " 16  cityCenters_nearest   18180 non-null  float64\n",
      " 17  parks_around3000      18181 non-null  float64\n",
      " 18  parks_nearest         8079 non-null   float64\n",
      " 19  ponds_around3000      18181 non-null  float64\n",
      " 20  ponds_nearest         9110 non-null   float64\n",
      " 21  days_exposition       20518 non-null  float64\n",
      "dtypes: bool(2), float64(14), int64(3), object(3)\n",
      "memory usage: 3.7+ MB\n"
     ]
    }
   ],
   "source": [
    "data.info()"
   ]
  },
  {
   "cell_type": "markdown",
   "metadata": {},
   "source": [
    "#### Строим гистрограмму для всех столбцов"
   ]
  },
  {
   "cell_type": "code",
   "execution_count": 5,
   "metadata": {
    "scrolled": false
   },
   "outputs": [
    {
     "data": {
      "image/png": "[encoded data removed]",
      "text/plain": [
       "<Figure size 1080x1440 with 20 Axes>"
      ]
     },
     "metadata": {
      "needs_background": "light"
     },
     "output_type": "display_data"
    }
   ],
   "source": [
    "data.hist(figsize=(15, 20))\n",
    "plt.show()"
   ]
  },
  {
   "cell_type": "markdown",
   "metadata": {},
   "source": [
    "#### Промежуточный вывод"
   ]
  },
  {
   "cell_type": "markdown",
   "metadata": {},
   "source": [
    "При первоначальном знакомстве с данными выявлены следующие проблемы:  \n",
    "- пропуски в столбцах: высота потолков, всего этажей в доме, жилая площадь, аппартаменты, площадь кухни, число балконов, название населенного пункта, расстояние до аэропорта, расстояние до центра города, число парков в радиусе 3 км., растояние до парка,число водоемов в радиусе 3 км., расстояние до водоема, сколько дней было размещено объявление.  \n",
    "- название столбца cityCenters_nearest не соответствует общему правилу применяемому к заголовкам.  \n",
    "- типы данных в столбцах не соответствуют логическим значениям: last_price, first_day_exposition, floors_total, is_apartment, balcony."
   ]
  },
  {
   "cell_type": "markdown",
   "metadata": {},
   "source": [
    "### Предобработка данных"
   ]
  },
  {
   "cell_type": "markdown",
   "metadata": {},
   "source": [
    "#### Найдем пропущенные значения в столбцах"
   ]
  },
  {
   "cell_type": "code",
   "execution_count": 6,
   "metadata": {
    "scrolled": false
   },
   "outputs": [
    {
     "data": {
      "text/plain": [
       "total_images                0\n",
       "last_price                  0\n",
       "total_area                  0\n",
       "first_day_exposition        0\n",
       "rooms                       0\n",
       "ceiling_height           9195\n",
       "floors_total               86\n",
       "living_area              1903\n",
       "floor                       0\n",
       "is_apartment            20924\n",
       "studio                      0\n",
       "open_plan                   0\n",
       "kitchen_area             2278\n",
       "balcony                 11519\n",
       "locality_name              49\n",
       "airports_nearest         5542\n",
       "cityCenters_nearest      5519\n",
       "parks_around3000         5518\n",
       "parks_nearest           15620\n",
       "ponds_around3000         5518\n",
       "ponds_nearest           14589\n",
       "days_exposition          3181\n",
       "dtype: int64"
      ]
     },
     "execution_count": 6,
     "metadata": {},
     "output_type": "execute_result"
    }
   ],
   "source": [
    "data.isna().sum()"
   ]
  },
  {
   "cell_type": "markdown",
   "metadata": {},
   "source": [
    "#### Удаляем строки с пропусками в столбцах floors_total и locality_name. Таких строк не много и они не повлияют на общую картину."
   ]
  },
  {
   "cell_type": "code",
   "execution_count": 7,
   "metadata": {},
   "outputs": [],
   "source": [
    "data = data.dropna(subset=['floors_total', 'locality_name'])"
   ]
  },
  {
   "cell_type": "markdown",
   "metadata": {},
   "source": [
    "#### Вставляем пропущенные значения "
   ]
  },
  {
   "cell_type": "code",
   "execution_count": 8,
   "metadata": {},
   "outputs": [],
   "source": [
    "data['is_apartment'] = data['is_apartment'].fillna('False')"
   ]
  },
  {
   "cell_type": "code",
   "execution_count": 9,
   "metadata": {},
   "outputs": [],
   "source": [
    "data['balcony'] = data['balcony'].fillna(0)"
   ]
  },
  {
   "cell_type": "markdown",
   "metadata": {},
   "source": [
    "#### Проверяем значения в столбцах, с которыми работали"
   ]
  },
  {
   "cell_type": "code",
   "execution_count": 10,
   "metadata": {},
   "outputs": [
    {
     "data": {
      "text/plain": [
       "total_images                0\n",
       "last_price                  0\n",
       "total_area                  0\n",
       "first_day_exposition        0\n",
       "rooms                       0\n",
       "ceiling_height           9084\n",
       "floors_total                0\n",
       "living_area              1865\n",
       "floor                       0\n",
       "is_apartment                0\n",
       "studio                      0\n",
       "open_plan                   0\n",
       "kitchen_area             2222\n",
       "balcony                     0\n",
       "locality_name               0\n",
       "airports_nearest         5524\n",
       "cityCenters_nearest      5501\n",
       "parks_around3000         5500\n",
       "parks_nearest           15535\n",
       "ponds_around3000         5500\n",
       "ponds_nearest           14529\n",
       "days_exposition          3171\n",
       "dtype: int64"
      ]
     },
     "execution_count": 10,
     "metadata": {},
     "output_type": "execute_result"
    }
   ],
   "source": [
    "data.isna().sum()"
   ]
  },
  {
   "cell_type": "markdown",
   "metadata": {},
   "source": [
    "Пропуски в столбце 'is_apartment' скорее всего связаны с тем, что рассматриваемые объекты не являются аппартаментами и мы можем заменить значения NaN на False.<br>\n",
    "Пропуски в столбце 'balcony' могут быть связаны связаны с тем, что рассматриваемые объекты не имеют балконов.<br>\n",
    "В столбцах floors_total, locality_name, ceiling_height, living_area и kitchen_area скорее всего просто не указали данные.<br>\n",
    "Можно предположить, что в нижеперечисленных столбцах нет данных в связи с тем, что отсутствует данное условие.<br>\n",
    "airports_nearest, cityCenters_nearest, parks_around3000, parks_nearest, ponds_around3000, ponds_nearest."
   ]
  },
  {
   "cell_type": "markdown",
   "metadata": {},
   "source": [
    "#### Приведем названия столбцов к одному виду"
   ]
  },
  {
   "cell_type": "code",
   "execution_count": 11,
   "metadata": {},
   "outputs": [],
   "source": [
    "data = data.rename(columns={'cityCenters_nearest':'city_centers_nearest'})"
   ]
  },
  {
   "cell_type": "markdown",
   "metadata": {},
   "source": [
    "#### Заменяем типы данных"
   ]
  },
  {
   "cell_type": "code",
   "execution_count": 12,
   "metadata": {},
   "outputs": [
    {
     "name": "stdout",
     "output_type": "stream",
     "text": [
      "<class 'pandas.core.frame.DataFrame'>\n",
      "Int64Index: 23565 entries, 0 to 23698\n",
      "Data columns (total 22 columns):\n",
      " #   Column                Non-Null Count  Dtype  \n",
      "---  ------                --------------  -----  \n",
      " 0   total_images          23565 non-null  int64  \n",
      " 1   last_price            23565 non-null  float64\n",
      " 2   total_area            23565 non-null  float64\n",
      " 3   first_day_exposition  23565 non-null  object \n",
      " 4   rooms                 23565 non-null  int64  \n",
      " 5   ceiling_height        14481 non-null  float64\n",
      " 6   floors_total          23565 non-null  float64\n",
      " 7   living_area           21700 non-null  float64\n",
      " 8   floor                 23565 non-null  int64  \n",
      " 9   is_apartment          23565 non-null  object \n",
      " 10  studio                23565 non-null  bool   \n",
      " 11  open_plan             23565 non-null  bool   \n",
      " 12  kitchen_area          21343 non-null  float64\n",
      " 13  balcony               23565 non-null  float64\n",
      " 14  locality_name         23565 non-null  object \n",
      " 15  airports_nearest      18041 non-null  float64\n",
      " 16  city_centers_nearest  18064 non-null  float64\n",
      " 17  parks_around3000      18065 non-null  float64\n",
      " 18  parks_nearest         8030 non-null   float64\n",
      " 19  ponds_around3000      18065 non-null  float64\n",
      " 20  ponds_nearest         9036 non-null   float64\n",
      " 21  days_exposition       20394 non-null  float64\n",
      "dtypes: bool(2), float64(14), int64(3), object(3)\n",
      "memory usage: 3.8+ MB\n"
     ]
    }
   ],
   "source": [
    "data.info()"
   ]
  },
  {
   "cell_type": "code",
   "execution_count": 13,
   "metadata": {},
   "outputs": [
    {
     "data": {
      "text/html": [
       "<div>\n",
       "<style scoped>\n",
       "    .dataframe tbody tr th:only-of-type {\n",
       "        vertical-align: middle;\n",
       "    }\n",
       "\n",
       "    .dataframe tbody tr th {\n",
       "        vertical-align: top;\n",
       "    }\n",
       "\n",
       "    .dataframe thead th {\n",
       "        text-align: right;\n",
       "    }\n",
       "</style>\n",
       "<table border=\"1\" class=\"dataframe\">\n",
       "  <thead>\n",
       "    <tr style=\"text-align: right;\">\n",
       "      <th></th>\n",
       "      <th>total_images</th>\n",
       "      <th>last_price</th>\n",
       "      <th>total_area</th>\n",
       "      <th>first_day_exposition</th>\n",
       "      <th>rooms</th>\n",
       "      <th>ceiling_height</th>\n",
       "      <th>floors_total</th>\n",
       "      <th>living_area</th>\n",
       "      <th>floor</th>\n",
       "      <th>is_apartment</th>\n",
       "      <th>studio</th>\n",
       "      <th>open_plan</th>\n",
       "      <th>kitchen_area</th>\n",
       "      <th>balcony</th>\n",
       "      <th>locality_name</th>\n",
       "      <th>airports_nearest</th>\n",
       "      <th>city_centers_nearest</th>\n",
       "      <th>parks_around3000</th>\n",
       "      <th>parks_nearest</th>\n",
       "      <th>ponds_around3000</th>\n",
       "      <th>ponds_nearest</th>\n",
       "      <th>days_exposition</th>\n",
       "    </tr>\n",
       "  </thead>\n",
       "  <tbody>\n",
       "    <tr>\n",
       "      <th>0</th>\n",
       "      <td>20</td>\n",
       "      <td>13000000.0</td>\n",
       "      <td>108.0</td>\n",
       "      <td>2019-03-07T00:00:00</td>\n",
       "      <td>3</td>\n",
       "      <td>2.70</td>\n",
       "      <td>16.0</td>\n",
       "      <td>51.0</td>\n",
       "      <td>8</td>\n",
       "      <td>False</td>\n",
       "      <td>False</td>\n",
       "      <td>False</td>\n",
       "      <td>25.0</td>\n",
       "      <td>0.0</td>\n",
       "      <td>Санкт-Петербург</td>\n",
       "      <td>18863.0</td>\n",
       "      <td>16028.0</td>\n",
       "      <td>1.0</td>\n",
       "      <td>482.0</td>\n",
       "      <td>2.0</td>\n",
       "      <td>755.0</td>\n",
       "      <td>NaN</td>\n",
       "    </tr>\n",
       "    <tr>\n",
       "      <th>1</th>\n",
       "      <td>7</td>\n",
       "      <td>3350000.0</td>\n",
       "      <td>40.4</td>\n",
       "      <td>2018-12-04T00:00:00</td>\n",
       "      <td>1</td>\n",
       "      <td>NaN</td>\n",
       "      <td>11.0</td>\n",
       "      <td>18.6</td>\n",
       "      <td>1</td>\n",
       "      <td>False</td>\n",
       "      <td>False</td>\n",
       "      <td>False</td>\n",
       "      <td>11.0</td>\n",
       "      <td>2.0</td>\n",
       "      <td>посёлок Шушары</td>\n",
       "      <td>12817.0</td>\n",
       "      <td>18603.0</td>\n",
       "      <td>0.0</td>\n",
       "      <td>NaN</td>\n",
       "      <td>0.0</td>\n",
       "      <td>NaN</td>\n",
       "      <td>81.0</td>\n",
       "    </tr>\n",
       "    <tr>\n",
       "      <th>2</th>\n",
       "      <td>10</td>\n",
       "      <td>5196000.0</td>\n",
       "      <td>56.0</td>\n",
       "      <td>2015-08-20T00:00:00</td>\n",
       "      <td>2</td>\n",
       "      <td>NaN</td>\n",
       "      <td>5.0</td>\n",
       "      <td>34.3</td>\n",
       "      <td>4</td>\n",
       "      <td>False</td>\n",
       "      <td>False</td>\n",
       "      <td>False</td>\n",
       "      <td>8.3</td>\n",
       "      <td>0.0</td>\n",
       "      <td>Санкт-Петербург</td>\n",
       "      <td>21741.0</td>\n",
       "      <td>13933.0</td>\n",
       "      <td>1.0</td>\n",
       "      <td>90.0</td>\n",
       "      <td>2.0</td>\n",
       "      <td>574.0</td>\n",
       "      <td>558.0</td>\n",
       "    </tr>\n",
       "    <tr>\n",
       "      <th>3</th>\n",
       "      <td>0</td>\n",
       "      <td>64900000.0</td>\n",
       "      <td>159.0</td>\n",
       "      <td>2015-07-24T00:00:00</td>\n",
       "      <td>3</td>\n",
       "      <td>NaN</td>\n",
       "      <td>14.0</td>\n",
       "      <td>NaN</td>\n",
       "      <td>9</td>\n",
       "      <td>False</td>\n",
       "      <td>False</td>\n",
       "      <td>False</td>\n",
       "      <td>NaN</td>\n",
       "      <td>0.0</td>\n",
       "      <td>Санкт-Петербург</td>\n",
       "      <td>28098.0</td>\n",
       "      <td>6800.0</td>\n",
       "      <td>2.0</td>\n",
       "      <td>84.0</td>\n",
       "      <td>3.0</td>\n",
       "      <td>234.0</td>\n",
       "      <td>424.0</td>\n",
       "    </tr>\n",
       "    <tr>\n",
       "      <th>4</th>\n",
       "      <td>2</td>\n",
       "      <td>10000000.0</td>\n",
       "      <td>100.0</td>\n",
       "      <td>2018-06-19T00:00:00</td>\n",
       "      <td>2</td>\n",
       "      <td>3.03</td>\n",
       "      <td>14.0</td>\n",
       "      <td>32.0</td>\n",
       "      <td>13</td>\n",
       "      <td>False</td>\n",
       "      <td>False</td>\n",
       "      <td>False</td>\n",
       "      <td>41.0</td>\n",
       "      <td>0.0</td>\n",
       "      <td>Санкт-Петербург</td>\n",
       "      <td>31856.0</td>\n",
       "      <td>8098.0</td>\n",
       "      <td>2.0</td>\n",
       "      <td>112.0</td>\n",
       "      <td>1.0</td>\n",
       "      <td>48.0</td>\n",
       "      <td>121.0</td>\n",
       "    </tr>\n",
       "  </tbody>\n",
       "</table>\n",
       "</div>"
      ],
      "text/plain": [
       "   total_images  last_price  total_area first_day_exposition  rooms  \\\n",
       "0            20  13000000.0       108.0  2019-03-07T00:00:00      3   \n",
       "1             7   3350000.0        40.4  2018-12-04T00:00:00      1   \n",
       "2            10   5196000.0        56.0  2015-08-20T00:00:00      2   \n",
       "3             0  64900000.0       159.0  2015-07-24T00:00:00      3   \n",
       "4             2  10000000.0       100.0  2018-06-19T00:00:00      2   \n",
       "\n",
       "   ceiling_height  floors_total  living_area  floor is_apartment  studio  \\\n",
       "0            2.70          16.0         51.0      8        False   False   \n",
       "1             NaN          11.0         18.6      1        False   False   \n",
       "2             NaN           5.0         34.3      4        False   False   \n",
       "3             NaN          14.0          NaN      9        False   False   \n",
       "4            3.03          14.0         32.0     13        False   False   \n",
       "\n",
       "   open_plan  kitchen_area  balcony    locality_name  airports_nearest  \\\n",
       "0      False          25.0      0.0  Санкт-Петербург           18863.0   \n",
       "1      False          11.0      2.0   посёлок Шушары           12817.0   \n",
       "2      False           8.3      0.0  Санкт-Петербург           21741.0   \n",
       "3      False           NaN      0.0  Санкт-Петербург           28098.0   \n",
       "4      False          41.0      0.0  Санкт-Петербург           31856.0   \n",
       "\n",
       "   city_centers_nearest  parks_around3000  parks_nearest  ponds_around3000  \\\n",
       "0               16028.0               1.0          482.0               2.0   \n",
       "1               18603.0               0.0            NaN               0.0   \n",
       "2               13933.0               1.0           90.0               2.0   \n",
       "3                6800.0               2.0           84.0               3.0   \n",
       "4                8098.0               2.0          112.0               1.0   \n",
       "\n",
       "   ponds_nearest  days_exposition  \n",
       "0          755.0              NaN  \n",
       "1            NaN             81.0  \n",
       "2          574.0            558.0  \n",
       "3          234.0            424.0  \n",
       "4           48.0            121.0  "
      ]
     },
     "execution_count": 13,
     "metadata": {},
     "output_type": "execute_result"
    }
   ],
   "source": [
    "data.head()"
   ]
  },
  {
   "cell_type": "code",
   "execution_count": 14,
   "metadata": {},
   "outputs": [],
   "source": [
    "data['last_price'] = data['last_price'].astype(int)\n",
    "data['first_day_exposition'] = pd.to_datetime(data['first_day_exposition'], format='%Y-%m-%dT%H:%M:%S')\n",
    "data['floors_total'] = data['floors_total'].astype(int)\n",
    "data['is_apartment'] = data['is_apartment'].astype(bool)\n",
    "data['balcony'] = data['balcony'].astype(int)"
   ]
  },
  {
   "cell_type": "code",
   "execution_count": 15,
   "metadata": {},
   "outputs": [
    {
     "name": "stdout",
     "output_type": "stream",
     "text": [
      "<class 'pandas.core.frame.DataFrame'>\n",
      "Int64Index: 23565 entries, 0 to 23698\n",
      "Data columns (total 22 columns):\n",
      " #   Column                Non-Null Count  Dtype         \n",
      "---  ------                --------------  -----         \n",
      " 0   total_images          23565 non-null  int64         \n",
      " 1   last_price            23565 non-null  int64         \n",
      " 2   total_area            23565 non-null  float64       \n",
      " 3   first_day_exposition  23565 non-null  datetime64[ns]\n",
      " 4   rooms                 23565 non-null  int64         \n",
      " 5   ceiling_height        14481 non-null  float64       \n",
      " 6   floors_total          23565 non-null  int64         \n",
      " 7   living_area           21700 non-null  float64       \n",
      " 8   floor                 23565 non-null  int64         \n",
      " 9   is_apartment          23565 non-null  bool          \n",
      " 10  studio                23565 non-null  bool          \n",
      " 11  open_plan             23565 non-null  bool          \n",
      " 12  kitchen_area          21343 non-null  float64       \n",
      " 13  balcony               23565 non-null  int64         \n",
      " 14  locality_name         23565 non-null  object        \n",
      " 15  airports_nearest      18041 non-null  float64       \n",
      " 16  city_centers_nearest  18064 non-null  float64       \n",
      " 17  parks_around3000      18065 non-null  float64       \n",
      " 18  parks_nearest         8030 non-null   float64       \n",
      " 19  ponds_around3000      18065 non-null  float64       \n",
      " 20  ponds_nearest         9036 non-null   float64       \n",
      " 21  days_exposition       20394 non-null  float64       \n",
      "dtypes: bool(3), datetime64[ns](1), float64(11), int64(6), object(1)\n",
      "memory usage: 3.7+ MB\n"
     ]
    }
   ],
   "source": [
    "data.info()"
   ]
  },
  {
   "cell_type": "markdown",
   "metadata": {},
   "source": [
    "last_price - цена квартиры измеряется в целых числах<br>\n",
    "first_day_exposition - должен быть формат даты для удобства работы<br>\n",
    "floors_total - количество этажей - целое число<br>\n",
    "is_apartment - апартаменты или нет - проще чтобы было булево значение<br>\n",
    "balcony - количество балконов - целое число"
   ]
  },
  {
   "cell_type": "markdown",
   "metadata": {},
   "source": [
    "#### Изучаем уникальные значения"
   ]
  },
  {
   "cell_type": "code",
   "execution_count": 16,
   "metadata": {},
   "outputs": [
    {
     "data": {
      "text/plain": [
       "array(['Бокситогорск', 'Волосово', 'Волхов', 'Всеволожск', 'Выборг',\n",
       "       'Высоцк', 'Гатчина', 'Зеленогорск', 'Ивангород', 'Каменногорск',\n",
       "       'Кингисепп', 'Кириши', 'Кировск', 'Колпино', 'Коммунар',\n",
       "       'Красное Село', 'Кронштадт', 'Кудрово', 'Лодейное Поле',\n",
       "       'Ломоносов', 'Луга', 'Любань', 'Мурино', 'Никольское',\n",
       "       'Новая Ладога', 'Отрадное', 'Павловск', 'Петергоф', 'Пикалёво',\n",
       "       'Подпорожье', 'Приморск', 'Приозерск', 'Пушкин', 'Санкт-Петербург',\n",
       "       'Светогорск', 'Сертолово', 'Сестрорецк', 'Сланцы', 'Сосновый Бор',\n",
       "       'Сясьстрой', 'Тихвин', 'Тосно', 'Шлиссельбург',\n",
       "       'городской поселок Большая Ижора', 'городской поселок Янино-1',\n",
       "       'городской посёлок Будогощь', 'городской посёлок Виллози',\n",
       "       'городской посёлок Лесогорский', 'городской посёлок Мга',\n",
       "       'городской посёлок Назия', 'городской посёлок Новоселье',\n",
       "       'городской посёлок Павлово', 'городской посёлок Рощино',\n",
       "       'городской посёлок Свирьстрой', 'городской посёлок Советский',\n",
       "       'городской посёлок Фёдоровское', 'городской посёлок Янино-1',\n",
       "       'деревня Агалатово', 'деревня Аро', 'деревня Батово',\n",
       "       'деревня Бегуницы', 'деревня Белогорка', 'деревня Большая Вруда',\n",
       "       'деревня Большая Пустомержа', 'деревня Большие Колпаны',\n",
       "       'деревня Большое Рейзино', 'деревня Большой Сабск', 'деревня Бор',\n",
       "       'деревня Борисова Грива', 'деревня Ваганово', 'деревня Вартемяги',\n",
       "       'деревня Вахнова Кара', 'деревня Выскатка', 'деревня Гарболово',\n",
       "       'деревня Глинка', 'деревня Горбунки', 'деревня Гостилицы',\n",
       "       'деревня Заклинье', 'деревня Заневка', 'деревня Зимитицы',\n",
       "       'деревня Извара', 'деревня Иссад', 'деревня Калитино',\n",
       "       'деревня Кальтино', 'деревня Камышовка', 'деревня Каськово',\n",
       "       'деревня Келози', 'деревня Кипень', 'деревня Кисельня',\n",
       "       'деревня Колтуши', 'деревня Коркино', 'деревня Котлы',\n",
       "       'деревня Кривко', 'деревня Кудрово', 'деревня Кузьмолово',\n",
       "       'деревня Курковицы', 'деревня Куровицы', 'деревня Куттузи',\n",
       "       'деревня Лаврики', 'деревня Лаголово', 'деревня Лампово',\n",
       "       'деревня Лесколово', 'деревня Лопухинка', 'деревня Лупполово',\n",
       "       'деревня Малая Романовка', 'деревня Малое Верево',\n",
       "       'деревня Малое Карлино', 'деревня Малые Колпаны',\n",
       "       'деревня Мануйлово', 'деревня Меньково', 'деревня Мины',\n",
       "       'деревня Мистолово', 'деревня Ненимяки', 'деревня Нижние Осельки',\n",
       "       'деревня Нижняя', 'деревня Низино', 'деревня Новое Девяткино',\n",
       "       'деревня Новолисино', 'деревня Нурма', 'деревня Оржицы',\n",
       "       'деревня Парицы', 'деревня Пельгора', 'деревня Пеники',\n",
       "       'деревня Пижма', 'деревня Пикколово', 'деревня Пудомяги',\n",
       "       'деревня Пустынка', 'деревня Пчева', 'деревня Рабитицы',\n",
       "       'деревня Разбегаево', 'деревня Раздолье', 'деревня Разметелево',\n",
       "       'деревня Рапполово', 'деревня Реброво', 'деревня Русско',\n",
       "       'деревня Сижно', 'деревня Снегирёвка', 'деревня Старая',\n",
       "       'деревня Старая Пустошь', 'деревня Старое Хинколово',\n",
       "       'деревня Старополье', 'деревня Старосиверская',\n",
       "       'деревня Старые Бегуницы', 'деревня Суоранда',\n",
       "       'деревня Сяськелево', 'деревня Тарасово', 'деревня Терпилицы',\n",
       "       'деревня Тихковицы', 'деревня Тойворово', 'деревня Торосово',\n",
       "       'деревня Торошковичи', 'деревня Трубников Бор',\n",
       "       'деревня Фалилеево', 'деревня Фёдоровское', 'деревня Хапо-Ое',\n",
       "       'деревня Хязельки', 'деревня Чудской Бор', 'деревня Шпаньково',\n",
       "       'деревня Щеглово', 'деревня Юкки', 'деревня Ялгино',\n",
       "       'деревня Яльгелево', 'деревня Ям-Тесово',\n",
       "       'коттеджный поселок Кивеннапа Север', 'коттеджный поселок Счастье',\n",
       "       'коттеджный посёлок Лесное', 'поселок Аннино', 'поселок Барышево',\n",
       "       'поселок Бугры', 'поселок Возрождение', 'поселок Войсковицы',\n",
       "       'поселок Володарское', 'поселок Гаврилово', 'поселок Гарболово',\n",
       "       'поселок Гладкое', 'поселок Глажево', 'поселок Глебычево',\n",
       "       'поселок Гончарово', 'поселок Громово', 'поселок Дружноселье',\n",
       "       'поселок Елизаветино', 'поселок Жилгородок', 'поселок Жилпосёлок',\n",
       "       'поселок Житково', 'поселок Заводской', 'поселок Запорожское',\n",
       "       'поселок Зимитицы', 'поселок Ильичёво', 'поселок Калитино',\n",
       "       'поселок Каложицы', 'поселок Кингисеппский', 'поселок Кирпичное',\n",
       "       'поселок Кобралово', 'поселок Кобринское', 'поселок Коммунары',\n",
       "       'поселок Коробицыно', 'поселок Котельский',\n",
       "       'поселок Красная Долина', 'поселок Красносельское',\n",
       "       'поселок Лесное', 'поселок Лисий Нос', 'поселок Лукаши',\n",
       "       'поселок Любань', 'поселок Мельниково', 'поселок Мичуринское',\n",
       "       'поселок Молодцово', 'поселок Мурино', 'поселок Новый Свет',\n",
       "       'поселок Новый Учхоз', 'поселок Оредеж',\n",
       "       'поселок Пансионат Зелёный Бор', 'поселок Первомайское',\n",
       "       'поселок Перово', 'поселок Петровское', 'поселок Победа',\n",
       "       'поселок Поляны', 'поселок Почап', 'поселок Починок',\n",
       "       'поселок Пушное', 'поселок Пчевжа', 'поселок Рабитицы',\n",
       "       'поселок Романовка', 'поселок Ромашки', 'поселок Рябово',\n",
       "       'поселок Севастьяново', 'поселок Селезнёво', 'поселок Сельцо',\n",
       "       'поселок Семиозерье', 'поселок Семрино', 'поселок Серебрянский',\n",
       "       'поселок Совхозный', 'поселок Старая Малукса',\n",
       "       'поселок Стеклянный', 'поселок Сумино', 'поселок Суходолье',\n",
       "       'поселок Тельмана', 'поселок Терволово', 'поселок Торковичи',\n",
       "       'поселок Тёсово-4', 'поселок Углово', 'поселок Усть-Луга',\n",
       "       'поселок Ушаки', 'поселок Цвелодубово', 'поселок Цвылёво',\n",
       "       'поселок городского типа Большая Ижора',\n",
       "       'поселок городского типа Вырица',\n",
       "       'поселок городского типа Дружная Горка',\n",
       "       'поселок городского типа Дубровка',\n",
       "       'поселок городского типа Ефимовский',\n",
       "       'поселок городского типа Кондратьево',\n",
       "       'поселок городского типа Красный Бор',\n",
       "       'поселок городского типа Кузьмоловский',\n",
       "       'поселок городского типа Лебяжье',\n",
       "       'поселок городского типа Лесогорский',\n",
       "       'поселок городского типа Назия',\n",
       "       'поселок городского типа Никольский',\n",
       "       'поселок городского типа Приладожский',\n",
       "       'поселок городского типа Рахья', 'поселок городского типа Рощино',\n",
       "       'поселок городского типа Рябово',\n",
       "       'поселок городского типа Синявино',\n",
       "       'поселок городского типа Советский',\n",
       "       'поселок городского типа Токсово',\n",
       "       'поселок городского типа Форносово',\n",
       "       'поселок городского типа имени Свердлова',\n",
       "       'поселок станции Вещево', 'поселок станции Корнево',\n",
       "       'поселок станции Лужайка', 'поселок станции Приветнинское',\n",
       "       'посёлок Александровская', 'посёлок Алексеевка', 'посёлок Аннино',\n",
       "       'посёлок Белоостров', 'посёлок Бугры', 'посёлок Возрождение',\n",
       "       'посёлок Войскорово', 'посёлок Высокоключевой',\n",
       "       'посёлок Гаврилово', 'посёлок Дзержинского', 'посёлок Жилгородок',\n",
       "       'посёлок Ильичёво', 'посёлок Кикерино', 'посёлок Кобралово',\n",
       "       'посёлок Коробицыно', 'посёлок Левашово', 'посёлок Ленинское',\n",
       "       'посёлок Лисий Нос', 'посёлок Мельниково', 'посёлок Металлострой',\n",
       "       'посёлок Мичуринское', 'посёлок Молодёжное', 'посёлок Мурино',\n",
       "       'посёлок Мыза-Ивановка', 'посёлок Новогорелово',\n",
       "       'посёлок Новый Свет', 'посёлок Пансионат Зелёный Бор',\n",
       "       'посёлок Парголово', 'посёлок Перово', 'посёлок Песочный',\n",
       "       'посёлок Петро-Славянка', 'посёлок Петровское',\n",
       "       'посёлок Платформа 69-й километр', 'посёлок Плодовое',\n",
       "       'посёлок Плоское', 'посёлок Победа', 'посёлок Поляны',\n",
       "       'посёлок Понтонный', 'посёлок Пригородный', 'посёлок Пудость',\n",
       "       'посёлок Репино', 'посёлок Ропша', 'посёлок Сапёрное',\n",
       "       'посёлок Сапёрный', 'посёлок Сосново', 'посёлок Старая Малукса',\n",
       "       'посёлок Стеклянный', 'посёлок Стрельна', 'посёлок Суйда',\n",
       "       'посёлок Сумино', 'посёлок Тельмана', 'посёлок Терволово',\n",
       "       'посёлок Торфяное', 'посёлок Усть-Ижора', 'посёлок Усть-Луга',\n",
       "       'посёлок Форт Красная Горка', 'посёлок Шугозеро', 'посёлок Шушары',\n",
       "       'посёлок Щеглово', 'посёлок городского типа Важины',\n",
       "       'посёлок городского типа Вознесенье',\n",
       "       'посёлок городского типа Вырица',\n",
       "       'посёлок городского типа Красный Бор',\n",
       "       'посёлок городского типа Кузнечное',\n",
       "       'посёлок городского типа Кузьмоловский',\n",
       "       'посёлок городского типа Лебяжье', 'посёлок городского типа Мга',\n",
       "       'посёлок городского типа Павлово',\n",
       "       'посёлок городского типа Рощино', 'посёлок городского типа Рябово',\n",
       "       'посёлок городского типа Сиверский',\n",
       "       'посёлок городского типа Тайцы', 'посёлок городского типа Токсово',\n",
       "       'посёлок городского типа Ульяновка',\n",
       "       'посёлок городского типа Форносово',\n",
       "       'посёлок городского типа имени Морозова',\n",
       "       'посёлок городского типа имени Свердлова',\n",
       "       'посёлок при железнодорожной станции Вещево',\n",
       "       'посёлок при железнодорожной станции Приветнинское',\n",
       "       'посёлок станции Громово', 'посёлок станции Свирь',\n",
       "       'садоводческое некоммерческое товарищество Лесная Поляна',\n",
       "       'садовое товарищество Новая Ропша',\n",
       "       'садовое товарищество Приладожский', 'садовое товарищество Рахья',\n",
       "       'садовое товарищество Садко', 'село Копорье', 'село Никольское',\n",
       "       'село Павлово', 'село Паша', 'село Путилово', 'село Рождествено',\n",
       "       'село Русско-Высоцкое', 'село Старая Ладога', 'село Шум'],\n",
       "      dtype=object)"
      ]
     },
     "execution_count": 16,
     "metadata": {},
     "output_type": "execute_result"
    }
   ],
   "source": [
    "data['locality_name'].sort_values().unique()"
   ]
  },
  {
   "cell_type": "code",
   "execution_count": 17,
   "metadata": {},
   "outputs": [
    {
     "data": {
      "text/plain": [
       "364"
      ]
     },
     "execution_count": 17,
     "metadata": {},
     "output_type": "execute_result"
    }
   ],
   "source": [
    "len(data['locality_name'].unique())"
   ]
  },
  {
   "cell_type": "code",
   "execution_count": 18,
   "metadata": {},
   "outputs": [],
   "source": [
    "data['locality_name'] = (\n",
    "    data['locality_name']\n",
    "    .str.replace('ё', 'е')\n",
    "    .replace(['городской поселок ', 'деревня ', 'коттеджный поселок ', 'поселок городского типа ', \n",
    "            'посёлок городского типа', 'поселок при железнодорожной станции ',\n",
    "            'поселок станции ', 'садоводческое некоммерческое товарищество ', 'садовое товарищество ',\n",
    "            'село ', 'поселок '], '', regex=True)\n",
    ")"
   ]
  },
  {
   "cell_type": "code",
   "execution_count": 19,
   "metadata": {},
   "outputs": [
    {
     "data": {
      "text/plain": [
       "array(['Агалатово', 'Александровская', 'Алексеевка', 'Аннино', 'Аро',\n",
       "       'Барышево', 'Батово', 'Бегуницы', 'Белогорка', 'Белоостров',\n",
       "       'Бокситогорск', 'Большая Вруда', 'Большая Ижора',\n",
       "       'Большая Пустомержа', 'Большие Колпаны', 'Большое Рейзино',\n",
       "       'Большой Сабск', 'Бор', 'Борисова Грива', 'Бугры', 'Будогощь',\n",
       "       'Ваганово', 'Важины', 'Вартемяги', 'Вахнова Кара', 'Вещево',\n",
       "       'Виллози', 'Вознесенье', 'Возрождение', 'Войсковицы', 'Войскорово',\n",
       "       'Володарское', 'Волосово', 'Волхов', 'Всеволожск', 'Выборг',\n",
       "       'Вырица', 'Выскатка', 'Высокоключевой', 'Высоцк', 'Гаврилово',\n",
       "       'Гарболово', 'Гатчина', 'Гладкое', 'Глажево', 'Глебычево',\n",
       "       'Глинка', 'Гончарово', 'Горбунки', 'Гостилицы', 'Громово',\n",
       "       'Дзержинского', 'Дружная Горка', 'Дружноселье', 'Дубровка',\n",
       "       'Елизаветино', 'Ефимовский', 'Жилгородок', 'Жилпоселок', 'Житково',\n",
       "       'Заводской', 'Заклинье', 'Заневка', 'Запорожское', 'Зеленогорск',\n",
       "       'Зимитицы', 'Ивангород', 'Извара', 'Ильичево', 'Иссад', 'Калитино',\n",
       "       'Каложицы', 'Кальтино', 'Каменногорск', 'Камышовка', 'Каськово',\n",
       "       'Келози', 'Кивеннапа Север', 'Кикерино', 'Кингисепп',\n",
       "       'Кингисеппский', 'Кипень', 'Кириши', 'Кировск', 'Кирпичное',\n",
       "       'Кисельня', 'Кобралово', 'Кобринское', 'Колпино', 'Колтуши',\n",
       "       'Коммунар', 'Коммунары', 'Кондратьево', 'Копорье', 'Коркино',\n",
       "       'Корнево', 'Коробицыно', 'Котельский', 'Котлы', 'Красная Долина',\n",
       "       'Красное Село', 'Красносельское', 'Красный Бор', 'Кривко',\n",
       "       'Кронштадт', 'Кудрово', 'Кузнечное', 'Кузьмолово', 'Кузьмоловский',\n",
       "       'Курковицы', 'Куровицы', 'Куттузи', 'Лаврики', 'Лаголово',\n",
       "       'Лампово', 'Лебяжье', 'Левашово', 'Ленинское', 'Лесколово',\n",
       "       'Лесная Поляна', 'Лесное', 'Лесогорский', 'Лисий Нос',\n",
       "       'Лодейное Поле', 'Ломоносов', 'Лопухинка', 'Луга', 'Лужайка',\n",
       "       'Лукаши', 'Лупполово', 'Любань', 'Малая Романовка', 'Малое Верево',\n",
       "       'Малое Карлино', 'Малые Колпаны', 'Мануйлово', 'Мга', 'Мельниково',\n",
       "       'Меньково', 'Металлострой', 'Мины', 'Мистолово', 'Мичуринское',\n",
       "       'Молодежное', 'Молодцово', 'Мурино', 'Мыза-Ивановка', 'Назия',\n",
       "       'Ненимяки', 'Нижние Осельки', 'Нижняя', 'Низино', 'Никольский',\n",
       "       'Никольское', 'Новая Ладога', 'Новая Ропша', 'Новогорелово',\n",
       "       'Новое Девяткино', 'Новолисино', 'Новоселье', 'Новый Свет',\n",
       "       'Новый Учхоз', 'Нурма', 'Оредеж', 'Оржицы', 'Отрадное', 'Павлово',\n",
       "       'Павловск', 'Пансионат Зеленый Бор', 'Парголово', 'Парицы', 'Паша',\n",
       "       'Пельгора', 'Пеники', 'Первомайское', 'Перово', 'Песочный',\n",
       "       'Петергоф', 'Петро-Славянка', 'Петровское', 'Пижма', 'Пикалево',\n",
       "       'Пикколово', 'Платформа 69-й километр', 'Плодовое', 'Плоское',\n",
       "       'Победа', 'Подпорожье', 'Поляны', 'Понтонный', 'Почап', 'Починок',\n",
       "       'Приветнинское', 'Пригородный', 'Приладожский', 'Приморск',\n",
       "       'Приозерск', 'Пудомяги', 'Пудость', 'Пустынка', 'Путилово',\n",
       "       'Пушкин', 'Пушное', 'Пчева', 'Пчевжа', 'Рабитицы', 'Разбегаево',\n",
       "       'Раздолье', 'Разметелево', 'Рапполово', 'Рахья', 'Реброво',\n",
       "       'Репино', 'Рождествено', 'Романовка', 'Ромашки', 'Ропша', 'Рощино',\n",
       "       'Русско', 'Русско-Высоцкое', 'Рябово', 'Садко', 'Санкт-Петербург',\n",
       "       'Саперное', 'Саперный', 'Светогорск', 'Свирь', 'Свирьстрой',\n",
       "       'Севастьяново', 'Селезнево', 'Сельцо', 'Семиозерье', 'Семрино',\n",
       "       'Серебрянский', 'Сертолово', 'Сестрорецк', 'Сиверский', 'Сижно',\n",
       "       'Синявино', 'Сланцы', 'Снегиревка', 'Советский', 'Совхозный',\n",
       "       'Сосново', 'Сосновый Бор', 'Старая', 'Старая Ладога',\n",
       "       'Старая Малукса', 'Старая Пустошь', 'Старое Хинколово',\n",
       "       'Старополье', 'Старосиверская', 'Старые Бегуницы', 'Стеклянный',\n",
       "       'Стрельна', 'Суйда', 'Сумино', 'Суоранда', 'Суходолье', 'Счастье',\n",
       "       'Сяськелево', 'Сясьстрой', 'Тайцы', 'Тарасово', 'Тельмана',\n",
       "       'Терволово', 'Терпилицы', 'Тесово-4', 'Тихвин', 'Тихковицы',\n",
       "       'Тойворово', 'Токсово', 'Торковичи', 'Торосово', 'Торошковичи',\n",
       "       'Торфяное', 'Тосно', 'Трубников Бор', 'Углово', 'Ульяновка',\n",
       "       'Усть-Ижора', 'Усть-Луга', 'Ушаки', 'Фалилеево', 'Федоровское',\n",
       "       'Форносово', 'Форт Красная Горка', 'Хапо-Ое', 'Хязельки',\n",
       "       'Цвелодубово', 'Цвылево', 'Чудской Бор', 'Шлиссельбург',\n",
       "       'Шпаньково', 'Шугозеро', 'Шум', 'Шушары', 'Щеглово', 'Юкки',\n",
       "       'Ялгино', 'Яльгелево', 'Ям-Тесово', 'Янино-1', 'имени Морозова',\n",
       "       'имени Свердлова'], dtype=object)"
      ]
     },
     "execution_count": 19,
     "metadata": {},
     "output_type": "execute_result"
    }
   ],
   "source": [
    "data['locality_name'].sort_values().unique()"
   ]
  },
  {
   "cell_type": "code",
   "execution_count": 20,
   "metadata": {},
   "outputs": [
    {
     "data": {
      "text/plain": [
       "305"
      ]
     },
     "execution_count": 20,
     "metadata": {},
     "output_type": "execute_result"
    }
   ],
   "source": [
    "len(data['locality_name'].unique())"
   ]
  },
  {
   "cell_type": "markdown",
   "metadata": {},
   "source": [
    "### Посчитайте и добавьте в таблицу новые столбцы"
   ]
  },
  {
   "cell_type": "markdown",
   "metadata": {},
   "source": [
    "#### Цена одного квадратного метра"
   ]
  },
  {
   "cell_type": "code",
   "execution_count": 21,
   "metadata": {},
   "outputs": [],
   "source": [
    "data['price_for_1meter'] = (data['last_price'] / data['total_area']).round(2)"
   ]
  },
  {
   "cell_type": "markdown",
   "metadata": {},
   "source": [
    "#### День недели публикации объявления"
   ]
  },
  {
   "cell_type": "code",
   "execution_count": 22,
   "metadata": {},
   "outputs": [],
   "source": [
    "data['day_publication'] = data['first_day_exposition'].dt.weekday"
   ]
  },
  {
   "cell_type": "markdown",
   "metadata": {},
   "source": [
    "#### Месяц публикации объявления"
   ]
  },
  {
   "cell_type": "code",
   "execution_count": 23,
   "metadata": {},
   "outputs": [],
   "source": [
    "data['month_publication'] = data['first_day_exposition'].dt.month"
   ]
  },
  {
   "cell_type": "markdown",
   "metadata": {},
   "source": [
    "#### Год публикации объявления"
   ]
  },
  {
   "cell_type": "code",
   "execution_count": 24,
   "metadata": {},
   "outputs": [],
   "source": [
    "data['year_publication'] = data['first_day_exposition'].dt.year"
   ]
  },
  {
   "cell_type": "markdown",
   "metadata": {},
   "source": [
    "#### Тип этажа квартиры"
   ]
  },
  {
   "cell_type": "code",
   "execution_count": 25,
   "metadata": {},
   "outputs": [],
   "source": [
    "def x_type_floor(row):\n",
    "    if row['floor'] == 1:\n",
    "        return \"первый\"\n",
    "    elif row['floor'] == row['floors_total']:\n",
    "        return \"последний\"\n",
    "    else:\n",
    "        return \"другой\""
   ]
  },
  {
   "cell_type": "code",
   "execution_count": 26,
   "metadata": {},
   "outputs": [],
   "source": [
    "data['type_floor'] = data.apply(x_type_floor, axis=1)"
   ]
  },
  {
   "cell_type": "markdown",
   "metadata": {},
   "source": [
    "#### Расстояние до центра города в километрах"
   ]
  },
  {
   "cell_type": "code",
   "execution_count": 27,
   "metadata": {},
   "outputs": [],
   "source": [
    "data['distance_to_the_center'] = (data['city_centers_nearest'] / 1000).round()"
   ]
  },
  {
   "cell_type": "markdown",
   "metadata": {},
   "source": [
    "#### Выводим результат"
   ]
  },
  {
   "cell_type": "code",
   "execution_count": 28,
   "metadata": {},
   "outputs": [
    {
     "data": {
      "text/html": [
       "<div>\n",
       "<style scoped>\n",
       "    .dataframe tbody tr th:only-of-type {\n",
       "        vertical-align: middle;\n",
       "    }\n",
       "\n",
       "    .dataframe tbody tr th {\n",
       "        vertical-align: top;\n",
       "    }\n",
       "\n",
       "    .dataframe thead th {\n",
       "        text-align: right;\n",
       "    }\n",
       "</style>\n",
       "<table border=\"1\" class=\"dataframe\">\n",
       "  <thead>\n",
       "    <tr style=\"text-align: right;\">\n",
       "      <th></th>\n",
       "      <th>total_images</th>\n",
       "      <th>last_price</th>\n",
       "      <th>total_area</th>\n",
       "      <th>first_day_exposition</th>\n",
       "      <th>rooms</th>\n",
       "      <th>ceiling_height</th>\n",
       "      <th>floors_total</th>\n",
       "      <th>living_area</th>\n",
       "      <th>floor</th>\n",
       "      <th>is_apartment</th>\n",
       "      <th>studio</th>\n",
       "      <th>open_plan</th>\n",
       "      <th>kitchen_area</th>\n",
       "      <th>balcony</th>\n",
       "      <th>locality_name</th>\n",
       "      <th>airports_nearest</th>\n",
       "      <th>city_centers_nearest</th>\n",
       "      <th>parks_around3000</th>\n",
       "      <th>parks_nearest</th>\n",
       "      <th>ponds_around3000</th>\n",
       "      <th>ponds_nearest</th>\n",
       "      <th>days_exposition</th>\n",
       "      <th>price_for_1meter</th>\n",
       "      <th>day_publication</th>\n",
       "      <th>month_publication</th>\n",
       "      <th>year_publication</th>\n",
       "      <th>type_floor</th>\n",
       "      <th>distance_to_the_center</th>\n",
       "    </tr>\n",
       "  </thead>\n",
       "  <tbody>\n",
       "    <tr>\n",
       "      <th>0</th>\n",
       "      <td>20</td>\n",
       "      <td>13000000</td>\n",
       "      <td>108.00</td>\n",
       "      <td>2019-03-07</td>\n",
       "      <td>3</td>\n",
       "      <td>2.70</td>\n",
       "      <td>16</td>\n",
       "      <td>51.00</td>\n",
       "      <td>8</td>\n",
       "      <td>True</td>\n",
       "      <td>False</td>\n",
       "      <td>False</td>\n",
       "      <td>25.00</td>\n",
       "      <td>0</td>\n",
       "      <td>Санкт-Петербург</td>\n",
       "      <td>18863.0</td>\n",
       "      <td>16028.0</td>\n",
       "      <td>1.0</td>\n",
       "      <td>482.0</td>\n",
       "      <td>2.0</td>\n",
       "      <td>755.0</td>\n",
       "      <td>NaN</td>\n",
       "      <td>120370.37</td>\n",
       "      <td>3</td>\n",
       "      <td>3</td>\n",
       "      <td>2019</td>\n",
       "      <td>другой</td>\n",
       "      <td>16.0</td>\n",
       "    </tr>\n",
       "    <tr>\n",
       "      <th>1</th>\n",
       "      <td>7</td>\n",
       "      <td>3350000</td>\n",
       "      <td>40.40</td>\n",
       "      <td>2018-12-04</td>\n",
       "      <td>1</td>\n",
       "      <td>NaN</td>\n",
       "      <td>11</td>\n",
       "      <td>18.60</td>\n",
       "      <td>1</td>\n",
       "      <td>True</td>\n",
       "      <td>False</td>\n",
       "      <td>False</td>\n",
       "      <td>11.00</td>\n",
       "      <td>2</td>\n",
       "      <td>Шушары</td>\n",
       "      <td>12817.0</td>\n",
       "      <td>18603.0</td>\n",
       "      <td>0.0</td>\n",
       "      <td>NaN</td>\n",
       "      <td>0.0</td>\n",
       "      <td>NaN</td>\n",
       "      <td>81.0</td>\n",
       "      <td>82920.79</td>\n",
       "      <td>1</td>\n",
       "      <td>12</td>\n",
       "      <td>2018</td>\n",
       "      <td>первый</td>\n",
       "      <td>19.0</td>\n",
       "    </tr>\n",
       "    <tr>\n",
       "      <th>2</th>\n",
       "      <td>10</td>\n",
       "      <td>5196000</td>\n",
       "      <td>56.00</td>\n",
       "      <td>2015-08-20</td>\n",
       "      <td>2</td>\n",
       "      <td>NaN</td>\n",
       "      <td>5</td>\n",
       "      <td>34.30</td>\n",
       "      <td>4</td>\n",
       "      <td>True</td>\n",
       "      <td>False</td>\n",
       "      <td>False</td>\n",
       "      <td>8.30</td>\n",
       "      <td>0</td>\n",
       "      <td>Санкт-Петербург</td>\n",
       "      <td>21741.0</td>\n",
       "      <td>13933.0</td>\n",
       "      <td>1.0</td>\n",
       "      <td>90.0</td>\n",
       "      <td>2.0</td>\n",
       "      <td>574.0</td>\n",
       "      <td>558.0</td>\n",
       "      <td>92785.71</td>\n",
       "      <td>3</td>\n",
       "      <td>8</td>\n",
       "      <td>2015</td>\n",
       "      <td>другой</td>\n",
       "      <td>14.0</td>\n",
       "    </tr>\n",
       "    <tr>\n",
       "      <th>3</th>\n",
       "      <td>0</td>\n",
       "      <td>64900000</td>\n",
       "      <td>159.00</td>\n",
       "      <td>2015-07-24</td>\n",
       "      <td>3</td>\n",
       "      <td>NaN</td>\n",
       "      <td>14</td>\n",
       "      <td>NaN</td>\n",
       "      <td>9</td>\n",
       "      <td>True</td>\n",
       "      <td>False</td>\n",
       "      <td>False</td>\n",
       "      <td>NaN</td>\n",
       "      <td>0</td>\n",
       "      <td>Санкт-Петербург</td>\n",
       "      <td>28098.0</td>\n",
       "      <td>6800.0</td>\n",
       "      <td>2.0</td>\n",
       "      <td>84.0</td>\n",
       "      <td>3.0</td>\n",
       "      <td>234.0</td>\n",
       "      <td>424.0</td>\n",
       "      <td>408176.10</td>\n",
       "      <td>4</td>\n",
       "      <td>7</td>\n",
       "      <td>2015</td>\n",
       "      <td>другой</td>\n",
       "      <td>7.0</td>\n",
       "    </tr>\n",
       "    <tr>\n",
       "      <th>4</th>\n",
       "      <td>2</td>\n",
       "      <td>10000000</td>\n",
       "      <td>100.00</td>\n",
       "      <td>2018-06-19</td>\n",
       "      <td>2</td>\n",
       "      <td>3.03</td>\n",
       "      <td>14</td>\n",
       "      <td>32.00</td>\n",
       "      <td>13</td>\n",
       "      <td>True</td>\n",
       "      <td>False</td>\n",
       "      <td>False</td>\n",
       "      <td>41.00</td>\n",
       "      <td>0</td>\n",
       "      <td>Санкт-Петербург</td>\n",
       "      <td>31856.0</td>\n",
       "      <td>8098.0</td>\n",
       "      <td>2.0</td>\n",
       "      <td>112.0</td>\n",
       "      <td>1.0</td>\n",
       "      <td>48.0</td>\n",
       "      <td>121.0</td>\n",
       "      <td>100000.00</td>\n",
       "      <td>1</td>\n",
       "      <td>6</td>\n",
       "      <td>2018</td>\n",
       "      <td>другой</td>\n",
       "      <td>8.0</td>\n",
       "    </tr>\n",
       "    <tr>\n",
       "      <th>5</th>\n",
       "      <td>10</td>\n",
       "      <td>2890000</td>\n",
       "      <td>30.40</td>\n",
       "      <td>2018-09-10</td>\n",
       "      <td>1</td>\n",
       "      <td>NaN</td>\n",
       "      <td>12</td>\n",
       "      <td>14.40</td>\n",
       "      <td>5</td>\n",
       "      <td>True</td>\n",
       "      <td>False</td>\n",
       "      <td>False</td>\n",
       "      <td>9.10</td>\n",
       "      <td>0</td>\n",
       "      <td>Янино-1</td>\n",
       "      <td>NaN</td>\n",
       "      <td>NaN</td>\n",
       "      <td>NaN</td>\n",
       "      <td>NaN</td>\n",
       "      <td>NaN</td>\n",
       "      <td>NaN</td>\n",
       "      <td>55.0</td>\n",
       "      <td>95065.79</td>\n",
       "      <td>0</td>\n",
       "      <td>9</td>\n",
       "      <td>2018</td>\n",
       "      <td>другой</td>\n",
       "      <td>NaN</td>\n",
       "    </tr>\n",
       "    <tr>\n",
       "      <th>6</th>\n",
       "      <td>6</td>\n",
       "      <td>3700000</td>\n",
       "      <td>37.30</td>\n",
       "      <td>2017-11-02</td>\n",
       "      <td>1</td>\n",
       "      <td>NaN</td>\n",
       "      <td>26</td>\n",
       "      <td>10.60</td>\n",
       "      <td>6</td>\n",
       "      <td>True</td>\n",
       "      <td>False</td>\n",
       "      <td>False</td>\n",
       "      <td>14.40</td>\n",
       "      <td>1</td>\n",
       "      <td>Парголово</td>\n",
       "      <td>52996.0</td>\n",
       "      <td>19143.0</td>\n",
       "      <td>0.0</td>\n",
       "      <td>NaN</td>\n",
       "      <td>0.0</td>\n",
       "      <td>NaN</td>\n",
       "      <td>155.0</td>\n",
       "      <td>99195.71</td>\n",
       "      <td>3</td>\n",
       "      <td>11</td>\n",
       "      <td>2017</td>\n",
       "      <td>другой</td>\n",
       "      <td>19.0</td>\n",
       "    </tr>\n",
       "    <tr>\n",
       "      <th>7</th>\n",
       "      <td>5</td>\n",
       "      <td>7915000</td>\n",
       "      <td>71.60</td>\n",
       "      <td>2019-04-18</td>\n",
       "      <td>2</td>\n",
       "      <td>NaN</td>\n",
       "      <td>24</td>\n",
       "      <td>NaN</td>\n",
       "      <td>22</td>\n",
       "      <td>True</td>\n",
       "      <td>False</td>\n",
       "      <td>False</td>\n",
       "      <td>18.90</td>\n",
       "      <td>2</td>\n",
       "      <td>Санкт-Петербург</td>\n",
       "      <td>23982.0</td>\n",
       "      <td>11634.0</td>\n",
       "      <td>0.0</td>\n",
       "      <td>NaN</td>\n",
       "      <td>0.0</td>\n",
       "      <td>NaN</td>\n",
       "      <td>NaN</td>\n",
       "      <td>110544.69</td>\n",
       "      <td>3</td>\n",
       "      <td>4</td>\n",
       "      <td>2019</td>\n",
       "      <td>другой</td>\n",
       "      <td>12.0</td>\n",
       "    </tr>\n",
       "    <tr>\n",
       "      <th>8</th>\n",
       "      <td>20</td>\n",
       "      <td>2900000</td>\n",
       "      <td>33.16</td>\n",
       "      <td>2018-05-23</td>\n",
       "      <td>1</td>\n",
       "      <td>NaN</td>\n",
       "      <td>27</td>\n",
       "      <td>15.43</td>\n",
       "      <td>26</td>\n",
       "      <td>True</td>\n",
       "      <td>False</td>\n",
       "      <td>False</td>\n",
       "      <td>8.81</td>\n",
       "      <td>0</td>\n",
       "      <td>Мурино</td>\n",
       "      <td>NaN</td>\n",
       "      <td>NaN</td>\n",
       "      <td>NaN</td>\n",
       "      <td>NaN</td>\n",
       "      <td>NaN</td>\n",
       "      <td>NaN</td>\n",
       "      <td>189.0</td>\n",
       "      <td>87454.76</td>\n",
       "      <td>2</td>\n",
       "      <td>5</td>\n",
       "      <td>2018</td>\n",
       "      <td>другой</td>\n",
       "      <td>NaN</td>\n",
       "    </tr>\n",
       "    <tr>\n",
       "      <th>9</th>\n",
       "      <td>18</td>\n",
       "      <td>5400000</td>\n",
       "      <td>61.00</td>\n",
       "      <td>2017-02-26</td>\n",
       "      <td>3</td>\n",
       "      <td>2.50</td>\n",
       "      <td>9</td>\n",
       "      <td>43.60</td>\n",
       "      <td>7</td>\n",
       "      <td>True</td>\n",
       "      <td>False</td>\n",
       "      <td>False</td>\n",
       "      <td>6.50</td>\n",
       "      <td>2</td>\n",
       "      <td>Санкт-Петербург</td>\n",
       "      <td>50898.0</td>\n",
       "      <td>15008.0</td>\n",
       "      <td>0.0</td>\n",
       "      <td>NaN</td>\n",
       "      <td>0.0</td>\n",
       "      <td>NaN</td>\n",
       "      <td>289.0</td>\n",
       "      <td>88524.59</td>\n",
       "      <td>6</td>\n",
       "      <td>2</td>\n",
       "      <td>2017</td>\n",
       "      <td>другой</td>\n",
       "      <td>15.0</td>\n",
       "    </tr>\n",
       "  </tbody>\n",
       "</table>\n",
       "</div>"
      ],
      "text/plain": [
       "   total_images  last_price  total_area first_day_exposition  rooms  \\\n",
       "0            20    13000000      108.00           2019-03-07      3   \n",
       "1             7     3350000       40.40           2018-12-04      1   \n",
       "2            10     5196000       56.00           2015-08-20      2   \n",
       "3             0    64900000      159.00           2015-07-24      3   \n",
       "4             2    10000000      100.00           2018-06-19      2   \n",
       "5            10     2890000       30.40           2018-09-10      1   \n",
       "6             6     3700000       37.30           2017-11-02      1   \n",
       "7             5     7915000       71.60           2019-04-18      2   \n",
       "8            20     2900000       33.16           2018-05-23      1   \n",
       "9            18     5400000       61.00           2017-02-26      3   \n",
       "\n",
       "   ceiling_height  floors_total  living_area  floor  is_apartment  studio  \\\n",
       "0            2.70            16        51.00      8          True   False   \n",
       "1             NaN            11        18.60      1          True   False   \n",
       "2             NaN             5        34.30      4          True   False   \n",
       "3             NaN            14          NaN      9          True   False   \n",
       "4            3.03            14        32.00     13          True   False   \n",
       "5             NaN            12        14.40      5          True   False   \n",
       "6             NaN            26        10.60      6          True   False   \n",
       "7             NaN            24          NaN     22          True   False   \n",
       "8             NaN            27        15.43     26          True   False   \n",
       "9            2.50             9        43.60      7          True   False   \n",
       "\n",
       "   open_plan  kitchen_area  balcony    locality_name  airports_nearest  \\\n",
       "0      False         25.00        0  Санкт-Петербург           18863.0   \n",
       "1      False         11.00        2           Шушары           12817.0   \n",
       "2      False          8.30        0  Санкт-Петербург           21741.0   \n",
       "3      False           NaN        0  Санкт-Петербург           28098.0   \n",
       "4      False         41.00        0  Санкт-Петербург           31856.0   \n",
       "5      False          9.10        0          Янино-1               NaN   \n",
       "6      False         14.40        1        Парголово           52996.0   \n",
       "7      False         18.90        2  Санкт-Петербург           23982.0   \n",
       "8      False          8.81        0           Мурино               NaN   \n",
       "9      False          6.50        2  Санкт-Петербург           50898.0   \n",
       "\n",
       "   city_centers_nearest  parks_around3000  parks_nearest  ponds_around3000  \\\n",
       "0               16028.0               1.0          482.0               2.0   \n",
       "1               18603.0               0.0            NaN               0.0   \n",
       "2               13933.0               1.0           90.0               2.0   \n",
       "3                6800.0               2.0           84.0               3.0   \n",
       "4                8098.0               2.0          112.0               1.0   \n",
       "5                   NaN               NaN            NaN               NaN   \n",
       "6               19143.0               0.0            NaN               0.0   \n",
       "7               11634.0               0.0            NaN               0.0   \n",
       "8                   NaN               NaN            NaN               NaN   \n",
       "9               15008.0               0.0            NaN               0.0   \n",
       "\n",
       "   ponds_nearest  days_exposition  price_for_1meter  day_publication  \\\n",
       "0          755.0              NaN         120370.37                3   \n",
       "1            NaN             81.0          82920.79                1   \n",
       "2          574.0            558.0          92785.71                3   \n",
       "3          234.0            424.0         408176.10                4   \n",
       "4           48.0            121.0         100000.00                1   \n",
       "5            NaN             55.0          95065.79                0   \n",
       "6            NaN            155.0          99195.71                3   \n",
       "7            NaN              NaN         110544.69                3   \n",
       "8            NaN            189.0          87454.76                2   \n",
       "9            NaN            289.0          88524.59                6   \n",
       "\n",
       "   month_publication  year_publication type_floor  distance_to_the_center  \n",
       "0                  3              2019     другой                    16.0  \n",
       "1                 12              2018     первый                    19.0  \n",
       "2                  8              2015     другой                    14.0  \n",
       "3                  7              2015     другой                     7.0  \n",
       "4                  6              2018     другой                     8.0  \n",
       "5                  9              2018     другой                     NaN  \n",
       "6                 11              2017     другой                    19.0  \n",
       "7                  4              2019     другой                    12.0  \n",
       "8                  5              2018     другой                     NaN  \n",
       "9                  2              2017     другой                    15.0  "
      ]
     },
     "execution_count": 28,
     "metadata": {},
     "output_type": "execute_result"
    }
   ],
   "source": [
    "data.head(10)"
   ]
  },
  {
   "cell_type": "markdown",
   "metadata": {},
   "source": [
    "### Проведите исследовательский анализ данных"
   ]
  },
  {
   "cell_type": "markdown",
   "metadata": {},
   "source": [
    "#### Изучаем данные общей площади"
   ]
  },
  {
   "cell_type": "code",
   "execution_count": 29,
   "metadata": {},
   "outputs": [
    {
     "data": {
      "text/plain": [
       "count    23565.000000\n",
       "mean        60.322824\n",
       "std         35.657060\n",
       "min         12.000000\n",
       "25%         40.000000\n",
       "50%         52.000000\n",
       "75%         69.700000\n",
       "max        900.000000\n",
       "Name: total_area, dtype: float64"
      ]
     },
     "execution_count": 29,
     "metadata": {},
     "output_type": "execute_result"
    }
   ],
   "source": [
    "data['total_area'].describe()"
   ]
  },
  {
   "cell_type": "code",
   "execution_count": 30,
   "metadata": {},
   "outputs": [
    {
     "data": {
      "text/plain": [
       "<AxesSubplot:>"
      ]
     },
     "execution_count": 30,
     "metadata": {},
     "output_type": "execute_result"
    },
    {
     "data": {
      "image/png": "[encoded data removed]",
      "text/plain": [
       "<Figure size 360x720 with 1 Axes>"
      ]
     },
     "metadata": {
      "needs_background": "light"
     },
     "output_type": "display_data"
    }
   ],
   "source": [
    "data.boxplot(column='total_area', figsize=(5,10))"
   ]
  },
  {
   "cell_type": "code",
   "execution_count": 31,
   "metadata": {},
   "outputs": [
    {
     "data": {
      "text/plain": [
       "561"
      ]
     },
     "execution_count": 31,
     "metadata": {},
     "output_type": "execute_result"
    }
   ],
   "source": [
    "data.query('total_area > 150')['total_area'].count()"
   ]
  },
  {
   "cell_type": "code",
   "execution_count": 32,
   "metadata": {},
   "outputs": [
    {
     "data": {
      "text/plain": [
       "15"
      ]
     },
     "execution_count": 32,
     "metadata": {},
     "output_type": "execute_result"
    }
   ],
   "source": [
    "data.query('total_area < 18')['total_area'].count()"
   ]
  },
  {
   "cell_type": "code",
   "execution_count": 33,
   "metadata": {},
   "outputs": [],
   "source": [
    "data.drop(index=data.query('total_area > 550').index, inplace=True)"
   ]
  },
  {
   "cell_type": "code",
   "execution_count": 34,
   "metadata": {},
   "outputs": [
    {
     "data": {
      "text/plain": [
       "<AxesSubplot:>"
      ]
     },
     "execution_count": 34,
     "metadata": {},
     "output_type": "execute_result"
    },
    {
     "data": {
      "image/png": "[encoded data removed]",
      "text/plain": [
       "<Figure size 1080x504 with 1 Axes>"
      ]
     },
     "metadata": {
      "needs_background": "light"
     },
     "output_type": "display_data"
    }
   ],
   "source": [
    "data['total_area'].hist(bins=100, range=(18, 150), figsize=(15,7))"
   ]
  },
  {
   "cell_type": "markdown",
   "metadata": {},
   "source": [
    "Наибольшее количество квартир с общей площадью примерно 42-44 кв.м..<br>\n",
    "Значения до 18 кв.м и от 150 кв.м. мы отсекли.<br>\n",
    "Данные в которых общая площадь больше 550 кв.м. мы удалили"
   ]
  },
  {
   "cell_type": "markdown",
   "metadata": {},
   "source": [
    "#### Изучаем данные жилой площади"
   ]
  },
  {
   "cell_type": "code",
   "execution_count": 35,
   "metadata": {},
   "outputs": [
    {
     "data": {
      "text/plain": [
       "count    21696.000000\n",
       "mean        34.396692\n",
       "std         21.610299\n",
       "min          2.000000\n",
       "25%         18.600000\n",
       "50%         30.000000\n",
       "75%         42.300000\n",
       "max        347.500000\n",
       "Name: living_area, dtype: float64"
      ]
     },
     "execution_count": 35,
     "metadata": {},
     "output_type": "execute_result"
    }
   ],
   "source": [
    "data['living_area'].describe()"
   ]
  },
  {
   "cell_type": "code",
   "execution_count": 36,
   "metadata": {},
   "outputs": [
    {
     "data": {
      "text/plain": [
       "<AxesSubplot:>"
      ]
     },
     "execution_count": 36,
     "metadata": {},
     "output_type": "execute_result"
    },
    {
     "data": {
      "image/png": "[encoded data removed]",
      "text/plain": [
       "<Figure size 360x720 with 1 Axes>"
      ]
     },
     "metadata": {
      "needs_background": "light"
     },
     "output_type": "display_data"
    }
   ],
   "source": [
    "data.boxplot(column='living_area', figsize=(5,10))"
   ]
  },
  {
   "cell_type": "code",
   "execution_count": 37,
   "metadata": {},
   "outputs": [
    {
     "data": {
      "text/plain": [
       "679"
      ]
     },
     "execution_count": 37,
     "metadata": {},
     "output_type": "execute_result"
    }
   ],
   "source": [
    "data.query('living_area > 80')['living_area'].count()"
   ]
  },
  {
   "cell_type": "code",
   "execution_count": 38,
   "metadata": {},
   "outputs": [
    {
     "data": {
      "text/plain": [
       "25"
      ]
     },
     "execution_count": 38,
     "metadata": {},
     "output_type": "execute_result"
    }
   ],
   "source": [
    "data.query('living_area < 10')['living_area'].count()"
   ]
  },
  {
   "cell_type": "code",
   "execution_count": 39,
   "metadata": {},
   "outputs": [],
   "source": [
    "data.drop(index=data.query('living_area <= 5').index, inplace=True)"
   ]
  },
  {
   "cell_type": "code",
   "execution_count": 40,
   "metadata": {},
   "outputs": [
    {
     "data": {
      "text/plain": [
       "<AxesSubplot:>"
      ]
     },
     "execution_count": 40,
     "metadata": {},
     "output_type": "execute_result"
    },
    {
     "data": {
      "image/png": "[encoded data removed]",
      "text/plain": [
       "<Figure size 1080x504 with 1 Axes>"
      ]
     },
     "metadata": {
      "needs_background": "light"
     },
     "output_type": "display_data"
    }
   ],
   "source": [
    "data['living_area'].hist(bins=100, range=(10, 80), figsize=(15, 7))"
   ]
  },
  {
   "cell_type": "markdown",
   "metadata": {},
   "source": [
    "Наибольшее количество квартир с жилой площадью примерно 17-18 кв.м.<br>\n",
    "Значения до 10 кв.м и от 80 кв.м. мы отсекли.<br>\n",
    "Данные в которых жилая площадь меньше или равно 5 кв.м. мы удалили"
   ]
  },
  {
   "cell_type": "markdown",
   "metadata": {},
   "source": [
    "#### Изучаем данные площади кухни"
   ]
  },
  {
   "cell_type": "code",
   "execution_count": 41,
   "metadata": {},
   "outputs": [
    {
     "data": {
      "text/plain": [
       "count    21335.000000\n",
       "mean        10.546323\n",
       "std          5.804099\n",
       "min          1.300000\n",
       "25%          7.000000\n",
       "50%          9.100000\n",
       "75%         12.000000\n",
       "max        107.000000\n",
       "Name: kitchen_area, dtype: float64"
      ]
     },
     "execution_count": 41,
     "metadata": {},
     "output_type": "execute_result"
    }
   ],
   "source": [
    "data['kitchen_area'].describe()"
   ]
  },
  {
   "cell_type": "code",
   "execution_count": 42,
   "metadata": {},
   "outputs": [
    {
     "data": {
      "text/plain": [
       "<AxesSubplot:>"
      ]
     },
     "execution_count": 42,
     "metadata": {},
     "output_type": "execute_result"
    },
    {
     "data": {
      "image/png": "[encoded data removed]",
      "text/plain": [
       "<Figure size 360x720 with 1 Axes>"
      ]
     },
     "metadata": {
      "needs_background": "light"
     },
     "output_type": "display_data"
    }
   ],
   "source": [
    "data.boxplot(column='kitchen_area', figsize=(5,10))"
   ]
  },
  {
   "cell_type": "code",
   "execution_count": 43,
   "metadata": {},
   "outputs": [
    {
     "data": {
      "text/plain": [
       "1011"
      ]
     },
     "execution_count": 43,
     "metadata": {},
     "output_type": "execute_result"
    }
   ],
   "source": [
    "data.query('kitchen_area > 20')['kitchen_area'].count()"
   ]
  },
  {
   "cell_type": "code",
   "execution_count": 44,
   "metadata": {},
   "outputs": [
    {
     "data": {
      "text/plain": [
       "28"
      ]
     },
     "execution_count": 44,
     "metadata": {},
     "output_type": "execute_result"
    }
   ],
   "source": [
    "data.query('kitchen_area < 4')['kitchen_area'].count()"
   ]
  },
  {
   "cell_type": "code",
   "execution_count": 45,
   "metadata": {},
   "outputs": [],
   "source": [
    "data.drop(index=data.query('kitchen_area < 4').index, inplace=True)"
   ]
  },
  {
   "cell_type": "code",
   "execution_count": 46,
   "metadata": {},
   "outputs": [],
   "source": [
    "data.drop(index=data.query('kitchen_area >= 60').index, inplace=True)"
   ]
  },
  {
   "cell_type": "code",
   "execution_count": 47,
   "metadata": {},
   "outputs": [
    {
     "data": {
      "text/plain": [
       "<AxesSubplot:>"
      ]
     },
     "execution_count": 47,
     "metadata": {},
     "output_type": "execute_result"
    },
    {
     "data": {
      "image/png": "[encoded data removed]",
      "text/plain": [
       "<Figure size 1080x504 with 1 Axes>"
      ]
     },
     "metadata": {
      "needs_background": "light"
     },
     "output_type": "display_data"
    }
   ],
   "source": [
    "data['kitchen_area'].hist(bins=15, range=(4, 20), figsize=(15, 7))"
   ]
  },
  {
   "cell_type": "markdown",
   "metadata": {},
   "source": [
    "Наибольшее количество кухонь с площадью 5-11 кв.м.<br>\n",
    "Значения до 4 кв.м и от 20 кв.м. мы отсекли.<br>\n",
    "Данные в которых площадь кухни меньше 4 и больше или равно 60 кв.м. мы удалили"
   ]
  },
  {
   "cell_type": "markdown",
   "metadata": {},
   "source": [
    "#### Изучаем данные цен объектов"
   ]
  },
  {
   "cell_type": "code",
   "execution_count": 48,
   "metadata": {},
   "outputs": [
    {
     "data": {
      "text/plain": [
       "count    2.350400e+04\n",
       "mean     6.443887e+06\n",
       "std      1.009476e+07\n",
       "min      1.219000e+04\n",
       "25%      3.400000e+06\n",
       "50%      4.635500e+06\n",
       "75%      6.755720e+06\n",
       "max      7.630000e+08\n",
       "Name: last_price, dtype: float64"
      ]
     },
     "execution_count": 48,
     "metadata": {},
     "output_type": "execute_result"
    }
   ],
   "source": [
    "data['last_price'].describe()"
   ]
  },
  {
   "cell_type": "markdown",
   "metadata": {},
   "source": [
    "Прошу подсказать как здесь вывести числа в нормальном формате?"
   ]
  },
  {
   "cell_type": "code",
   "execution_count": 49,
   "metadata": {},
   "outputs": [],
   "source": [
    "data.drop(index=data.query('last_price > 1e+08').index, inplace=True)"
   ]
  },
  {
   "cell_type": "code",
   "execution_count": 50,
   "metadata": {},
   "outputs": [
    {
     "data": {
      "text/plain": [
       "<AxesSubplot:>"
      ]
     },
     "execution_count": 50,
     "metadata": {},
     "output_type": "execute_result"
    },
    {
     "data": {
      "image/png": "[encoded data removed]",
      "text/plain": [
       "<Figure size 1080x504 with 1 Axes>"
      ]
     },
     "metadata": {
      "needs_background": "light"
     },
     "output_type": "display_data"
    }
   ],
   "source": [
    "data['last_price'].hist(bins=50, figsize=(15, 7), range=(0, 8e+06))"
   ]
  },
  {
   "cell_type": "markdown",
   "metadata": {},
   "source": [
    "Наибольшее количество объектов с ценой примерно 3.7 млн."
   ]
  },
  {
   "cell_type": "markdown",
   "metadata": {},
   "source": [
    "#### Изучаем данные по количеству комнат"
   ]
  },
  {
   "cell_type": "code",
   "execution_count": 51,
   "metadata": {},
   "outputs": [
    {
     "data": {
      "text/plain": [
       "count    23475.000000\n",
       "mean         2.065048\n",
       "std          1.065897\n",
       "min          0.000000\n",
       "25%          1.000000\n",
       "50%          2.000000\n",
       "75%          3.000000\n",
       "max         19.000000\n",
       "Name: rooms, dtype: float64"
      ]
     },
     "execution_count": 51,
     "metadata": {},
     "output_type": "execute_result"
    }
   ],
   "source": [
    "data['rooms'].describe()"
   ]
  },
  {
   "cell_type": "code",
   "execution_count": 52,
   "metadata": {},
   "outputs": [
    {
     "data": {
      "text/plain": [
       "<AxesSubplot:>"
      ]
     },
     "execution_count": 52,
     "metadata": {},
     "output_type": "execute_result"
    },
    {
     "data": {
      "image/png": "[encoded data removed]",
      "text/plain": [
       "<Figure size 360x720 with 1 Axes>"
      ]
     },
     "metadata": {
      "needs_background": "light"
     },
     "output_type": "display_data"
    }
   ],
   "source": [
    "data.boxplot(column='rooms', figsize=(5,10))"
   ]
  },
  {
   "cell_type": "code",
   "execution_count": 53,
   "metadata": {},
   "outputs": [
    {
     "data": {
      "text/plain": [
       "27"
      ]
     },
     "execution_count": 53,
     "metadata": {},
     "output_type": "execute_result"
    }
   ],
   "source": [
    "data.query('rooms > 7')['rooms'].count()"
   ]
  },
  {
   "cell_type": "code",
   "execution_count": 54,
   "metadata": {},
   "outputs": [],
   "source": [
    "data.drop(index=data.query('rooms > 7').index, inplace=True)"
   ]
  },
  {
   "cell_type": "code",
   "execution_count": 55,
   "metadata": {},
   "outputs": [
    {
     "data": {
      "text/plain": [
       "<AxesSubplot:>"
      ]
     },
     "execution_count": 55,
     "metadata": {},
     "output_type": "execute_result"
    },
    {
     "data": {
      "image/png": "[encoded data removed]",
      "text/plain": [
       "<Figure size 432x288 with 1 Axes>"
      ]
     },
     "metadata": {
      "needs_background": "light"
     },
     "output_type": "display_data"
    }
   ],
   "source": [
    "data['rooms'].hist(bins=7, range=(1, 7))"
   ]
  },
  {
   "cell_type": "markdown",
   "metadata": {},
   "source": [
    "Наибольшее количество объектов с 1 и 2 комнатами.<br>\n",
    "Значения 0 комнат и от 7 комнат мы отсекли.<br>\n",
    "Данные в которых количество комнат больше 7 мы удалили"
   ]
  },
  {
   "cell_type": "markdown",
   "metadata": {},
   "source": [
    "#### Изучаем данные по высоте потолков "
   ]
  },
  {
   "cell_type": "code",
   "execution_count": 56,
   "metadata": {},
   "outputs": [
    {
     "data": {
      "text/plain": [
       "count    14403.000000\n",
       "mean         2.768547\n",
       "std          1.264023\n",
       "min          1.000000\n",
       "25%          2.510000\n",
       "50%          2.650000\n",
       "75%          2.800000\n",
       "max        100.000000\n",
       "Name: ceiling_height, dtype: float64"
      ]
     },
     "execution_count": 56,
     "metadata": {},
     "output_type": "execute_result"
    }
   ],
   "source": [
    "data['ceiling_height'].describe()"
   ]
  },
  {
   "cell_type": "code",
   "execution_count": 57,
   "metadata": {},
   "outputs": [],
   "source": [
    "data = data.replace({'ceiling_height':{25:2.5, 32:3.2}})"
   ]
  },
  {
   "cell_type": "code",
   "execution_count": 58,
   "metadata": {},
   "outputs": [
    {
     "data": {
      "text/plain": [
       "count    14403.000000\n",
       "mean         2.753612\n",
       "std          1.112974\n",
       "min          1.000000\n",
       "25%          2.510000\n",
       "50%          2.650000\n",
       "75%          2.800000\n",
       "max        100.000000\n",
       "Name: ceiling_height, dtype: float64"
      ]
     },
     "execution_count": 58,
     "metadata": {},
     "output_type": "execute_result"
    }
   ],
   "source": [
    "data['ceiling_height'].describe()"
   ]
  },
  {
   "cell_type": "code",
   "execution_count": 59,
   "metadata": {},
   "outputs": [
    {
     "data": {
      "text/plain": [
       "<AxesSubplot:>"
      ]
     },
     "execution_count": 59,
     "metadata": {},
     "output_type": "execute_result"
    },
    {
     "data": {
      "image/png": "[encoded data removed]",
      "text/plain": [
       "<Figure size 432x288 with 1 Axes>"
      ]
     },
     "metadata": {
      "needs_background": "light"
     },
     "output_type": "display_data"
    }
   ],
   "source": [
    "data.boxplot(column='ceiling_height')"
   ]
  },
  {
   "cell_type": "code",
   "execution_count": 60,
   "metadata": {},
   "outputs": [
    {
     "data": {
      "text/plain": [
       "72"
      ]
     },
     "execution_count": 60,
     "metadata": {},
     "output_type": "execute_result"
    }
   ],
   "source": [
    "data.query('ceiling_height < 2.5')['ceiling_height'].count()"
   ]
  },
  {
   "cell_type": "code",
   "execution_count": 61,
   "metadata": {},
   "outputs": [
    {
     "data": {
      "text/plain": [
       "771"
      ]
     },
     "execution_count": 61,
     "metadata": {},
     "output_type": "execute_result"
    }
   ],
   "source": [
    "data.query('ceiling_height > 3.2')['ceiling_height'].count()"
   ]
  },
  {
   "cell_type": "code",
   "execution_count": 62,
   "metadata": {},
   "outputs": [],
   "source": [
    "data.drop(index=data.query('ceiling_height > 6').index, inplace=True)"
   ]
  },
  {
   "cell_type": "code",
   "execution_count": 63,
   "metadata": {},
   "outputs": [
    {
     "data": {
      "text/plain": [
       "<AxesSubplot:>"
      ]
     },
     "execution_count": 63,
     "metadata": {},
     "output_type": "execute_result"
    },
    {
     "data": {
      "image/png": "[encoded data removed]",
      "text/plain": [
       "<Figure size 432x288 with 1 Axes>"
      ]
     },
     "metadata": {
      "needs_background": "light"
     },
     "output_type": "display_data"
    }
   ],
   "source": [
    "data['ceiling_height'].hist(bins=7, range=(2.5, 3.2))"
   ]
  },
  {
   "cell_type": "markdown",
   "metadata": {},
   "source": [
    "Наибольшее количество объектов с высотой потолка 2.5м.<br>\n",
    "Значения до 2.5м. и от 3.2м. мы отсекли.<br>\n",
    "Значения 25, 32 перевели в 2.5, 3.2<br>\n",
    "Данные в которых высота потолков больше 6м. мы удалили"
   ]
  },
  {
   "cell_type": "markdown",
   "metadata": {},
   "source": [
    "#### Изучаем данные по типу этажа квартиры"
   ]
  },
  {
   "cell_type": "code",
   "execution_count": 64,
   "metadata": {},
   "outputs": [
    {
     "data": {
      "text/plain": [
       "<AxesSubplot:>"
      ]
     },
     "execution_count": 64,
     "metadata": {},
     "output_type": "execute_result"
    },
    {
     "data": {
      "image/png": "[encoded data removed]",
      "text/plain": [
       "<Figure size 432x288 with 1 Axes>"
      ]
     },
     "metadata": {
      "needs_background": "light"
     },
     "output_type": "display_data"
    }
   ],
   "source": [
    "data['type_floor'].hist(bins=3)"
   ]
  },
  {
   "cell_type": "markdown",
   "metadata": {},
   "source": [
    "Первых и последних этажей в продаже примерно одинаковое количество 2700-3000 ед."
   ]
  },
  {
   "cell_type": "markdown",
   "metadata": {},
   "source": [
    "#### Изучаем данные по общему количеству этажей в доме"
   ]
  },
  {
   "cell_type": "code",
   "execution_count": 65,
   "metadata": {},
   "outputs": [
    {
     "data": {
      "text/plain": [
       "count    23428.000000\n",
       "mean        10.689474\n",
       "std          6.592305\n",
       "min          1.000000\n",
       "25%          5.000000\n",
       "50%          9.000000\n",
       "75%         16.000000\n",
       "max         60.000000\n",
       "Name: floors_total, dtype: float64"
      ]
     },
     "execution_count": 65,
     "metadata": {},
     "output_type": "execute_result"
    }
   ],
   "source": [
    "data['floors_total'].describe()"
   ]
  },
  {
   "cell_type": "code",
   "execution_count": 66,
   "metadata": {},
   "outputs": [
    {
     "data": {
      "text/plain": [
       "<AxesSubplot:>"
      ]
     },
     "execution_count": 66,
     "metadata": {},
     "output_type": "execute_result"
    },
    {
     "data": {
      "image/png": "[encoded data removed]",
      "text/plain": [
       "<Figure size 432x288 with 1 Axes>"
      ]
     },
     "metadata": {
      "needs_background": "light"
     },
     "output_type": "display_data"
    }
   ],
   "source": [
    "data.boxplot(column='floors_total')"
   ]
  },
  {
   "cell_type": "code",
   "execution_count": 67,
   "metadata": {},
   "outputs": [
    {
     "data": {
      "text/plain": [
       "32"
      ]
     },
     "execution_count": 67,
     "metadata": {},
     "output_type": "execute_result"
    }
   ],
   "source": [
    "data.query('floors_total > 28')['floors_total'].count()"
   ]
  },
  {
   "cell_type": "code",
   "execution_count": 68,
   "metadata": {},
   "outputs": [],
   "source": [
    "data.drop(index=data.query('floors_total > 30').index, inplace=True)"
   ]
  },
  {
   "cell_type": "code",
   "execution_count": 69,
   "metadata": {},
   "outputs": [
    {
     "data": {
      "text/plain": [
       "<AxesSubplot:>"
      ]
     },
     "execution_count": 69,
     "metadata": {},
     "output_type": "execute_result"
    },
    {
     "data": {
      "image/png": "[encoded data removed]",
      "text/plain": [
       "<Figure size 432x288 with 1 Axes>"
      ]
     },
     "metadata": {
      "needs_background": "light"
     },
     "output_type": "display_data"
    }
   ],
   "source": [
    "data['floors_total'].hist(bins=28, range=(1, 28))"
   ]
  },
  {
   "cell_type": "markdown",
   "metadata": {},
   "source": [
    "Наибольшее количество объектов в продаже находятся в 5-и этажных домах<br>\n",
    "Данные в которых общее число этажей больше 30 мы удалили"
   ]
  },
  {
   "cell_type": "markdown",
   "metadata": {},
   "source": [
    "#### Изучаем данные по расстоянию до центра города в метрах"
   ]
  },
  {
   "cell_type": "code",
   "execution_count": 70,
   "metadata": {},
   "outputs": [
    {
     "data": {
      "text/plain": [
       "count    17910.000000\n",
       "mean     14220.895645\n",
       "std       8609.535353\n",
       "min        181.000000\n",
       "25%       9289.000000\n",
       "50%      13114.000000\n",
       "75%      16283.750000\n",
       "max      65968.000000\n",
       "Name: city_centers_nearest, dtype: float64"
      ]
     },
     "execution_count": 70,
     "metadata": {},
     "output_type": "execute_result"
    }
   ],
   "source": [
    "data['city_centers_nearest'].describe()"
   ]
  },
  {
   "cell_type": "code",
   "execution_count": 71,
   "metadata": {},
   "outputs": [
    {
     "data": {
      "text/plain": [
       "<AxesSubplot:>"
      ]
     },
     "execution_count": 71,
     "metadata": {},
     "output_type": "execute_result"
    },
    {
     "data": {
      "image/png": "[encoded data removed]",
      "text/plain": [
       "<Figure size 432x288 with 1 Axes>"
      ]
     },
     "metadata": {
      "needs_background": "light"
     },
     "output_type": "display_data"
    }
   ],
   "source": [
    "data.boxplot(column='city_centers_nearest')"
   ]
  },
  {
   "cell_type": "code",
   "execution_count": 72,
   "metadata": {},
   "outputs": [
    {
     "data": {
      "text/plain": [
       "298"
      ]
     },
     "execution_count": 72,
     "metadata": {},
     "output_type": "execute_result"
    }
   ],
   "source": [
    "data.query('city_centers_nearest > 40000')['city_centers_nearest'].count()"
   ]
  },
  {
   "cell_type": "code",
   "execution_count": 73,
   "metadata": {},
   "outputs": [
    {
     "data": {
      "text/plain": [
       "<AxesSubplot:>"
      ]
     },
     "execution_count": 73,
     "metadata": {},
     "output_type": "execute_result"
    },
    {
     "data": {
      "image/png": "[encoded data removed]",
      "text/plain": [
       "<Figure size 1080x504 with 1 Axes>"
      ]
     },
     "metadata": {
      "needs_background": "light"
     },
     "output_type": "display_data"
    }
   ],
   "source": [
    "data['city_centers_nearest'].hist(bins=50, range=(0, 40000), figsize=(15, 7))"
   ]
  },
  {
   "cell_type": "markdown",
   "metadata": {},
   "source": [
    "Наибольшее количество объектов в продаже находятся в 11-16 км. от центра"
   ]
  },
  {
   "cell_type": "markdown",
   "metadata": {},
   "source": [
    "#### Изучаем данные по расстоянию до ближайшего парка"
   ]
  },
  {
   "cell_type": "code",
   "execution_count": 74,
   "metadata": {},
   "outputs": [
    {
     "data": {
      "text/plain": [
       "count    7950.000000\n",
       "mean      490.840503\n",
       "std       341.734776\n",
       "min         1.000000\n",
       "25%       288.000000\n",
       "50%       455.000000\n",
       "75%       612.000000\n",
       "max      3190.000000\n",
       "Name: parks_nearest, dtype: float64"
      ]
     },
     "execution_count": 74,
     "metadata": {},
     "output_type": "execute_result"
    }
   ],
   "source": [
    "data['parks_nearest'].describe()"
   ]
  },
  {
   "cell_type": "code",
   "execution_count": 75,
   "metadata": {},
   "outputs": [
    {
     "data": {
      "text/plain": [
       "<AxesSubplot:>"
      ]
     },
     "execution_count": 75,
     "metadata": {},
     "output_type": "execute_result"
    },
    {
     "data": {
      "image/png": "[encoded data removed]",
      "text/plain": [
       "<Figure size 432x288 with 1 Axes>"
      ]
     },
     "metadata": {
      "needs_background": "light"
     },
     "output_type": "display_data"
    }
   ],
   "source": [
    "data.boxplot(column='parks_nearest')"
   ]
  },
  {
   "cell_type": "code",
   "execution_count": 76,
   "metadata": {},
   "outputs": [
    {
     "data": {
      "text/plain": [
       "268"
      ]
     },
     "execution_count": 76,
     "metadata": {},
     "output_type": "execute_result"
    }
   ],
   "source": [
    "data.query('parks_nearest > 1200')['parks_nearest'].count()"
   ]
  },
  {
   "cell_type": "code",
   "execution_count": 77,
   "metadata": {},
   "outputs": [
    {
     "data": {
      "text/plain": [
       "<AxesSubplot:>"
      ]
     },
     "execution_count": 77,
     "metadata": {},
     "output_type": "execute_result"
    },
    {
     "data": {
      "image/png": "[encoded data removed]",
      "text/plain": [
       "<Figure size 1080x504 with 1 Axes>"
      ]
     },
     "metadata": {
      "needs_background": "light"
     },
     "output_type": "display_data"
    }
   ],
   "source": [
    "data['parks_nearest'].hist(bins=50, range=(0, 1200), figsize=(15, 7))"
   ]
  },
  {
   "cell_type": "markdown",
   "metadata": {},
   "source": [
    "Наибольшее количество объектов в продаже находятся в 500 м. от парка"
   ]
  },
  {
   "cell_type": "markdown",
   "metadata": {},
   "source": [
    "#### Изучаем скорость продажи квартиры"
   ]
  },
  {
   "cell_type": "code",
   "execution_count": 78,
   "metadata": {},
   "outputs": [
    {
     "data": {
      "text/plain": [
       "count    20252.000000\n",
       "mean       180.285256\n",
       "std        219.391491\n",
       "min          1.000000\n",
       "25%         45.000000\n",
       "50%         95.000000\n",
       "75%        230.000000\n",
       "max       1580.000000\n",
       "Name: days_exposition, dtype: float64"
      ]
     },
     "execution_count": 78,
     "metadata": {},
     "output_type": "execute_result"
    }
   ],
   "source": [
    "data['days_exposition'].describe()"
   ]
  },
  {
   "cell_type": "code",
   "execution_count": 79,
   "metadata": {},
   "outputs": [
    {
     "data": {
      "text/plain": [
       "<AxesSubplot:>"
      ]
     },
     "execution_count": 79,
     "metadata": {},
     "output_type": "execute_result"
    },
    {
     "data": {
      "image/png": "[encoded data removed]",
      "text/plain": [
       "<Figure size 432x288 with 1 Axes>"
      ]
     },
     "metadata": {
      "needs_background": "light"
     },
     "output_type": "display_data"
    }
   ],
   "source": [
    "data.boxplot(column='days_exposition')"
   ]
  },
  {
   "cell_type": "code",
   "execution_count": 80,
   "metadata": {},
   "outputs": [
    {
     "data": {
      "text/plain": [
       "<AxesSubplot:>"
      ]
     },
     "execution_count": 80,
     "metadata": {},
     "output_type": "execute_result"
    },
    {
     "data": {
      "image/png": "[encoded data removed]",
      "text/plain": [
       "<Figure size 1080x504 with 1 Axes>"
      ]
     },
     "metadata": {
      "needs_background": "light"
     },
     "output_type": "display_data"
    }
   ],
   "source": [
    "data['days_exposition'].hist(bins=50, range=(0, 500), figsize=(15, 7))"
   ]
  },
  {
   "cell_type": "code",
   "execution_count": 81,
   "metadata": {},
   "outputs": [
    {
     "data": {
      "text/plain": [
       "45.0      875\n",
       "60.0      538\n",
       "7.0       229\n",
       "30.0      208\n",
       "90.0      198\n",
       "         ... \n",
       "818.0       1\n",
       "969.0       1\n",
       "1147.0      1\n",
       "1148.0      1\n",
       "1174.0      1\n",
       "Name: days_exposition, Length: 1136, dtype: int64"
      ]
     },
     "execution_count": 81,
     "metadata": {},
     "output_type": "execute_result"
    }
   ],
   "source": [
    "data['days_exposition'].value_counts()"
   ]
  },
  {
   "cell_type": "markdown",
   "metadata": {},
   "source": [
    "Чаще всего квартиры продаются на 45 и 60 день.<br>\n",
    "Быстрыми продажами считаются продажи с 1 по 45 день<br>\n",
    "Необычно долгими считаются примерно после 500 дня"
   ]
  },
  {
   "cell_type": "markdown",
   "metadata": {},
   "source": [
    "#### Изучение зависимости цены от общей площади"
   ]
  },
  {
   "cell_type": "code",
   "execution_count": 82,
   "metadata": {},
   "outputs": [
    {
     "data": {
      "text/plain": [
       "<AxesSubplot:xlabel='last_price', ylabel='total_area'>"
      ]
     },
     "execution_count": 82,
     "metadata": {},
     "output_type": "execute_result"
    },
    {
     "data": {
      "image/png": "[encoded data removed]",
      "text/plain": [
       "<Figure size 432x288 with 1 Axes>"
      ]
     },
     "metadata": {
      "needs_background": "light"
     },
     "output_type": "display_data"
    }
   ],
   "source": [
    "data.plot(x='last_price', y='total_area', kind='scatter', alpha=0.3)"
   ]
  },
  {
   "cell_type": "code",
   "execution_count": 83,
   "metadata": {},
   "outputs": [
    {
     "data": {
      "text/plain": [
       "0.7674946490466796"
      ]
     },
     "execution_count": 83,
     "metadata": {},
     "output_type": "execute_result"
    }
   ],
   "source": [
    "data['last_price'].corr(data['total_area'])"
   ]
  },
  {
   "cell_type": "markdown",
   "metadata": {},
   "source": [
    "На данном графике мы можем проследить зависимость цены от общей площади квартиры"
   ]
  },
  {
   "cell_type": "markdown",
   "metadata": {},
   "source": [
    "#### Изучение зависимости цены от жилой площади"
   ]
  },
  {
   "cell_type": "code",
   "execution_count": 84,
   "metadata": {},
   "outputs": [
    {
     "data": {
      "text/plain": [
       "<AxesSubplot:xlabel='last_price', ylabel='living_area'>"
      ]
     },
     "execution_count": 84,
     "metadata": {},
     "output_type": "execute_result"
    },
    {
     "data": {
      "image/png": "[encoded data removed]",
      "text/plain": [
       "<Figure size 432x288 with 1 Axes>"
      ]
     },
     "metadata": {
      "needs_background": "light"
     },
     "output_type": "display_data"
    }
   ],
   "source": [
    "data.plot(x='last_price', y='living_area', kind='scatter', alpha=0.3)"
   ]
  },
  {
   "cell_type": "code",
   "execution_count": 85,
   "metadata": {},
   "outputs": [
    {
     "data": {
      "text/plain": [
       "0.684818010658234"
      ]
     },
     "execution_count": 85,
     "metadata": {},
     "output_type": "execute_result"
    }
   ],
   "source": [
    "data['last_price'].corr(data['living_area'])"
   ]
  },
  {
   "cell_type": "markdown",
   "metadata": {},
   "source": [
    "На данном графике мы можем проследить зависимость цены от жилой площади квартиры"
   ]
  },
  {
   "cell_type": "markdown",
   "metadata": {},
   "source": [
    "#### Изучение зависимости цены от площади кухни"
   ]
  },
  {
   "cell_type": "code",
   "execution_count": 86,
   "metadata": {},
   "outputs": [
    {
     "data": {
      "text/plain": [
       "<AxesSubplot:xlabel='last_price', ylabel='kitchen_area'>"
      ]
     },
     "execution_count": 86,
     "metadata": {},
     "output_type": "execute_result"
    },
    {
     "data": {
      "image/png": "[encoded data removed]",
      "text/plain": [
       "<Figure size 432x288 with 1 Axes>"
      ]
     },
     "metadata": {
      "needs_background": "light"
     },
     "output_type": "display_data"
    }
   ],
   "source": [
    "data.plot(x='last_price', y='kitchen_area', kind='scatter', alpha=0.3)"
   ]
  },
  {
   "cell_type": "code",
   "execution_count": 87,
   "metadata": {},
   "outputs": [
    {
     "data": {
      "text/plain": [
       "0.5704063623197229"
      ]
     },
     "execution_count": 87,
     "metadata": {},
     "output_type": "execute_result"
    }
   ],
   "source": [
    "data['last_price'].corr(data['kitchen_area'])"
   ]
  },
  {
   "cell_type": "markdown",
   "metadata": {},
   "source": [
    "На данном графике мы можем проследить зависимость цены от площади кухни в квартире, но меньшую чем в случаях выше"
   ]
  },
  {
   "cell_type": "markdown",
   "metadata": {},
   "source": [
    "#### Изучение зависимости цены от количества комнат"
   ]
  },
  {
   "cell_type": "code",
   "execution_count": 88,
   "metadata": {},
   "outputs": [
    {
     "data": {
      "text/plain": [
       "<AxesSubplot:xlabel='rooms'>"
      ]
     },
     "execution_count": 88,
     "metadata": {},
     "output_type": "execute_result"
    },
    {
     "data": {
      "image/png": "[encoded data removed]",
      "text/plain": [
       "<Figure size 432x288 with 1 Axes>"
      ]
     },
     "metadata": {
      "needs_background": "light"
     },
     "output_type": "display_data"
    }
   ],
   "source": [
    "data.pivot_table(index='rooms', values='last_price').plot(grid=True, kind='bar')"
   ]
  },
  {
   "cell_type": "markdown",
   "metadata": {},
   "source": [
    "Чем больше комнат, тем больше цена - зависимость прослеживается"
   ]
  },
  {
   "cell_type": "markdown",
   "metadata": {},
   "source": [
    "#### Изучение зависимости цены от этажа, на котором расположена квартира"
   ]
  },
  {
   "cell_type": "code",
   "execution_count": 89,
   "metadata": {},
   "outputs": [
    {
     "data": {
      "text/plain": [
       "<AxesSubplot:xlabel='type_floor'>"
      ]
     },
     "execution_count": 89,
     "metadata": {},
     "output_type": "execute_result"
    },
    {
     "data": {
      "image/png": "[encoded data removed]",
      "text/plain": [
       "<Figure size 432x288 with 1 Axes>"
      ]
     },
     "metadata": {
      "needs_background": "light"
     },
     "output_type": "display_data"
    }
   ],
   "source": [
    "data.pivot_table(index='type_floor', values='last_price').plot(grid=True, kind='bar')"
   ]
  },
  {
   "cell_type": "markdown",
   "metadata": {},
   "source": [
    "На первом и последнем этажах стоимость квартир ниже"
   ]
  },
  {
   "cell_type": "markdown",
   "metadata": {},
   "source": [
    "#### Изучение зависимости цены от даты размещения"
   ]
  },
  {
   "cell_type": "code",
   "execution_count": 90,
   "metadata": {
    "scrolled": true
   },
   "outputs": [
    {
     "data": {
      "text/plain": [
       "<AxesSubplot:xlabel='day_publication'>"
      ]
     },
     "execution_count": 90,
     "metadata": {},
     "output_type": "execute_result"
    },
    {
     "data": {
      "image/png": "[encoded data removed]",
      "text/plain": [
       "<Figure size 432x288 with 1 Axes>"
      ]
     },
     "metadata": {
      "needs_background": "light"
     },
     "output_type": "display_data"
    }
   ],
   "source": [
    "data.pivot_table(index='day_publication', values='last_price').plot()"
   ]
  },
  {
   "cell_type": "markdown",
   "metadata": {},
   "source": [
    "Дороже всего выставлялись квартиры в продажу по четвергам.  \n",
    "Дешевле всего по вторникам и субботам"
   ]
  },
  {
   "cell_type": "code",
   "execution_count": 91,
   "metadata": {},
   "outputs": [
    {
     "data": {
      "text/plain": [
       "<AxesSubplot:xlabel='month_publication'>"
      ]
     },
     "execution_count": 91,
     "metadata": {},
     "output_type": "execute_result"
    },
    {
     "data": {
      "image/png": "[encoded data removed]",
      "text/plain": [
       "<Figure size 432x288 with 1 Axes>"
      ]
     },
     "metadata": {
      "needs_background": "light"
     },
     "output_type": "display_data"
    }
   ],
   "source": [
    "data.pivot_table(index='month_publication', values='last_price').plot()"
   ]
  },
  {
   "cell_type": "markdown",
   "metadata": {},
   "source": [
    "Дороже всего выставлялись квартиры в продажу в декабре.  \n",
    "Дешевле всего в октябре"
   ]
  },
  {
   "cell_type": "code",
   "execution_count": 92,
   "metadata": {},
   "outputs": [
    {
     "data": {
      "text/plain": [
       "<AxesSubplot:xlabel='year_publication'>"
      ]
     },
     "execution_count": 92,
     "metadata": {},
     "output_type": "execute_result"
    },
    {
     "data": {
      "image/png": "[encoded data removed]",
      "text/plain": [
       "<Figure size 432x288 with 1 Axes>"
      ]
     },
     "metadata": {
      "needs_background": "light"
     },
     "output_type": "display_data"
    }
   ],
   "source": [
    "data.pivot_table(index='year_publication', values='last_price').plot()"
   ]
  },
  {
   "cell_type": "markdown",
   "metadata": {},
   "source": [
    "С 2014 года и до 2018 цены на квартиры падали, начиная с 2018 цены начали расти."
   ]
  },
  {
   "cell_type": "markdown",
   "metadata": {},
   "source": [
    "#### Средняя цена одного квадратного метра в 10 населённых пунктах с наибольшим числом объявлений"
   ]
  },
  {
   "cell_type": "code",
   "execution_count": 93,
   "metadata": {},
   "outputs": [
    {
     "data": {
      "text/html": [
       "<div>\n",
       "<style scoped>\n",
       "    .dataframe tbody tr th:only-of-type {\n",
       "        vertical-align: middle;\n",
       "    }\n",
       "\n",
       "    .dataframe tbody tr th {\n",
       "        vertical-align: top;\n",
       "    }\n",
       "\n",
       "    .dataframe thead th {\n",
       "        text-align: right;\n",
       "    }\n",
       "</style>\n",
       "<table border=\"1\" class=\"dataframe\">\n",
       "  <thead>\n",
       "    <tr style=\"text-align: right;\">\n",
       "      <th></th>\n",
       "      <th>count</th>\n",
       "      <th>mean</th>\n",
       "    </tr>\n",
       "    <tr>\n",
       "      <th>locality_name</th>\n",
       "      <th></th>\n",
       "      <th></th>\n",
       "    </tr>\n",
       "  </thead>\n",
       "  <tbody>\n",
       "    <tr>\n",
       "      <th>Санкт-Петербург</th>\n",
       "      <td>15503</td>\n",
       "      <td>113409.126795</td>\n",
       "    </tr>\n",
       "    <tr>\n",
       "      <th>Мурино</th>\n",
       "      <td>581</td>\n",
       "      <td>85923.143167</td>\n",
       "    </tr>\n",
       "    <tr>\n",
       "      <th>Кудрово</th>\n",
       "      <td>470</td>\n",
       "      <td>95260.846128</td>\n",
       "    </tr>\n",
       "    <tr>\n",
       "      <th>Шушары</th>\n",
       "      <td>439</td>\n",
       "      <td>78551.344647</td>\n",
       "    </tr>\n",
       "    <tr>\n",
       "      <th>Всеволожск</th>\n",
       "      <td>398</td>\n",
       "      <td>68654.473970</td>\n",
       "    </tr>\n",
       "    <tr>\n",
       "      <th>Пушкин</th>\n",
       "      <td>365</td>\n",
       "      <td>102880.118603</td>\n",
       "    </tr>\n",
       "    <tr>\n",
       "      <th>Колпино</th>\n",
       "      <td>337</td>\n",
       "      <td>75333.295816</td>\n",
       "    </tr>\n",
       "    <tr>\n",
       "      <th>Парголово</th>\n",
       "      <td>327</td>\n",
       "      <td>90175.913089</td>\n",
       "    </tr>\n",
       "    <tr>\n",
       "      <th>Гатчина</th>\n",
       "      <td>307</td>\n",
       "      <td>68746.146515</td>\n",
       "    </tr>\n",
       "    <tr>\n",
       "      <th>Выборг</th>\n",
       "      <td>237</td>\n",
       "      <td>58141.909325</td>\n",
       "    </tr>\n",
       "  </tbody>\n",
       "</table>\n",
       "</div>"
      ],
      "text/plain": [
       "                 count           mean\n",
       "locality_name                        \n",
       "Санкт-Петербург  15503  113409.126795\n",
       "Мурино             581   85923.143167\n",
       "Кудрово            470   95260.846128\n",
       "Шушары             439   78551.344647\n",
       "Всеволожск         398   68654.473970\n",
       "Пушкин             365  102880.118603\n",
       "Колпино            337   75333.295816\n",
       "Парголово          327   90175.913089\n",
       "Гатчина            307   68746.146515\n",
       "Выборг             237   58141.909325"
      ]
     },
     "execution_count": 93,
     "metadata": {},
     "output_type": "execute_result"
    }
   ],
   "source": [
    "top_city = data.pivot_table(index='locality_name', values='price_for_1meter', aggfunc=['count', 'mean'])\n",
    "top_city.columns = ['count', 'mean']\n",
    "top_city.sort_values(by='count', ascending=False).head(10)"
   ]
  },
  {
   "cell_type": "markdown",
   "metadata": {},
   "source": [
    "Самая высокая стоимость кв. м. в Санкт-Петербурге<br>\n",
    "Самая низкая стоимость кв. м. в Выборге"
   ]
  },
  {
   "cell_type": "markdown",
   "metadata": {},
   "source": [
    "#### Зависимость стоимости объектов от расстояния до центра города"
   ]
  },
  {
   "cell_type": "code",
   "execution_count": 94,
   "metadata": {},
   "outputs": [
    {
     "data": {
      "text/plain": [
       "<AxesSubplot:xlabel='distance_to_the_center'>"
      ]
     },
     "execution_count": 94,
     "metadata": {},
     "output_type": "execute_result"
    },
    {
     "data": {
      "image/png": "[encoded data removed]",
      "text/plain": [
       "<Figure size 1080x504 with 1 Axes>"
      ]
     },
     "metadata": {
      "needs_background": "light"
     },
     "output_type": "display_data"
    }
   ],
   "source": [
    "(\n",
    "data.query('locality_name == \"Санкт-Петербург\"')\n",
    "    .pivot_table(index='distance_to_the_center', values='last_price', aggfunc='mean')\n",
    "    .plot(figsize=(15,7), grid=True)\n",
    ")"
   ]
  },
  {
   "cell_type": "markdown",
   "metadata": {},
   "source": [
    "На основании графика можно сказать, что чем ближе объект находится к центру, тем он дороже. На расстоянии от 3 до 7 км до центра прослеживается увеличение стоимости, возможно это связано с различными престижными районами, которые отличаются в цене."
   ]
  },
  {
   "cell_type": "markdown",
   "metadata": {},
   "source": [
    "### Общий вывод"
   ]
  },
  {
   "cell_type": "markdown",
   "metadata": {},
   "source": [
    "На входе была получена таблица с объявлениями о продаже квартир в Санкт-Петербурге и соседних населенных пунктах за несколько лет.<br>\n",
    "Проанализировав таблицу, выяснились некоторые проблемы, которые требовалось исправить, а именно:<br>\n",
    "    - в таблице есть пропуски в столбцах: высота потолков, всего этажей в доме, жилая площадь, аппартаменты, площадь кухни, число балконов, название населенного пункта, расстояние до аэропорта, расстояние до центра города, число парков в радиусе 3 км., растояние до парка,число водоемов в радиусе 3 км., расстояние до водоема, сколько дней было размещено объявление.<br>\n",
    "    - название столбца cityCenters_nearest не соответствует общему правилу применяемому к заголовкам,<br> \n",
    "    - типы данных в столбцах не соответствовали логическим значениям: last_price, first_day_exposition, floors_total, is_apartment, balcony.<br>\n",
    "    - выявлены неявные дубликаты в столбце locality_name<br>\n",
    "<br>\n",
    "На этапе обработки данных пропуски в столбцах floors_total и locality_name были удалены в связи с небольшим количеством таких строк<br>\n",
    "В столбцах is_apartment и balcony данных заменены на False и 0. Если столбец с аппартаментами не заполнен, значит можно предположить, что объект не является ими. Если не заполнен столбец с балконом, можно предположить, что его нет.<br>\n",
    "В остальных стобцах скорее всего забыли указать данные, либо такие условия не соблюдаются. Таких значений много, поэтому их не удаляем.<br>\n",
    "Название столбца cityCenters_nearest приведено к стандартному виду.<br>\n",
    "Типы данных в столбцах last_price, first_day_exposition, floors_total, is_apartment, balcony приведен к логическому виду.<br>\n",
    "Неявные дубликаты в столбце locality_name приведены к единому виду.<br>\n",
    "<br>\n",
    "Для дальнейшего построения таблиц и проведения расчетов, были добавлены следующие столбцы: Цена одного квадратного метра, день недели публикации объявления, месяц публикации объявления, год публикации объявления, тип этажа квартиры, расстояние до центра города в километрах.<br>\n",
    "Далее был проведен анализ данных с помощью графика boxplot и гистограммы.<br>\n",
    "После анализа данных выяснилось, что необходимо очистить данные от выбросов, либо от сверхмалых значений.<br>\n",
    "Основываясь на графики можно сделать следующие выводы:<br>\n",
    "    - наибольшее количество квартир в продаже с общей площадью около 42-44 кв.м.<br>\n",
    "    - наибольшее количество квартир в продаже с жилой площадью около 17-18 кв.м.<br>\n",
    "    - наибольшее количество объектов с ценой примерно 3.7 млн.<br>\n",
    "    - наибольшее количество объектов с 1 и 2 комнатами.<br>\n",
    "    - наибольшее количество объектов с высотой потолка 2.5м.<br>\n",
    "    - наибольшее количество объектов в продаже находятся в 5-и этажных домах.<br>\n",
    "    - наибольшее количество объектов в продаже находятся в 11-16 км. от центра.<br>\n",
    "    - наибольшее количество объектов в продаже находятся в 500 м. от парка.<br>\n",
    "    - чаще всего квартиры продаются на 45 и 60 день. Быстрыми продажами считаются продажи с 1 по 45 день. Необычно долгими считаются примерно после 500 дня.<br>\n",
    "    - на первом и последнем этажах стоимость квартир ниже.<br>\n",
    "Самая большая корреляция цены выявлена с параметром общей площади объекта на основании коэффициента Пирсона - 0.77<br>\n",
    "В топ 3 по количеству объявлений входят следующие города (со средней стоимостью квадратного метра): Санкт-Петербург (113409), Мурино (85923), Кудрово (95260).<br>\n",
    "Самая большая стоимость объектов за квадратный метр входящих в топ 10 по количеству объявлений у Санкт-Петербурга - 113409 средняя стоимость.\n",
    "Самая низкая стоимость объектов за квадратный метр входящих в топ 10 по количеству объявлений у Выборга - 58142 средняя стоимость."
   ]
  }
 ],
 "metadata": {
  "ExecuteTimeLog": [
   {
    "duration": 647,
    "start_time": "2023-09-10T20:21:00.310Z"
   },
   {
    "duration": 356,
    "start_time": "2023-09-10T20:21:08.144Z"
   },
   {
    "duration": 14,
    "start_time": "2023-09-10T20:23:48.867Z"
   },
   {
    "duration": 109,
    "start_time": "2023-09-10T20:24:24.047Z"
   },
   {
    "duration": 32,
    "start_time": "2023-09-10T20:24:25.752Z"
   },
   {
    "duration": 17,
    "start_time": "2023-09-10T20:25:57.042Z"
   },
   {
    "duration": 4,
    "start_time": "2023-09-10T20:31:37.849Z"
   },
   {
    "duration": 2,
    "start_time": "2023-09-10T20:32:24.378Z"
   },
   {
    "duration": 2929,
    "start_time": "2023-09-10T20:33:39.362Z"
   },
   {
    "duration": 136,
    "start_time": "2023-09-10T20:34:26.569Z"
   },
   {
    "duration": 2314,
    "start_time": "2023-09-10T20:34:33.566Z"
   },
   {
    "duration": 2159,
    "start_time": "2023-09-10T20:38:47.858Z"
   },
   {
    "duration": 2067,
    "start_time": "2023-09-10T20:39:08.717Z"
   },
   {
    "duration": 3,
    "start_time": "2023-09-10T20:41:16.249Z"
   },
   {
    "duration": 32,
    "start_time": "2023-09-10T20:42:01.522Z"
   },
   {
    "duration": 10,
    "start_time": "2023-09-10T20:42:11.546Z"
   },
   {
    "duration": 47,
    "start_time": "2023-09-11T16:43:24.896Z"
   },
   {
    "duration": 1188,
    "start_time": "2023-09-11T16:48:59.130Z"
   },
   {
    "duration": 54,
    "start_time": "2023-09-11T16:49:00.320Z"
   },
   {
    "duration": 33,
    "start_time": "2023-09-11T16:49:00.376Z"
   },
   {
    "duration": 2530,
    "start_time": "2023-09-11T16:49:00.411Z"
   },
   {
    "duration": 10,
    "start_time": "2023-09-11T16:49:02.943Z"
   },
   {
    "duration": 33,
    "start_time": "2023-09-11T16:54:07.505Z"
   },
   {
    "duration": 5,
    "start_time": "2023-09-11T16:59:41.934Z"
   },
   {
    "duration": 13,
    "start_time": "2023-09-11T16:59:46.622Z"
   },
   {
    "duration": 17,
    "start_time": "2023-09-11T17:00:20.472Z"
   },
   {
    "duration": 96,
    "start_time": "2023-09-11T17:02:18.996Z"
   },
   {
    "duration": 5,
    "start_time": "2023-09-11T17:02:24.438Z"
   },
   {
    "duration": 113,
    "start_time": "2023-09-11T17:11:25.624Z"
   },
   {
    "duration": 71,
    "start_time": "2023-09-11T17:11:42.227Z"
   },
   {
    "duration": 13,
    "start_time": "2023-09-11T17:11:49.212Z"
   },
   {
    "duration": 18,
    "start_time": "2023-09-11T17:12:38.976Z"
   },
   {
    "duration": 9,
    "start_time": "2023-09-11T17:12:40.500Z"
   },
   {
    "duration": 136,
    "start_time": "2023-09-11T17:23:58.082Z"
   },
   {
    "duration": 30,
    "start_time": "2023-09-11T17:24:07.553Z"
   },
   {
    "duration": 7,
    "start_time": "2023-09-11T17:26:47.214Z"
   },
   {
    "duration": 12,
    "start_time": "2023-09-11T17:27:31.496Z"
   },
   {
    "duration": 8,
    "start_time": "2023-09-11T17:27:50.745Z"
   },
   {
    "duration": 9,
    "start_time": "2023-09-11T17:28:17.749Z"
   },
   {
    "duration": 9,
    "start_time": "2023-09-11T17:28:36.379Z"
   },
   {
    "duration": 11,
    "start_time": "2023-09-11T17:28:51.376Z"
   },
   {
    "duration": 12,
    "start_time": "2023-09-11T17:28:56.369Z"
   },
   {
    "duration": 10,
    "start_time": "2023-09-11T17:29:09.271Z"
   },
   {
    "duration": 21,
    "start_time": "2023-09-11T17:31:28.654Z"
   },
   {
    "duration": 8,
    "start_time": "2023-09-11T17:33:54.814Z"
   },
   {
    "duration": 100,
    "start_time": "2023-09-11T17:34:17.495Z"
   },
   {
    "duration": 8,
    "start_time": "2023-09-11T17:34:25.983Z"
   },
   {
    "duration": 9,
    "start_time": "2023-09-11T17:34:43.149Z"
   },
   {
    "duration": 10,
    "start_time": "2023-09-11T17:35:04.253Z"
   },
   {
    "duration": 99,
    "start_time": "2023-09-11T19:14:24.582Z"
   },
   {
    "duration": 9,
    "start_time": "2023-09-11T19:14:34.095Z"
   },
   {
    "duration": 114,
    "start_time": "2023-09-11T19:20:00.817Z"
   },
   {
    "duration": 108,
    "start_time": "2023-09-11T19:20:28.654Z"
   },
   {
    "duration": 114,
    "start_time": "2023-09-11T19:21:14.604Z"
   },
   {
    "duration": 161,
    "start_time": "2023-09-11T19:21:44.743Z"
   },
   {
    "duration": 113,
    "start_time": "2023-09-11T19:21:55.500Z"
   },
   {
    "duration": 8,
    "start_time": "2023-09-11T19:24:47.145Z"
   },
   {
    "duration": 8,
    "start_time": "2023-09-11T19:35:13.180Z"
   },
   {
    "duration": 11,
    "start_time": "2023-09-11T19:35:16.085Z"
   },
   {
    "duration": 4,
    "start_time": "2023-09-11T19:41:07.596Z"
   },
   {
    "duration": 11,
    "start_time": "2023-09-11T19:41:09.496Z"
   },
   {
    "duration": 3,
    "start_time": "2023-09-11T19:48:40.493Z"
   },
   {
    "duration": 48,
    "start_time": "2023-09-11T19:54:11.992Z"
   },
   {
    "duration": 916,
    "start_time": "2023-09-11T19:54:36.483Z"
   },
   {
    "duration": 84,
    "start_time": "2023-09-11T19:54:37.402Z"
   },
   {
    "duration": 25,
    "start_time": "2023-09-11T19:54:37.488Z"
   },
   {
    "duration": 2593,
    "start_time": "2023-09-11T19:54:37.516Z"
   },
   {
    "duration": 12,
    "start_time": "2023-09-11T19:54:40.111Z"
   },
   {
    "duration": 15,
    "start_time": "2023-09-11T19:54:40.126Z"
   },
   {
    "duration": 35,
    "start_time": "2023-09-11T19:54:40.143Z"
   },
   {
    "duration": 8,
    "start_time": "2023-09-11T19:54:40.183Z"
   },
   {
    "duration": 14,
    "start_time": "2023-09-11T19:54:40.193Z"
   },
   {
    "duration": 16,
    "start_time": "2023-09-11T20:18:55.116Z"
   },
   {
    "duration": 6,
    "start_time": "2023-09-11T20:19:36.386Z"
   },
   {
    "duration": 33,
    "start_time": "2023-09-11T20:20:02.950Z"
   },
   {
    "duration": 44,
    "start_time": "2023-09-11T20:20:55.474Z"
   },
   {
    "duration": 19,
    "start_time": "2023-09-11T20:21:00.810Z"
   },
   {
    "duration": 32,
    "start_time": "2023-09-11T20:21:05.354Z"
   },
   {
    "duration": 20,
    "start_time": "2023-09-11T20:21:24.839Z"
   },
   {
    "duration": 1943,
    "start_time": "2023-09-11T20:25:50.489Z"
   },
   {
    "duration": 31,
    "start_time": "2023-09-11T20:25:52.881Z"
   },
   {
    "duration": 17,
    "start_time": "2023-09-11T20:26:11.034Z"
   },
   {
    "duration": 13,
    "start_time": "2023-09-11T20:26:16.018Z"
   },
   {
    "duration": 1232,
    "start_time": "2023-09-12T17:08:44.437Z"
   },
   {
    "duration": 53,
    "start_time": "2023-09-12T17:08:45.672Z"
   },
   {
    "duration": 16,
    "start_time": "2023-09-12T17:08:45.738Z"
   },
   {
    "duration": 2142,
    "start_time": "2023-09-12T17:08:45.756Z"
   },
   {
    "duration": 9,
    "start_time": "2023-09-12T17:08:47.900Z"
   },
   {
    "duration": 70,
    "start_time": "2023-09-12T17:08:47.911Z"
   },
   {
    "duration": 66,
    "start_time": "2023-09-12T17:08:47.983Z"
   },
   {
    "duration": 19,
    "start_time": "2023-09-12T17:08:48.050Z"
   },
   {
    "duration": 43,
    "start_time": "2023-09-12T17:08:48.071Z"
   },
   {
    "duration": 63,
    "start_time": "2023-09-12T17:08:48.117Z"
   },
   {
    "duration": 86,
    "start_time": "2023-09-12T17:08:48.182Z"
   },
   {
    "duration": 78,
    "start_time": "2023-09-12T17:08:48.270Z"
   },
   {
    "duration": 14,
    "start_time": "2023-09-12T17:08:48.350Z"
   },
   {
    "duration": 96,
    "start_time": "2023-09-12T17:20:47.992Z"
   },
   {
    "duration": 29,
    "start_time": "2023-09-12T17:21:36.217Z"
   },
   {
    "duration": 14,
    "start_time": "2023-09-12T17:21:55.643Z"
   },
   {
    "duration": 14,
    "start_time": "2023-09-12T17:21:57.439Z"
   },
   {
    "duration": 19,
    "start_time": "2023-09-12T17:25:54.085Z"
   },
   {
    "duration": 20,
    "start_time": "2023-09-12T17:26:05.116Z"
   },
   {
    "duration": 940,
    "start_time": "2023-09-12T17:26:15.512Z"
   },
   {
    "duration": 51,
    "start_time": "2023-09-12T17:26:16.454Z"
   },
   {
    "duration": 26,
    "start_time": "2023-09-12T17:26:16.507Z"
   },
   {
    "duration": 1971,
    "start_time": "2023-09-12T17:26:16.535Z"
   },
   {
    "duration": 10,
    "start_time": "2023-09-12T17:26:18.508Z"
   },
   {
    "duration": 22,
    "start_time": "2023-09-12T17:26:18.520Z"
   },
   {
    "duration": 17,
    "start_time": "2023-09-12T17:26:18.543Z"
   },
   {
    "duration": 22,
    "start_time": "2023-09-12T17:26:18.562Z"
   },
   {
    "duration": 17,
    "start_time": "2023-09-12T17:26:18.585Z"
   },
   {
    "duration": 15,
    "start_time": "2023-09-12T17:26:18.605Z"
   },
   {
    "duration": 26,
    "start_time": "2023-09-12T17:26:18.622Z"
   },
   {
    "duration": 30,
    "start_time": "2023-09-12T17:26:18.649Z"
   },
   {
    "duration": 42,
    "start_time": "2023-09-12T17:26:18.681Z"
   },
   {
    "duration": 41,
    "start_time": "2023-09-12T17:26:18.725Z"
   },
   {
    "duration": 6,
    "start_time": "2023-09-12T17:42:37.936Z"
   },
   {
    "duration": 93,
    "start_time": "2023-09-12T17:43:47.014Z"
   },
   {
    "duration": 79,
    "start_time": "2023-09-12T17:43:55.312Z"
   },
   {
    "duration": 5,
    "start_time": "2023-09-12T17:44:12.534Z"
   },
   {
    "duration": 5,
    "start_time": "2023-09-12T17:46:47.149Z"
   },
   {
    "duration": 28,
    "start_time": "2023-09-12T17:47:08.339Z"
   },
   {
    "duration": 22,
    "start_time": "2023-09-12T17:54:42.263Z"
   },
   {
    "duration": 207,
    "start_time": "2023-09-12T17:55:41.917Z"
   },
   {
    "duration": 20,
    "start_time": "2023-09-12T17:55:47.995Z"
   },
   {
    "duration": 90,
    "start_time": "2023-09-12T17:57:54.991Z"
   },
   {
    "duration": 118,
    "start_time": "2023-09-12T17:58:09.945Z"
   },
   {
    "duration": 199,
    "start_time": "2023-09-12T17:58:24.084Z"
   },
   {
    "duration": 2,
    "start_time": "2023-09-12T17:58:38.492Z"
   },
   {
    "duration": 21,
    "start_time": "2023-09-12T17:58:41.935Z"
   },
   {
    "duration": 6,
    "start_time": "2023-09-12T17:59:01.103Z"
   },
   {
    "duration": 755,
    "start_time": "2023-09-12T17:59:23.739Z"
   },
   {
    "duration": 57,
    "start_time": "2023-09-12T17:59:24.496Z"
   },
   {
    "duration": 15,
    "start_time": "2023-09-12T17:59:24.555Z"
   },
   {
    "duration": 2110,
    "start_time": "2023-09-12T17:59:24.572Z"
   },
   {
    "duration": 10,
    "start_time": "2023-09-12T17:59:26.684Z"
   },
   {
    "duration": 37,
    "start_time": "2023-09-12T17:59:26.696Z"
   },
   {
    "duration": 9,
    "start_time": "2023-09-12T17:59:26.735Z"
   },
   {
    "duration": 13,
    "start_time": "2023-09-12T17:59:26.746Z"
   },
   {
    "duration": 19,
    "start_time": "2023-09-12T17:59:26.761Z"
   },
   {
    "duration": 30,
    "start_time": "2023-09-12T17:59:26.783Z"
   },
   {
    "duration": 39,
    "start_time": "2023-09-12T17:59:26.814Z"
   },
   {
    "duration": 26,
    "start_time": "2023-09-12T17:59:26.855Z"
   },
   {
    "duration": 15,
    "start_time": "2023-09-12T17:59:26.883Z"
   },
   {
    "duration": 31,
    "start_time": "2023-09-12T17:59:26.900Z"
   },
   {
    "duration": 13,
    "start_time": "2023-09-12T17:59:26.933Z"
   },
   {
    "duration": 3,
    "start_time": "2023-09-12T17:59:26.948Z"
   },
   {
    "duration": 36,
    "start_time": "2023-09-12T17:59:26.953Z"
   },
   {
    "duration": 200,
    "start_time": "2023-09-12T18:00:11.684Z"
   },
   {
    "duration": 29,
    "start_time": "2023-09-12T18:00:15.894Z"
   },
   {
    "duration": 319,
    "start_time": "2023-09-12T18:06:45.830Z"
   },
   {
    "duration": 31,
    "start_time": "2023-09-12T18:06:49.652Z"
   },
   {
    "duration": 706,
    "start_time": "2023-09-12T18:07:08.279Z"
   },
   {
    "duration": 58,
    "start_time": "2023-09-12T18:07:08.987Z"
   },
   {
    "duration": 19,
    "start_time": "2023-09-12T18:07:09.047Z"
   },
   {
    "duration": 2073,
    "start_time": "2023-09-12T18:07:09.069Z"
   },
   {
    "duration": 10,
    "start_time": "2023-09-12T18:07:11.144Z"
   },
   {
    "duration": 14,
    "start_time": "2023-09-12T18:07:11.155Z"
   },
   {
    "duration": 5,
    "start_time": "2023-09-12T18:07:11.171Z"
   },
   {
    "duration": 6,
    "start_time": "2023-09-12T18:07:11.178Z"
   },
   {
    "duration": 10,
    "start_time": "2023-09-12T18:07:11.186Z"
   },
   {
    "duration": 38,
    "start_time": "2023-09-12T18:07:11.198Z"
   },
   {
    "duration": 28,
    "start_time": "2023-09-12T18:07:11.238Z"
   },
   {
    "duration": 18,
    "start_time": "2023-09-12T18:07:11.268Z"
   },
   {
    "duration": 14,
    "start_time": "2023-09-12T18:07:11.288Z"
   },
   {
    "duration": 20,
    "start_time": "2023-09-12T18:07:11.325Z"
   },
   {
    "duration": 5,
    "start_time": "2023-09-12T18:07:11.347Z"
   },
   {
    "duration": 285,
    "start_time": "2023-09-12T18:07:11.354Z"
   },
   {
    "duration": 20,
    "start_time": "2023-09-12T18:07:11.641Z"
   },
   {
    "duration": 788,
    "start_time": "2023-09-12T18:12:17.535Z"
   },
   {
    "duration": 51,
    "start_time": "2023-09-12T18:12:18.338Z"
   },
   {
    "duration": 68,
    "start_time": "2023-09-12T18:12:18.390Z"
   },
   {
    "duration": 2238,
    "start_time": "2023-09-12T18:12:18.459Z"
   },
   {
    "duration": 10,
    "start_time": "2023-09-12T18:12:20.699Z"
   },
   {
    "duration": 25,
    "start_time": "2023-09-12T18:12:20.711Z"
   },
   {
    "duration": 6,
    "start_time": "2023-09-12T18:12:20.738Z"
   },
   {
    "duration": 23,
    "start_time": "2023-09-12T18:12:20.745Z"
   },
   {
    "duration": 26,
    "start_time": "2023-09-12T18:12:20.770Z"
   },
   {
    "duration": 24,
    "start_time": "2023-09-12T18:12:20.798Z"
   },
   {
    "duration": 35,
    "start_time": "2023-09-12T18:12:20.823Z"
   },
   {
    "duration": 43,
    "start_time": "2023-09-12T18:12:20.860Z"
   },
   {
    "duration": 27,
    "start_time": "2023-09-12T18:12:20.904Z"
   },
   {
    "duration": 23,
    "start_time": "2023-09-12T18:12:20.933Z"
   },
   {
    "duration": 48,
    "start_time": "2023-09-12T18:12:20.957Z"
   },
   {
    "duration": 262,
    "start_time": "2023-09-12T18:12:21.007Z"
   },
   {
    "duration": 20,
    "start_time": "2023-09-12T18:12:21.271Z"
   },
   {
    "duration": 234,
    "start_time": "2023-09-12T18:13:08.986Z"
   },
   {
    "duration": 24,
    "start_time": "2023-09-12T18:13:12.530Z"
   },
   {
    "duration": 8,
    "start_time": "2023-09-12T18:13:46.041Z"
   },
   {
    "duration": 4,
    "start_time": "2023-09-12T18:20:31.700Z"
   },
   {
    "duration": 44,
    "start_time": "2023-09-12T18:20:43.851Z"
   },
   {
    "duration": 4,
    "start_time": "2023-09-12T18:22:28.067Z"
   },
   {
    "duration": 46,
    "start_time": "2023-09-12T18:22:30.842Z"
   },
   {
    "duration": 4,
    "start_time": "2023-09-12T18:22:51.369Z"
   },
   {
    "duration": 51,
    "start_time": "2023-09-12T18:22:54.486Z"
   },
   {
    "duration": 4,
    "start_time": "2023-09-12T18:23:08.980Z"
   },
   {
    "duration": 44,
    "start_time": "2023-09-12T18:23:11.739Z"
   },
   {
    "duration": 5,
    "start_time": "2023-09-12T18:23:33.812Z"
   },
   {
    "duration": 42,
    "start_time": "2023-09-12T18:23:34.913Z"
   },
   {
    "duration": 4,
    "start_time": "2023-09-12T18:23:52.740Z"
   },
   {
    "duration": 42,
    "start_time": "2023-09-12T18:23:55.156Z"
   },
   {
    "duration": 4,
    "start_time": "2023-09-12T18:24:04.064Z"
   },
   {
    "duration": 79,
    "start_time": "2023-09-12T18:24:16.166Z"
   },
   {
    "duration": 78,
    "start_time": "2023-09-12T18:26:27.735Z"
   },
   {
    "duration": 76,
    "start_time": "2023-09-12T18:26:34.258Z"
   },
   {
    "duration": 87,
    "start_time": "2023-09-12T18:26:40.875Z"
   },
   {
    "duration": 86,
    "start_time": "2023-09-12T18:29:20.053Z"
   },
   {
    "duration": 102,
    "start_time": "2023-09-12T18:29:25.845Z"
   },
   {
    "duration": 4,
    "start_time": "2023-09-12T18:29:47.330Z"
   },
   {
    "duration": 41,
    "start_time": "2023-09-12T18:29:49.356Z"
   },
   {
    "duration": 17,
    "start_time": "2023-09-12T18:34:49.736Z"
   },
   {
    "duration": 4,
    "start_time": "2023-09-12T18:34:55.791Z"
   },
   {
    "duration": 7,
    "start_time": "2023-09-12T18:36:12.758Z"
   },
   {
    "duration": 45,
    "start_time": "2023-09-12T18:36:14.045Z"
   },
   {
    "duration": 6,
    "start_time": "2023-09-12T18:39:45.088Z"
   },
   {
    "duration": 7,
    "start_time": "2023-09-12T18:39:45.840Z"
   },
   {
    "duration": 42,
    "start_time": "2023-09-12T18:39:46.677Z"
   },
   {
    "duration": 3,
    "start_time": "2023-09-12T18:43:43.592Z"
   },
   {
    "duration": 45,
    "start_time": "2023-09-12T18:43:44.924Z"
   },
   {
    "duration": 3,
    "start_time": "2023-09-12T18:45:14.807Z"
   },
   {
    "duration": 82,
    "start_time": "2023-09-12T18:45:36.590Z"
   },
   {
    "duration": 3,
    "start_time": "2023-09-12T18:47:06.735Z"
   },
   {
    "duration": 8,
    "start_time": "2023-09-12T18:54:44.680Z"
   },
   {
    "duration": 8,
    "start_time": "2023-09-12T18:55:17.607Z"
   },
   {
    "duration": 3,
    "start_time": "2023-09-12T18:55:29.802Z"
   },
   {
    "duration": 1463,
    "start_time": "2023-09-12T18:55:31.189Z"
   },
   {
    "duration": 3,
    "start_time": "2023-09-12T18:56:28.754Z"
   },
   {
    "duration": 4,
    "start_time": "2023-09-12T18:56:35.567Z"
   },
   {
    "duration": 379,
    "start_time": "2023-09-12T18:56:40.790Z"
   },
   {
    "duration": 39,
    "start_time": "2023-09-12T18:56:43.964Z"
   },
   {
    "duration": 26,
    "start_time": "2023-09-12T18:57:19.136Z"
   },
   {
    "duration": 1302,
    "start_time": "2023-09-12T18:57:39.736Z"
   },
   {
    "duration": 1056,
    "start_time": "2023-09-12T18:57:49.134Z"
   },
   {
    "duration": 425,
    "start_time": "2023-09-12T18:58:07.202Z"
   },
   {
    "duration": 31,
    "start_time": "2023-09-12T18:58:13.415Z"
   },
   {
    "duration": 3,
    "start_time": "2023-09-12T19:03:15.860Z"
   },
   {
    "duration": 4,
    "start_time": "2023-09-12T19:03:37.653Z"
   },
   {
    "duration": 732,
    "start_time": "2023-09-12T19:03:47.473Z"
   },
   {
    "duration": 49,
    "start_time": "2023-09-12T19:03:48.207Z"
   },
   {
    "duration": 16,
    "start_time": "2023-09-12T19:03:48.259Z"
   },
   {
    "duration": 2025,
    "start_time": "2023-09-12T19:03:48.277Z"
   },
   {
    "duration": 10,
    "start_time": "2023-09-12T19:03:50.304Z"
   },
   {
    "duration": 70,
    "start_time": "2023-09-12T19:03:50.315Z"
   },
   {
    "duration": 7,
    "start_time": "2023-09-12T19:03:50.387Z"
   },
   {
    "duration": 23,
    "start_time": "2023-09-12T19:03:50.395Z"
   },
   {
    "duration": 19,
    "start_time": "2023-09-12T19:03:50.419Z"
   },
   {
    "duration": 34,
    "start_time": "2023-09-12T19:03:50.441Z"
   },
   {
    "duration": 90,
    "start_time": "2023-09-12T19:03:50.476Z"
   },
   {
    "duration": 31,
    "start_time": "2023-09-12T19:03:50.568Z"
   },
   {
    "duration": 83,
    "start_time": "2023-09-12T19:03:50.601Z"
   },
   {
    "duration": 76,
    "start_time": "2023-09-12T19:03:50.686Z"
   },
   {
    "duration": 90,
    "start_time": "2023-09-12T19:03:50.763Z"
   },
   {
    "duration": 198,
    "start_time": "2023-09-12T19:03:50.855Z"
   },
   {
    "duration": 267,
    "start_time": "2023-09-12T19:03:51.055Z"
   },
   {
    "duration": 19,
    "start_time": "2023-09-12T19:03:51.324Z"
   },
   {
    "duration": 88,
    "start_time": "2023-09-12T19:03:51.345Z"
   },
   {
    "duration": 38,
    "start_time": "2023-09-12T19:03:51.435Z"
   },
   {
    "duration": 37,
    "start_time": "2023-09-12T19:03:51.475Z"
   },
   {
    "duration": 27,
    "start_time": "2023-09-12T19:03:51.513Z"
   },
   {
    "duration": 64,
    "start_time": "2023-09-12T19:03:51.542Z"
   },
   {
    "duration": 18,
    "start_time": "2023-09-12T19:03:51.608Z"
   },
   {
    "duration": 341,
    "start_time": "2023-09-12T19:03:51.628Z"
   },
   {
    "duration": 86,
    "start_time": "2023-09-12T19:03:51.971Z"
   },
   {
    "duration": 0,
    "start_time": "2023-09-12T19:03:52.059Z"
   },
   {
    "duration": 28,
    "start_time": "2023-09-12T19:05:23.789Z"
   },
   {
    "duration": 5,
    "start_time": "2023-09-12T19:06:19.539Z"
   },
   {
    "duration": 28,
    "start_time": "2023-09-12T19:06:22.038Z"
   },
   {
    "duration": 56,
    "start_time": "2023-09-15T15:53:41.755Z"
   },
   {
    "duration": 1189,
    "start_time": "2023-09-15T15:53:54.530Z"
   },
   {
    "duration": 54,
    "start_time": "2023-09-15T15:53:55.721Z"
   },
   {
    "duration": 16,
    "start_time": "2023-09-15T15:53:55.777Z"
   },
   {
    "duration": 2036,
    "start_time": "2023-09-15T15:53:55.802Z"
   },
   {
    "duration": 10,
    "start_time": "2023-09-15T15:53:57.840Z"
   },
   {
    "duration": 25,
    "start_time": "2023-09-15T15:53:57.852Z"
   },
   {
    "duration": 59,
    "start_time": "2023-09-15T15:53:57.878Z"
   },
   {
    "duration": 88,
    "start_time": "2023-09-15T15:53:57.938Z"
   },
   {
    "duration": 58,
    "start_time": "2023-09-15T15:53:58.029Z"
   },
   {
    "duration": 62,
    "start_time": "2023-09-15T15:53:58.090Z"
   },
   {
    "duration": 117,
    "start_time": "2023-09-15T15:53:58.154Z"
   },
   {
    "duration": 90,
    "start_time": "2023-09-15T15:53:58.273Z"
   },
   {
    "duration": 56,
    "start_time": "2023-09-15T15:53:58.364Z"
   },
   {
    "duration": 25,
    "start_time": "2023-09-15T15:53:58.422Z"
   },
   {
    "duration": 30,
    "start_time": "2023-09-15T15:53:58.448Z"
   },
   {
    "duration": 21,
    "start_time": "2023-09-15T15:53:58.480Z"
   },
   {
    "duration": 262,
    "start_time": "2023-09-15T15:53:58.503Z"
   },
   {
    "duration": 22,
    "start_time": "2023-09-15T15:53:58.767Z"
   },
   {
    "duration": 7,
    "start_time": "2023-09-15T15:53:58.801Z"
   },
   {
    "duration": 11,
    "start_time": "2023-09-15T15:53:58.809Z"
   },
   {
    "duration": 15,
    "start_time": "2023-09-15T15:53:58.822Z"
   },
   {
    "duration": 21,
    "start_time": "2023-09-15T15:53:58.839Z"
   },
   {
    "duration": 28,
    "start_time": "2023-09-15T15:53:58.862Z"
   },
   {
    "duration": 14,
    "start_time": "2023-09-15T15:53:58.892Z"
   },
   {
    "duration": 401,
    "start_time": "2023-09-15T15:53:58.908Z"
   },
   {
    "duration": 5,
    "start_time": "2023-09-15T15:53:59.311Z"
   },
   {
    "duration": 54,
    "start_time": "2023-09-15T15:53:59.318Z"
   },
   {
    "duration": 162,
    "start_time": "2023-09-15T15:53:59.376Z"
   },
   {
    "duration": 232,
    "start_time": "2023-09-15T15:54:41.646Z"
   },
   {
    "duration": 216,
    "start_time": "2023-09-15T15:54:53.093Z"
   },
   {
    "duration": 178,
    "start_time": "2023-09-15T15:55:00.808Z"
   },
   {
    "duration": 148,
    "start_time": "2023-09-15T15:56:50.760Z"
   },
   {
    "duration": 221,
    "start_time": "2023-09-15T15:57:07.883Z"
   },
   {
    "duration": 255,
    "start_time": "2023-09-15T15:58:30.893Z"
   },
   {
    "duration": 195,
    "start_time": "2023-09-15T15:58:39.665Z"
   },
   {
    "duration": 10,
    "start_time": "2023-09-15T16:07:59.146Z"
   },
   {
    "duration": 242,
    "start_time": "2023-09-15T16:10:55.486Z"
   },
   {
    "duration": 1582,
    "start_time": "2023-09-15T16:11:03.240Z"
   },
   {
    "duration": 390,
    "start_time": "2023-09-15T16:11:07.773Z"
   },
   {
    "duration": 251,
    "start_time": "2023-09-15T16:11:18.280Z"
   },
   {
    "duration": 7,
    "start_time": "2023-09-15T16:19:10.255Z"
   },
   {
    "duration": 10,
    "start_time": "2023-09-15T16:19:17.067Z"
   },
   {
    "duration": 246,
    "start_time": "2023-09-15T16:21:59.742Z"
   },
   {
    "duration": 269,
    "start_time": "2023-09-15T16:22:25.106Z"
   },
   {
    "duration": 291,
    "start_time": "2023-09-15T16:22:33.212Z"
   },
   {
    "duration": 296,
    "start_time": "2023-09-15T16:23:04.741Z"
   },
   {
    "duration": 405,
    "start_time": "2023-09-15T16:23:11.758Z"
   },
   {
    "duration": 303,
    "start_time": "2023-09-15T16:26:48.442Z"
   },
   {
    "duration": 11,
    "start_time": "2023-09-15T16:38:51.450Z"
   },
   {
    "duration": 71,
    "start_time": "2023-09-16T13:07:53.725Z"
   },
   {
    "duration": 1071,
    "start_time": "2023-09-16T13:08:05.839Z"
   },
   {
    "duration": 71,
    "start_time": "2023-09-16T13:08:06.913Z"
   },
   {
    "duration": 17,
    "start_time": "2023-09-16T13:08:06.985Z"
   },
   {
    "duration": 2193,
    "start_time": "2023-09-16T13:08:07.004Z"
   },
   {
    "duration": 9,
    "start_time": "2023-09-16T13:08:09.199Z"
   },
   {
    "duration": 26,
    "start_time": "2023-09-16T13:08:09.209Z"
   },
   {
    "duration": 15,
    "start_time": "2023-09-16T13:08:09.236Z"
   },
   {
    "duration": 8,
    "start_time": "2023-09-16T13:08:09.254Z"
   },
   {
    "duration": 14,
    "start_time": "2023-09-16T13:08:09.264Z"
   },
   {
    "duration": 6,
    "start_time": "2023-09-16T13:08:09.280Z"
   },
   {
    "duration": 13,
    "start_time": "2023-09-16T13:08:09.287Z"
   },
   {
    "duration": 48,
    "start_time": "2023-09-16T13:08:09.302Z"
   },
   {
    "duration": 26,
    "start_time": "2023-09-16T13:08:09.351Z"
   },
   {
    "duration": 12,
    "start_time": "2023-09-16T13:08:09.379Z"
   },
   {
    "duration": 19,
    "start_time": "2023-09-16T13:08:09.392Z"
   },
   {
    "duration": 9,
    "start_time": "2023-09-16T13:08:09.413Z"
   },
   {
    "duration": 279,
    "start_time": "2023-09-16T13:08:09.423Z"
   },
   {
    "duration": 17,
    "start_time": "2023-09-16T13:08:09.703Z"
   },
   {
    "duration": 5,
    "start_time": "2023-09-16T13:08:09.721Z"
   },
   {
    "duration": 17,
    "start_time": "2023-09-16T13:08:09.727Z"
   },
   {
    "duration": 7,
    "start_time": "2023-09-16T13:08:09.746Z"
   },
   {
    "duration": 7,
    "start_time": "2023-09-16T13:08:09.755Z"
   },
   {
    "duration": 6,
    "start_time": "2023-09-16T13:08:09.764Z"
   },
   {
    "duration": 4,
    "start_time": "2023-09-16T13:08:09.772Z"
   },
   {
    "duration": 365,
    "start_time": "2023-09-16T13:08:09.778Z"
   },
   {
    "duration": 15,
    "start_time": "2023-09-16T13:08:10.158Z"
   },
   {
    "duration": 30,
    "start_time": "2023-09-16T13:08:10.176Z"
   },
   {
    "duration": 8,
    "start_time": "2023-09-16T13:08:10.210Z"
   },
   {
    "duration": 85,
    "start_time": "2023-09-16T13:08:10.220Z"
   },
   {
    "duration": 0,
    "start_time": "2023-09-16T13:08:10.307Z"
   },
   {
    "duration": 0,
    "start_time": "2023-09-16T13:08:10.308Z"
   },
   {
    "duration": 0,
    "start_time": "2023-09-16T13:08:10.309Z"
   },
   {
    "duration": 0,
    "start_time": "2023-09-16T13:08:10.311Z"
   },
   {
    "duration": 0,
    "start_time": "2023-09-16T13:08:10.312Z"
   },
   {
    "duration": 8,
    "start_time": "2023-09-16T13:08:47.383Z"
   },
   {
    "duration": 115,
    "start_time": "2023-09-16T13:15:33.062Z"
   },
   {
    "duration": 134,
    "start_time": "2023-09-16T13:16:00.626Z"
   },
   {
    "duration": 116,
    "start_time": "2023-09-16T13:16:08.406Z"
   },
   {
    "duration": 449,
    "start_time": "2023-09-16T13:16:30.710Z"
   },
   {
    "duration": 125,
    "start_time": "2023-09-16T13:16:55.526Z"
   },
   {
    "duration": 131,
    "start_time": "2023-09-16T13:18:21.377Z"
   },
   {
    "duration": 165,
    "start_time": "2023-09-16T13:19:08.896Z"
   },
   {
    "duration": 151,
    "start_time": "2023-09-16T13:19:20.136Z"
   },
   {
    "duration": 141,
    "start_time": "2023-09-16T13:19:30.962Z"
   },
   {
    "duration": 160,
    "start_time": "2023-09-16T13:19:36.643Z"
   },
   {
    "duration": 122,
    "start_time": "2023-09-16T13:19:40.920Z"
   },
   {
    "duration": 339,
    "start_time": "2023-09-16T13:20:15.191Z"
   },
   {
    "duration": 354,
    "start_time": "2023-09-16T13:20:34.401Z"
   },
   {
    "duration": 119,
    "start_time": "2023-09-16T13:23:47.189Z"
   },
   {
    "duration": 142,
    "start_time": "2023-09-16T13:24:02.659Z"
   },
   {
    "duration": 116,
    "start_time": "2023-09-16T13:24:09.232Z"
   },
   {
    "duration": 107,
    "start_time": "2023-09-16T13:24:15.992Z"
   },
   {
    "duration": 135,
    "start_time": "2023-09-16T13:24:28.945Z"
   },
   {
    "duration": 129,
    "start_time": "2023-09-16T13:24:32.969Z"
   },
   {
    "duration": 127,
    "start_time": "2023-09-16T13:25:54.334Z"
   },
   {
    "duration": 143,
    "start_time": "2023-09-16T13:26:10.218Z"
   },
   {
    "duration": 124,
    "start_time": "2023-09-16T13:26:15.354Z"
   },
   {
    "duration": 144,
    "start_time": "2023-09-16T13:26:34.951Z"
   },
   {
    "duration": 140,
    "start_time": "2023-09-16T13:26:43.042Z"
   },
   {
    "duration": 121,
    "start_time": "2023-09-16T13:26:46.371Z"
   },
   {
    "duration": 207,
    "start_time": "2023-09-16T13:26:53.059Z"
   },
   {
    "duration": 116,
    "start_time": "2023-09-16T13:28:51.442Z"
   },
   {
    "duration": 276,
    "start_time": "2023-09-16T13:31:36.865Z"
   },
   {
    "duration": 348,
    "start_time": "2023-09-16T13:32:33.967Z"
   },
   {
    "duration": 9,
    "start_time": "2023-09-16T13:32:58.413Z"
   },
   {
    "duration": 146,
    "start_time": "2023-09-16T13:33:29.573Z"
   },
   {
    "duration": 274,
    "start_time": "2023-09-16T13:34:49.432Z"
   },
   {
    "duration": 252,
    "start_time": "2023-09-16T13:35:18.268Z"
   },
   {
    "duration": 415,
    "start_time": "2023-09-16T13:35:29.406Z"
   },
   {
    "duration": 10,
    "start_time": "2023-09-16T13:36:11.062Z"
   },
   {
    "duration": 196,
    "start_time": "2023-09-16T13:36:24.283Z"
   },
   {
    "duration": 12,
    "start_time": "2023-09-16T13:39:12.452Z"
   },
   {
    "duration": 8,
    "start_time": "2023-09-16T13:40:30.449Z"
   },
   {
    "duration": 10,
    "start_time": "2023-09-16T13:42:30.068Z"
   },
   {
    "duration": 8,
    "start_time": "2023-09-16T13:42:43.560Z"
   },
   {
    "duration": 8,
    "start_time": "2023-09-16T13:42:53.983Z"
   },
   {
    "duration": 19,
    "start_time": "2023-09-16T13:43:04.343Z"
   },
   {
    "duration": 7,
    "start_time": "2023-09-16T13:43:15.225Z"
   },
   {
    "duration": 8,
    "start_time": "2023-09-16T13:44:07.589Z"
   },
   {
    "duration": 9,
    "start_time": "2023-09-16T13:44:15.622Z"
   },
   {
    "duration": 7,
    "start_time": "2023-09-16T13:44:23.427Z"
   },
   {
    "duration": 7,
    "start_time": "2023-09-16T13:44:28.565Z"
   },
   {
    "duration": 8,
    "start_time": "2023-09-16T13:45:44.463Z"
   },
   {
    "duration": 7,
    "start_time": "2023-09-16T13:45:58.205Z"
   },
   {
    "duration": 11,
    "start_time": "2023-09-16T13:47:44.196Z"
   },
   {
    "duration": 17,
    "start_time": "2023-09-16T13:48:09.141Z"
   },
   {
    "duration": 9,
    "start_time": "2023-09-16T13:48:19.749Z"
   },
   {
    "duration": 8,
    "start_time": "2023-09-16T13:52:43.610Z"
   },
   {
    "duration": 6,
    "start_time": "2023-09-16T13:52:50.987Z"
   },
   {
    "duration": 218,
    "start_time": "2023-09-16T13:53:04.288Z"
   },
   {
    "duration": 10,
    "start_time": "2023-09-16T13:54:22.663Z"
   },
   {
    "duration": 7,
    "start_time": "2023-09-16T13:54:26.957Z"
   },
   {
    "duration": 7,
    "start_time": "2023-09-16T13:54:30.724Z"
   },
   {
    "duration": 9,
    "start_time": "2023-09-16T13:54:34.206Z"
   },
   {
    "duration": 6,
    "start_time": "2023-09-16T13:54:42.972Z"
   },
   {
    "duration": 7,
    "start_time": "2023-09-16T13:54:46.073Z"
   },
   {
    "duration": 273,
    "start_time": "2023-09-16T13:54:51.022Z"
   },
   {
    "duration": 7,
    "start_time": "2023-09-16T13:55:24.984Z"
   },
   {
    "duration": 8,
    "start_time": "2023-09-16T13:55:27.571Z"
   },
   {
    "duration": 7,
    "start_time": "2023-09-16T13:55:52.785Z"
   },
   {
    "duration": 7,
    "start_time": "2023-09-16T13:56:00.774Z"
   },
   {
    "duration": 7,
    "start_time": "2023-09-16T13:56:04.764Z"
   },
   {
    "duration": 7,
    "start_time": "2023-09-16T13:56:15.730Z"
   },
   {
    "duration": 8,
    "start_time": "2023-09-16T13:56:34.880Z"
   },
   {
    "duration": 7,
    "start_time": "2023-09-16T13:56:39.657Z"
   },
   {
    "duration": 7,
    "start_time": "2023-09-16T13:56:43.713Z"
   },
   {
    "duration": 7,
    "start_time": "2023-09-16T13:56:45.864Z"
   },
   {
    "duration": 7,
    "start_time": "2023-09-16T13:56:51.008Z"
   },
   {
    "duration": 8,
    "start_time": "2023-09-16T13:58:36.527Z"
   },
   {
    "duration": 8,
    "start_time": "2023-09-16T13:59:01.422Z"
   },
   {
    "duration": 8,
    "start_time": "2023-09-16T13:59:06.670Z"
   },
   {
    "duration": 9,
    "start_time": "2023-09-16T13:59:12.010Z"
   },
   {
    "duration": 262,
    "start_time": "2023-09-16T13:59:15.261Z"
   },
   {
    "duration": 7,
    "start_time": "2023-09-16T13:59:26.861Z"
   },
   {
    "duration": 10,
    "start_time": "2023-09-16T13:59:37.065Z"
   },
   {
    "duration": 8,
    "start_time": "2023-09-16T13:59:56.177Z"
   },
   {
    "duration": 278,
    "start_time": "2023-09-16T14:00:00.931Z"
   },
   {
    "duration": 6,
    "start_time": "2023-09-16T14:00:09.830Z"
   },
   {
    "duration": 6,
    "start_time": "2023-09-16T14:00:15.484Z"
   },
   {
    "duration": 298,
    "start_time": "2023-09-16T14:00:35.558Z"
   },
   {
    "duration": 158,
    "start_time": "2023-09-16T14:00:45.290Z"
   },
   {
    "duration": 7,
    "start_time": "2023-09-16T14:12:34.332Z"
   },
   {
    "duration": 7,
    "start_time": "2023-09-16T14:15:50.601Z"
   },
   {
    "duration": 10,
    "start_time": "2023-09-16T14:16:06.797Z"
   },
   {
    "duration": 7,
    "start_time": "2023-09-16T14:16:33.168Z"
   },
   {
    "duration": 8,
    "start_time": "2023-09-16T14:16:39.065Z"
   },
   {
    "duration": 8,
    "start_time": "2023-09-16T14:16:42.757Z"
   },
   {
    "duration": 729,
    "start_time": "2023-09-16T14:16:59.759Z"
   },
   {
    "duration": 47,
    "start_time": "2023-09-16T14:17:00.490Z"
   },
   {
    "duration": 22,
    "start_time": "2023-09-16T14:17:00.545Z"
   },
   {
    "duration": 1897,
    "start_time": "2023-09-16T14:17:00.569Z"
   },
   {
    "duration": 9,
    "start_time": "2023-09-16T14:17:02.468Z"
   },
   {
    "duration": 20,
    "start_time": "2023-09-16T14:17:02.479Z"
   },
   {
    "duration": 6,
    "start_time": "2023-09-16T14:17:02.500Z"
   },
   {
    "duration": 27,
    "start_time": "2023-09-16T14:17:02.507Z"
   },
   {
    "duration": 14,
    "start_time": "2023-09-16T14:17:02.536Z"
   },
   {
    "duration": 5,
    "start_time": "2023-09-16T14:17:02.553Z"
   },
   {
    "duration": 20,
    "start_time": "2023-09-16T14:17:02.560Z"
   },
   {
    "duration": 23,
    "start_time": "2023-09-16T14:17:02.581Z"
   },
   {
    "duration": 25,
    "start_time": "2023-09-16T14:17:02.606Z"
   },
   {
    "duration": 23,
    "start_time": "2023-09-16T14:17:02.633Z"
   },
   {
    "duration": 18,
    "start_time": "2023-09-16T14:17:02.657Z"
   },
   {
    "duration": 5,
    "start_time": "2023-09-16T14:17:02.677Z"
   },
   {
    "duration": 239,
    "start_time": "2023-09-16T14:17:02.684Z"
   },
   {
    "duration": 26,
    "start_time": "2023-09-16T14:17:02.925Z"
   },
   {
    "duration": 5,
    "start_time": "2023-09-16T14:17:02.953Z"
   },
   {
    "duration": 29,
    "start_time": "2023-09-16T14:17:02.959Z"
   },
   {
    "duration": 24,
    "start_time": "2023-09-16T14:17:02.990Z"
   },
   {
    "duration": 9,
    "start_time": "2023-09-16T14:17:03.015Z"
   },
   {
    "duration": 21,
    "start_time": "2023-09-16T14:17:03.026Z"
   },
   {
    "duration": 21,
    "start_time": "2023-09-16T14:17:03.048Z"
   },
   {
    "duration": 318,
    "start_time": "2023-09-16T14:17:03.071Z"
   },
   {
    "duration": 4,
    "start_time": "2023-09-16T14:17:03.391Z"
   },
   {
    "duration": 34,
    "start_time": "2023-09-16T14:17:03.396Z"
   },
   {
    "duration": 12,
    "start_time": "2023-09-16T14:17:03.433Z"
   },
   {
    "duration": 118,
    "start_time": "2023-09-16T14:17:03.446Z"
   },
   {
    "duration": 9,
    "start_time": "2023-09-16T14:17:03.566Z"
   },
   {
    "duration": 8,
    "start_time": "2023-09-16T14:17:03.576Z"
   },
   {
    "duration": 246,
    "start_time": "2023-09-16T14:17:03.585Z"
   },
   {
    "duration": 16,
    "start_time": "2023-09-16T14:17:03.833Z"
   },
   {
    "duration": 205,
    "start_time": "2023-09-16T14:17:03.850Z"
   },
   {
    "duration": 8,
    "start_time": "2023-09-16T14:17:04.057Z"
   },
   {
    "duration": 9,
    "start_time": "2023-09-16T14:17:04.066Z"
   },
   {
    "duration": 322,
    "start_time": "2023-09-16T14:17:04.076Z"
   },
   {
    "duration": 9,
    "start_time": "2023-09-16T14:17:04.401Z"
   },
   {
    "duration": 135,
    "start_time": "2023-09-16T14:17:04.411Z"
   },
   {
    "duration": 8,
    "start_time": "2023-09-16T14:17:04.548Z"
   },
   {
    "duration": 7,
    "start_time": "2023-09-16T14:17:04.558Z"
   },
   {
    "duration": 201,
    "start_time": "2023-09-16T14:17:04.567Z"
   },
   {
    "duration": 8,
    "start_time": "2023-09-16T14:17:04.769Z"
   },
   {
    "duration": 266,
    "start_time": "2023-09-16T14:18:31.697Z"
   },
   {
    "duration": 137,
    "start_time": "2023-09-16T14:21:40.800Z"
   },
   {
    "duration": 131,
    "start_time": "2023-09-16T14:25:08.164Z"
   },
   {
    "duration": 135,
    "start_time": "2023-09-16T14:25:19.182Z"
   },
   {
    "duration": 171,
    "start_time": "2023-09-16T14:25:30.588Z"
   },
   {
    "duration": 3,
    "start_time": "2023-09-16T14:27:33.703Z"
   },
   {
    "duration": 297,
    "start_time": "2023-09-16T14:29:25.016Z"
   },
   {
    "duration": 9,
    "start_time": "2023-09-16T14:31:48.058Z"
   },
   {
    "duration": 121,
    "start_time": "2023-09-16T14:32:21.180Z"
   },
   {
    "duration": 120,
    "start_time": "2023-09-16T14:32:26.614Z"
   },
   {
    "duration": 8,
    "start_time": "2023-09-16T14:33:08.003Z"
   },
   {
    "duration": 49,
    "start_time": "2023-09-16T14:33:11.856Z"
   },
   {
    "duration": 7,
    "start_time": "2023-09-16T14:33:17.946Z"
   },
   {
    "duration": 8,
    "start_time": "2023-09-16T14:33:26.980Z"
   },
   {
    "duration": 8,
    "start_time": "2023-09-16T14:33:32.191Z"
   },
   {
    "duration": 8,
    "start_time": "2023-09-16T14:33:35.376Z"
   },
   {
    "duration": 9,
    "start_time": "2023-09-16T14:33:37.581Z"
   },
   {
    "duration": 8,
    "start_time": "2023-09-16T14:33:41.212Z"
   },
   {
    "duration": 7,
    "start_time": "2023-09-16T14:33:51.295Z"
   },
   {
    "duration": 62,
    "start_time": "2023-09-16T14:33:53.304Z"
   },
   {
    "duration": 7,
    "start_time": "2023-09-16T14:33:57.972Z"
   },
   {
    "duration": 8,
    "start_time": "2023-09-16T14:34:05.146Z"
   },
   {
    "duration": 8,
    "start_time": "2023-09-16T14:34:08.214Z"
   },
   {
    "duration": 44,
    "start_time": "2023-09-16T14:34:14.102Z"
   },
   {
    "duration": 7,
    "start_time": "2023-09-16T14:34:18.194Z"
   },
   {
    "duration": 7,
    "start_time": "2023-09-16T14:34:25.390Z"
   },
   {
    "duration": 9,
    "start_time": "2023-09-16T14:34:30.673Z"
   },
   {
    "duration": 129,
    "start_time": "2023-09-16T14:35:19.956Z"
   },
   {
    "duration": 138,
    "start_time": "2023-09-16T14:35:31.037Z"
   },
   {
    "duration": 4,
    "start_time": "2023-09-16T14:39:46.834Z"
   },
   {
    "duration": 3,
    "start_time": "2023-09-16T14:40:34.060Z"
   },
   {
    "duration": 9,
    "start_time": "2023-09-16T14:43:49.241Z"
   },
   {
    "duration": 1600,
    "start_time": "2023-09-16T14:46:54.158Z"
   },
   {
    "duration": 9,
    "start_time": "2023-09-16T14:46:57.241Z"
   },
   {
    "duration": 108,
    "start_time": "2023-09-16T14:47:34.267Z"
   },
   {
    "duration": 101,
    "start_time": "2023-09-16T14:51:09.811Z"
   },
   {
    "duration": 11,
    "start_time": "2023-09-16T14:52:03.886Z"
   },
   {
    "duration": 8,
    "start_time": "2023-09-16T14:52:31.200Z"
   },
   {
    "duration": 9,
    "start_time": "2023-09-16T14:53:02.269Z"
   },
   {
    "duration": 115,
    "start_time": "2023-09-16T14:55:26.664Z"
   },
   {
    "duration": 120,
    "start_time": "2023-09-16T14:55:58.022Z"
   },
   {
    "duration": 7,
    "start_time": "2023-09-16T14:56:15.946Z"
   },
   {
    "duration": 98,
    "start_time": "2023-09-16T14:56:32.432Z"
   },
   {
    "duration": 96,
    "start_time": "2023-09-16T14:59:40.484Z"
   },
   {
    "duration": 97,
    "start_time": "2023-09-16T14:59:51.605Z"
   },
   {
    "duration": 100,
    "start_time": "2023-09-16T15:00:15.376Z"
   },
   {
    "duration": 107,
    "start_time": "2023-09-16T15:00:30.793Z"
   },
   {
    "duration": 167,
    "start_time": "2023-09-16T15:00:39.396Z"
   },
   {
    "duration": 23,
    "start_time": "2023-09-16T15:02:17.960Z"
   },
   {
    "duration": 27,
    "start_time": "2023-09-16T15:02:45.555Z"
   },
   {
    "duration": 31,
    "start_time": "2023-09-16T15:03:03.022Z"
   },
   {
    "duration": 27,
    "start_time": "2023-09-16T15:03:43.634Z"
   },
   {
    "duration": 31,
    "start_time": "2023-09-16T15:03:50.929Z"
   },
   {
    "duration": 40,
    "start_time": "2023-09-16T15:04:18.897Z"
   },
   {
    "duration": 9,
    "start_time": "2023-09-16T15:04:46.423Z"
   },
   {
    "duration": 10,
    "start_time": "2023-09-16T15:05:24.160Z"
   },
   {
    "duration": 8,
    "start_time": "2023-09-16T15:05:31.079Z"
   },
   {
    "duration": 8,
    "start_time": "2023-09-16T15:05:49.190Z"
   },
   {
    "duration": 8,
    "start_time": "2023-09-16T15:06:40.903Z"
   },
   {
    "duration": 102,
    "start_time": "2023-09-16T15:09:28.415Z"
   },
   {
    "duration": 98,
    "start_time": "2023-09-16T15:09:43.672Z"
   },
   {
    "duration": 87,
    "start_time": "2023-09-16T15:10:25.082Z"
   },
   {
    "duration": 6,
    "start_time": "2023-09-16T15:10:38.546Z"
   },
   {
    "duration": 9,
    "start_time": "2023-09-16T15:10:55.943Z"
   },
   {
    "duration": 8,
    "start_time": "2023-09-16T15:11:01.707Z"
   },
   {
    "duration": 87,
    "start_time": "2023-09-16T15:11:14.365Z"
   },
   {
    "duration": 60,
    "start_time": "2023-09-17T12:49:11.435Z"
   },
   {
    "duration": 1138,
    "start_time": "2023-09-17T12:49:22.083Z"
   },
   {
    "duration": 58,
    "start_time": "2023-09-17T12:49:23.223Z"
   },
   {
    "duration": 123,
    "start_time": "2023-09-17T12:49:23.283Z"
   },
   {
    "duration": 2594,
    "start_time": "2023-09-17T12:49:23.409Z"
   },
   {
    "duration": 10,
    "start_time": "2023-09-17T12:49:26.005Z"
   },
   {
    "duration": 16,
    "start_time": "2023-09-17T12:49:26.016Z"
   },
   {
    "duration": 8,
    "start_time": "2023-09-17T12:49:26.033Z"
   },
   {
    "duration": 14,
    "start_time": "2023-09-17T12:49:26.043Z"
   },
   {
    "duration": 25,
    "start_time": "2023-09-17T12:49:26.060Z"
   },
   {
    "duration": 43,
    "start_time": "2023-09-17T12:49:26.087Z"
   },
   {
    "duration": 47,
    "start_time": "2023-09-17T12:49:26.132Z"
   },
   {
    "duration": 24,
    "start_time": "2023-09-17T12:49:26.180Z"
   },
   {
    "duration": 42,
    "start_time": "2023-09-17T12:49:26.206Z"
   },
   {
    "duration": 33,
    "start_time": "2023-09-17T12:49:26.251Z"
   },
   {
    "duration": 19,
    "start_time": "2023-09-17T12:49:26.286Z"
   },
   {
    "duration": 17,
    "start_time": "2023-09-17T12:49:26.307Z"
   },
   {
    "duration": 335,
    "start_time": "2023-09-17T12:49:26.326Z"
   },
   {
    "duration": 33,
    "start_time": "2023-09-17T12:49:26.663Z"
   },
   {
    "duration": 7,
    "start_time": "2023-09-17T12:49:26.698Z"
   },
   {
    "duration": 22,
    "start_time": "2023-09-17T12:49:26.707Z"
   },
   {
    "duration": 38,
    "start_time": "2023-09-17T12:49:26.731Z"
   },
   {
    "duration": 24,
    "start_time": "2023-09-17T12:49:26.779Z"
   },
   {
    "duration": 30,
    "start_time": "2023-09-17T12:49:26.804Z"
   },
   {
    "duration": 36,
    "start_time": "2023-09-17T12:49:26.835Z"
   },
   {
    "duration": 393,
    "start_time": "2023-09-17T12:49:26.873Z"
   },
   {
    "duration": 8,
    "start_time": "2023-09-17T12:49:27.274Z"
   },
   {
    "duration": 39,
    "start_time": "2023-09-17T12:49:27.286Z"
   },
   {
    "duration": 48,
    "start_time": "2023-09-17T12:49:27.328Z"
   },
   {
    "duration": 156,
    "start_time": "2023-09-17T12:49:27.377Z"
   },
   {
    "duration": 37,
    "start_time": "2023-09-17T12:49:27.536Z"
   },
   {
    "duration": 11,
    "start_time": "2023-09-17T12:49:27.579Z"
   },
   {
    "duration": 320,
    "start_time": "2023-09-17T12:49:27.592Z"
   },
   {
    "duration": 8,
    "start_time": "2023-09-17T12:49:27.913Z"
   },
   {
    "duration": 261,
    "start_time": "2023-09-17T12:49:27.923Z"
   },
   {
    "duration": 9,
    "start_time": "2023-09-17T12:49:28.185Z"
   },
   {
    "duration": 29,
    "start_time": "2023-09-17T12:49:28.196Z"
   },
   {
    "duration": 311,
    "start_time": "2023-09-17T12:49:28.226Z"
   },
   {
    "duration": 30,
    "start_time": "2023-09-17T12:49:28.539Z"
   },
   {
    "duration": 648,
    "start_time": "2023-09-17T12:49:28.571Z"
   },
   {
    "duration": 190,
    "start_time": "2023-09-17T12:49:29.221Z"
   },
   {
    "duration": 216,
    "start_time": "2023-09-17T12:49:29.413Z"
   },
   {
    "duration": 242,
    "start_time": "2023-09-17T12:49:29.633Z"
   },
   {
    "duration": 10,
    "start_time": "2023-09-17T12:49:29.879Z"
   },
   {
    "duration": 286,
    "start_time": "2023-09-17T12:49:29.891Z"
   },
   {
    "duration": 12,
    "start_time": "2023-09-17T12:49:30.186Z"
   },
   {
    "duration": 199,
    "start_time": "2023-09-17T12:49:30.200Z"
   },
   {
    "duration": 7,
    "start_time": "2023-09-17T12:49:30.401Z"
   },
   {
    "duration": 397,
    "start_time": "2023-09-17T12:49:30.410Z"
   },
   {
    "duration": 11,
    "start_time": "2023-09-17T12:49:30.809Z"
   },
   {
    "duration": 134,
    "start_time": "2023-09-17T12:49:30.821Z"
   },
   {
    "duration": 111,
    "start_time": "2023-09-17T12:49:30.957Z"
   },
   {
    "duration": 119,
    "start_time": "2023-09-17T12:49:31.070Z"
   },
   {
    "duration": 285,
    "start_time": "2023-09-17T12:49:31.191Z"
   },
   {
    "duration": 160,
    "start_time": "2023-09-17T12:49:31.479Z"
   },
   {
    "duration": 460,
    "start_time": "2023-09-17T12:49:31.641Z"
   },
   {
    "duration": 72,
    "start_time": "2023-09-17T12:49:32.103Z"
   },
   {
    "duration": 46,
    "start_time": "2023-09-17T12:49:32.180Z"
   },
   {
    "duration": 13,
    "start_time": "2023-09-17T12:51:04.807Z"
   },
   {
    "duration": 7,
    "start_time": "2023-09-17T12:58:39.203Z"
   },
   {
    "duration": 10,
    "start_time": "2023-09-17T12:58:42.473Z"
   },
   {
    "duration": 9,
    "start_time": "2023-09-17T12:58:58.796Z"
   },
   {
    "duration": 7,
    "start_time": "2023-09-17T12:59:40.003Z"
   },
   {
    "duration": 8,
    "start_time": "2023-09-17T12:59:47.116Z"
   },
   {
    "duration": 10,
    "start_time": "2023-09-17T12:59:51.393Z"
   },
   {
    "duration": 7,
    "start_time": "2023-09-17T12:59:53.612Z"
   },
   {
    "duration": 7,
    "start_time": "2023-09-17T12:59:56.913Z"
   },
   {
    "duration": 7,
    "start_time": "2023-09-17T13:00:00.982Z"
   },
   {
    "duration": 7,
    "start_time": "2023-09-17T13:00:13.950Z"
   },
   {
    "duration": 673,
    "start_time": "2023-09-17T13:01:11.090Z"
   },
   {
    "duration": 47,
    "start_time": "2023-09-17T13:01:11.765Z"
   },
   {
    "duration": 14,
    "start_time": "2023-09-17T13:01:11.813Z"
   },
   {
    "duration": 1822,
    "start_time": "2023-09-17T13:01:11.829Z"
   },
   {
    "duration": 9,
    "start_time": "2023-09-17T13:01:13.653Z"
   },
   {
    "duration": 33,
    "start_time": "2023-09-17T13:01:13.664Z"
   },
   {
    "duration": 21,
    "start_time": "2023-09-17T13:01:13.698Z"
   },
   {
    "duration": 39,
    "start_time": "2023-09-17T13:01:13.720Z"
   },
   {
    "duration": 73,
    "start_time": "2023-09-17T13:01:13.760Z"
   },
   {
    "duration": 14,
    "start_time": "2023-09-17T13:01:13.836Z"
   },
   {
    "duration": 30,
    "start_time": "2023-09-17T13:01:13.852Z"
   },
   {
    "duration": 22,
    "start_time": "2023-09-17T13:01:13.884Z"
   },
   {
    "duration": 53,
    "start_time": "2023-09-17T13:01:13.908Z"
   },
   {
    "duration": 24,
    "start_time": "2023-09-17T13:01:13.963Z"
   },
   {
    "duration": 34,
    "start_time": "2023-09-17T13:01:13.989Z"
   },
   {
    "duration": 71,
    "start_time": "2023-09-17T13:01:14.024Z"
   },
   {
    "duration": 229,
    "start_time": "2023-09-17T13:01:14.096Z"
   },
   {
    "duration": 22,
    "start_time": "2023-09-17T13:01:14.327Z"
   },
   {
    "duration": 8,
    "start_time": "2023-09-17T13:01:14.351Z"
   },
   {
    "duration": 5,
    "start_time": "2023-09-17T13:01:14.361Z"
   },
   {
    "duration": 16,
    "start_time": "2023-09-17T13:01:14.368Z"
   },
   {
    "duration": 13,
    "start_time": "2023-09-17T13:01:14.386Z"
   },
   {
    "duration": 28,
    "start_time": "2023-09-17T13:01:14.400Z"
   },
   {
    "duration": 24,
    "start_time": "2023-09-17T13:01:14.430Z"
   },
   {
    "duration": 369,
    "start_time": "2023-09-17T13:01:14.456Z"
   },
   {
    "duration": 5,
    "start_time": "2023-09-17T13:01:14.826Z"
   },
   {
    "duration": 64,
    "start_time": "2023-09-17T13:01:14.832Z"
   },
   {
    "duration": 10,
    "start_time": "2023-09-17T13:01:14.899Z"
   },
   {
    "duration": 125,
    "start_time": "2023-09-17T13:01:14.911Z"
   },
   {
    "duration": 10,
    "start_time": "2023-09-17T13:01:15.043Z"
   },
   {
    "duration": 25,
    "start_time": "2023-09-17T13:01:15.055Z"
   },
   {
    "duration": 258,
    "start_time": "2023-09-17T13:01:15.081Z"
   },
   {
    "duration": 11,
    "start_time": "2023-09-17T13:01:15.341Z"
   },
   {
    "duration": 212,
    "start_time": "2023-09-17T13:01:15.354Z"
   },
   {
    "duration": 9,
    "start_time": "2023-09-17T13:01:15.568Z"
   },
   {
    "duration": 16,
    "start_time": "2023-09-17T13:01:15.579Z"
   },
   {
    "duration": 258,
    "start_time": "2023-09-17T13:01:15.597Z"
   },
   {
    "duration": 10,
    "start_time": "2023-09-17T13:01:15.857Z"
   },
   {
    "duration": 123,
    "start_time": "2023-09-17T13:01:15.868Z"
   },
   {
    "duration": 7,
    "start_time": "2023-09-17T13:01:15.992Z"
   },
   {
    "duration": 40,
    "start_time": "2023-09-17T13:01:16.001Z"
   },
   {
    "duration": 170,
    "start_time": "2023-09-17T13:01:16.042Z"
   },
   {
    "duration": 9,
    "start_time": "2023-09-17T13:01:16.213Z"
   },
   {
    "duration": 218,
    "start_time": "2023-09-17T13:01:16.223Z"
   },
   {
    "duration": 10,
    "start_time": "2023-09-17T13:01:16.444Z"
   },
   {
    "duration": 129,
    "start_time": "2023-09-17T13:01:16.455Z"
   },
   {
    "duration": 7,
    "start_time": "2023-09-17T13:01:16.585Z"
   },
   {
    "duration": 155,
    "start_time": "2023-09-17T13:01:16.594Z"
   },
   {
    "duration": 9,
    "start_time": "2023-09-17T13:01:16.751Z"
   },
   {
    "duration": 33,
    "start_time": "2023-09-17T13:01:16.762Z"
   },
   {
    "duration": 38,
    "start_time": "2023-09-17T13:01:16.797Z"
   },
   {
    "duration": 103,
    "start_time": "2023-09-17T13:01:16.836Z"
   },
   {
    "duration": 118,
    "start_time": "2023-09-17T13:01:16.940Z"
   },
   {
    "duration": 100,
    "start_time": "2023-09-17T13:01:17.060Z"
   },
   {
    "duration": 163,
    "start_time": "2023-09-17T13:01:17.162Z"
   },
   {
    "duration": 16,
    "start_time": "2023-09-17T13:01:17.327Z"
   },
   {
    "duration": 176,
    "start_time": "2023-09-17T13:02:21.396Z"
   },
   {
    "duration": 147,
    "start_time": "2023-09-17T13:02:32.278Z"
   },
   {
    "duration": 244,
    "start_time": "2023-09-17T13:02:39.394Z"
   },
   {
    "duration": 131,
    "start_time": "2023-09-17T13:02:45.653Z"
   },
   {
    "duration": 126,
    "start_time": "2023-09-17T13:02:50.009Z"
   },
   {
    "duration": 146,
    "start_time": "2023-09-17T13:02:56.748Z"
   },
   {
    "duration": 124,
    "start_time": "2023-09-17T13:03:00.064Z"
   },
   {
    "duration": 9,
    "start_time": "2023-09-17T13:06:51.184Z"
   },
   {
    "duration": 8,
    "start_time": "2023-09-17T13:08:38.286Z"
   },
   {
    "duration": 10,
    "start_time": "2023-09-17T13:08:42.767Z"
   },
   {
    "duration": 8,
    "start_time": "2023-09-17T13:09:12.883Z"
   },
   {
    "duration": 8,
    "start_time": "2023-09-17T13:09:33.992Z"
   },
   {
    "duration": 112,
    "start_time": "2023-09-17T13:09:42.096Z"
   },
   {
    "duration": 116,
    "start_time": "2023-09-17T13:09:56.982Z"
   },
   {
    "duration": 115,
    "start_time": "2023-09-17T13:10:05.955Z"
   },
   {
    "duration": 190,
    "start_time": "2023-09-17T13:10:11.462Z"
   },
   {
    "duration": 103,
    "start_time": "2023-09-17T13:10:17.776Z"
   },
   {
    "duration": 125,
    "start_time": "2023-09-17T13:10:33.147Z"
   },
   {
    "duration": 111,
    "start_time": "2023-09-17T13:12:44.798Z"
   },
   {
    "duration": 9,
    "start_time": "2023-09-17T13:12:54.222Z"
   },
   {
    "duration": 136,
    "start_time": "2023-09-17T13:13:05.147Z"
   },
   {
    "duration": 9,
    "start_time": "2023-09-17T13:13:09.538Z"
   },
   {
    "duration": 120,
    "start_time": "2023-09-17T13:13:15.719Z"
   },
   {
    "duration": 128,
    "start_time": "2023-09-17T13:15:39.129Z"
   },
   {
    "duration": 8,
    "start_time": "2023-09-17T13:16:47.797Z"
   },
   {
    "duration": 1362,
    "start_time": "2023-09-17T13:16:54.533Z"
   },
   {
    "duration": 9,
    "start_time": "2023-09-17T13:17:01.822Z"
   },
   {
    "duration": 157,
    "start_time": "2023-09-17T13:17:22.117Z"
   },
   {
    "duration": 95,
    "start_time": "2023-09-17T13:18:21.374Z"
   },
   {
    "duration": 227,
    "start_time": "2023-09-17T13:18:25.891Z"
   },
   {
    "duration": 152,
    "start_time": "2023-09-17T13:18:34.260Z"
   },
   {
    "duration": 150,
    "start_time": "2023-09-17T13:19:07.310Z"
   },
   {
    "duration": 150,
    "start_time": "2023-09-17T13:19:32.619Z"
   },
   {
    "duration": 148,
    "start_time": "2023-09-17T13:19:58.301Z"
   },
   {
    "duration": 8,
    "start_time": "2023-09-17T13:23:08.520Z"
   },
   {
    "duration": 113,
    "start_time": "2023-09-17T13:23:15.180Z"
   },
   {
    "duration": 200,
    "start_time": "2023-09-17T13:23:20.815Z"
   },
   {
    "duration": 8,
    "start_time": "2023-09-17T13:23:39.688Z"
   },
   {
    "duration": 187,
    "start_time": "2023-09-17T13:24:02.351Z"
   },
   {
    "duration": 7,
    "start_time": "2023-09-17T13:24:20.011Z"
   },
   {
    "duration": 7,
    "start_time": "2023-09-17T13:24:22.409Z"
   },
   {
    "duration": 152,
    "start_time": "2023-09-17T13:24:30.101Z"
   },
   {
    "duration": 9,
    "start_time": "2023-09-17T13:24:37.314Z"
   },
   {
    "duration": 9,
    "start_time": "2023-09-17T13:24:39.858Z"
   },
   {
    "duration": 145,
    "start_time": "2023-09-17T13:24:47.721Z"
   },
   {
    "duration": 147,
    "start_time": "2023-09-17T13:24:50.940Z"
   },
   {
    "duration": 149,
    "start_time": "2023-09-17T13:24:57.638Z"
   },
   {
    "duration": 81,
    "start_time": "2023-09-17T13:25:29.326Z"
   },
   {
    "duration": 82,
    "start_time": "2023-09-17T13:25:51.058Z"
   },
   {
    "duration": 129,
    "start_time": "2023-09-17T13:26:54.235Z"
   },
   {
    "duration": 26,
    "start_time": "2023-09-17T14:26:35.818Z"
   },
   {
    "duration": 8,
    "start_time": "2023-09-17T14:26:53.983Z"
   },
   {
    "duration": 7,
    "start_time": "2023-09-17T14:27:00.499Z"
   },
   {
    "duration": 238,
    "start_time": "2023-09-17T14:27:42.979Z"
   },
   {
    "duration": 195,
    "start_time": "2023-09-17T14:27:51.887Z"
   },
   {
    "duration": 224,
    "start_time": "2023-09-17T14:28:04.621Z"
   },
   {
    "duration": 391,
    "start_time": "2023-09-17T14:28:16.494Z"
   },
   {
    "duration": 257,
    "start_time": "2023-09-17T14:28:28.988Z"
   },
   {
    "duration": 96,
    "start_time": "2023-09-17T14:29:59.511Z"
   },
   {
    "duration": 1633,
    "start_time": "2023-09-17T14:30:28.026Z"
   },
   {
    "duration": 184,
    "start_time": "2023-09-17T14:30:35.981Z"
   },
   {
    "duration": 8,
    "start_time": "2023-09-17T14:31:30.750Z"
   },
   {
    "duration": 8,
    "start_time": "2023-09-17T14:31:43.098Z"
   },
   {
    "duration": 8,
    "start_time": "2023-09-17T14:31:49.602Z"
   },
   {
    "duration": 237,
    "start_time": "2023-09-17T14:32:13.682Z"
   },
   {
    "duration": 3,
    "start_time": "2023-09-17T14:35:54.098Z"
   },
   {
    "duration": 10,
    "start_time": "2023-09-17T14:36:39.518Z"
   },
   {
    "duration": 5,
    "start_time": "2023-09-17T14:37:16.656Z"
   },
   {
    "duration": 233,
    "start_time": "2023-09-17T14:37:43.631Z"
   },
   {
    "duration": 250,
    "start_time": "2023-09-17T14:38:01.238Z"
   },
   {
    "duration": 112,
    "start_time": "2023-09-17T14:39:16.700Z"
   },
   {
    "duration": 94,
    "start_time": "2023-09-17T14:40:02.589Z"
   },
   {
    "duration": 196,
    "start_time": "2023-09-17T14:40:07.398Z"
   },
   {
    "duration": 10,
    "start_time": "2023-09-17T14:42:22.591Z"
   },
   {
    "duration": 7,
    "start_time": "2023-09-17T14:42:46.115Z"
   },
   {
    "duration": 3,
    "start_time": "2023-09-17T15:09:03.468Z"
   },
   {
    "duration": 172,
    "start_time": "2023-09-17T15:12:15.895Z"
   },
   {
    "duration": 169,
    "start_time": "2023-09-17T15:12:23.051Z"
   },
   {
    "duration": 163,
    "start_time": "2023-09-17T15:12:26.137Z"
   },
   {
    "duration": 9,
    "start_time": "2023-09-17T16:13:59.472Z"
   },
   {
    "duration": 14,
    "start_time": "2023-09-17T16:14:43.531Z"
   },
   {
    "duration": 12,
    "start_time": "2023-09-17T16:15:00.741Z"
   },
   {
    "duration": 768,
    "start_time": "2023-09-17T16:15:18.729Z"
   },
   {
    "duration": 51,
    "start_time": "2023-09-17T16:15:19.499Z"
   },
   {
    "duration": 23,
    "start_time": "2023-09-17T16:15:19.551Z"
   },
   {
    "duration": 1774,
    "start_time": "2023-09-17T16:15:19.576Z"
   },
   {
    "duration": 9,
    "start_time": "2023-09-17T16:15:21.351Z"
   },
   {
    "duration": 29,
    "start_time": "2023-09-17T16:15:21.362Z"
   },
   {
    "duration": 11,
    "start_time": "2023-09-17T16:15:21.393Z"
   },
   {
    "duration": 15,
    "start_time": "2023-09-17T16:15:21.406Z"
   },
   {
    "duration": 26,
    "start_time": "2023-09-17T16:15:21.423Z"
   },
   {
    "duration": 19,
    "start_time": "2023-09-17T16:15:21.453Z"
   },
   {
    "duration": 26,
    "start_time": "2023-09-17T16:15:21.474Z"
   },
   {
    "duration": 23,
    "start_time": "2023-09-17T16:15:21.502Z"
   },
   {
    "duration": 19,
    "start_time": "2023-09-17T16:15:21.527Z"
   },
   {
    "duration": 21,
    "start_time": "2023-09-17T16:15:21.547Z"
   },
   {
    "duration": 37,
    "start_time": "2023-09-17T16:15:21.569Z"
   },
   {
    "duration": 6,
    "start_time": "2023-09-17T16:15:21.608Z"
   },
   {
    "duration": 215,
    "start_time": "2023-09-17T16:15:21.615Z"
   },
   {
    "duration": 30,
    "start_time": "2023-09-17T16:15:21.832Z"
   },
   {
    "duration": 10,
    "start_time": "2023-09-17T16:15:21.864Z"
   },
   {
    "duration": 5,
    "start_time": "2023-09-17T16:15:21.876Z"
   },
   {
    "duration": 11,
    "start_time": "2023-09-17T16:15:21.882Z"
   },
   {
    "duration": 10,
    "start_time": "2023-09-17T16:15:21.895Z"
   },
   {
    "duration": 21,
    "start_time": "2023-09-17T16:15:21.906Z"
   },
   {
    "duration": 8,
    "start_time": "2023-09-17T16:15:21.928Z"
   },
   {
    "duration": 318,
    "start_time": "2023-09-17T16:15:21.938Z"
   },
   {
    "duration": 5,
    "start_time": "2023-09-17T16:15:22.257Z"
   },
   {
    "duration": 38,
    "start_time": "2023-09-17T16:15:22.263Z"
   },
   {
    "duration": 96,
    "start_time": "2023-09-17T16:15:22.305Z"
   },
   {
    "duration": 157,
    "start_time": "2023-09-17T16:15:22.403Z"
   },
   {
    "duration": 39,
    "start_time": "2023-09-17T16:15:22.562Z"
   },
   {
    "duration": 82,
    "start_time": "2023-09-17T16:15:22.603Z"
   },
   {
    "duration": 27,
    "start_time": "2023-09-17T16:15:22.686Z"
   },
   {
    "duration": 255,
    "start_time": "2023-09-17T16:15:22.715Z"
   },
   {
    "duration": 8,
    "start_time": "2023-09-17T16:15:22.972Z"
   },
   {
    "duration": 252,
    "start_time": "2023-09-17T16:15:22.982Z"
   },
   {
    "duration": 8,
    "start_time": "2023-09-17T16:15:23.243Z"
   },
   {
    "duration": 19,
    "start_time": "2023-09-17T16:15:23.252Z"
   },
   {
    "duration": 265,
    "start_time": "2023-09-17T16:15:23.273Z"
   },
   {
    "duration": 11,
    "start_time": "2023-09-17T16:15:23.540Z"
   },
   {
    "duration": 125,
    "start_time": "2023-09-17T16:15:23.552Z"
   },
   {
    "duration": 7,
    "start_time": "2023-09-17T16:15:23.679Z"
   },
   {
    "duration": 19,
    "start_time": "2023-09-17T16:15:23.688Z"
   },
   {
    "duration": 203,
    "start_time": "2023-09-17T16:15:23.710Z"
   },
   {
    "duration": 9,
    "start_time": "2023-09-17T16:15:23.915Z"
   },
   {
    "duration": 217,
    "start_time": "2023-09-17T16:15:23.926Z"
   },
   {
    "duration": 8,
    "start_time": "2023-09-17T16:15:24.145Z"
   },
   {
    "duration": 132,
    "start_time": "2023-09-17T16:15:24.154Z"
   },
   {
    "duration": 6,
    "start_time": "2023-09-17T16:15:24.288Z"
   },
   {
    "duration": 131,
    "start_time": "2023-09-17T16:15:24.296Z"
   },
   {
    "duration": 21,
    "start_time": "2023-09-17T16:15:24.429Z"
   },
   {
    "duration": 12,
    "start_time": "2023-09-17T16:15:24.451Z"
   },
   {
    "duration": 38,
    "start_time": "2023-09-17T16:15:24.465Z"
   },
   {
    "duration": 140,
    "start_time": "2023-09-17T16:15:24.505Z"
   },
   {
    "duration": 11,
    "start_time": "2023-09-17T16:15:24.647Z"
   },
   {
    "duration": 13,
    "start_time": "2023-09-17T16:15:24.660Z"
   },
   {
    "duration": 148,
    "start_time": "2023-09-17T16:15:24.674Z"
   },
   {
    "duration": 177,
    "start_time": "2023-09-17T16:15:24.823Z"
   },
   {
    "duration": 9,
    "start_time": "2023-09-17T16:15:25.002Z"
   },
   {
    "duration": 133,
    "start_time": "2023-09-17T16:15:25.013Z"
   },
   {
    "duration": 9,
    "start_time": "2023-09-17T16:15:25.148Z"
   },
   {
    "duration": 170,
    "start_time": "2023-09-17T16:15:25.159Z"
   },
   {
    "duration": 13,
    "start_time": "2023-09-17T16:15:25.332Z"
   },
   {
    "duration": 124,
    "start_time": "2023-09-17T16:15:25.347Z"
   },
   {
    "duration": 9,
    "start_time": "2023-09-17T16:15:25.473Z"
   },
   {
    "duration": 266,
    "start_time": "2023-09-17T16:15:25.484Z"
   },
   {
    "duration": 11,
    "start_time": "2023-09-17T16:15:25.752Z"
   },
   {
    "duration": 127,
    "start_time": "2023-09-17T16:15:25.765Z"
   },
   {
    "duration": 7,
    "start_time": "2023-09-17T16:15:25.894Z"
   },
   {
    "duration": 221,
    "start_time": "2023-09-17T16:15:25.902Z"
   },
   {
    "duration": 8,
    "start_time": "2023-09-17T16:15:26.125Z"
   },
   {
    "duration": 213,
    "start_time": "2023-09-17T16:15:26.135Z"
   },
   {
    "duration": 211,
    "start_time": "2023-09-17T16:15:26.350Z"
   },
   {
    "duration": 7,
    "start_time": "2023-09-17T16:15:26.563Z"
   },
   {
    "duration": 185,
    "start_time": "2023-09-17T16:15:26.572Z"
   },
   {
    "duration": 736,
    "start_time": "2023-09-17T16:21:34.558Z"
   },
   {
    "duration": 53,
    "start_time": "2023-09-17T16:21:35.296Z"
   },
   {
    "duration": 22,
    "start_time": "2023-09-17T16:21:35.351Z"
   },
   {
    "duration": 2060,
    "start_time": "2023-09-17T16:21:35.375Z"
   },
   {
    "duration": 16,
    "start_time": "2023-09-17T16:21:37.436Z"
   },
   {
    "duration": 22,
    "start_time": "2023-09-17T16:21:37.458Z"
   },
   {
    "duration": 5,
    "start_time": "2023-09-17T16:21:37.482Z"
   },
   {
    "duration": 8,
    "start_time": "2023-09-17T16:21:37.489Z"
   },
   {
    "duration": 15,
    "start_time": "2023-09-17T16:21:37.499Z"
   },
   {
    "duration": 8,
    "start_time": "2023-09-17T16:21:37.517Z"
   },
   {
    "duration": 28,
    "start_time": "2023-09-17T16:21:37.526Z"
   },
   {
    "duration": 29,
    "start_time": "2023-09-17T16:21:37.558Z"
   },
   {
    "duration": 23,
    "start_time": "2023-09-17T16:21:37.589Z"
   },
   {
    "duration": 14,
    "start_time": "2023-09-17T16:21:37.613Z"
   },
   {
    "duration": 44,
    "start_time": "2023-09-17T16:21:37.628Z"
   },
   {
    "duration": 5,
    "start_time": "2023-09-17T16:21:37.675Z"
   },
   {
    "duration": 314,
    "start_time": "2023-09-17T16:21:37.681Z"
   },
   {
    "duration": 22,
    "start_time": "2023-09-17T16:21:37.997Z"
   },
   {
    "duration": 34,
    "start_time": "2023-09-17T16:21:38.021Z"
   },
   {
    "duration": 74,
    "start_time": "2023-09-17T16:21:38.056Z"
   },
   {
    "duration": 11,
    "start_time": "2023-09-17T16:21:38.132Z"
   },
   {
    "duration": 25,
    "start_time": "2023-09-17T16:21:38.145Z"
   },
   {
    "duration": 6,
    "start_time": "2023-09-17T16:21:38.174Z"
   },
   {
    "duration": 3,
    "start_time": "2023-09-17T16:21:38.182Z"
   },
   {
    "duration": 392,
    "start_time": "2023-09-17T16:21:38.187Z"
   },
   {
    "duration": 4,
    "start_time": "2023-09-17T16:21:38.580Z"
   },
   {
    "duration": 51,
    "start_time": "2023-09-17T16:21:38.586Z"
   },
   {
    "duration": 33,
    "start_time": "2023-09-17T16:21:38.641Z"
   },
   {
    "duration": 143,
    "start_time": "2023-09-17T16:21:38.676Z"
   },
   {
    "duration": 10,
    "start_time": "2023-09-17T16:21:38.820Z"
   },
   {
    "duration": 43,
    "start_time": "2023-09-17T16:21:38.832Z"
   },
   {
    "duration": 3,
    "start_time": "2023-09-17T16:21:38.877Z"
   },
   {
    "duration": 331,
    "start_time": "2023-09-17T16:21:38.881Z"
   },
   {
    "duration": 8,
    "start_time": "2023-09-17T16:21:39.213Z"
   },
   {
    "duration": 247,
    "start_time": "2023-09-17T16:21:39.223Z"
   },
   {
    "duration": 11,
    "start_time": "2023-09-17T16:21:39.472Z"
   },
   {
    "duration": 20,
    "start_time": "2023-09-17T16:21:39.484Z"
   },
   {
    "duration": 300,
    "start_time": "2023-09-17T16:21:39.506Z"
   },
   {
    "duration": 11,
    "start_time": "2023-09-17T16:21:39.808Z"
   },
   {
    "duration": 160,
    "start_time": "2023-09-17T16:21:39.820Z"
   },
   {
    "duration": 8,
    "start_time": "2023-09-17T16:21:39.982Z"
   },
   {
    "duration": 12,
    "start_time": "2023-09-17T16:21:39.992Z"
   },
   {
    "duration": 227,
    "start_time": "2023-09-17T16:21:40.006Z"
   },
   {
    "duration": 12,
    "start_time": "2023-09-17T16:21:40.234Z"
   },
   {
    "duration": 246,
    "start_time": "2023-09-17T16:21:40.251Z"
   },
   {
    "duration": 7,
    "start_time": "2023-09-17T16:21:40.499Z"
   },
   {
    "duration": 165,
    "start_time": "2023-09-17T16:21:40.508Z"
   },
   {
    "duration": 7,
    "start_time": "2023-09-17T16:21:40.675Z"
   },
   {
    "duration": 153,
    "start_time": "2023-09-17T16:21:40.683Z"
   },
   {
    "duration": 18,
    "start_time": "2023-09-17T16:21:40.837Z"
   },
   {
    "duration": 25,
    "start_time": "2023-09-17T16:21:40.856Z"
   },
   {
    "duration": 25,
    "start_time": "2023-09-17T16:21:40.882Z"
   },
   {
    "duration": 121,
    "start_time": "2023-09-17T16:21:40.908Z"
   },
   {
    "duration": 18,
    "start_time": "2023-09-17T16:21:41.031Z"
   },
   {
    "duration": 27,
    "start_time": "2023-09-17T16:21:41.052Z"
   },
   {
    "duration": 136,
    "start_time": "2023-09-17T16:21:41.081Z"
   },
   {
    "duration": 200,
    "start_time": "2023-09-17T16:21:41.219Z"
   },
   {
    "duration": 8,
    "start_time": "2023-09-17T16:21:41.420Z"
   },
   {
    "duration": 144,
    "start_time": "2023-09-17T16:21:41.429Z"
   },
   {
    "duration": 7,
    "start_time": "2023-09-17T16:21:41.574Z"
   },
   {
    "duration": 211,
    "start_time": "2023-09-17T16:21:41.583Z"
   },
   {
    "duration": 9,
    "start_time": "2023-09-17T16:21:41.795Z"
   },
   {
    "duration": 181,
    "start_time": "2023-09-17T16:21:41.805Z"
   },
   {
    "duration": 8,
    "start_time": "2023-09-17T16:21:41.988Z"
   },
   {
    "duration": 235,
    "start_time": "2023-09-17T16:21:41.997Z"
   },
   {
    "duration": 32,
    "start_time": "2023-09-17T16:21:42.233Z"
   },
   {
    "duration": 108,
    "start_time": "2023-09-17T16:21:42.268Z"
   },
   {
    "duration": 6,
    "start_time": "2023-09-17T16:21:42.378Z"
   },
   {
    "duration": 222,
    "start_time": "2023-09-17T16:21:42.386Z"
   },
   {
    "duration": 9,
    "start_time": "2023-09-17T16:21:42.609Z"
   },
   {
    "duration": 147,
    "start_time": "2023-09-17T16:21:42.619Z"
   },
   {
    "duration": 219,
    "start_time": "2023-09-17T16:21:42.768Z"
   },
   {
    "duration": 6,
    "start_time": "2023-09-17T16:21:42.989Z"
   },
   {
    "duration": 202,
    "start_time": "2023-09-17T16:21:42.997Z"
   },
   {
    "duration": 290,
    "start_time": "2023-09-17T16:25:00.493Z"
   },
   {
    "duration": 155,
    "start_time": "2023-09-17T16:25:11.933Z"
   },
   {
    "duration": 190,
    "start_time": "2023-09-17T16:26:03.520Z"
   },
   {
    "duration": 321150,
    "start_time": "2023-09-17T16:36:13.469Z"
   },
   {
    "duration": 2405,
    "start_time": "2023-09-17T16:41:34.621Z"
   },
   {
    "duration": 18,
    "start_time": "2023-09-17T16:48:05.649Z"
   },
   {
    "duration": 1723,
    "start_time": "2023-09-17T16:49:09.912Z"
   },
   {
    "duration": 2021,
    "start_time": "2023-09-17T16:49:49.526Z"
   },
   {
    "duration": 263,
    "start_time": "2023-09-17T16:50:02.322Z"
   },
   {
    "duration": 283,
    "start_time": "2023-09-17T16:53:25.887Z"
   },
   {
    "duration": 176,
    "start_time": "2023-09-17T16:53:41.717Z"
   },
   {
    "duration": 213,
    "start_time": "2023-09-17T16:53:48.672Z"
   },
   {
    "duration": 305,
    "start_time": "2023-09-17T16:55:22.609Z"
   },
   {
    "duration": 153,
    "start_time": "2023-09-17T16:56:56.422Z"
   },
   {
    "duration": 162,
    "start_time": "2023-09-17T16:59:23.802Z"
   },
   {
    "duration": 162,
    "start_time": "2023-09-17T16:59:38.232Z"
   },
   {
    "duration": 17,
    "start_time": "2023-09-17T17:00:41.995Z"
   },
   {
    "duration": 167,
    "start_time": "2023-09-17T17:01:07.991Z"
   },
   {
    "duration": 159,
    "start_time": "2023-09-17T17:01:29.662Z"
   },
   {
    "duration": 170,
    "start_time": "2023-09-17T17:02:09.415Z"
   },
   {
    "duration": 178,
    "start_time": "2023-09-17T17:02:18.246Z"
   },
   {
    "duration": 14,
    "start_time": "2023-09-17T17:05:36.153Z"
   },
   {
    "duration": 7,
    "start_time": "2023-09-17T17:05:40.784Z"
   },
   {
    "duration": 787,
    "start_time": "2023-09-17T17:13:49.014Z"
   },
   {
    "duration": 69,
    "start_time": "2023-09-17T17:13:49.803Z"
   },
   {
    "duration": 51,
    "start_time": "2023-09-17T17:13:49.873Z"
   },
   {
    "duration": 2064,
    "start_time": "2023-09-17T17:13:49.927Z"
   },
   {
    "duration": 9,
    "start_time": "2023-09-17T17:13:51.993Z"
   },
   {
    "duration": 27,
    "start_time": "2023-09-17T17:13:52.004Z"
   },
   {
    "duration": 7,
    "start_time": "2023-09-17T17:13:52.033Z"
   },
   {
    "duration": 20,
    "start_time": "2023-09-17T17:13:52.041Z"
   },
   {
    "duration": 26,
    "start_time": "2023-09-17T17:13:52.063Z"
   },
   {
    "duration": 6,
    "start_time": "2023-09-17T17:13:52.092Z"
   },
   {
    "duration": 18,
    "start_time": "2023-09-17T17:13:52.099Z"
   },
   {
    "duration": 25,
    "start_time": "2023-09-17T17:13:52.119Z"
   },
   {
    "duration": 35,
    "start_time": "2023-09-17T17:13:52.148Z"
   },
   {
    "duration": 16,
    "start_time": "2023-09-17T17:13:52.186Z"
   },
   {
    "duration": 49,
    "start_time": "2023-09-17T17:13:52.204Z"
   },
   {
    "duration": 8,
    "start_time": "2023-09-17T17:13:52.258Z"
   },
   {
    "duration": 238,
    "start_time": "2023-09-17T17:13:52.270Z"
   },
   {
    "duration": 19,
    "start_time": "2023-09-17T17:13:52.510Z"
   },
   {
    "duration": 27,
    "start_time": "2023-09-17T17:13:52.530Z"
   },
   {
    "duration": 6,
    "start_time": "2023-09-17T17:13:52.562Z"
   },
   {
    "duration": 19,
    "start_time": "2023-09-17T17:13:52.570Z"
   },
   {
    "duration": 7,
    "start_time": "2023-09-17T17:13:52.591Z"
   },
   {
    "duration": 16,
    "start_time": "2023-09-17T17:13:52.600Z"
   },
   {
    "duration": 4,
    "start_time": "2023-09-17T17:13:52.618Z"
   },
   {
    "duration": 363,
    "start_time": "2023-09-17T17:13:52.624Z"
   },
   {
    "duration": 4,
    "start_time": "2023-09-17T17:13:52.989Z"
   },
   {
    "duration": 64,
    "start_time": "2023-09-17T17:13:52.995Z"
   },
   {
    "duration": 10,
    "start_time": "2023-09-17T17:13:53.065Z"
   },
   {
    "duration": 125,
    "start_time": "2023-09-17T17:13:53.077Z"
   },
   {
    "duration": 10,
    "start_time": "2023-09-17T17:13:53.205Z"
   },
   {
    "duration": 7,
    "start_time": "2023-09-17T17:13:53.217Z"
   },
   {
    "duration": 11,
    "start_time": "2023-09-17T17:13:53.244Z"
   },
   {
    "duration": 260,
    "start_time": "2023-09-17T17:13:53.258Z"
   },
   {
    "duration": 9,
    "start_time": "2023-09-17T17:13:53.519Z"
   },
   {
    "duration": 241,
    "start_time": "2023-09-17T17:13:53.529Z"
   },
   {
    "duration": 9,
    "start_time": "2023-09-17T17:13:53.772Z"
   },
   {
    "duration": 14,
    "start_time": "2023-09-17T17:13:53.783Z"
   },
   {
    "duration": 306,
    "start_time": "2023-09-17T17:13:53.798Z"
   },
   {
    "duration": 9,
    "start_time": "2023-09-17T17:13:54.106Z"
   },
   {
    "duration": 131,
    "start_time": "2023-09-17T17:13:54.117Z"
   },
   {
    "duration": 13,
    "start_time": "2023-09-17T17:13:54.253Z"
   },
   {
    "duration": 12,
    "start_time": "2023-09-17T17:13:54.267Z"
   },
   {
    "duration": 187,
    "start_time": "2023-09-17T17:13:54.280Z"
   },
   {
    "duration": 11,
    "start_time": "2023-09-17T17:13:54.470Z"
   },
   {
    "duration": 283,
    "start_time": "2023-09-17T17:13:54.484Z"
   },
   {
    "duration": 11,
    "start_time": "2023-09-17T17:13:54.770Z"
   },
   {
    "duration": 147,
    "start_time": "2023-09-17T17:13:54.783Z"
   },
   {
    "duration": 20,
    "start_time": "2023-09-17T17:13:54.932Z"
   },
   {
    "duration": 149,
    "start_time": "2023-09-17T17:13:54.953Z"
   },
   {
    "duration": 9,
    "start_time": "2023-09-17T17:13:55.105Z"
   },
   {
    "duration": 7,
    "start_time": "2023-09-17T17:13:55.116Z"
   },
   {
    "duration": 27,
    "start_time": "2023-09-17T17:13:55.125Z"
   },
   {
    "duration": 109,
    "start_time": "2023-09-17T17:13:55.154Z"
   },
   {
    "duration": 13,
    "start_time": "2023-09-17T17:13:55.265Z"
   },
   {
    "duration": 10,
    "start_time": "2023-09-17T17:13:55.280Z"
   },
   {
    "duration": 144,
    "start_time": "2023-09-17T17:13:55.292Z"
   },
   {
    "duration": 185,
    "start_time": "2023-09-17T17:13:55.437Z"
   },
   {
    "duration": 22,
    "start_time": "2023-09-17T17:13:55.624Z"
   },
   {
    "duration": 122,
    "start_time": "2023-09-17T17:13:55.647Z"
   },
   {
    "duration": 7,
    "start_time": "2023-09-17T17:13:55.770Z"
   },
   {
    "duration": 153,
    "start_time": "2023-09-17T17:13:55.779Z"
   },
   {
    "duration": 21,
    "start_time": "2023-09-17T17:13:55.934Z"
   },
   {
    "duration": 135,
    "start_time": "2023-09-17T17:13:55.961Z"
   },
   {
    "duration": 7,
    "start_time": "2023-09-17T17:13:56.098Z"
   },
   {
    "duration": 233,
    "start_time": "2023-09-17T17:13:56.106Z"
   },
   {
    "duration": 18,
    "start_time": "2023-09-17T17:13:56.341Z"
   },
   {
    "duration": 125,
    "start_time": "2023-09-17T17:13:56.363Z"
   },
   {
    "duration": 7,
    "start_time": "2023-09-17T17:13:56.490Z"
   },
   {
    "duration": 217,
    "start_time": "2023-09-17T17:13:56.499Z"
   },
   {
    "duration": 9,
    "start_time": "2023-09-17T17:13:56.717Z"
   },
   {
    "duration": 143,
    "start_time": "2023-09-17T17:13:56.728Z"
   },
   {
    "duration": 220,
    "start_time": "2023-09-17T17:13:56.873Z"
   },
   {
    "duration": 7,
    "start_time": "2023-09-17T17:13:57.095Z"
   },
   {
    "duration": 195,
    "start_time": "2023-09-17T17:13:57.104Z"
   },
   {
    "duration": 285,
    "start_time": "2023-09-17T17:13:57.301Z"
   },
   {
    "duration": 198,
    "start_time": "2023-09-17T17:13:57.589Z"
   },
   {
    "duration": 327,
    "start_time": "2023-09-17T17:13:57.788Z"
   },
   {
    "duration": 147,
    "start_time": "2023-09-17T17:13:58.117Z"
   },
   {
    "duration": 154,
    "start_time": "2023-09-17T17:13:58.266Z"
   },
   {
    "duration": 146,
    "start_time": "2023-09-17T17:13:58.421Z"
   },
   {
    "duration": 156,
    "start_time": "2023-09-17T17:13:58.569Z"
   },
   {
    "duration": 14,
    "start_time": "2023-09-17T17:17:16.163Z"
   },
   {
    "duration": 297,
    "start_time": "2023-09-17T17:17:17.973Z"
   },
   {
    "duration": 18,
    "start_time": "2023-09-17T17:19:12.833Z"
   },
   {
    "duration": 108,
    "start_time": "2023-09-17T17:20:36.176Z"
   },
   {
    "duration": 8,
    "start_time": "2023-09-17T17:20:50.149Z"
   },
   {
    "duration": 8,
    "start_time": "2023-09-17T17:21:25.518Z"
   },
   {
    "duration": 13,
    "start_time": "2023-09-17T17:22:20.010Z"
   },
   {
    "duration": 9,
    "start_time": "2023-09-17T17:23:07.356Z"
   },
   {
    "duration": 143,
    "start_time": "2023-09-17T17:23:13.221Z"
   },
   {
    "duration": 6,
    "start_time": "2023-09-17T17:24:20.276Z"
   },
   {
    "duration": 11,
    "start_time": "2023-09-17T17:24:21.892Z"
   },
   {
    "duration": 111,
    "start_time": "2023-09-17T17:24:30.427Z"
   },
   {
    "duration": 11,
    "start_time": "2023-09-17T17:24:34.764Z"
   },
   {
    "duration": 8,
    "start_time": "2023-09-17T17:24:37.438Z"
   },
   {
    "duration": 136,
    "start_time": "2023-09-17T17:24:39.406Z"
   },
   {
    "duration": 113,
    "start_time": "2023-09-17T17:25:03.395Z"
   },
   {
    "duration": 6,
    "start_time": "2023-09-17T17:26:21.733Z"
   },
   {
    "duration": 8,
    "start_time": "2023-09-17T17:27:03.101Z"
   },
   {
    "duration": 10,
    "start_time": "2023-09-17T17:27:52.540Z"
   },
   {
    "duration": 820,
    "start_time": "2023-09-17T17:28:16.609Z"
   },
   {
    "duration": 69,
    "start_time": "2023-09-17T17:28:17.431Z"
   },
   {
    "duration": 15,
    "start_time": "2023-09-17T17:28:17.501Z"
   },
   {
    "duration": 2181,
    "start_time": "2023-09-17T17:28:17.518Z"
   },
   {
    "duration": 9,
    "start_time": "2023-09-17T17:28:19.701Z"
   },
   {
    "duration": 14,
    "start_time": "2023-09-17T17:28:19.711Z"
   },
   {
    "duration": 5,
    "start_time": "2023-09-17T17:28:19.726Z"
   },
   {
    "duration": 32,
    "start_time": "2023-09-17T17:28:19.733Z"
   },
   {
    "duration": 25,
    "start_time": "2023-09-17T17:28:19.767Z"
   },
   {
    "duration": 6,
    "start_time": "2023-09-17T17:28:19.794Z"
   },
   {
    "duration": 25,
    "start_time": "2023-09-17T17:28:19.801Z"
   },
   {
    "duration": 27,
    "start_time": "2023-09-17T17:28:19.828Z"
   },
   {
    "duration": 28,
    "start_time": "2023-09-17T17:28:19.856Z"
   },
   {
    "duration": 13,
    "start_time": "2023-09-17T17:28:19.888Z"
   },
   {
    "duration": 25,
    "start_time": "2023-09-17T17:28:19.903Z"
   },
   {
    "duration": 50,
    "start_time": "2023-09-17T17:28:19.930Z"
   },
   {
    "duration": 267,
    "start_time": "2023-09-17T17:28:19.982Z"
   },
   {
    "duration": 33,
    "start_time": "2023-09-17T17:28:20.257Z"
   },
   {
    "duration": 39,
    "start_time": "2023-09-17T17:28:20.292Z"
   },
   {
    "duration": 29,
    "start_time": "2023-09-17T17:28:20.333Z"
   },
   {
    "duration": 28,
    "start_time": "2023-09-17T17:28:20.364Z"
   },
   {
    "duration": 25,
    "start_time": "2023-09-17T17:28:20.394Z"
   },
   {
    "duration": 22,
    "start_time": "2023-09-17T17:28:20.421Z"
   },
   {
    "duration": 16,
    "start_time": "2023-09-17T17:28:20.445Z"
   },
   {
    "duration": 416,
    "start_time": "2023-09-17T17:28:20.462Z"
   },
   {
    "duration": 7,
    "start_time": "2023-09-17T17:28:20.880Z"
   },
   {
    "duration": 93,
    "start_time": "2023-09-17T17:28:20.889Z"
   },
   {
    "duration": 9,
    "start_time": "2023-09-17T17:28:20.986Z"
   },
   {
    "duration": 165,
    "start_time": "2023-09-17T17:28:20.996Z"
   },
   {
    "duration": 14,
    "start_time": "2023-09-17T17:28:21.169Z"
   },
   {
    "duration": 8,
    "start_time": "2023-09-17T17:28:21.186Z"
   },
   {
    "duration": 14,
    "start_time": "2023-09-17T17:28:21.196Z"
   },
   {
    "duration": 294,
    "start_time": "2023-09-17T17:28:21.211Z"
   },
   {
    "duration": 8,
    "start_time": "2023-09-17T17:28:21.506Z"
   },
   {
    "duration": 271,
    "start_time": "2023-09-17T17:28:21.516Z"
   },
   {
    "duration": 11,
    "start_time": "2023-09-17T17:28:21.789Z"
   },
   {
    "duration": 22,
    "start_time": "2023-09-17T17:28:21.801Z"
   },
   {
    "duration": 17,
    "start_time": "2023-09-17T17:28:21.825Z"
   },
   {
    "duration": 335,
    "start_time": "2023-09-17T17:28:21.846Z"
   },
   {
    "duration": 10,
    "start_time": "2023-09-17T17:28:22.183Z"
   },
   {
    "duration": 142,
    "start_time": "2023-09-17T17:28:22.194Z"
   },
   {
    "duration": 17,
    "start_time": "2023-09-17T17:28:22.338Z"
   },
   {
    "duration": 10,
    "start_time": "2023-09-17T17:28:22.361Z"
   },
   {
    "duration": 20,
    "start_time": "2023-09-17T17:28:22.374Z"
   },
   {
    "duration": 191,
    "start_time": "2023-09-17T17:28:22.396Z"
   },
   {
    "duration": 8,
    "start_time": "2023-09-17T17:28:22.589Z"
   },
   {
    "duration": 26,
    "start_time": "2023-09-17T17:28:22.599Z"
   },
   {
    "duration": 278,
    "start_time": "2023-09-17T17:28:22.627Z"
   },
   {
    "duration": 9,
    "start_time": "2023-09-17T17:28:22.907Z"
   },
   {
    "duration": 133,
    "start_time": "2023-09-17T17:28:22.918Z"
   },
   {
    "duration": 11,
    "start_time": "2023-09-17T17:28:23.052Z"
   },
   {
    "duration": 18,
    "start_time": "2023-09-17T17:28:23.065Z"
   },
   {
    "duration": 150,
    "start_time": "2023-09-17T17:28:23.085Z"
   },
   {
    "duration": 10,
    "start_time": "2023-09-17T17:28:23.236Z"
   },
   {
    "duration": 21,
    "start_time": "2023-09-17T17:28:23.248Z"
   },
   {
    "duration": 21,
    "start_time": "2023-09-17T17:28:23.271Z"
   },
   {
    "duration": 110,
    "start_time": "2023-09-17T17:28:23.293Z"
   },
   {
    "duration": 8,
    "start_time": "2023-09-17T17:28:23.404Z"
   },
   {
    "duration": 13,
    "start_time": "2023-09-17T17:28:23.414Z"
   },
   {
    "duration": 19,
    "start_time": "2023-09-17T17:28:23.428Z"
   },
   {
    "duration": 154,
    "start_time": "2023-09-17T17:28:23.449Z"
   },
   {
    "duration": 231,
    "start_time": "2023-09-17T17:28:23.604Z"
   },
   {
    "duration": 13,
    "start_time": "2023-09-17T17:28:23.837Z"
   },
   {
    "duration": 142,
    "start_time": "2023-09-17T17:28:23.851Z"
   },
   {
    "duration": 35,
    "start_time": "2023-09-17T17:28:23.994Z"
   },
   {
    "duration": 6,
    "start_time": "2023-09-17T17:28:24.031Z"
   },
   {
    "duration": 202,
    "start_time": "2023-09-17T17:28:24.039Z"
   },
   {
    "duration": 20,
    "start_time": "2023-09-17T17:28:24.242Z"
   },
   {
    "duration": 123,
    "start_time": "2023-09-17T17:28:24.264Z"
   },
   {
    "duration": 8,
    "start_time": "2023-09-17T17:28:24.389Z"
   },
   {
    "duration": 299,
    "start_time": "2023-09-17T17:28:24.399Z"
   },
   {
    "duration": 10,
    "start_time": "2023-09-17T17:28:24.700Z"
   },
   {
    "duration": 148,
    "start_time": "2023-09-17T17:28:24.711Z"
   },
   {
    "duration": 9,
    "start_time": "2023-09-17T17:28:24.862Z"
   },
   {
    "duration": 262,
    "start_time": "2023-09-17T17:28:24.873Z"
   },
   {
    "duration": 10,
    "start_time": "2023-09-17T17:28:25.136Z"
   },
   {
    "duration": 137,
    "start_time": "2023-09-17T17:28:25.148Z"
   },
   {
    "duration": 217,
    "start_time": "2023-09-17T17:28:25.287Z"
   },
   {
    "duration": 7,
    "start_time": "2023-09-17T17:28:25.505Z"
   },
   {
    "duration": 205,
    "start_time": "2023-09-17T17:28:25.513Z"
   },
   {
    "duration": 272,
    "start_time": "2023-09-17T17:28:25.720Z"
   },
   {
    "duration": 138,
    "start_time": "2023-09-17T17:28:25.997Z"
   },
   {
    "duration": 193,
    "start_time": "2023-09-17T17:28:26.136Z"
   },
   {
    "duration": 172,
    "start_time": "2023-09-17T17:28:26.330Z"
   },
   {
    "duration": 145,
    "start_time": "2023-09-17T17:28:26.503Z"
   },
   {
    "duration": 158,
    "start_time": "2023-09-17T17:28:26.656Z"
   },
   {
    "duration": 166,
    "start_time": "2023-09-17T17:28:26.816Z"
   },
   {
    "duration": 10,
    "start_time": "2023-09-17T17:31:58.762Z"
   },
   {
    "duration": 905,
    "start_time": "2023-09-17T17:32:05.108Z"
   },
   {
    "duration": 60,
    "start_time": "2023-09-17T17:32:06.015Z"
   },
   {
    "duration": 26,
    "start_time": "2023-09-17T17:32:06.078Z"
   },
   {
    "duration": 2070,
    "start_time": "2023-09-17T17:32:06.108Z"
   },
   {
    "duration": 13,
    "start_time": "2023-09-17T17:32:08.179Z"
   },
   {
    "duration": 28,
    "start_time": "2023-09-17T17:32:08.193Z"
   },
   {
    "duration": 7,
    "start_time": "2023-09-17T17:32:08.222Z"
   },
   {
    "duration": 28,
    "start_time": "2023-09-17T17:32:08.231Z"
   },
   {
    "duration": 41,
    "start_time": "2023-09-17T17:32:08.261Z"
   },
   {
    "duration": 11,
    "start_time": "2023-09-17T17:32:08.304Z"
   },
   {
    "duration": 18,
    "start_time": "2023-09-17T17:32:08.318Z"
   },
   {
    "duration": 36,
    "start_time": "2023-09-17T17:32:08.338Z"
   },
   {
    "duration": 24,
    "start_time": "2023-09-17T17:32:08.375Z"
   },
   {
    "duration": 19,
    "start_time": "2023-09-17T17:32:08.402Z"
   },
   {
    "duration": 57,
    "start_time": "2023-09-17T17:32:08.423Z"
   },
   {
    "duration": 8,
    "start_time": "2023-09-17T17:32:08.483Z"
   },
   {
    "duration": 309,
    "start_time": "2023-09-17T17:32:08.494Z"
   },
   {
    "duration": 26,
    "start_time": "2023-09-17T17:32:08.804Z"
   },
   {
    "duration": 18,
    "start_time": "2023-09-17T17:32:08.832Z"
   },
   {
    "duration": 30,
    "start_time": "2023-09-17T17:32:08.852Z"
   },
   {
    "duration": 10,
    "start_time": "2023-09-17T17:32:08.884Z"
   },
   {
    "duration": 6,
    "start_time": "2023-09-17T17:32:08.897Z"
   },
   {
    "duration": 13,
    "start_time": "2023-09-17T17:32:08.905Z"
   },
   {
    "duration": 4,
    "start_time": "2023-09-17T17:32:08.920Z"
   },
   {
    "duration": 482,
    "start_time": "2023-09-17T17:32:08.927Z"
   },
   {
    "duration": 4,
    "start_time": "2023-09-17T17:32:09.411Z"
   },
   {
    "duration": 55,
    "start_time": "2023-09-17T17:32:09.417Z"
   },
   {
    "duration": 12,
    "start_time": "2023-09-17T17:32:09.478Z"
   },
   {
    "duration": 149,
    "start_time": "2023-09-17T17:32:09.493Z"
   },
   {
    "duration": 21,
    "start_time": "2023-09-17T17:32:09.650Z"
   },
   {
    "duration": 14,
    "start_time": "2023-09-17T17:32:09.673Z"
   },
   {
    "duration": 14,
    "start_time": "2023-09-17T17:32:09.688Z"
   },
   {
    "duration": 290,
    "start_time": "2023-09-17T17:32:09.704Z"
   },
   {
    "duration": 11,
    "start_time": "2023-09-17T17:32:09.996Z"
   },
   {
    "duration": 244,
    "start_time": "2023-09-17T17:32:10.009Z"
   },
   {
    "duration": 14,
    "start_time": "2023-09-17T17:32:10.255Z"
   },
   {
    "duration": 9,
    "start_time": "2023-09-17T17:32:10.273Z"
   },
   {
    "duration": 15,
    "start_time": "2023-09-17T17:32:10.284Z"
   },
   {
    "duration": 361,
    "start_time": "2023-09-17T17:32:10.302Z"
   },
   {
    "duration": 12,
    "start_time": "2023-09-17T17:32:10.665Z"
   },
   {
    "duration": 137,
    "start_time": "2023-09-17T17:32:10.679Z"
   },
   {
    "duration": 12,
    "start_time": "2023-09-17T17:32:10.819Z"
   },
   {
    "duration": 15,
    "start_time": "2023-09-17T17:32:10.846Z"
   },
   {
    "duration": 31,
    "start_time": "2023-09-17T17:32:10.865Z"
   },
   {
    "duration": 244,
    "start_time": "2023-09-17T17:32:10.898Z"
   },
   {
    "duration": 9,
    "start_time": "2023-09-17T17:32:11.144Z"
   },
   {
    "duration": 9,
    "start_time": "2023-09-17T17:32:11.155Z"
   },
   {
    "duration": 305,
    "start_time": "2023-09-17T17:32:11.168Z"
   },
   {
    "duration": 10,
    "start_time": "2023-09-17T17:32:11.476Z"
   },
   {
    "duration": 148,
    "start_time": "2023-09-17T17:32:11.488Z"
   },
   {
    "duration": 32,
    "start_time": "2023-09-17T17:32:11.638Z"
   },
   {
    "duration": 24,
    "start_time": "2023-09-17T17:32:11.673Z"
   },
   {
    "duration": 208,
    "start_time": "2023-09-17T17:32:11.703Z"
   },
   {
    "duration": 10,
    "start_time": "2023-09-17T17:32:11.913Z"
   },
   {
    "duration": 23,
    "start_time": "2023-09-17T17:32:11.925Z"
   },
   {
    "duration": 13,
    "start_time": "2023-09-17T17:32:11.952Z"
   },
   {
    "duration": 143,
    "start_time": "2023-09-17T17:32:11.967Z"
   },
   {
    "duration": 8,
    "start_time": "2023-09-17T17:32:12.111Z"
   },
   {
    "duration": 28,
    "start_time": "2023-09-17T17:32:12.121Z"
   },
   {
    "duration": 31,
    "start_time": "2023-09-17T17:32:12.151Z"
   },
   {
    "duration": 177,
    "start_time": "2023-09-17T17:32:12.184Z"
   },
   {
    "duration": 187,
    "start_time": "2023-09-17T17:32:12.366Z"
   },
   {
    "duration": 11,
    "start_time": "2023-09-17T17:32:12.561Z"
   },
   {
    "duration": 129,
    "start_time": "2023-09-17T17:32:12.574Z"
   },
   {
    "duration": 8,
    "start_time": "2023-09-17T17:32:12.705Z"
   },
   {
    "duration": 8,
    "start_time": "2023-09-17T17:32:12.714Z"
   },
   {
    "duration": 182,
    "start_time": "2023-09-17T17:32:12.723Z"
   },
   {
    "duration": 9,
    "start_time": "2023-09-17T17:32:12.907Z"
   },
   {
    "duration": 195,
    "start_time": "2023-09-17T17:32:12.917Z"
   },
   {
    "duration": 9,
    "start_time": "2023-09-17T17:32:13.115Z"
   },
   {
    "duration": 250,
    "start_time": "2023-09-17T17:32:13.127Z"
   },
   {
    "duration": 10,
    "start_time": "2023-09-17T17:32:13.379Z"
   },
   {
    "duration": 131,
    "start_time": "2023-09-17T17:32:13.390Z"
   },
   {
    "duration": 25,
    "start_time": "2023-09-17T17:32:13.523Z"
   },
   {
    "duration": 262,
    "start_time": "2023-09-17T17:32:13.552Z"
   },
   {
    "duration": 10,
    "start_time": "2023-09-17T17:32:13.816Z"
   },
   {
    "duration": 185,
    "start_time": "2023-09-17T17:32:13.828Z"
   },
   {
    "duration": 291,
    "start_time": "2023-09-17T17:32:14.015Z"
   },
   {
    "duration": 7,
    "start_time": "2023-09-17T17:32:14.308Z"
   },
   {
    "duration": 225,
    "start_time": "2023-09-17T17:32:14.317Z"
   },
   {
    "duration": 294,
    "start_time": "2023-09-17T17:32:14.544Z"
   },
   {
    "duration": 224,
    "start_time": "2023-09-17T17:32:14.853Z"
   },
   {
    "duration": 213,
    "start_time": "2023-09-17T17:32:15.081Z"
   },
   {
    "duration": 158,
    "start_time": "2023-09-17T17:32:15.296Z"
   },
   {
    "duration": 231,
    "start_time": "2023-09-17T17:32:15.456Z"
   },
   {
    "duration": 213,
    "start_time": "2023-09-17T17:32:15.689Z"
   },
   {
    "duration": 182,
    "start_time": "2023-09-17T17:32:15.903Z"
   },
   {
    "duration": 20,
    "start_time": "2023-09-17T17:34:50.767Z"
   },
   {
    "duration": 13,
    "start_time": "2023-09-17T17:35:11.342Z"
   },
   {
    "duration": 915,
    "start_time": "2023-09-17T17:35:18.918Z"
   },
   {
    "duration": 72,
    "start_time": "2023-09-17T17:35:19.835Z"
   },
   {
    "duration": 17,
    "start_time": "2023-09-17T17:35:19.909Z"
   },
   {
    "duration": 2215,
    "start_time": "2023-09-17T17:35:19.928Z"
   },
   {
    "duration": 17,
    "start_time": "2023-09-17T17:35:22.148Z"
   },
   {
    "duration": 13,
    "start_time": "2023-09-17T17:35:22.170Z"
   },
   {
    "duration": 5,
    "start_time": "2023-09-17T17:35:22.185Z"
   },
   {
    "duration": 24,
    "start_time": "2023-09-17T17:35:22.192Z"
   },
   {
    "duration": 23,
    "start_time": "2023-09-17T17:35:22.217Z"
   },
   {
    "duration": 10,
    "start_time": "2023-09-17T17:35:22.243Z"
   },
   {
    "duration": 35,
    "start_time": "2023-09-17T17:35:22.254Z"
   },
   {
    "duration": 25,
    "start_time": "2023-09-17T17:35:22.294Z"
   },
   {
    "duration": 15,
    "start_time": "2023-09-17T17:35:22.321Z"
   },
   {
    "duration": 31,
    "start_time": "2023-09-17T17:35:22.338Z"
   },
   {
    "duration": 22,
    "start_time": "2023-09-17T17:35:22.376Z"
   },
   {
    "duration": 5,
    "start_time": "2023-09-17T17:35:22.400Z"
   },
   {
    "duration": 290,
    "start_time": "2023-09-17T17:35:22.407Z"
   },
   {
    "duration": 21,
    "start_time": "2023-09-17T17:35:22.699Z"
   },
   {
    "duration": 64,
    "start_time": "2023-09-17T17:35:22.722Z"
   },
   {
    "duration": 115,
    "start_time": "2023-09-17T17:35:22.788Z"
   },
   {
    "duration": 26,
    "start_time": "2023-09-17T17:35:22.905Z"
   },
   {
    "duration": 39,
    "start_time": "2023-09-17T17:35:22.933Z"
   },
   {
    "duration": 10,
    "start_time": "2023-09-17T17:35:22.978Z"
   },
   {
    "duration": 16,
    "start_time": "2023-09-17T17:35:22.989Z"
   },
   {
    "duration": 420,
    "start_time": "2023-09-17T17:35:23.007Z"
   },
   {
    "duration": 17,
    "start_time": "2023-09-17T17:35:23.429Z"
   },
   {
    "duration": 35,
    "start_time": "2023-09-17T17:35:23.456Z"
   },
   {
    "duration": 12,
    "start_time": "2023-09-17T17:35:23.497Z"
   },
   {
    "duration": 163,
    "start_time": "2023-09-17T17:35:23.511Z"
   },
   {
    "duration": 18,
    "start_time": "2023-09-17T17:35:23.676Z"
   },
   {
    "duration": 66,
    "start_time": "2023-09-17T17:35:23.695Z"
   },
   {
    "duration": 10,
    "start_time": "2023-09-17T17:35:23.762Z"
   },
   {
    "duration": 314,
    "start_time": "2023-09-17T17:35:23.775Z"
   },
   {
    "duration": 14,
    "start_time": "2023-09-17T17:35:24.091Z"
   },
   {
    "duration": 376,
    "start_time": "2023-09-17T17:35:24.106Z"
   },
   {
    "duration": 17,
    "start_time": "2023-09-17T17:35:24.486Z"
   },
   {
    "duration": 31,
    "start_time": "2023-09-17T17:35:24.505Z"
   },
   {
    "duration": 61,
    "start_time": "2023-09-17T17:35:24.539Z"
   },
   {
    "duration": 334,
    "start_time": "2023-09-17T17:35:24.602Z"
   },
   {
    "duration": 30,
    "start_time": "2023-09-17T17:35:24.937Z"
   },
   {
    "duration": 155,
    "start_time": "2023-09-17T17:35:24.969Z"
   },
   {
    "duration": 9,
    "start_time": "2023-09-17T17:35:25.126Z"
   },
   {
    "duration": 64,
    "start_time": "2023-09-17T17:35:25.137Z"
   },
   {
    "duration": 57,
    "start_time": "2023-09-17T17:35:25.203Z"
   },
   {
    "duration": 9,
    "start_time": "2023-09-17T17:35:25.262Z"
   },
   {
    "duration": 207,
    "start_time": "2023-09-17T17:35:25.273Z"
   },
   {
    "duration": 12,
    "start_time": "2023-09-17T17:35:25.483Z"
   },
   {
    "duration": 9,
    "start_time": "2023-09-17T17:35:25.497Z"
   },
   {
    "duration": 301,
    "start_time": "2023-09-17T17:35:25.507Z"
   },
   {
    "duration": 8,
    "start_time": "2023-09-17T17:35:25.809Z"
   },
   {
    "duration": 139,
    "start_time": "2023-09-17T17:35:25.819Z"
   },
   {
    "duration": 10,
    "start_time": "2023-09-17T17:35:25.960Z"
   },
   {
    "duration": 22,
    "start_time": "2023-09-17T17:35:25.971Z"
   },
   {
    "duration": 189,
    "start_time": "2023-09-17T17:35:25.995Z"
   },
   {
    "duration": 10,
    "start_time": "2023-09-17T17:35:26.189Z"
   },
   {
    "duration": 17,
    "start_time": "2023-09-17T17:35:26.201Z"
   },
   {
    "duration": 22,
    "start_time": "2023-09-17T17:35:26.220Z"
   },
   {
    "duration": 136,
    "start_time": "2023-09-17T17:35:26.249Z"
   },
   {
    "duration": 12,
    "start_time": "2023-09-17T17:35:26.388Z"
   },
   {
    "duration": 7,
    "start_time": "2023-09-17T17:35:26.402Z"
   },
   {
    "duration": 6,
    "start_time": "2023-09-17T17:35:26.411Z"
   },
   {
    "duration": 160,
    "start_time": "2023-09-17T17:35:26.419Z"
   },
   {
    "duration": 201,
    "start_time": "2023-09-17T17:35:26.582Z"
   },
   {
    "duration": 12,
    "start_time": "2023-09-17T17:35:26.785Z"
   },
   {
    "duration": 117,
    "start_time": "2023-09-17T17:35:26.799Z"
   },
   {
    "duration": 9,
    "start_time": "2023-09-17T17:35:26.917Z"
   },
   {
    "duration": 18,
    "start_time": "2023-09-17T17:35:26.928Z"
   },
   {
    "duration": 179,
    "start_time": "2023-09-17T17:35:26.948Z"
   },
   {
    "duration": 24,
    "start_time": "2023-09-17T17:35:27.128Z"
   },
   {
    "duration": 117,
    "start_time": "2023-09-17T17:35:27.154Z"
   },
   {
    "duration": 13,
    "start_time": "2023-09-17T17:35:27.274Z"
   },
   {
    "duration": 232,
    "start_time": "2023-09-17T17:35:27.289Z"
   },
   {
    "duration": 8,
    "start_time": "2023-09-17T17:35:27.523Z"
   },
   {
    "duration": 135,
    "start_time": "2023-09-17T17:35:27.545Z"
   },
   {
    "duration": 8,
    "start_time": "2023-09-17T17:35:27.682Z"
   },
   {
    "duration": 246,
    "start_time": "2023-09-17T17:35:27.692Z"
   },
   {
    "duration": 19,
    "start_time": "2023-09-17T17:35:27.940Z"
   },
   {
    "duration": 141,
    "start_time": "2023-09-17T17:35:27.961Z"
   },
   {
    "duration": 213,
    "start_time": "2023-09-17T17:35:28.104Z"
   },
   {
    "duration": 7,
    "start_time": "2023-09-17T17:35:28.319Z"
   },
   {
    "duration": 176,
    "start_time": "2023-09-17T17:35:28.327Z"
   },
   {
    "duration": 258,
    "start_time": "2023-09-17T17:35:28.510Z"
   },
   {
    "duration": 142,
    "start_time": "2023-09-17T17:35:28.769Z"
   },
   {
    "duration": 207,
    "start_time": "2023-09-17T17:35:28.912Z"
   },
   {
    "duration": 180,
    "start_time": "2023-09-17T17:35:29.122Z"
   },
   {
    "duration": 163,
    "start_time": "2023-09-17T17:35:29.304Z"
   },
   {
    "duration": 160,
    "start_time": "2023-09-17T17:35:29.468Z"
   },
   {
    "duration": 148,
    "start_time": "2023-09-17T17:35:29.630Z"
   },
   {
    "duration": 863,
    "start_time": "2023-09-17T17:36:25.562Z"
   },
   {
    "duration": 85,
    "start_time": "2023-09-17T17:36:26.426Z"
   },
   {
    "duration": 16,
    "start_time": "2023-09-17T17:36:26.513Z"
   },
   {
    "duration": 2274,
    "start_time": "2023-09-17T17:36:26.553Z"
   },
   {
    "duration": 10,
    "start_time": "2023-09-17T17:36:28.829Z"
   },
   {
    "duration": 35,
    "start_time": "2023-09-17T17:36:28.841Z"
   },
   {
    "duration": 15,
    "start_time": "2023-09-17T17:36:28.883Z"
   },
   {
    "duration": 9,
    "start_time": "2023-09-17T17:36:28.900Z"
   },
   {
    "duration": 18,
    "start_time": "2023-09-17T17:36:28.911Z"
   },
   {
    "duration": 7,
    "start_time": "2023-09-17T17:36:28.931Z"
   },
   {
    "duration": 44,
    "start_time": "2023-09-17T17:36:28.939Z"
   },
   {
    "duration": 26,
    "start_time": "2023-09-17T17:36:28.991Z"
   },
   {
    "duration": 27,
    "start_time": "2023-09-17T17:36:29.018Z"
   },
   {
    "duration": 32,
    "start_time": "2023-09-17T17:36:29.049Z"
   },
   {
    "duration": 24,
    "start_time": "2023-09-17T17:36:29.084Z"
   },
   {
    "duration": 8,
    "start_time": "2023-09-17T17:36:29.110Z"
   },
   {
    "duration": 306,
    "start_time": "2023-09-17T17:36:29.120Z"
   },
   {
    "duration": 33,
    "start_time": "2023-09-17T17:36:29.428Z"
   },
   {
    "duration": 8,
    "start_time": "2023-09-17T17:36:29.463Z"
   },
   {
    "duration": 18,
    "start_time": "2023-09-17T17:36:29.474Z"
   },
   {
    "duration": 12,
    "start_time": "2023-09-17T17:36:29.494Z"
   },
   {
    "duration": 21,
    "start_time": "2023-09-17T17:36:29.507Z"
   },
   {
    "duration": 10,
    "start_time": "2023-09-17T17:36:29.531Z"
   },
   {
    "duration": 8,
    "start_time": "2023-09-17T17:36:29.545Z"
   },
   {
    "duration": 458,
    "start_time": "2023-09-17T17:36:29.565Z"
   },
   {
    "duration": 5,
    "start_time": "2023-09-17T17:36:30.025Z"
   },
   {
    "duration": 98,
    "start_time": "2023-09-17T17:36:30.032Z"
   },
   {
    "duration": 29,
    "start_time": "2023-09-17T17:36:30.132Z"
   },
   {
    "duration": 197,
    "start_time": "2023-09-17T17:36:30.163Z"
   },
   {
    "duration": 22,
    "start_time": "2023-09-17T17:36:30.362Z"
   },
   {
    "duration": 73,
    "start_time": "2023-09-17T17:36:30.386Z"
   },
   {
    "duration": 56,
    "start_time": "2023-09-17T17:36:30.460Z"
   },
   {
    "duration": 394,
    "start_time": "2023-09-17T17:36:30.518Z"
   },
   {
    "duration": 9,
    "start_time": "2023-09-17T17:36:30.914Z"
   },
   {
    "duration": 367,
    "start_time": "2023-09-17T17:36:30.924Z"
   },
   {
    "duration": 10,
    "start_time": "2023-09-17T17:36:31.293Z"
   },
   {
    "duration": 73,
    "start_time": "2023-09-17T17:36:31.305Z"
   },
   {
    "duration": 81,
    "start_time": "2023-09-17T17:36:31.379Z"
   },
   {
    "duration": 424,
    "start_time": "2023-09-17T17:36:31.463Z"
   },
   {
    "duration": 18,
    "start_time": "2023-09-17T17:36:31.895Z"
   },
   {
    "duration": 195,
    "start_time": "2023-09-17T17:36:31.919Z"
   },
   {
    "duration": 8,
    "start_time": "2023-09-17T17:36:32.116Z"
   },
   {
    "duration": 58,
    "start_time": "2023-09-17T17:36:32.126Z"
   },
   {
    "duration": 26,
    "start_time": "2023-09-17T17:36:32.189Z"
   },
   {
    "duration": 31,
    "start_time": "2023-09-17T17:36:32.217Z"
   },
   {
    "duration": 255,
    "start_time": "2023-09-17T17:36:32.250Z"
   },
   {
    "duration": 15,
    "start_time": "2023-09-17T17:36:32.513Z"
   },
   {
    "duration": 35,
    "start_time": "2023-09-17T17:36:32.530Z"
   },
   {
    "duration": 337,
    "start_time": "2023-09-17T17:36:32.569Z"
   },
   {
    "duration": 14,
    "start_time": "2023-09-17T17:36:32.909Z"
   },
   {
    "duration": 217,
    "start_time": "2023-09-17T17:36:32.925Z"
   },
   {
    "duration": 19,
    "start_time": "2023-09-17T17:36:33.144Z"
   },
   {
    "duration": 18,
    "start_time": "2023-09-17T17:36:33.168Z"
   },
   {
    "duration": 202,
    "start_time": "2023-09-17T17:36:33.188Z"
   },
   {
    "duration": 12,
    "start_time": "2023-09-17T17:36:33.398Z"
   },
   {
    "duration": 50,
    "start_time": "2023-09-17T17:36:33.411Z"
   },
   {
    "duration": 36,
    "start_time": "2023-09-17T17:36:33.463Z"
   },
   {
    "duration": 168,
    "start_time": "2023-09-17T17:36:33.502Z"
   },
   {
    "duration": 19,
    "start_time": "2023-09-17T17:36:33.681Z"
   },
   {
    "duration": 11,
    "start_time": "2023-09-17T17:36:33.702Z"
   },
   {
    "duration": 44,
    "start_time": "2023-09-17T17:36:33.715Z"
   },
   {
    "duration": 202,
    "start_time": "2023-09-17T17:36:33.768Z"
   },
   {
    "duration": 200,
    "start_time": "2023-09-17T17:36:33.972Z"
   },
   {
    "duration": 13,
    "start_time": "2023-09-17T17:36:34.176Z"
   },
   {
    "duration": 122,
    "start_time": "2023-09-17T17:36:34.191Z"
   },
   {
    "duration": 7,
    "start_time": "2023-09-17T17:36:34.315Z"
   },
   {
    "duration": 36,
    "start_time": "2023-09-17T17:36:34.324Z"
   },
   {
    "duration": 198,
    "start_time": "2023-09-17T17:36:34.362Z"
   },
   {
    "duration": 14,
    "start_time": "2023-09-17T17:36:34.561Z"
   },
   {
    "duration": 157,
    "start_time": "2023-09-17T17:36:34.577Z"
   },
   {
    "duration": 10,
    "start_time": "2023-09-17T17:36:34.738Z"
   },
   {
    "duration": 279,
    "start_time": "2023-09-17T17:36:34.756Z"
   },
   {
    "duration": 25,
    "start_time": "2023-09-17T17:36:35.037Z"
   },
   {
    "duration": 146,
    "start_time": "2023-09-17T17:36:35.070Z"
   },
   {
    "duration": 8,
    "start_time": "2023-09-17T17:36:35.218Z"
   },
   {
    "duration": 302,
    "start_time": "2023-09-17T17:36:35.228Z"
   },
   {
    "duration": 12,
    "start_time": "2023-09-17T17:36:35.532Z"
   },
   {
    "duration": 214,
    "start_time": "2023-09-17T17:36:35.546Z"
   },
   {
    "duration": 271,
    "start_time": "2023-09-17T17:36:35.764Z"
   },
   {
    "duration": 16,
    "start_time": "2023-09-17T17:36:36.037Z"
   },
   {
    "duration": 300,
    "start_time": "2023-09-17T17:36:36.055Z"
   },
   {
    "duration": 347,
    "start_time": "2023-09-17T17:36:36.357Z"
   },
   {
    "duration": 202,
    "start_time": "2023-09-17T17:36:36.706Z"
   },
   {
    "duration": 190,
    "start_time": "2023-09-17T17:36:36.909Z"
   },
   {
    "duration": 180,
    "start_time": "2023-09-17T17:36:37.101Z"
   },
   {
    "duration": 145,
    "start_time": "2023-09-17T17:36:37.289Z"
   },
   {
    "duration": 155,
    "start_time": "2023-09-17T17:36:37.436Z"
   },
   {
    "duration": 166,
    "start_time": "2023-09-17T17:36:37.593Z"
   },
   {
    "duration": 12,
    "start_time": "2023-09-17T17:42:22.084Z"
   },
   {
    "duration": 13,
    "start_time": "2023-09-17T17:42:28.368Z"
   },
   {
    "duration": 7,
    "start_time": "2023-09-17T17:42:38.821Z"
   },
   {
    "duration": 159,
    "start_time": "2023-09-17T17:42:43.064Z"
   },
   {
    "duration": 158,
    "start_time": "2023-09-17T17:42:45.783Z"
   },
   {
    "duration": 19,
    "start_time": "2023-09-17T17:42:56.463Z"
   },
   {
    "duration": 1131,
    "start_time": "2023-09-17T17:43:14.144Z"
   },
   {
    "duration": 59,
    "start_time": "2023-09-17T17:43:15.277Z"
   },
   {
    "duration": 61,
    "start_time": "2023-09-17T17:43:15.337Z"
   },
   {
    "duration": 2364,
    "start_time": "2023-09-17T17:43:15.400Z"
   },
   {
    "duration": 19,
    "start_time": "2023-09-17T17:43:17.767Z"
   },
   {
    "duration": 25,
    "start_time": "2023-09-17T17:43:17.789Z"
   },
   {
    "duration": 6,
    "start_time": "2023-09-17T17:43:17.816Z"
   },
   {
    "duration": 27,
    "start_time": "2023-09-17T17:43:17.824Z"
   },
   {
    "duration": 20,
    "start_time": "2023-09-17T17:43:17.854Z"
   },
   {
    "duration": 8,
    "start_time": "2023-09-17T17:43:17.879Z"
   },
   {
    "duration": 29,
    "start_time": "2023-09-17T17:43:17.889Z"
   },
   {
    "duration": 28,
    "start_time": "2023-09-17T17:43:17.919Z"
   },
   {
    "duration": 42,
    "start_time": "2023-09-17T17:43:17.948Z"
   },
   {
    "duration": 17,
    "start_time": "2023-09-17T17:43:17.992Z"
   },
   {
    "duration": 20,
    "start_time": "2023-09-17T17:43:18.011Z"
   },
   {
    "duration": 28,
    "start_time": "2023-09-17T17:43:18.032Z"
   },
   {
    "duration": 374,
    "start_time": "2023-09-17T17:43:18.062Z"
   },
   {
    "duration": 35,
    "start_time": "2023-09-17T17:43:18.438Z"
   },
   {
    "duration": 8,
    "start_time": "2023-09-17T17:43:18.475Z"
   },
   {
    "duration": 19,
    "start_time": "2023-09-17T17:43:18.485Z"
   },
   {
    "duration": 35,
    "start_time": "2023-09-17T17:43:18.506Z"
   },
   {
    "duration": 20,
    "start_time": "2023-09-17T17:43:18.542Z"
   },
   {
    "duration": 8,
    "start_time": "2023-09-17T17:43:18.564Z"
   },
   {
    "duration": 18,
    "start_time": "2023-09-17T17:43:18.574Z"
   },
   {
    "duration": 444,
    "start_time": "2023-09-17T17:43:18.597Z"
   },
   {
    "duration": 19,
    "start_time": "2023-09-17T17:43:19.043Z"
   },
   {
    "duration": 45,
    "start_time": "2023-09-17T17:43:19.064Z"
   },
   {
    "duration": 18,
    "start_time": "2023-09-17T17:43:19.113Z"
   },
   {
    "duration": 147,
    "start_time": "2023-09-17T17:43:19.133Z"
   },
   {
    "duration": 12,
    "start_time": "2023-09-17T17:43:19.284Z"
   },
   {
    "duration": 61,
    "start_time": "2023-09-17T17:43:19.298Z"
   },
   {
    "duration": 33,
    "start_time": "2023-09-17T17:43:19.361Z"
   },
   {
    "duration": 361,
    "start_time": "2023-09-17T17:43:19.396Z"
   },
   {
    "duration": 16,
    "start_time": "2023-09-17T17:43:19.759Z"
   },
   {
    "duration": 235,
    "start_time": "2023-09-17T17:43:19.777Z"
   },
   {
    "duration": 12,
    "start_time": "2023-09-17T17:43:20.014Z"
   },
   {
    "duration": 52,
    "start_time": "2023-09-17T17:43:20.028Z"
   },
   {
    "duration": 10,
    "start_time": "2023-09-17T17:43:20.091Z"
   },
   {
    "duration": 382,
    "start_time": "2023-09-17T17:43:20.103Z"
   },
   {
    "duration": 9,
    "start_time": "2023-09-17T17:43:20.492Z"
   },
   {
    "duration": 136,
    "start_time": "2023-09-17T17:43:20.502Z"
   },
   {
    "duration": 23,
    "start_time": "2023-09-17T17:43:20.640Z"
   },
   {
    "duration": 27,
    "start_time": "2023-09-17T17:43:20.665Z"
   },
   {
    "duration": 37,
    "start_time": "2023-09-17T17:43:20.694Z"
   },
   {
    "duration": 14,
    "start_time": "2023-09-17T17:43:20.733Z"
   },
   {
    "duration": 204,
    "start_time": "2023-09-17T17:43:20.753Z"
   },
   {
    "duration": 13,
    "start_time": "2023-09-17T17:43:20.959Z"
   },
   {
    "duration": 25,
    "start_time": "2023-09-17T17:43:20.974Z"
   },
   {
    "duration": 281,
    "start_time": "2023-09-17T17:43:21.001Z"
   },
   {
    "duration": 12,
    "start_time": "2023-09-17T17:43:21.284Z"
   },
   {
    "duration": 160,
    "start_time": "2023-09-17T17:43:21.298Z"
   },
   {
    "duration": 11,
    "start_time": "2023-09-17T17:43:21.461Z"
   },
   {
    "duration": 22,
    "start_time": "2023-09-17T17:43:21.474Z"
   },
   {
    "duration": 163,
    "start_time": "2023-09-17T17:43:21.497Z"
   },
   {
    "duration": 14,
    "start_time": "2023-09-17T17:43:21.662Z"
   },
   {
    "duration": 7,
    "start_time": "2023-09-17T17:43:21.678Z"
   },
   {
    "duration": 14,
    "start_time": "2023-09-17T17:43:21.690Z"
   },
   {
    "duration": 143,
    "start_time": "2023-09-17T17:43:21.706Z"
   },
   {
    "duration": 11,
    "start_time": "2023-09-17T17:43:21.851Z"
   },
   {
    "duration": 13,
    "start_time": "2023-09-17T17:43:21.864Z"
   },
   {
    "duration": 12,
    "start_time": "2023-09-17T17:43:21.879Z"
   },
   {
    "duration": 192,
    "start_time": "2023-09-17T17:43:21.897Z"
   },
   {
    "duration": 224,
    "start_time": "2023-09-17T17:43:22.091Z"
   },
   {
    "duration": 8,
    "start_time": "2023-09-17T17:43:22.317Z"
   },
   {
    "duration": 164,
    "start_time": "2023-09-17T17:43:22.326Z"
   },
   {
    "duration": 8,
    "start_time": "2023-09-17T17:43:22.492Z"
   },
   {
    "duration": 11,
    "start_time": "2023-09-17T17:43:22.501Z"
   },
   {
    "duration": 202,
    "start_time": "2023-09-17T17:43:22.514Z"
   },
   {
    "duration": 10,
    "start_time": "2023-09-17T17:43:22.718Z"
   },
   {
    "duration": 148,
    "start_time": "2023-09-17T17:43:22.730Z"
   },
   {
    "duration": 14,
    "start_time": "2023-09-17T17:43:22.882Z"
   },
   {
    "duration": 299,
    "start_time": "2023-09-17T17:43:22.898Z"
   },
   {
    "duration": 12,
    "start_time": "2023-09-17T17:43:23.199Z"
   },
   {
    "duration": 180,
    "start_time": "2023-09-17T17:43:23.213Z"
   },
   {
    "duration": 7,
    "start_time": "2023-09-17T17:43:23.395Z"
   },
   {
    "duration": 263,
    "start_time": "2023-09-17T17:43:23.404Z"
   },
   {
    "duration": 13,
    "start_time": "2023-09-17T17:43:23.670Z"
   },
   {
    "duration": 218,
    "start_time": "2023-09-17T17:43:23.690Z"
   },
   {
    "duration": 250,
    "start_time": "2023-09-17T17:43:23.910Z"
   },
   {
    "duration": 14,
    "start_time": "2023-09-17T17:43:24.164Z"
   },
   {
    "duration": 235,
    "start_time": "2023-09-17T17:43:24.180Z"
   },
   {
    "duration": 397,
    "start_time": "2023-09-17T17:43:24.423Z"
   },
   {
    "duration": 236,
    "start_time": "2023-09-17T17:43:24.822Z"
   },
   {
    "duration": 190,
    "start_time": "2023-09-17T17:43:25.060Z"
   },
   {
    "duration": 170,
    "start_time": "2023-09-17T17:43:25.253Z"
   },
   {
    "duration": 181,
    "start_time": "2023-09-17T17:43:25.425Z"
   },
   {
    "duration": 152,
    "start_time": "2023-09-17T17:43:25.608Z"
   },
   {
    "duration": 149,
    "start_time": "2023-09-17T17:43:25.770Z"
   },
   {
    "duration": 9,
    "start_time": "2023-09-17T17:44:52.368Z"
   },
   {
    "duration": 972,
    "start_time": "2023-09-17T17:45:26.340Z"
   },
   {
    "duration": 60,
    "start_time": "2023-09-17T17:45:27.314Z"
   },
   {
    "duration": 28,
    "start_time": "2023-09-17T17:45:27.377Z"
   },
   {
    "duration": 2500,
    "start_time": "2023-09-17T17:45:27.407Z"
   },
   {
    "duration": 11,
    "start_time": "2023-09-17T17:45:29.909Z"
   },
   {
    "duration": 15,
    "start_time": "2023-09-17T17:45:29.922Z"
   },
   {
    "duration": 14,
    "start_time": "2023-09-17T17:45:29.938Z"
   },
   {
    "duration": 31,
    "start_time": "2023-09-17T17:45:29.956Z"
   },
   {
    "duration": 15,
    "start_time": "2023-09-17T17:45:29.996Z"
   },
   {
    "duration": 8,
    "start_time": "2023-09-17T17:45:30.014Z"
   },
   {
    "duration": 84,
    "start_time": "2023-09-17T17:45:30.023Z"
   },
   {
    "duration": 72,
    "start_time": "2023-09-17T17:45:30.109Z"
   },
   {
    "duration": 31,
    "start_time": "2023-09-17T17:45:30.183Z"
   },
   {
    "duration": 57,
    "start_time": "2023-09-17T17:45:30.216Z"
   },
   {
    "duration": 63,
    "start_time": "2023-09-17T17:45:30.275Z"
   },
   {
    "duration": 12,
    "start_time": "2023-09-17T17:45:30.340Z"
   },
   {
    "duration": 339,
    "start_time": "2023-09-17T17:45:30.354Z"
   },
   {
    "duration": 30,
    "start_time": "2023-09-17T17:45:30.694Z"
   },
   {
    "duration": 63,
    "start_time": "2023-09-17T17:45:30.726Z"
   },
   {
    "duration": 65,
    "start_time": "2023-09-17T17:45:30.791Z"
   },
   {
    "duration": 100,
    "start_time": "2023-09-17T17:45:30.858Z"
   },
   {
    "duration": 44,
    "start_time": "2023-09-17T17:45:30.960Z"
   },
   {
    "duration": 38,
    "start_time": "2023-09-17T17:45:31.007Z"
   },
   {
    "duration": 50,
    "start_time": "2023-09-17T17:45:31.047Z"
   },
   {
    "duration": 468,
    "start_time": "2023-09-17T17:45:31.100Z"
   },
   {
    "duration": 11,
    "start_time": "2023-09-17T17:45:31.569Z"
   },
   {
    "duration": 55,
    "start_time": "2023-09-17T17:45:31.581Z"
   },
   {
    "duration": 54,
    "start_time": "2023-09-17T17:45:31.639Z"
   },
   {
    "duration": 181,
    "start_time": "2023-09-17T17:45:31.694Z"
   },
   {
    "duration": 17,
    "start_time": "2023-09-17T17:45:31.884Z"
   },
   {
    "duration": 46,
    "start_time": "2023-09-17T17:45:31.903Z"
   },
   {
    "duration": 131,
    "start_time": "2023-09-17T17:45:31.951Z"
   },
   {
    "duration": 416,
    "start_time": "2023-09-17T17:45:32.089Z"
   },
   {
    "duration": 15,
    "start_time": "2023-09-17T17:45:32.507Z"
   },
   {
    "duration": 294,
    "start_time": "2023-09-17T17:45:32.526Z"
   },
   {
    "duration": 8,
    "start_time": "2023-09-17T17:45:32.822Z"
   },
   {
    "duration": 42,
    "start_time": "2023-09-17T17:45:32.831Z"
   },
   {
    "duration": 19,
    "start_time": "2023-09-17T17:45:32.877Z"
   },
   {
    "duration": 324,
    "start_time": "2023-09-17T17:45:32.898Z"
   },
   {
    "duration": 13,
    "start_time": "2023-09-17T17:45:33.223Z"
   },
   {
    "duration": 172,
    "start_time": "2023-09-17T17:45:33.254Z"
   },
   {
    "duration": 8,
    "start_time": "2023-09-17T17:45:33.428Z"
   },
   {
    "duration": 17,
    "start_time": "2023-09-17T17:45:33.438Z"
   },
   {
    "duration": 24,
    "start_time": "2023-09-17T17:45:33.456Z"
   },
   {
    "duration": 18,
    "start_time": "2023-09-17T17:45:33.484Z"
   },
   {
    "duration": 211,
    "start_time": "2023-09-17T17:45:33.504Z"
   },
   {
    "duration": 10,
    "start_time": "2023-09-17T17:45:33.718Z"
   },
   {
    "duration": 50,
    "start_time": "2023-09-17T17:45:33.730Z"
   },
   {
    "duration": 326,
    "start_time": "2023-09-17T17:45:33.787Z"
   },
   {
    "duration": 8,
    "start_time": "2023-09-17T17:45:34.115Z"
   },
   {
    "duration": 176,
    "start_time": "2023-09-17T17:45:34.124Z"
   },
   {
    "duration": 11,
    "start_time": "2023-09-17T17:45:34.302Z"
   },
   {
    "duration": 21,
    "start_time": "2023-09-17T17:45:34.315Z"
   },
   {
    "duration": 217,
    "start_time": "2023-09-17T17:45:34.337Z"
   },
   {
    "duration": 28,
    "start_time": "2023-09-17T17:45:34.556Z"
   },
   {
    "duration": 25,
    "start_time": "2023-09-17T17:45:34.586Z"
   },
   {
    "duration": 23,
    "start_time": "2023-09-17T17:45:34.613Z"
   },
   {
    "duration": 189,
    "start_time": "2023-09-17T17:45:34.640Z"
   },
   {
    "duration": 12,
    "start_time": "2023-09-17T17:45:34.831Z"
   },
   {
    "duration": 24,
    "start_time": "2023-09-17T17:45:34.845Z"
   },
   {
    "duration": 17,
    "start_time": "2023-09-17T17:45:34.870Z"
   },
   {
    "duration": 247,
    "start_time": "2023-09-17T17:45:34.890Z"
   },
   {
    "duration": 272,
    "start_time": "2023-09-17T17:45:35.139Z"
   },
   {
    "duration": 10,
    "start_time": "2023-09-17T17:45:35.413Z"
   },
   {
    "duration": 179,
    "start_time": "2023-09-17T17:45:35.425Z"
   },
   {
    "duration": 10,
    "start_time": "2023-09-17T17:45:35.606Z"
   },
   {
    "duration": 57,
    "start_time": "2023-09-17T17:45:35.617Z"
   },
   {
    "duration": 186,
    "start_time": "2023-09-17T17:45:35.679Z"
   },
   {
    "duration": 19,
    "start_time": "2023-09-17T17:45:35.873Z"
   },
   {
    "duration": 142,
    "start_time": "2023-09-17T17:45:35.894Z"
   },
   {
    "duration": 20,
    "start_time": "2023-09-17T17:45:36.038Z"
   },
   {
    "duration": 289,
    "start_time": "2023-09-17T17:45:36.060Z"
   },
   {
    "duration": 10,
    "start_time": "2023-09-17T17:45:36.351Z"
   },
   {
    "duration": 157,
    "start_time": "2023-09-17T17:45:36.362Z"
   },
   {
    "duration": 7,
    "start_time": "2023-09-17T17:45:36.521Z"
   },
   {
    "duration": 295,
    "start_time": "2023-09-17T17:45:36.530Z"
   },
   {
    "duration": 12,
    "start_time": "2023-09-17T17:45:36.828Z"
   },
   {
    "duration": 172,
    "start_time": "2023-09-17T17:45:36.851Z"
   },
   {
    "duration": 281,
    "start_time": "2023-09-17T17:45:37.025Z"
   },
   {
    "duration": 8,
    "start_time": "2023-09-17T17:45:37.308Z"
   },
   {
    "duration": 244,
    "start_time": "2023-09-17T17:45:37.318Z"
   },
   {
    "duration": 335,
    "start_time": "2023-09-17T17:45:37.570Z"
   },
   {
    "duration": 231,
    "start_time": "2023-09-17T17:45:37.906Z"
   },
   {
    "duration": 222,
    "start_time": "2023-09-17T17:45:38.139Z"
   },
   {
    "duration": 175,
    "start_time": "2023-09-17T17:45:38.363Z"
   },
   {
    "duration": 186,
    "start_time": "2023-09-17T17:45:38.540Z"
   },
   {
    "duration": 176,
    "start_time": "2023-09-17T17:45:38.728Z"
   },
   {
    "duration": 175,
    "start_time": "2023-09-17T17:45:38.906Z"
   },
   {
    "duration": 279,
    "start_time": "2023-09-17T17:47:12.435Z"
   },
   {
    "duration": 800,
    "start_time": "2023-09-17T17:51:14.970Z"
   },
   {
    "duration": 52,
    "start_time": "2023-09-17T17:51:15.772Z"
   },
   {
    "duration": 25,
    "start_time": "2023-09-17T17:51:15.826Z"
   },
   {
    "duration": 2019,
    "start_time": "2023-09-17T17:51:15.860Z"
   },
   {
    "duration": 12,
    "start_time": "2023-09-17T17:51:17.881Z"
   },
   {
    "duration": 32,
    "start_time": "2023-09-17T17:51:17.895Z"
   },
   {
    "duration": 14,
    "start_time": "2023-09-17T17:51:17.929Z"
   },
   {
    "duration": 28,
    "start_time": "2023-09-17T17:51:17.948Z"
   },
   {
    "duration": 27,
    "start_time": "2023-09-17T17:51:17.978Z"
   },
   {
    "duration": 24,
    "start_time": "2023-09-17T17:51:18.008Z"
   },
   {
    "duration": 54,
    "start_time": "2023-09-17T17:51:18.034Z"
   },
   {
    "duration": 40,
    "start_time": "2023-09-17T17:51:18.091Z"
   },
   {
    "duration": 49,
    "start_time": "2023-09-17T17:51:18.132Z"
   },
   {
    "duration": 30,
    "start_time": "2023-09-17T17:51:18.184Z"
   },
   {
    "duration": 40,
    "start_time": "2023-09-17T17:51:18.216Z"
   },
   {
    "duration": 44,
    "start_time": "2023-09-17T17:51:18.258Z"
   },
   {
    "duration": 298,
    "start_time": "2023-09-17T17:51:18.303Z"
   },
   {
    "duration": 19,
    "start_time": "2023-09-17T17:51:18.603Z"
   },
   {
    "duration": 15,
    "start_time": "2023-09-17T17:51:18.623Z"
   },
   {
    "duration": 18,
    "start_time": "2023-09-17T17:51:18.643Z"
   },
   {
    "duration": 11,
    "start_time": "2023-09-17T17:51:18.662Z"
   },
   {
    "duration": 14,
    "start_time": "2023-09-17T17:51:18.675Z"
   },
   {
    "duration": 30,
    "start_time": "2023-09-17T17:51:18.691Z"
   },
   {
    "duration": 19,
    "start_time": "2023-09-17T17:51:18.723Z"
   },
   {
    "duration": 375,
    "start_time": "2023-09-17T17:51:18.743Z"
   },
   {
    "duration": 4,
    "start_time": "2023-09-17T17:51:19.119Z"
   },
   {
    "duration": 50,
    "start_time": "2023-09-17T17:51:19.125Z"
   },
   {
    "duration": 8,
    "start_time": "2023-09-17T17:51:19.177Z"
   },
   {
    "duration": 135,
    "start_time": "2023-09-17T17:51:19.187Z"
   },
   {
    "duration": 10,
    "start_time": "2023-09-17T17:51:19.324Z"
   },
   {
    "duration": 65,
    "start_time": "2023-09-17T17:51:19.335Z"
   },
   {
    "duration": 26,
    "start_time": "2023-09-17T17:51:19.402Z"
   },
   {
    "duration": 279,
    "start_time": "2023-09-17T17:51:19.430Z"
   },
   {
    "duration": 9,
    "start_time": "2023-09-17T17:51:19.711Z"
   },
   {
    "duration": 256,
    "start_time": "2023-09-17T17:51:19.722Z"
   },
   {
    "duration": 8,
    "start_time": "2023-09-17T17:51:19.980Z"
   },
   {
    "duration": 22,
    "start_time": "2023-09-17T17:51:19.989Z"
   },
   {
    "duration": 44,
    "start_time": "2023-09-17T17:51:20.012Z"
   },
   {
    "duration": 300,
    "start_time": "2023-09-17T17:51:20.063Z"
   },
   {
    "duration": 9,
    "start_time": "2023-09-17T17:51:20.372Z"
   },
   {
    "duration": 175,
    "start_time": "2023-09-17T17:51:20.386Z"
   },
   {
    "duration": 12,
    "start_time": "2023-09-17T17:51:20.572Z"
   },
   {
    "duration": 33,
    "start_time": "2023-09-17T17:51:20.586Z"
   },
   {
    "duration": 26,
    "start_time": "2023-09-17T17:51:20.621Z"
   },
   {
    "duration": 32,
    "start_time": "2023-09-17T17:51:20.649Z"
   },
   {
    "duration": 186,
    "start_time": "2023-09-17T17:51:20.683Z"
   },
   {
    "duration": 10,
    "start_time": "2023-09-17T17:51:20.870Z"
   },
   {
    "duration": 30,
    "start_time": "2023-09-17T17:51:20.882Z"
   },
   {
    "duration": 264,
    "start_time": "2023-09-17T17:51:20.914Z"
   },
   {
    "duration": 10,
    "start_time": "2023-09-17T17:51:21.180Z"
   },
   {
    "duration": 137,
    "start_time": "2023-09-17T17:51:21.192Z"
   },
   {
    "duration": 7,
    "start_time": "2023-09-17T17:51:21.331Z"
   },
   {
    "duration": 49,
    "start_time": "2023-09-17T17:51:21.344Z"
   },
   {
    "duration": 159,
    "start_time": "2023-09-17T17:51:21.394Z"
   },
   {
    "duration": 23,
    "start_time": "2023-09-17T17:51:21.555Z"
   },
   {
    "duration": 15,
    "start_time": "2023-09-17T17:51:21.580Z"
   },
   {
    "duration": 34,
    "start_time": "2023-09-17T17:51:21.596Z"
   },
   {
    "duration": 121,
    "start_time": "2023-09-17T17:51:21.632Z"
   },
   {
    "duration": 14,
    "start_time": "2023-09-17T17:51:21.754Z"
   },
   {
    "duration": 9,
    "start_time": "2023-09-17T17:51:21.769Z"
   },
   {
    "duration": 42,
    "start_time": "2023-09-17T17:51:21.780Z"
   },
   {
    "duration": 177,
    "start_time": "2023-09-17T17:51:21.824Z"
   },
   {
    "duration": 182,
    "start_time": "2023-09-17T17:51:22.002Z"
   },
   {
    "duration": 8,
    "start_time": "2023-09-17T17:51:22.185Z"
   },
   {
    "duration": 130,
    "start_time": "2023-09-17T17:51:22.195Z"
   },
   {
    "duration": 19,
    "start_time": "2023-09-17T17:51:22.327Z"
   },
   {
    "duration": 15,
    "start_time": "2023-09-17T17:51:22.360Z"
   },
   {
    "duration": 191,
    "start_time": "2023-09-17T17:51:22.377Z"
   },
   {
    "duration": 11,
    "start_time": "2023-09-17T17:51:22.573Z"
   },
   {
    "duration": 143,
    "start_time": "2023-09-17T17:51:22.586Z"
   },
   {
    "duration": 9,
    "start_time": "2023-09-17T17:51:22.732Z"
   },
   {
    "duration": 263,
    "start_time": "2023-09-17T17:51:22.746Z"
   },
   {
    "duration": 10,
    "start_time": "2023-09-17T17:51:23.011Z"
   },
   {
    "duration": 134,
    "start_time": "2023-09-17T17:51:23.023Z"
   },
   {
    "duration": 18,
    "start_time": "2023-09-17T17:51:23.159Z"
   },
   {
    "duration": 287,
    "start_time": "2023-09-17T17:51:23.179Z"
   },
   {
    "duration": 10,
    "start_time": "2023-09-17T17:51:23.469Z"
   },
   {
    "duration": 144,
    "start_time": "2023-09-17T17:51:23.481Z"
   },
   {
    "duration": 271,
    "start_time": "2023-09-17T17:51:23.627Z"
   },
   {
    "duration": 7,
    "start_time": "2023-09-17T17:51:23.900Z"
   },
   {
    "duration": 241,
    "start_time": "2023-09-17T17:51:23.909Z"
   },
   {
    "duration": 284,
    "start_time": "2023-09-17T17:51:24.151Z"
   },
   {
    "duration": 247,
    "start_time": "2023-09-17T17:51:24.438Z"
   },
   {
    "duration": 203,
    "start_time": "2023-09-17T17:51:24.687Z"
   },
   {
    "duration": 146,
    "start_time": "2023-09-17T17:51:24.891Z"
   },
   {
    "duration": 170,
    "start_time": "2023-09-17T17:51:25.045Z"
   },
   {
    "duration": 170,
    "start_time": "2023-09-17T17:51:25.216Z"
   },
   {
    "duration": 149,
    "start_time": "2023-09-17T17:51:25.387Z"
   },
   {
    "duration": 321,
    "start_time": "2023-09-17T17:56:50.594Z"
   },
   {
    "duration": 24,
    "start_time": "2023-09-17T18:10:02.295Z"
   },
   {
    "duration": 26,
    "start_time": "2023-09-17T18:11:52.700Z"
   },
   {
    "duration": 110,
    "start_time": "2023-09-17T18:14:00.131Z"
   },
   {
    "duration": 31,
    "start_time": "2023-09-17T18:14:35.142Z"
   },
   {
    "duration": 25,
    "start_time": "2023-09-17T18:14:47.154Z"
   },
   {
    "duration": 23,
    "start_time": "2023-09-17T18:16:00.525Z"
   },
   {
    "duration": 27,
    "start_time": "2023-09-17T18:16:24.411Z"
   },
   {
    "duration": 20,
    "start_time": "2023-09-17T18:17:43.820Z"
   },
   {
    "duration": 890,
    "start_time": "2023-09-17T18:17:57.488Z"
   },
   {
    "duration": 69,
    "start_time": "2023-09-17T18:17:58.382Z"
   },
   {
    "duration": 29,
    "start_time": "2023-09-17T18:17:58.453Z"
   },
   {
    "duration": 2647,
    "start_time": "2023-09-17T18:17:58.484Z"
   },
   {
    "duration": 10,
    "start_time": "2023-09-17T18:18:01.133Z"
   },
   {
    "duration": 64,
    "start_time": "2023-09-17T18:18:01.148Z"
   },
   {
    "duration": 53,
    "start_time": "2023-09-17T18:18:01.214Z"
   },
   {
    "duration": 34,
    "start_time": "2023-09-17T18:18:01.271Z"
   },
   {
    "duration": 69,
    "start_time": "2023-09-17T18:18:01.307Z"
   },
   {
    "duration": 43,
    "start_time": "2023-09-17T18:18:01.384Z"
   },
   {
    "duration": 61,
    "start_time": "2023-09-17T18:18:01.429Z"
   },
   {
    "duration": 44,
    "start_time": "2023-09-17T18:18:01.491Z"
   },
   {
    "duration": 68,
    "start_time": "2023-09-17T18:18:01.536Z"
   },
   {
    "duration": 62,
    "start_time": "2023-09-17T18:18:01.606Z"
   },
   {
    "duration": 56,
    "start_time": "2023-09-17T18:18:01.670Z"
   },
   {
    "duration": 74,
    "start_time": "2023-09-17T18:18:01.727Z"
   },
   {
    "duration": 351,
    "start_time": "2023-09-17T18:18:01.803Z"
   },
   {
    "duration": 36,
    "start_time": "2023-09-17T18:18:02.156Z"
   },
   {
    "duration": 14,
    "start_time": "2023-09-17T18:18:02.194Z"
   },
   {
    "duration": 69,
    "start_time": "2023-09-17T18:18:02.209Z"
   },
   {
    "duration": 38,
    "start_time": "2023-09-17T18:18:02.280Z"
   },
   {
    "duration": 42,
    "start_time": "2023-09-17T18:18:02.320Z"
   },
   {
    "duration": 45,
    "start_time": "2023-09-17T18:18:02.367Z"
   },
   {
    "duration": 44,
    "start_time": "2023-09-17T18:18:02.415Z"
   },
   {
    "duration": 439,
    "start_time": "2023-09-17T18:18:02.470Z"
   },
   {
    "duration": 4,
    "start_time": "2023-09-17T18:18:02.911Z"
   },
   {
    "duration": 54,
    "start_time": "2023-09-17T18:18:02.917Z"
   },
   {
    "duration": 18,
    "start_time": "2023-09-17T18:18:02.977Z"
   },
   {
    "duration": 161,
    "start_time": "2023-09-17T18:18:02.996Z"
   },
   {
    "duration": 18,
    "start_time": "2023-09-17T18:18:03.159Z"
   },
   {
    "duration": 14,
    "start_time": "2023-09-17T18:18:03.178Z"
   },
   {
    "duration": 12,
    "start_time": "2023-09-17T18:18:03.196Z"
   },
   {
    "duration": 326,
    "start_time": "2023-09-17T18:18:03.210Z"
   },
   {
    "duration": 15,
    "start_time": "2023-09-17T18:18:03.538Z"
   },
   {
    "duration": 280,
    "start_time": "2023-09-17T18:18:03.554Z"
   },
   {
    "duration": 19,
    "start_time": "2023-09-17T18:18:03.836Z"
   },
   {
    "duration": 31,
    "start_time": "2023-09-17T18:18:03.867Z"
   },
   {
    "duration": 14,
    "start_time": "2023-09-17T18:18:03.900Z"
   },
   {
    "duration": 310,
    "start_time": "2023-09-17T18:18:03.916Z"
   },
   {
    "duration": 19,
    "start_time": "2023-09-17T18:18:04.227Z"
   },
   {
    "duration": 161,
    "start_time": "2023-09-17T18:18:04.248Z"
   },
   {
    "duration": 13,
    "start_time": "2023-09-17T18:18:04.411Z"
   },
   {
    "duration": 28,
    "start_time": "2023-09-17T18:18:04.426Z"
   },
   {
    "duration": 44,
    "start_time": "2023-09-17T18:18:04.463Z"
   },
   {
    "duration": 11,
    "start_time": "2023-09-17T18:18:04.509Z"
   },
   {
    "duration": 275,
    "start_time": "2023-09-17T18:18:04.522Z"
   },
   {
    "duration": 11,
    "start_time": "2023-09-17T18:18:04.801Z"
   },
   {
    "duration": 27,
    "start_time": "2023-09-17T18:18:04.814Z"
   },
   {
    "duration": 299,
    "start_time": "2023-09-17T18:18:04.843Z"
   },
   {
    "duration": 15,
    "start_time": "2023-09-17T18:18:05.146Z"
   },
   {
    "duration": 153,
    "start_time": "2023-09-17T18:18:05.168Z"
   },
   {
    "duration": 9,
    "start_time": "2023-09-17T18:18:05.322Z"
   },
   {
    "duration": 61,
    "start_time": "2023-09-17T18:18:05.333Z"
   },
   {
    "duration": 206,
    "start_time": "2023-09-17T18:18:05.395Z"
   },
   {
    "duration": 9,
    "start_time": "2023-09-17T18:18:05.603Z"
   },
   {
    "duration": 18,
    "start_time": "2023-09-17T18:18:05.614Z"
   },
   {
    "duration": 33,
    "start_time": "2023-09-17T18:18:05.634Z"
   },
   {
    "duration": 144,
    "start_time": "2023-09-17T18:18:05.669Z"
   },
   {
    "duration": 8,
    "start_time": "2023-09-17T18:18:05.815Z"
   },
   {
    "duration": 41,
    "start_time": "2023-09-17T18:18:05.825Z"
   },
   {
    "duration": 25,
    "start_time": "2023-09-17T18:18:05.867Z"
   },
   {
    "duration": 177,
    "start_time": "2023-09-17T18:18:05.894Z"
   },
   {
    "duration": 219,
    "start_time": "2023-09-17T18:18:06.077Z"
   },
   {
    "duration": 9,
    "start_time": "2023-09-17T18:18:06.301Z"
   },
   {
    "duration": 216,
    "start_time": "2023-09-17T18:18:06.312Z"
   },
   {
    "duration": 16,
    "start_time": "2023-09-17T18:18:06.531Z"
   },
   {
    "duration": 40,
    "start_time": "2023-09-17T18:18:06.549Z"
   },
   {
    "duration": 206,
    "start_time": "2023-09-17T18:18:06.594Z"
   },
   {
    "duration": 12,
    "start_time": "2023-09-17T18:18:06.806Z"
   },
   {
    "duration": 162,
    "start_time": "2023-09-17T18:18:06.820Z"
   },
   {
    "duration": 11,
    "start_time": "2023-09-17T18:18:06.984Z"
   },
   {
    "duration": 283,
    "start_time": "2023-09-17T18:18:06.997Z"
   },
   {
    "duration": 12,
    "start_time": "2023-09-17T18:18:07.282Z"
   },
   {
    "duration": 138,
    "start_time": "2023-09-17T18:18:07.295Z"
   },
   {
    "duration": 11,
    "start_time": "2023-09-17T18:18:07.435Z"
   },
   {
    "duration": 276,
    "start_time": "2023-09-17T18:18:07.448Z"
   },
   {
    "duration": 10,
    "start_time": "2023-09-17T18:18:07.725Z"
   },
   {
    "duration": 164,
    "start_time": "2023-09-17T18:18:07.737Z"
   },
   {
    "duration": 253,
    "start_time": "2023-09-17T18:18:07.903Z"
   },
   {
    "duration": 17,
    "start_time": "2023-09-17T18:18:08.168Z"
   },
   {
    "duration": 245,
    "start_time": "2023-09-17T18:18:08.187Z"
   },
   {
    "duration": 305,
    "start_time": "2023-09-17T18:18:08.443Z"
   },
   {
    "duration": 220,
    "start_time": "2023-09-17T18:18:08.749Z"
   },
   {
    "duration": 227,
    "start_time": "2023-09-17T18:18:08.972Z"
   },
   {
    "duration": 179,
    "start_time": "2023-09-17T18:18:09.200Z"
   },
   {
    "duration": 180,
    "start_time": "2023-09-17T18:18:09.385Z"
   },
   {
    "duration": 164,
    "start_time": "2023-09-17T18:18:09.567Z"
   },
   {
    "duration": 183,
    "start_time": "2023-09-17T18:18:09.732Z"
   },
   {
    "duration": 108,
    "start_time": "2023-09-17T18:18:09.917Z"
   },
   {
    "duration": 0,
    "start_time": "2023-09-17T18:18:10.027Z"
   },
   {
    "duration": 35,
    "start_time": "2023-09-17T18:19:24.036Z"
   },
   {
    "duration": 27,
    "start_time": "2023-09-17T18:19:33.770Z"
   },
   {
    "duration": 30,
    "start_time": "2023-09-17T18:19:42.366Z"
   },
   {
    "duration": 29,
    "start_time": "2023-09-17T18:25:48.832Z"
   },
   {
    "duration": 39,
    "start_time": "2023-09-17T18:26:01.546Z"
   },
   {
    "duration": 18,
    "start_time": "2023-09-17T18:26:13.099Z"
   },
   {
    "duration": 24,
    "start_time": "2023-09-17T18:27:17.906Z"
   },
   {
    "duration": 130,
    "start_time": "2023-09-17T18:27:52.867Z"
   },
   {
    "duration": 19,
    "start_time": "2023-09-17T18:27:58.884Z"
   },
   {
    "duration": 16,
    "start_time": "2023-09-17T18:28:09.882Z"
   },
   {
    "duration": 22,
    "start_time": "2023-09-17T18:28:18.291Z"
   },
   {
    "duration": 25,
    "start_time": "2023-09-17T18:29:55.428Z"
   },
   {
    "duration": 14,
    "start_time": "2023-09-17T18:30:01.793Z"
   },
   {
    "duration": 195,
    "start_time": "2023-09-17T18:30:26.613Z"
   },
   {
    "duration": 121,
    "start_time": "2023-09-17T18:30:41.704Z"
   },
   {
    "duration": 131,
    "start_time": "2023-09-17T18:30:54.385Z"
   },
   {
    "duration": 122,
    "start_time": "2023-09-17T18:31:51.675Z"
   },
   {
    "duration": 130,
    "start_time": "2023-09-17T18:31:58.966Z"
   },
   {
    "duration": 138,
    "start_time": "2023-09-17T18:32:03.992Z"
   },
   {
    "duration": 123,
    "start_time": "2023-09-17T18:32:13.210Z"
   },
   {
    "duration": 135,
    "start_time": "2023-09-17T18:32:25.186Z"
   },
   {
    "duration": 122,
    "start_time": "2023-09-17T18:32:34.898Z"
   },
   {
    "duration": 146,
    "start_time": "2023-09-17T18:32:43.672Z"
   },
   {
    "duration": 121,
    "start_time": "2023-09-17T18:32:47.746Z"
   },
   {
    "duration": 11,
    "start_time": "2023-09-17T18:33:00.828Z"
   },
   {
    "duration": 16,
    "start_time": "2023-09-17T18:33:13.097Z"
   },
   {
    "duration": 95,
    "start_time": "2023-09-17T18:33:24.588Z"
   },
   {
    "duration": 17,
    "start_time": "2023-09-17T18:33:40.405Z"
   },
   {
    "duration": 31,
    "start_time": "2023-09-17T18:33:49.970Z"
   },
   {
    "duration": 4,
    "start_time": "2023-09-17T18:35:58.802Z"
   },
   {
    "duration": 37,
    "start_time": "2023-09-17T18:36:06.143Z"
   },
   {
    "duration": 21,
    "start_time": "2023-09-17T18:36:18.319Z"
   },
   {
    "duration": 27,
    "start_time": "2023-09-17T18:37:28.423Z"
   },
   {
    "duration": 23,
    "start_time": "2023-09-17T18:38:10.316Z"
   },
   {
    "duration": 21,
    "start_time": "2023-09-17T18:38:15.415Z"
   },
   {
    "duration": 28,
    "start_time": "2023-09-17T18:39:01.163Z"
   },
   {
    "duration": 21,
    "start_time": "2023-09-17T18:39:24.903Z"
   },
   {
    "duration": 35,
    "start_time": "2023-09-17T18:39:37.830Z"
   },
   {
    "duration": 30,
    "start_time": "2023-09-17T18:55:14.309Z"
   },
   {
    "duration": 17,
    "start_time": "2023-09-17T18:55:28.476Z"
   },
   {
    "duration": 34,
    "start_time": "2023-09-17T18:55:45.608Z"
   },
   {
    "duration": 33,
    "start_time": "2023-09-17T18:57:34.376Z"
   },
   {
    "duration": 26,
    "start_time": "2023-09-17T18:58:10.526Z"
   },
   {
    "duration": 244,
    "start_time": "2023-09-17T18:58:40.593Z"
   },
   {
    "duration": 113,
    "start_time": "2023-09-17T18:59:05.312Z"
   },
   {
    "duration": 134,
    "start_time": "2023-09-17T18:59:40.815Z"
   },
   {
    "duration": 179,
    "start_time": "2023-09-17T18:59:47.908Z"
   },
   {
    "duration": 171,
    "start_time": "2023-09-17T19:01:39.209Z"
   },
   {
    "duration": 182,
    "start_time": "2023-09-17T19:01:47.206Z"
   },
   {
    "duration": 40,
    "start_time": "2023-09-17T19:02:19.338Z"
   },
   {
    "duration": 299,
    "start_time": "2023-09-17T19:02:23.979Z"
   },
   {
    "duration": 317,
    "start_time": "2023-09-17T19:03:45.321Z"
   },
   {
    "duration": 5,
    "start_time": "2023-09-17T19:06:52.869Z"
   },
   {
    "duration": 51,
    "start_time": "2023-09-18T10:51:45.586Z"
   },
   {
    "duration": 1124,
    "start_time": "2023-09-18T10:51:54.319Z"
   },
   {
    "duration": 45,
    "start_time": "2023-09-18T10:51:55.445Z"
   },
   {
    "duration": 13,
    "start_time": "2023-09-18T10:51:55.491Z"
   },
   {
    "duration": 1750,
    "start_time": "2023-09-18T10:51:55.506Z"
   },
   {
    "duration": 9,
    "start_time": "2023-09-18T10:51:57.258Z"
   },
   {
    "duration": 27,
    "start_time": "2023-09-18T10:51:57.269Z"
   },
   {
    "duration": 36,
    "start_time": "2023-09-18T10:51:57.298Z"
   },
   {
    "duration": 21,
    "start_time": "2023-09-18T10:51:57.336Z"
   },
   {
    "duration": 35,
    "start_time": "2023-09-18T10:51:57.358Z"
   },
   {
    "duration": 27,
    "start_time": "2023-09-18T10:51:57.396Z"
   },
   {
    "duration": 52,
    "start_time": "2023-09-18T10:51:57.424Z"
   },
   {
    "duration": 67,
    "start_time": "2023-09-18T10:51:57.477Z"
   },
   {
    "duration": 43,
    "start_time": "2023-09-18T10:51:57.546Z"
   },
   {
    "duration": 29,
    "start_time": "2023-09-18T10:51:57.591Z"
   },
   {
    "duration": 64,
    "start_time": "2023-09-18T10:51:57.621Z"
   },
   {
    "duration": 27,
    "start_time": "2023-09-18T10:51:57.686Z"
   },
   {
    "duration": 219,
    "start_time": "2023-09-18T10:51:57.714Z"
   },
   {
    "duration": 19,
    "start_time": "2023-09-18T10:51:57.935Z"
   },
   {
    "duration": 23,
    "start_time": "2023-09-18T10:51:57.955Z"
   },
   {
    "duration": 22,
    "start_time": "2023-09-18T10:51:57.979Z"
   },
   {
    "duration": 13,
    "start_time": "2023-09-18T10:51:58.003Z"
   },
   {
    "duration": 10,
    "start_time": "2023-09-18T10:51:58.017Z"
   },
   {
    "duration": 33,
    "start_time": "2023-09-18T10:51:58.028Z"
   },
   {
    "duration": 14,
    "start_time": "2023-09-18T10:51:58.062Z"
   },
   {
    "duration": 292,
    "start_time": "2023-09-18T10:51:58.077Z"
   },
   {
    "duration": 4,
    "start_time": "2023-09-18T10:51:58.371Z"
   },
   {
    "duration": 27,
    "start_time": "2023-09-18T10:51:58.376Z"
   },
   {
    "duration": 9,
    "start_time": "2023-09-18T10:51:58.406Z"
   },
   {
    "duration": 115,
    "start_time": "2023-09-18T10:51:58.417Z"
   },
   {
    "duration": 18,
    "start_time": "2023-09-18T10:51:58.534Z"
   },
   {
    "duration": 7,
    "start_time": "2023-09-18T10:51:58.553Z"
   },
   {
    "duration": 17,
    "start_time": "2023-09-18T10:51:58.561Z"
   },
   {
    "duration": 224,
    "start_time": "2023-09-18T10:51:58.579Z"
   },
   {
    "duration": 8,
    "start_time": "2023-09-18T10:51:58.804Z"
   },
   {
    "duration": 193,
    "start_time": "2023-09-18T10:51:58.814Z"
   },
   {
    "duration": 7,
    "start_time": "2023-09-18T10:51:59.008Z"
   },
   {
    "duration": 29,
    "start_time": "2023-09-18T10:51:59.016Z"
   },
   {
    "duration": 17,
    "start_time": "2023-09-18T10:51:59.047Z"
   },
   {
    "duration": 240,
    "start_time": "2023-09-18T10:51:59.066Z"
   },
   {
    "duration": 8,
    "start_time": "2023-09-18T10:51:59.308Z"
   },
   {
    "duration": 118,
    "start_time": "2023-09-18T10:51:59.317Z"
   },
   {
    "duration": 17,
    "start_time": "2023-09-18T10:51:59.436Z"
   },
   {
    "duration": 10,
    "start_time": "2023-09-18T10:51:59.454Z"
   },
   {
    "duration": 29,
    "start_time": "2023-09-18T10:51:59.466Z"
   },
   {
    "duration": 14,
    "start_time": "2023-09-18T10:51:59.497Z"
   },
   {
    "duration": 158,
    "start_time": "2023-09-18T10:51:59.512Z"
   },
   {
    "duration": 8,
    "start_time": "2023-09-18T10:51:59.672Z"
   },
   {
    "duration": 33,
    "start_time": "2023-09-18T10:51:59.682Z"
   },
   {
    "duration": 199,
    "start_time": "2023-09-18T10:51:59.717Z"
   },
   {
    "duration": 7,
    "start_time": "2023-09-18T10:51:59.918Z"
   },
   {
    "duration": 130,
    "start_time": "2023-09-18T10:51:59.926Z"
   },
   {
    "duration": 7,
    "start_time": "2023-09-18T10:52:00.058Z"
   },
   {
    "duration": 81,
    "start_time": "2023-09-18T10:52:00.066Z"
   },
   {
    "duration": 143,
    "start_time": "2023-09-18T10:52:00.149Z"
   },
   {
    "duration": 8,
    "start_time": "2023-09-18T10:52:00.294Z"
   },
   {
    "duration": 49,
    "start_time": "2023-09-18T10:52:00.304Z"
   },
   {
    "duration": 57,
    "start_time": "2023-09-18T10:52:00.355Z"
   },
   {
    "duration": 190,
    "start_time": "2023-09-18T10:52:00.414Z"
   },
   {
    "duration": 8,
    "start_time": "2023-09-18T10:52:00.605Z"
   },
   {
    "duration": 50,
    "start_time": "2023-09-18T10:52:00.614Z"
   },
   {
    "duration": 53,
    "start_time": "2023-09-18T10:52:00.666Z"
   },
   {
    "duration": 143,
    "start_time": "2023-09-18T10:52:00.721Z"
   },
   {
    "duration": 168,
    "start_time": "2023-09-18T10:52:00.866Z"
   },
   {
    "duration": 17,
    "start_time": "2023-09-18T10:52:01.035Z"
   },
   {
    "duration": 151,
    "start_time": "2023-09-18T10:52:01.054Z"
   },
   {
    "duration": 7,
    "start_time": "2023-09-18T10:52:01.206Z"
   },
   {
    "duration": 43,
    "start_time": "2023-09-18T10:52:01.215Z"
   },
   {
    "duration": 199,
    "start_time": "2023-09-18T10:52:01.260Z"
   },
   {
    "duration": 27,
    "start_time": "2023-09-18T10:52:01.460Z"
   },
   {
    "duration": 140,
    "start_time": "2023-09-18T10:52:01.489Z"
   },
   {
    "duration": 9,
    "start_time": "2023-09-18T10:52:01.630Z"
   },
   {
    "duration": 257,
    "start_time": "2023-09-18T10:52:01.649Z"
   },
   {
    "duration": 10,
    "start_time": "2023-09-18T10:52:01.908Z"
   },
   {
    "duration": 165,
    "start_time": "2023-09-18T10:52:01.919Z"
   },
   {
    "duration": 8,
    "start_time": "2023-09-18T10:52:02.086Z"
   },
   {
    "duration": 259,
    "start_time": "2023-09-18T10:52:02.096Z"
   },
   {
    "duration": 8,
    "start_time": "2023-09-18T10:52:02.357Z"
   },
   {
    "duration": 152,
    "start_time": "2023-09-18T10:52:02.367Z"
   },
   {
    "duration": 215,
    "start_time": "2023-09-18T10:52:02.520Z"
   },
   {
    "duration": 14,
    "start_time": "2023-09-18T10:52:02.736Z"
   },
   {
    "duration": 171,
    "start_time": "2023-09-18T10:52:02.751Z"
   },
   {
    "duration": 5,
    "start_time": "2023-09-18T10:52:02.926Z"
   },
   {
    "duration": 243,
    "start_time": "2023-09-18T10:52:02.933Z"
   },
   {
    "duration": 181,
    "start_time": "2023-09-18T10:52:03.177Z"
   },
   {
    "duration": 163,
    "start_time": "2023-09-18T10:52:03.359Z"
   },
   {
    "duration": 144,
    "start_time": "2023-09-18T10:52:03.524Z"
   },
   {
    "duration": 150,
    "start_time": "2023-09-18T10:52:03.670Z"
   },
   {
    "duration": 130,
    "start_time": "2023-09-18T10:52:03.822Z"
   },
   {
    "duration": 132,
    "start_time": "2023-09-18T10:52:03.953Z"
   },
   {
    "duration": 20,
    "start_time": "2023-09-18T10:52:04.087Z"
   },
   {
    "duration": 211,
    "start_time": "2023-09-18T10:52:04.109Z"
   },
   {
    "duration": 5,
    "start_time": "2023-09-18T10:52:21.514Z"
   },
   {
    "duration": 6,
    "start_time": "2023-09-18T10:52:33.465Z"
   },
   {
    "duration": 1186,
    "start_time": "2023-09-18T11:25:13.997Z"
   },
   {
    "duration": 44,
    "start_time": "2023-09-18T11:25:15.185Z"
   },
   {
    "duration": 13,
    "start_time": "2023-09-18T11:25:15.230Z"
   },
   {
    "duration": 1860,
    "start_time": "2023-09-18T11:25:15.244Z"
   },
   {
    "duration": 9,
    "start_time": "2023-09-18T11:25:17.106Z"
   },
   {
    "duration": 12,
    "start_time": "2023-09-18T11:25:17.116Z"
   },
   {
    "duration": 18,
    "start_time": "2023-09-18T11:25:17.129Z"
   },
   {
    "duration": 8,
    "start_time": "2023-09-18T11:25:17.148Z"
   },
   {
    "duration": 19,
    "start_time": "2023-09-18T11:25:17.157Z"
   },
   {
    "duration": 6,
    "start_time": "2023-09-18T11:25:17.178Z"
   },
   {
    "duration": 15,
    "start_time": "2023-09-18T11:25:17.186Z"
   },
   {
    "duration": 21,
    "start_time": "2023-09-18T11:25:17.203Z"
   },
   {
    "duration": 21,
    "start_time": "2023-09-18T11:25:17.225Z"
   },
   {
    "duration": 12,
    "start_time": "2023-09-18T11:25:17.248Z"
   },
   {
    "duration": 22,
    "start_time": "2023-09-18T11:25:17.261Z"
   },
   {
    "duration": 9,
    "start_time": "2023-09-18T11:25:17.284Z"
   },
   {
    "duration": 209,
    "start_time": "2023-09-18T11:25:17.294Z"
   },
   {
    "duration": 17,
    "start_time": "2023-09-18T11:25:17.504Z"
   },
   {
    "duration": 7,
    "start_time": "2023-09-18T11:25:17.522Z"
   },
   {
    "duration": 46,
    "start_time": "2023-09-18T11:25:17.530Z"
   },
   {
    "duration": 21,
    "start_time": "2023-09-18T11:25:17.578Z"
   },
   {
    "duration": 17,
    "start_time": "2023-09-18T11:25:17.600Z"
   },
   {
    "duration": 22,
    "start_time": "2023-09-18T11:25:17.618Z"
   },
   {
    "duration": 20,
    "start_time": "2023-09-18T11:25:17.641Z"
   },
   {
    "duration": 312,
    "start_time": "2023-09-18T11:25:17.663Z"
   },
   {
    "duration": 4,
    "start_time": "2023-09-18T11:25:17.976Z"
   },
   {
    "duration": 77,
    "start_time": "2023-09-18T11:25:17.982Z"
   },
   {
    "duration": 35,
    "start_time": "2023-09-18T11:25:18.061Z"
   },
   {
    "duration": 134,
    "start_time": "2023-09-18T11:25:18.098Z"
   },
   {
    "duration": 20,
    "start_time": "2023-09-18T11:25:18.234Z"
   },
   {
    "duration": 23,
    "start_time": "2023-09-18T11:25:18.256Z"
   },
   {
    "duration": 24,
    "start_time": "2023-09-18T11:25:18.281Z"
   },
   {
    "duration": 283,
    "start_time": "2023-09-18T11:25:18.307Z"
   },
   {
    "duration": 8,
    "start_time": "2023-09-18T11:25:18.592Z"
   },
   {
    "duration": 237,
    "start_time": "2023-09-18T11:25:18.601Z"
   },
   {
    "duration": 20,
    "start_time": "2023-09-18T11:25:18.840Z"
   },
   {
    "duration": 22,
    "start_time": "2023-09-18T11:25:18.861Z"
   },
   {
    "duration": 39,
    "start_time": "2023-09-18T11:25:18.885Z"
   },
   {
    "duration": 277,
    "start_time": "2023-09-18T11:25:18.925Z"
   },
   {
    "duration": 8,
    "start_time": "2023-09-18T11:25:19.203Z"
   },
   {
    "duration": 118,
    "start_time": "2023-09-18T11:25:19.215Z"
   },
   {
    "duration": 17,
    "start_time": "2023-09-18T11:25:19.335Z"
   },
   {
    "duration": 17,
    "start_time": "2023-09-18T11:25:19.354Z"
   },
   {
    "duration": 35,
    "start_time": "2023-09-18T11:25:19.372Z"
   },
   {
    "duration": 30,
    "start_time": "2023-09-18T11:25:19.409Z"
   },
   {
    "duration": 174,
    "start_time": "2023-09-18T11:25:19.440Z"
   },
   {
    "duration": 8,
    "start_time": "2023-09-18T11:25:19.616Z"
   },
   {
    "duration": 27,
    "start_time": "2023-09-18T11:25:19.625Z"
   },
   {
    "duration": 262,
    "start_time": "2023-09-18T11:25:19.654Z"
   },
   {
    "duration": 7,
    "start_time": "2023-09-18T11:25:19.918Z"
   },
   {
    "duration": 142,
    "start_time": "2023-09-18T11:25:19.926Z"
   },
   {
    "duration": 8,
    "start_time": "2023-09-18T11:25:20.070Z"
   },
   {
    "duration": 31,
    "start_time": "2023-09-18T11:25:20.079Z"
   },
   {
    "duration": 132,
    "start_time": "2023-09-18T11:25:20.111Z"
   },
   {
    "duration": 11,
    "start_time": "2023-09-18T11:25:20.244Z"
   },
   {
    "duration": 20,
    "start_time": "2023-09-18T11:25:20.256Z"
   },
   {
    "duration": 15,
    "start_time": "2023-09-18T11:25:20.278Z"
   },
   {
    "duration": 126,
    "start_time": "2023-09-18T11:25:20.294Z"
   },
   {
    "duration": 7,
    "start_time": "2023-09-18T11:25:20.422Z"
   },
   {
    "duration": 53,
    "start_time": "2023-09-18T11:25:20.430Z"
   },
   {
    "duration": 51,
    "start_time": "2023-09-18T11:25:20.485Z"
   },
   {
    "duration": 144,
    "start_time": "2023-09-18T11:25:20.537Z"
   },
   {
    "duration": 172,
    "start_time": "2023-09-18T11:25:20.682Z"
   },
   {
    "duration": 8,
    "start_time": "2023-09-18T11:25:20.856Z"
   },
   {
    "duration": 134,
    "start_time": "2023-09-18T11:25:20.866Z"
   },
   {
    "duration": 7,
    "start_time": "2023-09-18T11:25:21.001Z"
   },
   {
    "duration": 51,
    "start_time": "2023-09-18T11:25:21.009Z"
   },
   {
    "duration": 154,
    "start_time": "2023-09-18T11:25:21.062Z"
   },
   {
    "duration": 8,
    "start_time": "2023-09-18T11:25:21.218Z"
   },
   {
    "duration": 113,
    "start_time": "2023-09-18T11:25:21.227Z"
   },
   {
    "duration": 10,
    "start_time": "2023-09-18T11:25:21.342Z"
   },
   {
    "duration": 206,
    "start_time": "2023-09-18T11:25:21.354Z"
   },
   {
    "duration": 8,
    "start_time": "2023-09-18T11:25:21.562Z"
   },
   {
    "duration": 123,
    "start_time": "2023-09-18T11:25:21.571Z"
   },
   {
    "duration": 6,
    "start_time": "2023-09-18T11:25:21.696Z"
   },
   {
    "duration": 207,
    "start_time": "2023-09-18T11:25:21.704Z"
   },
   {
    "duration": 8,
    "start_time": "2023-09-18T11:25:21.913Z"
   },
   {
    "duration": 122,
    "start_time": "2023-09-18T11:25:21.922Z"
   },
   {
    "duration": 192,
    "start_time": "2023-09-18T11:25:22.049Z"
   },
   {
    "duration": 7,
    "start_time": "2023-09-18T11:25:22.243Z"
   },
   {
    "duration": 168,
    "start_time": "2023-09-18T11:25:22.251Z"
   },
   {
    "duration": 5,
    "start_time": "2023-09-18T11:25:22.421Z"
   },
   {
    "duration": 251,
    "start_time": "2023-09-18T11:25:22.427Z"
   },
   {
    "duration": 5,
    "start_time": "2023-09-18T11:25:22.680Z"
   },
   {
    "duration": 185,
    "start_time": "2023-09-18T11:25:22.686Z"
   },
   {
    "duration": 5,
    "start_time": "2023-09-18T11:25:22.873Z"
   },
   {
    "duration": 149,
    "start_time": "2023-09-18T11:25:22.879Z"
   },
   {
    "duration": 126,
    "start_time": "2023-09-18T11:25:23.030Z"
   },
   {
    "duration": 134,
    "start_time": "2023-09-18T11:25:23.158Z"
   },
   {
    "duration": 131,
    "start_time": "2023-09-18T11:25:23.294Z"
   },
   {
    "duration": 132,
    "start_time": "2023-09-18T11:25:23.426Z"
   },
   {
    "duration": 21,
    "start_time": "2023-09-18T11:25:23.560Z"
   },
   {
    "duration": 186,
    "start_time": "2023-09-18T11:25:23.583Z"
   },
   {
    "duration": 10,
    "start_time": "2023-09-18T11:27:17.499Z"
   },
   {
    "duration": 78,
    "start_time": "2023-09-18T11:27:53.718Z"
   },
   {
    "duration": 1203,
    "start_time": "2023-09-18T16:31:36.316Z"
   },
   {
    "duration": 215,
    "start_time": "2023-09-18T16:31:37.521Z"
   },
   {
    "duration": 190,
    "start_time": "2023-09-18T16:31:37.738Z"
   },
   {
    "duration": 80,
    "start_time": "2023-09-18T16:31:37.930Z"
   },
   {
    "duration": 4300,
    "start_time": "2023-09-18T16:31:38.013Z"
   },
   {
    "duration": 11,
    "start_time": "2023-09-18T16:31:42.314Z"
   },
   {
    "duration": 83,
    "start_time": "2023-09-18T16:31:42.327Z"
   },
   {
    "duration": 12,
    "start_time": "2023-09-18T16:31:42.412Z"
   },
   {
    "duration": 12,
    "start_time": "2023-09-18T16:31:42.426Z"
   },
   {
    "duration": 68,
    "start_time": "2023-09-18T16:31:42.439Z"
   },
   {
    "duration": 20,
    "start_time": "2023-09-18T16:31:42.509Z"
   },
   {
    "duration": 71,
    "start_time": "2023-09-18T16:31:42.531Z"
   },
   {
    "duration": 24,
    "start_time": "2023-09-18T16:31:42.604Z"
   },
   {
    "duration": 80,
    "start_time": "2023-09-18T16:31:42.631Z"
   },
   {
    "duration": 29,
    "start_time": "2023-09-18T16:31:42.713Z"
   },
   {
    "duration": 74,
    "start_time": "2023-09-18T16:31:42.744Z"
   },
   {
    "duration": 81,
    "start_time": "2023-09-18T16:31:42.820Z"
   },
   {
    "duration": 445,
    "start_time": "2023-09-18T16:31:42.903Z"
   },
   {
    "duration": 23,
    "start_time": "2023-09-18T16:31:43.401Z"
   },
   {
    "duration": 7,
    "start_time": "2023-09-18T16:31:43.426Z"
   },
   {
    "duration": 68,
    "start_time": "2023-09-18T16:31:43.435Z"
   },
   {
    "duration": 16,
    "start_time": "2023-09-18T16:31:43.505Z"
   },
   {
    "duration": 80,
    "start_time": "2023-09-18T16:31:43.523Z"
   },
   {
    "duration": 20,
    "start_time": "2023-09-18T16:31:43.605Z"
   },
   {
    "duration": 11,
    "start_time": "2023-09-18T16:31:43.627Z"
   },
   {
    "duration": 893,
    "start_time": "2023-09-18T16:31:43.640Z"
   },
   {
    "duration": 7,
    "start_time": "2023-09-18T16:31:44.535Z"
   },
   {
    "duration": 166,
    "start_time": "2023-09-18T16:31:44.544Z"
   },
   {
    "duration": 40,
    "start_time": "2023-09-18T16:31:44.712Z"
   },
   {
    "duration": 241,
    "start_time": "2023-09-18T16:31:44.802Z"
   },
   {
    "duration": 65,
    "start_time": "2023-09-18T16:31:45.045Z"
   },
   {
    "duration": 98,
    "start_time": "2023-09-18T16:31:45.111Z"
   },
   {
    "duration": 25,
    "start_time": "2023-09-18T16:31:45.211Z"
   },
   {
    "duration": 507,
    "start_time": "2023-09-18T16:31:45.238Z"
   },
   {
    "duration": 55,
    "start_time": "2023-09-18T16:31:45.747Z"
   },
   {
    "duration": 512,
    "start_time": "2023-09-18T16:31:45.805Z"
   },
   {
    "duration": 9,
    "start_time": "2023-09-18T16:31:46.319Z"
   },
   {
    "duration": 75,
    "start_time": "2023-09-18T16:31:46.330Z"
   },
   {
    "duration": 24,
    "start_time": "2023-09-18T16:31:46.407Z"
   },
   {
    "duration": 692,
    "start_time": "2023-09-18T16:31:46.433Z"
   },
   {
    "duration": 70,
    "start_time": "2023-09-18T16:31:47.133Z"
   },
   {
    "duration": 321,
    "start_time": "2023-09-18T16:31:47.205Z"
   },
   {
    "duration": 9,
    "start_time": "2023-09-18T16:31:47.528Z"
   },
   {
    "duration": 67,
    "start_time": "2023-09-18T16:31:47.539Z"
   },
   {
    "duration": 20,
    "start_time": "2023-09-18T16:31:47.608Z"
   },
   {
    "duration": 14,
    "start_time": "2023-09-18T16:31:47.630Z"
   },
   {
    "duration": 344,
    "start_time": "2023-09-18T16:31:47.701Z"
   },
   {
    "duration": 10,
    "start_time": "2023-09-18T16:31:48.101Z"
   },
   {
    "duration": 95,
    "start_time": "2023-09-18T16:31:48.112Z"
   },
   {
    "duration": 595,
    "start_time": "2023-09-18T16:31:48.208Z"
   },
   {
    "duration": 10,
    "start_time": "2023-09-18T16:31:48.805Z"
   },
   {
    "duration": 314,
    "start_time": "2023-09-18T16:31:48.816Z"
   },
   {
    "duration": 10,
    "start_time": "2023-09-18T16:31:49.132Z"
   },
   {
    "duration": 12,
    "start_time": "2023-09-18T16:31:49.202Z"
   },
   {
    "duration": 325,
    "start_time": "2023-09-18T16:31:49.216Z"
   },
   {
    "duration": 67,
    "start_time": "2023-09-18T16:31:49.543Z"
   },
   {
    "duration": 10,
    "start_time": "2023-09-18T16:31:49.612Z"
   },
   {
    "duration": 93,
    "start_time": "2023-09-18T16:31:49.624Z"
   },
   {
    "duration": 283,
    "start_time": "2023-09-18T16:31:49.720Z"
   },
   {
    "duration": 11,
    "start_time": "2023-09-18T16:31:50.005Z"
   },
   {
    "duration": 85,
    "start_time": "2023-09-18T16:31:50.018Z"
   },
   {
    "duration": 29,
    "start_time": "2023-09-18T16:31:50.106Z"
   },
   {
    "duration": 372,
    "start_time": "2023-09-18T16:31:50.137Z"
   },
   {
    "duration": 391,
    "start_time": "2023-09-18T16:31:50.511Z"
   },
   {
    "duration": 10,
    "start_time": "2023-09-18T16:31:50.904Z"
   },
   {
    "duration": 303,
    "start_time": "2023-09-18T16:31:50.917Z"
   },
   {
    "duration": 9,
    "start_time": "2023-09-18T16:31:51.222Z"
   },
   {
    "duration": 73,
    "start_time": "2023-09-18T16:31:51.233Z"
   },
   {
    "duration": 403,
    "start_time": "2023-09-18T16:31:51.308Z"
   },
   {
    "duration": 11,
    "start_time": "2023-09-18T16:31:51.712Z"
   },
   {
    "duration": 306,
    "start_time": "2023-09-18T16:31:51.726Z"
   },
   {
    "duration": 10,
    "start_time": "2023-09-18T16:31:52.034Z"
   },
   {
    "duration": 576,
    "start_time": "2023-09-18T16:31:52.045Z"
   },
   {
    "duration": 11,
    "start_time": "2023-09-18T16:31:52.623Z"
   },
   {
    "duration": 287,
    "start_time": "2023-09-18T16:31:52.636Z"
   },
   {
    "duration": 8,
    "start_time": "2023-09-18T16:31:52.926Z"
   },
   {
    "duration": 413,
    "start_time": "2023-09-18T16:31:52.936Z"
   },
   {
    "duration": 10,
    "start_time": "2023-09-18T16:31:53.350Z"
   },
   {
    "duration": 178,
    "start_time": "2023-09-18T16:31:53.361Z"
   },
   {
    "duration": 219,
    "start_time": "2023-09-18T16:31:53.541Z"
   },
   {
    "duration": 7,
    "start_time": "2023-09-18T16:31:53.761Z"
   },
   {
    "duration": 198,
    "start_time": "2023-09-18T16:31:53.769Z"
   },
   {
    "duration": 5,
    "start_time": "2023-09-18T16:31:53.969Z"
   },
   {
    "duration": 310,
    "start_time": "2023-09-18T16:31:53.976Z"
   },
   {
    "duration": 14,
    "start_time": "2023-09-18T16:31:54.289Z"
   },
   {
    "duration": 207,
    "start_time": "2023-09-18T16:31:54.305Z"
   },
   {
    "duration": 5,
    "start_time": "2023-09-18T16:31:54.513Z"
   },
   {
    "duration": 186,
    "start_time": "2023-09-18T16:31:54.520Z"
   },
   {
    "duration": 178,
    "start_time": "2023-09-18T16:31:54.708Z"
   },
   {
    "duration": 188,
    "start_time": "2023-09-18T16:31:54.888Z"
   },
   {
    "duration": 154,
    "start_time": "2023-09-18T16:31:55.078Z"
   },
   {
    "duration": 160,
    "start_time": "2023-09-18T16:31:55.234Z"
   },
   {
    "duration": 25,
    "start_time": "2023-09-18T16:31:55.400Z"
   },
   {
    "duration": 209,
    "start_time": "2023-09-18T16:31:55.426Z"
   }
  ],
  "kernelspec": {
   "display_name": "Python 3 (ipykernel)",
   "language": "python",
   "name": "python3"
  },
  "language_info": {
   "codemirror_mode": {
    "name": "ipython",
    "version": 3
   },
   "file_extension": ".py",
   "mimetype": "text/x-python",
   "name": "python",
   "nbconvert_exporter": "python",
   "pygments_lexer": "ipython3",
   "version": "3.9.12"
  },
  "toc": {
   "base_numbering": 1,
   "nav_menu": {},
   "number_sections": true,
   "sideBar": true,
   "skip_h1_title": true,
   "title_cell": "Table of Contents",
   "title_sidebar": "Contents",
   "toc_cell": false,
   "toc_position": {
    "height": "calc(100% - 180px)",
    "left": "10px",
    "top": "150px",
    "width": "287.594px"
   },
   "toc_section_display": true,
   "toc_window_display": true
  },
  "varInspector": {
   "cols": {
    "lenName": 16,
    "lenType": 16,
    "lenVar": 40
   },
   "kernels_config": {
    "python": {
     "delete_cmd_postfix": "",
     "delete_cmd_prefix": "del ",
     "library": "var_list.py",
     "varRefreshCmd": "print(var_dic_list())"
    },
    "r": {
     "delete_cmd_postfix": ") ",
     "delete_cmd_prefix": "rm(",
     "library": "var_list.r",
     "varRefreshCmd": "cat(var_dic_list()) "
    }
   },
   "types_to_exclude": [
    "module",
    "function",
    "builtin_function_or_method",
    "instance",
    "_Feature"
   ],
   "window_display": false
  }
 },
 "nbformat": 4,
 "nbformat_minor": 2
}
