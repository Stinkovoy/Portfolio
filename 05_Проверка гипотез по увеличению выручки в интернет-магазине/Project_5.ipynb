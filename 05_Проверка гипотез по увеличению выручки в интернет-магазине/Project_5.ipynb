{
 "cells": [
  {
   "cell_type": "markdown",
   "metadata": {},
   "source": [
    "# Приоритизация гипотез и анализ A/B-теста для увеличения выручки интернет-магазина"
   ]
  },
  {
   "cell_type": "markdown",
   "metadata": {},
   "source": [
    "# Описание проекта  \n",
    "\n",
    "В крупном интернет-магазине я вместе с отделом маркетинга подготовили список гипотез для увеличения выручки.  \n",
    "Необходимо приоритизировать гипотезы, запустить A/B-тест и проанализировать результаты.  \n",
    "\n",
    "**Часть 1. Приоритизация гипотез.**  \n",
    "Задача:\n",
    "1. Применить фреймворк ICE для приоритизации гипотез. Отсортировать их по убыванию приоритета.  \n",
    "2. Применить фреймворк RICE для приоритизации гипотез. Отсортировать их по убыванию приоритета.  \n",
    "3. Проследить как изменилась приоритизация гипотез при применении RICE вместо ICE.  \n",
    "\n",
    "**Часть 2. Анализ A/B-теста.**  \n",
    "Задача проанализировать A/B-тест:  \n",
    "1. Построить график кумулятивной выручки по группам. Сделать выводы и предположения.  \n",
    "2. Построить график кумулятивного среднего чека по группам. Сделать выводы и предположения.  \n",
    "3. Построить график относительного изменения кумулятивного среднего чека группы B к группе A. Сделать выводы и предположения.  \n",
    "4. Построить график кумулятивного среднего количества заказов на посетителя по группам. Сделать выводы и предположения.  \n",
    "5. Построить график относительного изменения кумулятивного среднего количества заказов на посетителя группы B к группе A. Сделать выводы и предположения.  \n",
    "6. Построить точечный график количества заказов по пользователям. Сделать выводы и предположения.  \n",
    "7. Посчитать 95-й и 99-й перцентили количества заказов на пользователя. Выбрать границу для определения аномальных пользователей.  \n",
    "8. Построить точечный график стоимостей заказов. Сделать выводы и предположения.  \n",
    "9. Посчитать 95-й и 99-й перцентили стоимости заказов. Выбрать границу для определения аномальных заказов.  \n",
    "10. Посчитать статистическую значимость различий в среднем количестве заказов на посетителя между группами по «сырым» данным. Сделать выводы и предположения.  \n",
    "11. Посчитать статистическую значимость различий в среднем чеке заказа между группами по «сырым» данным. Сделать выводы и предположения.  \n",
    "12. Посчитать статистическую значимость различий в среднем количестве заказов на посетителя между группами по «очищенным» данным. Сделать выводы и предположения.  \n",
    "13. Посчитать статистическую значимость различий в среднем чеке заказа между группами по «очищенным» данным. Сделать выводы и предположения.  \n",
    "14. Принять решение по результатам теста и аргументировать его. Варианты решений:  \n",
    "    - Остановить тест, зафиксировать победу одной из групп.\n",
    "    - Остановить тест, зафиксировать отсутствие различий между группами.\n",
    "    - Продолжить тест.  \n",
    "\n",
    "**Описание данных**  \n",
    "Структура `hypothesis.csv`:  \n",
    "- `Hypothesis` — краткое описание гипотезы;\n",
    "- `Reach` — охват пользователей по 10-балльной шкале;\n",
    "- `Impact` — влияние на пользователей по 10-балльной шкале;\n",
    "- `Confidence` — уверенность в гипотезе по 10-балльной шкале;\n",
    "- `Efforts` — затраты ресурсов на проверку гипотезы по 10-балльной шкале. Чем больше значение Efforts, тем дороже проверка гипотезы.  \n",
    "\n",
    "Структура `orders.csv`:  \n",
    "- `transactionId` — идентификатор заказа;\n",
    "- `visitorId` — идентификатор пользователя, совершившего заказ;\n",
    "- `date` — дата, когда был совершён заказ;\n",
    "- `revenue` — выручка заказа;\n",
    "- `group` — группа A/B-теста, в которую попал заказ.  \n",
    "\n",
    "Структура `visitors.csv`:  \n",
    "- `date` — дата;\n",
    "- `group` — группа A/B-теста;\n",
    "- `visitors` — количество пользователей в указанную дату в указанной группе A/B-теста  \n",
    "\n",
    "**План исследования**:\n",
    "1. Загрузка данных и подготовка их к анализу.  \n",
    "2. Приоритизация гипотез.  \n",
    "3. Анализ A/B-теста.  \n",
    "4. Вывод."
   ]
  },
  {
   "cell_type": "markdown",
   "metadata": {},
   "source": [
    "## Загрузка данных и подготовка их к анализу."
   ]
  },
  {
   "cell_type": "code",
   "execution_count": 1,
   "metadata": {},
   "outputs": [],
   "source": [
    "# Импортируем нужные библиотеки\n",
    "import pandas as pd\n",
    "import scipy.stats as stats\n",
    "from scipy import stats as st\n",
    "import datetime as dt\n",
    "import numpy as np\n",
    "import matplotlib.pyplot as plt"
   ]
  },
  {
   "cell_type": "code",
   "execution_count": 2,
   "metadata": {},
   "outputs": [],
   "source": [
    "# Указываем пути к файлам\n",
    "try:\n",
    "    hypothesis, orders, visitors = (\n",
    "    pd.read_csv('/datasets/hypothesis.csv'),  # гипотезы\n",
    "    pd.read_csv('/datasets/orders.csv'),  # заказы\n",
    "    pd.read_csv('/datasets/visitors.csv'),  # визиты\n",
    "    )\n",
    "except:\n",
    "    hypothesis, orders, visitors = (\n",
    "    pd.read_csv('C:/Users/User/Desktop/hypothesis.csv'),  # гипотезы\n",
    "    pd.read_csv('C:/Users/User/Desktop/orders.csv'),  # заказы\n",
    "    pd.read_csv('C:/Users/User/Desktop/visitors.csv'),  # визиты\n",
    "    )"
   ]
  },
  {
   "cell_type": "code",
   "execution_count": 3,
   "metadata": {},
   "outputs": [
    {
     "data": {
      "text/html": [
       "<div>\n",
       "<style scoped>\n",
       "    .dataframe tbody tr th:only-of-type {\n",
       "        vertical-align: middle;\n",
       "    }\n",
       "\n",
       "    .dataframe tbody tr th {\n",
       "        vertical-align: top;\n",
       "    }\n",
       "\n",
       "    .dataframe thead th {\n",
       "        text-align: right;\n",
       "    }\n",
       "</style>\n",
       "<table border=\"1\" class=\"dataframe\">\n",
       "  <thead>\n",
       "    <tr style=\"text-align: right;\">\n",
       "      <th></th>\n",
       "      <th>Hypothesis</th>\n",
       "      <th>Reach</th>\n",
       "      <th>Impact</th>\n",
       "      <th>Confidence</th>\n",
       "      <th>Efforts</th>\n",
       "    </tr>\n",
       "  </thead>\n",
       "  <tbody>\n",
       "    <tr>\n",
       "      <th>0</th>\n",
       "      <td>Добавить два новых канала привлечения трафика,...</td>\n",
       "      <td>3</td>\n",
       "      <td>10</td>\n",
       "      <td>8</td>\n",
       "      <td>6</td>\n",
       "    </tr>\n",
       "    <tr>\n",
       "      <th>1</th>\n",
       "      <td>Запустить собственную службу доставки, что сок...</td>\n",
       "      <td>2</td>\n",
       "      <td>5</td>\n",
       "      <td>4</td>\n",
       "      <td>10</td>\n",
       "    </tr>\n",
       "    <tr>\n",
       "      <th>2</th>\n",
       "      <td>Добавить блоки рекомендаций товаров на сайт ин...</td>\n",
       "      <td>8</td>\n",
       "      <td>3</td>\n",
       "      <td>7</td>\n",
       "      <td>3</td>\n",
       "    </tr>\n",
       "    <tr>\n",
       "      <th>3</th>\n",
       "      <td>Изменить структура категорий, что увеличит кон...</td>\n",
       "      <td>8</td>\n",
       "      <td>3</td>\n",
       "      <td>3</td>\n",
       "      <td>8</td>\n",
       "    </tr>\n",
       "    <tr>\n",
       "      <th>4</th>\n",
       "      <td>Изменить цвет фона главной страницы, чтобы уве...</td>\n",
       "      <td>3</td>\n",
       "      <td>1</td>\n",
       "      <td>1</td>\n",
       "      <td>1</td>\n",
       "    </tr>\n",
       "  </tbody>\n",
       "</table>\n",
       "</div>"
      ],
      "text/plain": [
       "                                          Hypothesis  Reach  Impact  \\\n",
       "0  Добавить два новых канала привлечения трафика,...      3      10   \n",
       "1  Запустить собственную службу доставки, что сок...      2       5   \n",
       "2  Добавить блоки рекомендаций товаров на сайт ин...      8       3   \n",
       "3  Изменить структура категорий, что увеличит кон...      8       3   \n",
       "4  Изменить цвет фона главной страницы, чтобы уве...      3       1   \n",
       "\n",
       "   Confidence  Efforts  \n",
       "0           8        6  \n",
       "1           4       10  \n",
       "2           7        3  \n",
       "3           3        8  \n",
       "4           1        1  "
      ]
     },
     "metadata": {},
     "output_type": "display_data"
    },
    {
     "name": "stdout",
     "output_type": "stream",
     "text": [
      "------------------------------------------------------------------------\n"
     ]
    },
    {
     "data": {
      "text/html": [
       "<div>\n",
       "<style scoped>\n",
       "    .dataframe tbody tr th:only-of-type {\n",
       "        vertical-align: middle;\n",
       "    }\n",
       "\n",
       "    .dataframe tbody tr th {\n",
       "        vertical-align: top;\n",
       "    }\n",
       "\n",
       "    .dataframe thead th {\n",
       "        text-align: right;\n",
       "    }\n",
       "</style>\n",
       "<table border=\"1\" class=\"dataframe\">\n",
       "  <thead>\n",
       "    <tr style=\"text-align: right;\">\n",
       "      <th></th>\n",
       "      <th>transactionId</th>\n",
       "      <th>visitorId</th>\n",
       "      <th>date</th>\n",
       "      <th>revenue</th>\n",
       "      <th>group</th>\n",
       "    </tr>\n",
       "  </thead>\n",
       "  <tbody>\n",
       "    <tr>\n",
       "      <th>0</th>\n",
       "      <td>3667963787</td>\n",
       "      <td>3312258926</td>\n",
       "      <td>2019-08-15</td>\n",
       "      <td>1650</td>\n",
       "      <td>B</td>\n",
       "    </tr>\n",
       "    <tr>\n",
       "      <th>1</th>\n",
       "      <td>2804400009</td>\n",
       "      <td>3642806036</td>\n",
       "      <td>2019-08-15</td>\n",
       "      <td>730</td>\n",
       "      <td>B</td>\n",
       "    </tr>\n",
       "    <tr>\n",
       "      <th>2</th>\n",
       "      <td>2961555356</td>\n",
       "      <td>4069496402</td>\n",
       "      <td>2019-08-15</td>\n",
       "      <td>400</td>\n",
       "      <td>A</td>\n",
       "    </tr>\n",
       "    <tr>\n",
       "      <th>3</th>\n",
       "      <td>3797467345</td>\n",
       "      <td>1196621759</td>\n",
       "      <td>2019-08-15</td>\n",
       "      <td>9759</td>\n",
       "      <td>B</td>\n",
       "    </tr>\n",
       "    <tr>\n",
       "      <th>4</th>\n",
       "      <td>2282983706</td>\n",
       "      <td>2322279887</td>\n",
       "      <td>2019-08-15</td>\n",
       "      <td>2308</td>\n",
       "      <td>B</td>\n",
       "    </tr>\n",
       "  </tbody>\n",
       "</table>\n",
       "</div>"
      ],
      "text/plain": [
       "   transactionId   visitorId        date  revenue group\n",
       "0     3667963787  3312258926  2019-08-15     1650     B\n",
       "1     2804400009  3642806036  2019-08-15      730     B\n",
       "2     2961555356  4069496402  2019-08-15      400     A\n",
       "3     3797467345  1196621759  2019-08-15     9759     B\n",
       "4     2282983706  2322279887  2019-08-15     2308     B"
      ]
     },
     "metadata": {},
     "output_type": "display_data"
    },
    {
     "name": "stdout",
     "output_type": "stream",
     "text": [
      "------------------------------------------------------------------------\n"
     ]
    },
    {
     "data": {
      "text/html": [
       "<div>\n",
       "<style scoped>\n",
       "    .dataframe tbody tr th:only-of-type {\n",
       "        vertical-align: middle;\n",
       "    }\n",
       "\n",
       "    .dataframe tbody tr th {\n",
       "        vertical-align: top;\n",
       "    }\n",
       "\n",
       "    .dataframe thead th {\n",
       "        text-align: right;\n",
       "    }\n",
       "</style>\n",
       "<table border=\"1\" class=\"dataframe\">\n",
       "  <thead>\n",
       "    <tr style=\"text-align: right;\">\n",
       "      <th></th>\n",
       "      <th>date</th>\n",
       "      <th>group</th>\n",
       "      <th>visitors</th>\n",
       "    </tr>\n",
       "  </thead>\n",
       "  <tbody>\n",
       "    <tr>\n",
       "      <th>0</th>\n",
       "      <td>2019-08-01</td>\n",
       "      <td>A</td>\n",
       "      <td>719</td>\n",
       "    </tr>\n",
       "    <tr>\n",
       "      <th>1</th>\n",
       "      <td>2019-08-02</td>\n",
       "      <td>A</td>\n",
       "      <td>619</td>\n",
       "    </tr>\n",
       "    <tr>\n",
       "      <th>2</th>\n",
       "      <td>2019-08-03</td>\n",
       "      <td>A</td>\n",
       "      <td>507</td>\n",
       "    </tr>\n",
       "    <tr>\n",
       "      <th>3</th>\n",
       "      <td>2019-08-04</td>\n",
       "      <td>A</td>\n",
       "      <td>717</td>\n",
       "    </tr>\n",
       "    <tr>\n",
       "      <th>4</th>\n",
       "      <td>2019-08-05</td>\n",
       "      <td>A</td>\n",
       "      <td>756</td>\n",
       "    </tr>\n",
       "  </tbody>\n",
       "</table>\n",
       "</div>"
      ],
      "text/plain": [
       "         date group  visitors\n",
       "0  2019-08-01     A       719\n",
       "1  2019-08-02     A       619\n",
       "2  2019-08-03     A       507\n",
       "3  2019-08-04     A       717\n",
       "4  2019-08-05     A       756"
      ]
     },
     "metadata": {},
     "output_type": "display_data"
    }
   ],
   "source": [
    "display(hypothesis.head())\n",
    "print('-'*72)\n",
    "display(orders.head())\n",
    "print('-'*72)\n",
    "display(visitors.head())"
   ]
  },
  {
   "cell_type": "code",
   "execution_count": 4,
   "metadata": {},
   "outputs": [],
   "source": [
    "# Приводим названия столбцов к нижнему регистру\n",
    "hypothesis.columns = hypothesis.columns.str.lower()"
   ]
  },
  {
   "cell_type": "code",
   "execution_count": 5,
   "metadata": {},
   "outputs": [
    {
     "name": "stdout",
     "output_type": "stream",
     "text": [
      "Количество пропусков в hypothesis: \n",
      "hypothesis    0\n",
      "reach         0\n",
      "impact        0\n",
      "confidence    0\n",
      "efforts       0\n",
      "dtype: int64\n",
      "------------------------------\n",
      "Количество пропусков в orders: \n",
      "transactionId    0\n",
      "visitorId        0\n",
      "date             0\n",
      "revenue          0\n",
      "group            0\n",
      "dtype: int64\n",
      "------------------------------\n",
      "Количество пропусков в visitors: \n",
      "date        0\n",
      "group       0\n",
      "visitors    0\n",
      "dtype: int64\n"
     ]
    }
   ],
   "source": [
    "print(f'Количество пропусков в hypothesis: \\n{hypothesis.isna().sum()}')\n",
    "print('-'*30)\n",
    "print(f'Количество пропусков в orders: \\n{orders.isna().sum()}')\n",
    "print('-'*30)\n",
    "print(f'Количество пропусков в visitors: \\n{visitors.isna().sum()}')"
   ]
  },
  {
   "cell_type": "code",
   "execution_count": 6,
   "metadata": {},
   "outputs": [
    {
     "name": "stdout",
     "output_type": "stream",
     "text": [
      "Количество дубликатов в hypothesis: 0\n",
      "----------------------------------------\n",
      "Количество дубликатов в orders: 0\n",
      "----------------------------------------\n",
      "Количество дубликатов в visitors: 0\n"
     ]
    }
   ],
   "source": [
    "print(f'Количество дубликатов в hypothesis: {hypothesis.duplicated().sum()}')\n",
    "print('-'*40)\n",
    "print(f'Количество дубликатов в orders: {orders.duplicated().sum()}')\n",
    "print('-'*40)\n",
    "print(f'Количество дубликатов в visitors: {visitors.duplicated().sum()}')"
   ]
  },
  {
   "cell_type": "code",
   "execution_count": 7,
   "metadata": {
    "scrolled": false
   },
   "outputs": [],
   "source": [
    "orders['date'] = orders['date'].map(lambda x: dt.datetime.strptime(x, '%Y-%m-%d'))\n",
    "visitors['date'] = visitors['date'].map(lambda x: dt.datetime.strptime(x, '%Y-%m-%d'))"
   ]
  },
  {
   "cell_type": "code",
   "execution_count": 8,
   "metadata": {
    "scrolled": false
   },
   "outputs": [
    {
     "name": "stdout",
     "output_type": "stream",
     "text": [
      "<class 'pandas.core.frame.DataFrame'>\n",
      "RangeIndex: 9 entries, 0 to 8\n",
      "Data columns (total 5 columns):\n",
      " #   Column      Non-Null Count  Dtype \n",
      "---  ------      --------------  ----- \n",
      " 0   hypothesis  9 non-null      object\n",
      " 1   reach       9 non-null      int64 \n",
      " 2   impact      9 non-null      int64 \n",
      " 3   confidence  9 non-null      int64 \n",
      " 4   efforts     9 non-null      int64 \n",
      "dtypes: int64(4), object(1)\n",
      "memory usage: 488.0+ bytes\n",
      "None\n",
      "--------------------------------------------------\n",
      "<class 'pandas.core.frame.DataFrame'>\n",
      "RangeIndex: 1197 entries, 0 to 1196\n",
      "Data columns (total 5 columns):\n",
      " #   Column         Non-Null Count  Dtype         \n",
      "---  ------         --------------  -----         \n",
      " 0   transactionId  1197 non-null   int64         \n",
      " 1   visitorId      1197 non-null   int64         \n",
      " 2   date           1197 non-null   datetime64[ns]\n",
      " 3   revenue        1197 non-null   int64         \n",
      " 4   group          1197 non-null   object        \n",
      "dtypes: datetime64[ns](1), int64(3), object(1)\n",
      "memory usage: 46.9+ KB\n",
      "None\n",
      "--------------------------------------------------\n",
      "<class 'pandas.core.frame.DataFrame'>\n",
      "RangeIndex: 62 entries, 0 to 61\n",
      "Data columns (total 3 columns):\n",
      " #   Column    Non-Null Count  Dtype         \n",
      "---  ------    --------------  -----         \n",
      " 0   date      62 non-null     datetime64[ns]\n",
      " 1   group     62 non-null     object        \n",
      " 2   visitors  62 non-null     int64         \n",
      "dtypes: datetime64[ns](1), int64(1), object(1)\n",
      "memory usage: 1.6+ KB\n",
      "None\n"
     ]
    }
   ],
   "source": [
    "# Проверяем результаты\n",
    "print(hypothesis.info())\n",
    "print('-'*50)\n",
    "print(orders.info())\n",
    "print('-'*50)\n",
    "print(visitors.info())"
   ]
  },
  {
   "cell_type": "markdown",
   "metadata": {},
   "source": [
    "### Промежуточный вывод"
   ]
  },
  {
   "cell_type": "markdown",
   "metadata": {},
   "source": [
    "Данные загрузили.  \n",
    "По итогу мы видим, что пропусков и дубликатов нет. Названия столбцов в `hypothesis` привели к нижнему регистру. Столбцы с датой преобразовали в необходимый формат."
   ]
  },
  {
   "cell_type": "markdown",
   "metadata": {},
   "source": [
    "## Приоритизация гипотез."
   ]
  },
  {
   "cell_type": "markdown",
   "metadata": {},
   "source": [
    "### Применение фреймворка ICE"
   ]
  },
  {
   "cell_type": "markdown",
   "metadata": {},
   "source": [
    "ICE — один из самых популярных способов приоритизации задач.  \n",
    "ICE = (Impact * Confidence) / Efforts  \n",
    "Impact — насколько сильно изменение повлияет на пользователей, их опыт и удовлетворение от продукта;  \n",
    "Confidence — насколько вы уверены, что это изменение повлияет на пользователей именно так;  \n",
    "Efforts — сколько стоит протестировать эту гипотезу."
   ]
  },
  {
   "cell_type": "code",
   "execution_count": 9,
   "metadata": {},
   "outputs": [
    {
     "data": {
      "text/html": [
       "<div>\n",
       "<style scoped>\n",
       "    .dataframe tbody tr th:only-of-type {\n",
       "        vertical-align: middle;\n",
       "    }\n",
       "\n",
       "    .dataframe tbody tr th {\n",
       "        vertical-align: top;\n",
       "    }\n",
       "\n",
       "    .dataframe thead th {\n",
       "        text-align: right;\n",
       "    }\n",
       "</style>\n",
       "<table border=\"1\" class=\"dataframe\">\n",
       "  <thead>\n",
       "    <tr style=\"text-align: right;\">\n",
       "      <th></th>\n",
       "      <th>hypothesis</th>\n",
       "      <th>reach</th>\n",
       "      <th>impact</th>\n",
       "      <th>confidence</th>\n",
       "      <th>efforts</th>\n",
       "      <th>ICE</th>\n",
       "    </tr>\n",
       "  </thead>\n",
       "  <tbody>\n",
       "    <tr>\n",
       "      <th>8</th>\n",
       "      <td>Запустить акцию, дающую скидку на товар в день рождения</td>\n",
       "      <td>1</td>\n",
       "      <td>9</td>\n",
       "      <td>9</td>\n",
       "      <td>5</td>\n",
       "      <td>16.20</td>\n",
       "    </tr>\n",
       "    <tr>\n",
       "      <th>0</th>\n",
       "      <td>Добавить два новых канала привлечения трафика, что позволит привлекать на 30% больше пользователей</td>\n",
       "      <td>3</td>\n",
       "      <td>10</td>\n",
       "      <td>8</td>\n",
       "      <td>6</td>\n",
       "      <td>13.33</td>\n",
       "    </tr>\n",
       "    <tr>\n",
       "      <th>7</th>\n",
       "      <td>Добавить форму подписки на все основные страницы, чтобы собрать базу клиентов для email-рассылок</td>\n",
       "      <td>10</td>\n",
       "      <td>7</td>\n",
       "      <td>8</td>\n",
       "      <td>5</td>\n",
       "      <td>11.20</td>\n",
       "    </tr>\n",
       "    <tr>\n",
       "      <th>6</th>\n",
       "      <td>Показать на главной странице баннеры с актуальными акциями и распродажами, чтобы увеличить конверсию</td>\n",
       "      <td>5</td>\n",
       "      <td>3</td>\n",
       "      <td>8</td>\n",
       "      <td>3</td>\n",
       "      <td>8.00</td>\n",
       "    </tr>\n",
       "    <tr>\n",
       "      <th>2</th>\n",
       "      <td>Добавить блоки рекомендаций товаров на сайт интернет магазина, чтобы повысить конверсию и средний чек заказа</td>\n",
       "      <td>8</td>\n",
       "      <td>3</td>\n",
       "      <td>7</td>\n",
       "      <td>3</td>\n",
       "      <td>7.00</td>\n",
       "    </tr>\n",
       "    <tr>\n",
       "      <th>1</th>\n",
       "      <td>Запустить собственную службу доставки, что сократит срок доставки заказов</td>\n",
       "      <td>2</td>\n",
       "      <td>5</td>\n",
       "      <td>4</td>\n",
       "      <td>10</td>\n",
       "      <td>2.00</td>\n",
       "    </tr>\n",
       "    <tr>\n",
       "      <th>5</th>\n",
       "      <td>Добавить страницу отзывов клиентов о магазине, что позволит увеличить количество заказов</td>\n",
       "      <td>3</td>\n",
       "      <td>2</td>\n",
       "      <td>2</td>\n",
       "      <td>3</td>\n",
       "      <td>1.33</td>\n",
       "    </tr>\n",
       "    <tr>\n",
       "      <th>3</th>\n",
       "      <td>Изменить структура категорий, что увеличит конверсию, т.к. пользователи быстрее найдут нужный товар</td>\n",
       "      <td>8</td>\n",
       "      <td>3</td>\n",
       "      <td>3</td>\n",
       "      <td>8</td>\n",
       "      <td>1.12</td>\n",
       "    </tr>\n",
       "    <tr>\n",
       "      <th>4</th>\n",
       "      <td>Изменить цвет фона главной страницы, чтобы увеличить вовлеченность пользователей</td>\n",
       "      <td>3</td>\n",
       "      <td>1</td>\n",
       "      <td>1</td>\n",
       "      <td>1</td>\n",
       "      <td>1.00</td>\n",
       "    </tr>\n",
       "  </tbody>\n",
       "</table>\n",
       "</div>"
      ],
      "text/plain": [
       "                                                                                                     hypothesis  \\\n",
       "8                                                       Запустить акцию, дающую скидку на товар в день рождения   \n",
       "0            Добавить два новых канала привлечения трафика, что позволит привлекать на 30% больше пользователей   \n",
       "7              Добавить форму подписки на все основные страницы, чтобы собрать базу клиентов для email-рассылок   \n",
       "6          Показать на главной странице баннеры с актуальными акциями и распродажами, чтобы увеличить конверсию   \n",
       "2  Добавить блоки рекомендаций товаров на сайт интернет магазина, чтобы повысить конверсию и средний чек заказа   \n",
       "1                                     Запустить собственную службу доставки, что сократит срок доставки заказов   \n",
       "5                      Добавить страницу отзывов клиентов о магазине, что позволит увеличить количество заказов   \n",
       "3           Изменить структура категорий, что увеличит конверсию, т.к. пользователи быстрее найдут нужный товар   \n",
       "4                              Изменить цвет фона главной страницы, чтобы увеличить вовлеченность пользователей   \n",
       "\n",
       "   reach  impact  confidence  efforts    ICE  \n",
       "8      1       9           9        5  16.20  \n",
       "0      3      10           8        6  13.33  \n",
       "7     10       7           8        5  11.20  \n",
       "6      5       3           8        3   8.00  \n",
       "2      8       3           7        3   7.00  \n",
       "1      2       5           4       10   2.00  \n",
       "5      3       2           2        3   1.33  \n",
       "3      8       3           3        8   1.12  \n",
       "4      3       1           1        1   1.00  "
      ]
     },
     "execution_count": 9,
     "metadata": {},
     "output_type": "execute_result"
    }
   ],
   "source": [
    "pd.set_option('max_colwidth', 200)\n",
    "hypothesis['ICE'] = round((hypothesis['impact'] * hypothesis['confidence']) / hypothesis['efforts'], 2)\n",
    "hypothesis.sort_values(by='ICE', ascending=False)"
   ]
  },
  {
   "cell_type": "markdown",
   "metadata": {},
   "source": [
    "### Применение фреймворка RICE"
   ]
  },
  {
   "cell_type": "markdown",
   "metadata": {},
   "source": [
    "RICE — состоит из четырёх компонентов.  \n",
    "RICE = (Reach * Impact * Confidence) / Efforts  \n",
    "Добавляется еще Reach — скольких пользователей затронет изменение, которое вы хотите внести."
   ]
  },
  {
   "cell_type": "code",
   "execution_count": 10,
   "metadata": {},
   "outputs": [
    {
     "data": {
      "text/html": [
       "<div>\n",
       "<style scoped>\n",
       "    .dataframe tbody tr th:only-of-type {\n",
       "        vertical-align: middle;\n",
       "    }\n",
       "\n",
       "    .dataframe tbody tr th {\n",
       "        vertical-align: top;\n",
       "    }\n",
       "\n",
       "    .dataframe thead th {\n",
       "        text-align: right;\n",
       "    }\n",
       "</style>\n",
       "<table border=\"1\" class=\"dataframe\">\n",
       "  <thead>\n",
       "    <tr style=\"text-align: right;\">\n",
       "      <th></th>\n",
       "      <th>hypothesis</th>\n",
       "      <th>reach</th>\n",
       "      <th>impact</th>\n",
       "      <th>confidence</th>\n",
       "      <th>efforts</th>\n",
       "      <th>ICE</th>\n",
       "      <th>RICE</th>\n",
       "    </tr>\n",
       "  </thead>\n",
       "  <tbody>\n",
       "    <tr>\n",
       "      <th>7</th>\n",
       "      <td>Добавить форму подписки на все основные страницы, чтобы собрать базу клиентов для email-рассылок</td>\n",
       "      <td>10</td>\n",
       "      <td>7</td>\n",
       "      <td>8</td>\n",
       "      <td>5</td>\n",
       "      <td>11.20</td>\n",
       "      <td>112.0</td>\n",
       "    </tr>\n",
       "    <tr>\n",
       "      <th>2</th>\n",
       "      <td>Добавить блоки рекомендаций товаров на сайт интернет магазина, чтобы повысить конверсию и средний чек заказа</td>\n",
       "      <td>8</td>\n",
       "      <td>3</td>\n",
       "      <td>7</td>\n",
       "      <td>3</td>\n",
       "      <td>7.00</td>\n",
       "      <td>56.0</td>\n",
       "    </tr>\n",
       "    <tr>\n",
       "      <th>0</th>\n",
       "      <td>Добавить два новых канала привлечения трафика, что позволит привлекать на 30% больше пользователей</td>\n",
       "      <td>3</td>\n",
       "      <td>10</td>\n",
       "      <td>8</td>\n",
       "      <td>6</td>\n",
       "      <td>13.33</td>\n",
       "      <td>40.0</td>\n",
       "    </tr>\n",
       "    <tr>\n",
       "      <th>6</th>\n",
       "      <td>Показать на главной странице баннеры с актуальными акциями и распродажами, чтобы увеличить конверсию</td>\n",
       "      <td>5</td>\n",
       "      <td>3</td>\n",
       "      <td>8</td>\n",
       "      <td>3</td>\n",
       "      <td>8.00</td>\n",
       "      <td>40.0</td>\n",
       "    </tr>\n",
       "    <tr>\n",
       "      <th>8</th>\n",
       "      <td>Запустить акцию, дающую скидку на товар в день рождения</td>\n",
       "      <td>1</td>\n",
       "      <td>9</td>\n",
       "      <td>9</td>\n",
       "      <td>5</td>\n",
       "      <td>16.20</td>\n",
       "      <td>16.2</td>\n",
       "    </tr>\n",
       "    <tr>\n",
       "      <th>3</th>\n",
       "      <td>Изменить структура категорий, что увеличит конверсию, т.к. пользователи быстрее найдут нужный товар</td>\n",
       "      <td>8</td>\n",
       "      <td>3</td>\n",
       "      <td>3</td>\n",
       "      <td>8</td>\n",
       "      <td>1.12</td>\n",
       "      <td>9.0</td>\n",
       "    </tr>\n",
       "    <tr>\n",
       "      <th>1</th>\n",
       "      <td>Запустить собственную службу доставки, что сократит срок доставки заказов</td>\n",
       "      <td>2</td>\n",
       "      <td>5</td>\n",
       "      <td>4</td>\n",
       "      <td>10</td>\n",
       "      <td>2.00</td>\n",
       "      <td>4.0</td>\n",
       "    </tr>\n",
       "    <tr>\n",
       "      <th>5</th>\n",
       "      <td>Добавить страницу отзывов клиентов о магазине, что позволит увеличить количество заказов</td>\n",
       "      <td>3</td>\n",
       "      <td>2</td>\n",
       "      <td>2</td>\n",
       "      <td>3</td>\n",
       "      <td>1.33</td>\n",
       "      <td>4.0</td>\n",
       "    </tr>\n",
       "    <tr>\n",
       "      <th>4</th>\n",
       "      <td>Изменить цвет фона главной страницы, чтобы увеличить вовлеченность пользователей</td>\n",
       "      <td>3</td>\n",
       "      <td>1</td>\n",
       "      <td>1</td>\n",
       "      <td>1</td>\n",
       "      <td>1.00</td>\n",
       "      <td>3.0</td>\n",
       "    </tr>\n",
       "  </tbody>\n",
       "</table>\n",
       "</div>"
      ],
      "text/plain": [
       "                                                                                                     hypothesis  \\\n",
       "7              Добавить форму подписки на все основные страницы, чтобы собрать базу клиентов для email-рассылок   \n",
       "2  Добавить блоки рекомендаций товаров на сайт интернет магазина, чтобы повысить конверсию и средний чек заказа   \n",
       "0            Добавить два новых канала привлечения трафика, что позволит привлекать на 30% больше пользователей   \n",
       "6          Показать на главной странице баннеры с актуальными акциями и распродажами, чтобы увеличить конверсию   \n",
       "8                                                       Запустить акцию, дающую скидку на товар в день рождения   \n",
       "3           Изменить структура категорий, что увеличит конверсию, т.к. пользователи быстрее найдут нужный товар   \n",
       "1                                     Запустить собственную службу доставки, что сократит срок доставки заказов   \n",
       "5                      Добавить страницу отзывов клиентов о магазине, что позволит увеличить количество заказов   \n",
       "4                              Изменить цвет фона главной страницы, чтобы увеличить вовлеченность пользователей   \n",
       "\n",
       "   reach  impact  confidence  efforts    ICE   RICE  \n",
       "7     10       7           8        5  11.20  112.0  \n",
       "2      8       3           7        3   7.00   56.0  \n",
       "0      3      10           8        6  13.33   40.0  \n",
       "6      5       3           8        3   8.00   40.0  \n",
       "8      1       9           9        5  16.20   16.2  \n",
       "3      8       3           3        8   1.12    9.0  \n",
       "1      2       5           4       10   2.00    4.0  \n",
       "5      3       2           2        3   1.33    4.0  \n",
       "4      3       1           1        1   1.00    3.0  "
      ]
     },
     "execution_count": 10,
     "metadata": {},
     "output_type": "execute_result"
    }
   ],
   "source": [
    "pd.set_option('max_colwidth', 200)\n",
    "hypothesis['RICE'] = round((hypothesis['reach'] * hypothesis['impact'] * hypothesis['confidence'])\n",
    "                           / hypothesis['efforts'], 2)\n",
    "hypothesis.sort_values(by='RICE', ascending=False)"
   ]
  },
  {
   "cell_type": "markdown",
   "metadata": {},
   "source": [
    "### Промежуточный вывод\n",
    "В ICE мы видим, что лидирует 8 гипотеза, далее идут 0 и 7.  \n",
    "В связи с тем, что RICE учитывает количество пользователей, которых затрагивает изменение, у нас изменилась приоритизация.  \n",
    "В RICE с большим отрывом лидирует 7 гипотеза, далее идут 2 и 0.  \n",
    "Лидирующая в ICE 8 гипотеза имеет оценку 1 в Reach, поэтому она опустилась на 5 место, а 7 гипотеза заняла 1 место с оценкой 10. Мы видим, что добавление формы подписки затронет большинство пользователей, в отличие от запуска акции к дню рождения.  \n",
    "Для нас приоритетными гипотезами будут 7, 2 и 0."
   ]
  },
  {
   "cell_type": "markdown",
   "metadata": {},
   "source": [
    "## Анализ A/B-теста."
   ]
  },
  {
   "cell_type": "markdown",
   "metadata": {},
   "source": [
    "### Предподготовка к анализу A/B-теста"
   ]
  },
  {
   "cell_type": "code",
   "execution_count": 11,
   "metadata": {},
   "outputs": [
    {
     "data": {
      "text/plain": [
       "58"
      ]
     },
     "execution_count": 11,
     "metadata": {},
     "output_type": "execute_result"
    }
   ],
   "source": [
    "#Для начала проверим есть ли пользователи, которые вошли в обе группы А и В\n",
    "groupA = orders[orders['group'] == 'A']['visitorId']\n",
    "groupB = orders[orders['group'] == 'B']['visitorId']\n",
    "ordersAB = orders.query('visitorId in @groupA and visitorId in @groupB')\n",
    "ordersAB['visitorId'].nunique()"
   ]
  },
  {
   "cell_type": "code",
   "execution_count": 12,
   "metadata": {},
   "outputs": [
    {
     "name": "stdout",
     "output_type": "stream",
     "text": [
      "Количество уникальных пользователей в группе А составляет 503\n",
      "Количество уникальных пользователей в группе B составляет 586\n"
     ]
    }
   ],
   "source": [
    "print(f'Количество уникальных пользователей в группе А составляет', groupA.nunique())\n",
    "print(f'Количество уникальных пользователей в группе B составляет', groupB.nunique())"
   ]
  },
  {
   "cell_type": "code",
   "execution_count": 13,
   "metadata": {},
   "outputs": [],
   "source": [
    "#Перезапишем orders\n",
    "orders = orders.query('visitorId not in @ordersAB[\"visitorId\"]')"
   ]
  },
  {
   "cell_type": "code",
   "execution_count": 14,
   "metadata": {},
   "outputs": [
    {
     "name": "stdout",
     "output_type": "stream",
     "text": [
      "<class 'pandas.core.frame.DataFrame'>\n",
      "Int64Index: 1016 entries, 0 to 1196\n",
      "Data columns (total 5 columns):\n",
      " #   Column         Non-Null Count  Dtype         \n",
      "---  ------         --------------  -----         \n",
      " 0   transactionId  1016 non-null   int64         \n",
      " 1   visitorId      1016 non-null   int64         \n",
      " 2   date           1016 non-null   datetime64[ns]\n",
      " 3   revenue        1016 non-null   int64         \n",
      " 4   group          1016 non-null   object        \n",
      "dtypes: datetime64[ns](1), int64(3), object(1)\n",
      "memory usage: 47.6+ KB\n"
     ]
    },
    {
     "data": {
      "text/plain": [
       "None"
      ]
     },
     "metadata": {},
     "output_type": "display_data"
    },
    {
     "name": "stdout",
     "output_type": "stream",
     "text": [
      "------------------------------------------------------------------------\n",
      "<class 'pandas.core.frame.DataFrame'>\n",
      "RangeIndex: 62 entries, 0 to 61\n",
      "Data columns (total 3 columns):\n",
      " #   Column    Non-Null Count  Dtype         \n",
      "---  ------    --------------  -----         \n",
      " 0   date      62 non-null     datetime64[ns]\n",
      " 1   group     62 non-null     object        \n",
      " 2   visitors  62 non-null     int64         \n",
      "dtypes: datetime64[ns](1), int64(1), object(1)\n",
      "memory usage: 1.6+ KB\n"
     ]
    },
    {
     "data": {
      "text/plain": [
       "None"
      ]
     },
     "metadata": {},
     "output_type": "display_data"
    }
   ],
   "source": [
    "#Проверим результат\n",
    "display(orders.info())\n",
    "print('-'*72)\n",
    "display(visitors.info())"
   ]
  },
  {
   "cell_type": "markdown",
   "metadata": {},
   "source": [
    "Очистили таблицу от 58 пользователей, которые состоят в двух группах, для корректного A/B-теста."
   ]
  },
  {
   "cell_type": "markdown",
   "metadata": {},
   "source": [
    "### Построение графика кумулятивной выручки по группам."
   ]
  },
  {
   "cell_type": "code",
   "execution_count": 15,
   "metadata": {},
   "outputs": [],
   "source": [
    "# Создаем массив уникальных пар значений дат и групп теста\n",
    "datesGroups = orders[['date','group']].drop_duplicates()"
   ]
  },
  {
   "cell_type": "code",
   "execution_count": 16,
   "metadata": {},
   "outputs": [
    {
     "data": {
      "text/html": [
       "<div>\n",
       "<style scoped>\n",
       "    .dataframe tbody tr th:only-of-type {\n",
       "        vertical-align: middle;\n",
       "    }\n",
       "\n",
       "    .dataframe tbody tr th {\n",
       "        vertical-align: top;\n",
       "    }\n",
       "\n",
       "    .dataframe thead th {\n",
       "        text-align: right;\n",
       "    }\n",
       "</style>\n",
       "<table border=\"1\" class=\"dataframe\">\n",
       "  <thead>\n",
       "    <tr style=\"text-align: right;\">\n",
       "      <th></th>\n",
       "      <th>date</th>\n",
       "      <th>group</th>\n",
       "      <th>transactionId</th>\n",
       "      <th>visitorId</th>\n",
       "      <th>revenue</th>\n",
       "    </tr>\n",
       "  </thead>\n",
       "  <tbody>\n",
       "    <tr>\n",
       "      <th>55</th>\n",
       "      <td>2019-08-01</td>\n",
       "      <td>A</td>\n",
       "      <td>23</td>\n",
       "      <td>19</td>\n",
       "      <td>142779</td>\n",
       "    </tr>\n",
       "    <tr>\n",
       "      <th>66</th>\n",
       "      <td>2019-08-01</td>\n",
       "      <td>B</td>\n",
       "      <td>17</td>\n",
       "      <td>17</td>\n",
       "      <td>59758</td>\n",
       "    </tr>\n",
       "    <tr>\n",
       "      <th>175</th>\n",
       "      <td>2019-08-02</td>\n",
       "      <td>A</td>\n",
       "      <td>42</td>\n",
       "      <td>36</td>\n",
       "      <td>234381</td>\n",
       "    </tr>\n",
       "    <tr>\n",
       "      <th>173</th>\n",
       "      <td>2019-08-02</td>\n",
       "      <td>B</td>\n",
       "      <td>40</td>\n",
       "      <td>39</td>\n",
       "      <td>221801</td>\n",
       "    </tr>\n",
       "    <tr>\n",
       "      <th>291</th>\n",
       "      <td>2019-08-03</td>\n",
       "      <td>A</td>\n",
       "      <td>66</td>\n",
       "      <td>60</td>\n",
       "      <td>346854</td>\n",
       "    </tr>\n",
       "    <tr>\n",
       "      <th>383</th>\n",
       "      <td>2019-08-03</td>\n",
       "      <td>B</td>\n",
       "      <td>54</td>\n",
       "      <td>53</td>\n",
       "      <td>288850</td>\n",
       "    </tr>\n",
       "  </tbody>\n",
       "</table>\n",
       "</div>"
      ],
      "text/plain": [
       "          date group  transactionId  visitorId  revenue\n",
       "55  2019-08-01     A             23         19   142779\n",
       "66  2019-08-01     B             17         17    59758\n",
       "175 2019-08-02     A             42         36   234381\n",
       "173 2019-08-02     B             40         39   221801\n",
       "291 2019-08-03     A             66         60   346854\n",
       "383 2019-08-03     B             54         53   288850"
      ]
     },
     "execution_count": 16,
     "metadata": {},
     "output_type": "execute_result"
    }
   ],
   "source": [
    "# Получим кумулятивные показатели orders\n",
    "ordersAggregated = datesGroups.apply(\n",
    "    lambda x: orders[\n",
    "        np.logical_and(\n",
    "            orders['date'] <= x['date'], orders['group'] == x['group']\n",
    "        )\n",
    "    ].agg(\n",
    "        {\n",
    "            'date': 'max',\n",
    "            'group': 'max',\n",
    "            'transactionId': 'nunique',\n",
    "            'visitorId': 'nunique',\n",
    "            'revenue': 'sum',\n",
    "        }\n",
    "    ),\n",
    "    axis=1,\n",
    ").sort_values(by=['date', 'group'])\n",
    "\n",
    "ordersAggregated.head(6)"
   ]
  },
  {
   "cell_type": "code",
   "execution_count": 17,
   "metadata": {},
   "outputs": [
    {
     "data": {
      "text/html": [
       "<div>\n",
       "<style scoped>\n",
       "    .dataframe tbody tr th:only-of-type {\n",
       "        vertical-align: middle;\n",
       "    }\n",
       "\n",
       "    .dataframe tbody tr th {\n",
       "        vertical-align: top;\n",
       "    }\n",
       "\n",
       "    .dataframe thead th {\n",
       "        text-align: right;\n",
       "    }\n",
       "</style>\n",
       "<table border=\"1\" class=\"dataframe\">\n",
       "  <thead>\n",
       "    <tr style=\"text-align: right;\">\n",
       "      <th></th>\n",
       "      <th>date</th>\n",
       "      <th>group</th>\n",
       "      <th>visitors</th>\n",
       "    </tr>\n",
       "  </thead>\n",
       "  <tbody>\n",
       "    <tr>\n",
       "      <th>55</th>\n",
       "      <td>2019-08-01</td>\n",
       "      <td>A</td>\n",
       "      <td>719</td>\n",
       "    </tr>\n",
       "    <tr>\n",
       "      <th>66</th>\n",
       "      <td>2019-08-01</td>\n",
       "      <td>B</td>\n",
       "      <td>713</td>\n",
       "    </tr>\n",
       "    <tr>\n",
       "      <th>175</th>\n",
       "      <td>2019-08-02</td>\n",
       "      <td>A</td>\n",
       "      <td>1338</td>\n",
       "    </tr>\n",
       "    <tr>\n",
       "      <th>173</th>\n",
       "      <td>2019-08-02</td>\n",
       "      <td>B</td>\n",
       "      <td>1294</td>\n",
       "    </tr>\n",
       "    <tr>\n",
       "      <th>291</th>\n",
       "      <td>2019-08-03</td>\n",
       "      <td>A</td>\n",
       "      <td>1845</td>\n",
       "    </tr>\n",
       "    <tr>\n",
       "      <th>383</th>\n",
       "      <td>2019-08-03</td>\n",
       "      <td>B</td>\n",
       "      <td>1803</td>\n",
       "    </tr>\n",
       "  </tbody>\n",
       "</table>\n",
       "</div>"
      ],
      "text/plain": [
       "          date group  visitors\n",
       "55  2019-08-01     A       719\n",
       "66  2019-08-01     B       713\n",
       "175 2019-08-02     A      1338\n",
       "173 2019-08-02     B      1294\n",
       "291 2019-08-03     A      1845\n",
       "383 2019-08-03     B      1803"
      ]
     },
     "execution_count": 17,
     "metadata": {},
     "output_type": "execute_result"
    }
   ],
   "source": [
    "# Получим кумулятивные показатели visitors\n",
    "visitorsAggregated = datesGroups.apply(\n",
    "    lambda x: visitors[\n",
    "        np.logical_and(\n",
    "            visitors['date'] <= x['date'], visitors['group'] == x['group']\n",
    "        )\n",
    "    ].agg({'date': 'max', 'group': 'max', 'visitors': 'sum'}),\n",
    "    axis=1,\n",
    ").sort_values(by=['date', 'group'])\n",
    "\n",
    "visitorsAggregated.head(6)"
   ]
  },
  {
   "cell_type": "code",
   "execution_count": 18,
   "metadata": {
    "scrolled": true
   },
   "outputs": [
    {
     "data": {
      "text/html": [
       "<div>\n",
       "<style scoped>\n",
       "    .dataframe tbody tr th:only-of-type {\n",
       "        vertical-align: middle;\n",
       "    }\n",
       "\n",
       "    .dataframe tbody tr th {\n",
       "        vertical-align: top;\n",
       "    }\n",
       "\n",
       "    .dataframe thead th {\n",
       "        text-align: right;\n",
       "    }\n",
       "</style>\n",
       "<table border=\"1\" class=\"dataframe\">\n",
       "  <thead>\n",
       "    <tr style=\"text-align: right;\">\n",
       "      <th></th>\n",
       "      <th>date</th>\n",
       "      <th>group</th>\n",
       "      <th>orders</th>\n",
       "      <th>buyers</th>\n",
       "      <th>revenue</th>\n",
       "      <th>visitors</th>\n",
       "    </tr>\n",
       "  </thead>\n",
       "  <tbody>\n",
       "    <tr>\n",
       "      <th>0</th>\n",
       "      <td>2019-08-01</td>\n",
       "      <td>A</td>\n",
       "      <td>23</td>\n",
       "      <td>19</td>\n",
       "      <td>142779</td>\n",
       "      <td>719</td>\n",
       "    </tr>\n",
       "    <tr>\n",
       "      <th>1</th>\n",
       "      <td>2019-08-01</td>\n",
       "      <td>B</td>\n",
       "      <td>17</td>\n",
       "      <td>17</td>\n",
       "      <td>59758</td>\n",
       "      <td>713</td>\n",
       "    </tr>\n",
       "    <tr>\n",
       "      <th>2</th>\n",
       "      <td>2019-08-02</td>\n",
       "      <td>A</td>\n",
       "      <td>42</td>\n",
       "      <td>36</td>\n",
       "      <td>234381</td>\n",
       "      <td>1338</td>\n",
       "    </tr>\n",
       "    <tr>\n",
       "      <th>3</th>\n",
       "      <td>2019-08-02</td>\n",
       "      <td>B</td>\n",
       "      <td>40</td>\n",
       "      <td>39</td>\n",
       "      <td>221801</td>\n",
       "      <td>1294</td>\n",
       "    </tr>\n",
       "    <tr>\n",
       "      <th>4</th>\n",
       "      <td>2019-08-03</td>\n",
       "      <td>A</td>\n",
       "      <td>66</td>\n",
       "      <td>60</td>\n",
       "      <td>346854</td>\n",
       "      <td>1845</td>\n",
       "    </tr>\n",
       "  </tbody>\n",
       "</table>\n",
       "</div>"
      ],
      "text/plain": [
       "        date group  orders  buyers  revenue  visitors\n",
       "0 2019-08-01     A      23      19   142779       719\n",
       "1 2019-08-01     B      17      17    59758       713\n",
       "2 2019-08-02     A      42      36   234381      1338\n",
       "3 2019-08-02     B      40      39   221801      1294\n",
       "4 2019-08-03     A      66      60   346854      1845"
      ]
     },
     "execution_count": 18,
     "metadata": {},
     "output_type": "execute_result"
    }
   ],
   "source": [
    "cumulativeData = ordersAggregated.merge(\n",
    "    visitorsAggregated, left_on=['date', 'group'], right_on=['date', 'group']\n",
    ")\n",
    "cumulativeData.columns = [\n",
    "    'date',\n",
    "    'group',\n",
    "    'orders',\n",
    "    'buyers',\n",
    "    'revenue',\n",
    "    'visitors',\n",
    "]\n",
    "\n",
    "cumulativeData.head()"
   ]
  },
  {
   "cell_type": "code",
   "execution_count": 19,
   "metadata": {},
   "outputs": [
    {
     "data": {
      "image/png": "[encoded data removed]",
      "text/plain": [
       "<Figure size 1008x504 with 1 Axes>"
      ]
     },
     "metadata": {
      "needs_background": "light"
     },
     "output_type": "display_data"
    }
   ],
   "source": [
    "# Размеры графика \n",
    "plt.figure(figsize=(14,7))  \n",
    "\n",
    "# Датафрейм с кумулятивным количеством заказов и кумулятивной выручкой по дням в группе А\n",
    "cumulativeRevenueA = cumulativeData[cumulativeData['group']=='A'][['date','revenue', 'orders']]\n",
    "\n",
    "# Датафрейм с кумулятивным количеством заказов и кумулятивной выручкой по дням в группе B\n",
    "cumulativeRevenueB = cumulativeData[cumulativeData['group']=='B'][['date','revenue', 'orders']]\n",
    "\n",
    "# Строим график выручки группы А\n",
    "plt.plot(cumulativeRevenueA['date'], cumulativeRevenueA['revenue'], label='A')\n",
    "\n",
    "# Строим график выручки группы B\n",
    "plt.plot(cumulativeRevenueB['date'], cumulativeRevenueB['revenue'], label='B')\n",
    "plt.grid()\n",
    "plt.legend(['Группа А', 'Группа B']) \n",
    "plt.xlabel('Дата')\n",
    "plt.ylabel('Выручка') \n",
    "plt.title('Кумулятивная выручка по группам');"
   ]
  },
  {
   "cell_type": "markdown",
   "metadata": {},
   "source": [
    "Выручка группы B находится выше во все даты кроме первых чисел.  \n",
    "Также выручка в обеих группах увеличивается на протяжении всего теста.  \n",
    "С 18 августа видим резкий всплеск по выручке у группы B, возможно увеличилось количество заказов, либо увеличился средний чек."
   ]
  },
  {
   "cell_type": "markdown",
   "metadata": {},
   "source": [
    "### Построение графика кумулятивного среднего чека по группам."
   ]
  },
  {
   "cell_type": "code",
   "execution_count": 20,
   "metadata": {},
   "outputs": [
    {
     "data": {
      "image/png": "[encoded data removed]",
      "text/plain": [
       "<Figure size 1008x504 with 1 Axes>"
      ]
     },
     "metadata": {
      "needs_background": "light"
     },
     "output_type": "display_data"
    }
   ],
   "source": [
    "# Размеры графика \n",
    "plt.figure(figsize=(14,7))\n",
    "\n",
    "plt.plot(cumulativeRevenueA['date'], cumulativeRevenueA['revenue']/cumulativeRevenueA['orders'], label='A')\n",
    "plt.plot(cumulativeRevenueB['date'], cumulativeRevenueB['revenue']/cumulativeRevenueB['orders'], label='B')\n",
    "plt.grid()\n",
    "plt.legend(['Группа А', 'Группа B']) \n",
    "plt.xlabel('Дата')\n",
    "plt.ylabel('Средний чек') \n",
    "plt.title('Кумулятивный средний чек по группам');"
   ]
  },
  {
   "cell_type": "markdown",
   "metadata": {},
   "source": [
    "На этом гафике мы также видим, что 18 августа был резкий скачок роста среднего чека в группе В, возможно, туда попали крупные заказы.  \n",
    "Группа А имеет более плавный график. К концу тестирования значения стабилизируются."
   ]
  },
  {
   "cell_type": "markdown",
   "metadata": {},
   "source": [
    "### Построение графика относительного изменения кумулятивного среднего чека группы B к группе A."
   ]
  },
  {
   "cell_type": "code",
   "execution_count": 21,
   "metadata": {},
   "outputs": [
    {
     "data": {
      "image/png": "[encoded data removed]",
      "text/plain": [
       "<Figure size 1008x504 with 1 Axes>"
      ]
     },
     "metadata": {
      "needs_background": "light"
     },
     "output_type": "display_data"
    }
   ],
   "source": [
    "# Размеры графика \n",
    "plt.figure(figsize=(14,7))\n",
    "\n",
    "# собираем данные в одном датафрейме\n",
    "mergedCumulativeRevenue = cumulativeRevenueA.merge(cumulativeRevenueB, \n",
    "                          left_on='date', right_on='date', how='left', suffixes=['A', 'B'])\n",
    "\n",
    "# cтроим отношение средних чеков\n",
    "plt.plot(mergedCumulativeRevenue['date'], \n",
    "         (mergedCumulativeRevenue['revenueB'] / mergedCumulativeRevenue['ordersB'])\n",
    "         /(mergedCumulativeRevenue['revenueA']/mergedCumulativeRevenue['ordersA'])-1)\n",
    "\n",
    "# добавляем ось X\n",
    "plt.axhline(y=0, color='black', linestyle='--')\n",
    "\n",
    "plt.grid()\n",
    "plt.legend(['Группа А', 'Группа B']) \n",
    "plt.xlabel('Дата')\n",
    "plt.ylabel('Средний чек') \n",
    "plt.title('Относительное изменение кумулятивного среднего чека группы B к группе A.');"
   ]
  },
  {
   "cell_type": "markdown",
   "metadata": {},
   "source": [
    "В некоторых точках график сильно скачет. В них должны быть крупные заказы."
   ]
  },
  {
   "cell_type": "markdown",
   "metadata": {},
   "source": [
    "### Построение графика кумулятивного среднего количества заказов на посетителя по группам."
   ]
  },
  {
   "cell_type": "code",
   "execution_count": 22,
   "metadata": {},
   "outputs": [
    {
     "data": {
      "image/png": "[encoded data removed]",
      "text/plain": [
       "<Figure size 1008x504 with 1 Axes>"
      ]
     },
     "metadata": {
      "needs_background": "light"
     },
     "output_type": "display_data"
    }
   ],
   "source": [
    "# Размеры графика \n",
    "plt.figure(figsize=(14,7))\n",
    "\n",
    "# считаем кумулятивную конверсию\n",
    "cumulativeData['conversion'] = cumulativeData['orders']/cumulativeData['visitors']\n",
    "\n",
    "# отделяем данные по группе A\n",
    "cumulativeDataA = cumulativeData[cumulativeData['group']=='A']\n",
    "\n",
    "# отделяем данные по группе B\n",
    "cumulativeDataB = cumulativeData[cumulativeData['group']=='B']\n",
    "\n",
    "# строим графики\n",
    "plt.plot(cumulativeDataA['date'], cumulativeDataA['conversion'], label='A')\n",
    "plt.plot(cumulativeDataB['date'], cumulativeDataB['conversion'], label='B')\n",
    "plt.legend()\n",
    "\n",
    "# задаем масштаб осей\n",
    "plt.axis([dt.datetime(2019, 8, 1), dt.datetime(2019, 9, 1), 0.024, 0.036])\n",
    "\n",
    "plt.title('Кумулятивное среднее количество заказов на посетителя по группам')\n",
    "plt.xlabel('Дата')\n",
    "plt.ylabel('Среднее количество заказов на посетителя')\n",
    "plt.grid()"
   ]
  },
  {
   "cell_type": "markdown",
   "metadata": {},
   "source": [
    "Группа В, начиная с 6 августа, показывает лучшую конверсию, чем группа А.  \n",
    "С 9 августа конверсия в двух группах стабилизировалась."
   ]
  },
  {
   "cell_type": "markdown",
   "metadata": {},
   "source": [
    "### Построение графика относительного изменения кумулятивного среднего количества заказов на посетителя группы B к группе A. "
   ]
  },
  {
   "cell_type": "code",
   "execution_count": 23,
   "metadata": {
    "scrolled": false
   },
   "outputs": [
    {
     "data": {
      "image/png": "[encoded data removed]",
      "text/plain": [
       "<Figure size 1008x504 with 1 Axes>"
      ]
     },
     "metadata": {
      "needs_background": "light"
     },
     "output_type": "display_data"
    }
   ],
   "source": [
    "# Размеры графика \n",
    "plt.figure(figsize=(14,7))\n",
    "\n",
    "mergedCumulativeConversions = (\n",
    "    cumulativeDataA[['date','conversion']].merge(cumulativeDataB[['date','conversion']], \n",
    "                                     left_on='date', right_on='date', how='left', suffixes=['A', 'B'])\n",
    ")\n",
    "plt.plot(mergedCumulativeConversions['date'], \n",
    "         mergedCumulativeConversions['conversionB']/mergedCumulativeConversions['conversionA']-1, \n",
    "         label='Относительный прирост конверсии группы B относительно группы A')\n",
    "\n",
    "\n",
    "plt.axhline(y=0, color='black', linestyle='--')\n",
    "plt.axhline(y=-0.1, color='grey', linestyle='--')\n",
    "plt.axhline(y=0.1, color='grey', linestyle='--')\n",
    "plt.axhline(y=0.2, color='grey', linestyle='--')\n",
    "plt.axis([dt.datetime(2019, 8, 1), dt.datetime(2019, 9, 1), -0.3, 0.3])\n",
    "\n",
    "plt.title('Относительне изменение кумулятивного среднего количества заказов на посетителя группы B к группе A')\n",
    "plt.xlabel('Дата')\n",
    "plt.ylabel('Среднее количество заказов на посетителя')\n",
    "plt.grid()"
   ]
  },
  {
   "cell_type": "markdown",
   "metadata": {},
   "source": [
    "Начиная с 6 августа кумулятивное среднее количество заказов группы В превосходит группу А в среднем на 15%."
   ]
  },
  {
   "cell_type": "markdown",
   "metadata": {},
   "source": [
    "### Построение точечного графика количества заказов по пользователям."
   ]
  },
  {
   "cell_type": "code",
   "execution_count": 24,
   "metadata": {},
   "outputs": [
    {
     "data": {
      "image/png": "[encoded data removed]",
      "text/plain": [
       "<Figure size 1008x504 with 1 Axes>"
      ]
     },
     "metadata": {
      "needs_background": "light"
     },
     "output_type": "display_data"
    }
   ],
   "source": [
    "plt.figure(figsize=(14,7))\n",
    "\n",
    "ordersByUsers = (\n",
    "    orders.groupby('visitorId', as_index=False)\n",
    "    .agg({'transactionId': 'nunique'})\n",
    ")\n",
    "ordersByUsers.columns = ['visitorId', 'transactionId']\n",
    "\n",
    "x_values = pd.Series(range(0, len(ordersByUsers)))\n",
    "plt.scatter(x_values, ordersByUsers['transactionId'])\n",
    "\n",
    "plt.xlabel('Пользователи')\n",
    "plt.ylabel('Количество заказов')\n",
    "plt.title('Количество заказов по пользователям')\n",
    "plt.grid()"
   ]
  },
  {
   "cell_type": "markdown",
   "metadata": {},
   "source": [
    "Большая доля пользователей с 1 заказом. Необходимо посчитать перцентили для выявления аномалий."
   ]
  },
  {
   "cell_type": "markdown",
   "metadata": {},
   "source": [
    "### Расчёт 95-го и 99-го перцентиля количества заказов на пользователя."
   ]
  },
  {
   "cell_type": "code",
   "execution_count": 25,
   "metadata": {},
   "outputs": [
    {
     "name": "stdout",
     "output_type": "stream",
     "text": [
      "[1. 2.]\n"
     ]
    }
   ],
   "source": [
    "print(np.percentile(ordersByUsers['transactionId'], [95, 99])) "
   ]
  },
  {
   "cell_type": "markdown",
   "metadata": {},
   "source": [
    "Не более 5% пользователей совершали больше 1 заказа. И не более 1% пользователей — больше 2 заказов.  \n",
    "Выберем 1 заказ на одного пользователя за верхнюю границу, остальное будем считать аномалией."
   ]
  },
  {
   "cell_type": "markdown",
   "metadata": {},
   "source": [
    "### Построение точечного графика стоимостей заказов."
   ]
  },
  {
   "cell_type": "code",
   "execution_count": 26,
   "metadata": {},
   "outputs": [
    {
     "data": {
      "image/png": "[encoded data removed]",
      "text/plain": [
       "<Figure size 1008x504 with 1 Axes>"
      ]
     },
     "metadata": {
      "needs_background": "light"
     },
     "output_type": "display_data"
    }
   ],
   "source": [
    "plt.figure(figsize=(14,7))\n",
    "\n",
    "x_values = pd.Series(range(0, len(orders)))\n",
    "plt.scatter(x_values, orders['revenue'])\n",
    "\n",
    "plt.xlabel('Пользователи')\n",
    "plt.ylabel('Стоимость заказа')\n",
    "plt.title('Точечный график стоимостей заказов')\n",
    "plt.grid()"
   ]
  },
  {
   "cell_type": "markdown",
   "metadata": {},
   "source": [
    "На графике видим 2 выделяющихся значения примерно в 1.3 млн и 200 тыс.  \n",
    "Построим график с лимитом в 100 тыс."
   ]
  },
  {
   "cell_type": "code",
   "execution_count": 27,
   "metadata": {},
   "outputs": [
    {
     "data": {
      "image/png": "[encoded data removed]",
      "text/plain": [
       "<Figure size 1008x504 with 1 Axes>"
      ]
     },
     "metadata": {
      "needs_background": "light"
     },
     "output_type": "display_data"
    }
   ],
   "source": [
    "plt.figure(figsize=(14,7))\n",
    "\n",
    "x_values = pd.Series(range(0, len(orders)))\n",
    "plt.scatter(x_values, orders['revenue'])\n",
    "\n",
    "plt.ylim(0, 100000)\n",
    "plt.xlabel('Пользователи')\n",
    "plt.ylabel('Стоимость заказа')\n",
    "plt.title('Точечный график стоимостей заказов')\n",
    "plt.grid()"
   ]
  },
  {
   "cell_type": "markdown",
   "metadata": {},
   "source": [
    "На этом графике видим, что стоимость основной части заказов лежит в районе 10-50 тыс."
   ]
  },
  {
   "cell_type": "markdown",
   "metadata": {},
   "source": [
    "### Расчёт 95-го и 99-го перцентиля стоимости заказов."
   ]
  },
  {
   "cell_type": "code",
   "execution_count": 28,
   "metadata": {},
   "outputs": [
    {
     "name": "stdout",
     "output_type": "stream",
     "text": [
      "[26785. 53904.]\n"
     ]
    }
   ],
   "source": [
    "print(np.percentile(orders['revenue'], [95, 99]))"
   ]
  },
  {
   "cell_type": "markdown",
   "metadata": {},
   "source": [
    "Не более 5% заказов стоимостью более 26785. И не более 1% заказов стоимостью более 53904.  \n",
    "Выберем стоимость заказа в 26785 за верхнюю границу, остальное будем считать аномалией."
   ]
  },
  {
   "cell_type": "markdown",
   "metadata": {},
   "source": [
    "### Расчёт статистической значимости различий в среднем количестве заказов на посетителя между группами по «сырым» данным."
   ]
  },
  {
   "cell_type": "markdown",
   "metadata": {},
   "source": [
    "Сформулируем гипотезы.  \n",
    "H0: различий в среднем количестве заказов между группами нет.  \n",
    "H1: различия в среднем между группами есть.  \n",
    "\n",
    "Начнём с подготовки данных."
   ]
  },
  {
   "cell_type": "code",
   "execution_count": 29,
   "metadata": {},
   "outputs": [
    {
     "name": "stdout",
     "output_type": "stream",
     "text": [
      "        date  ordersPerDateA  revenuePerDateA  ordersPerDateB  \\\n",
      "0 2019-08-01              23           142779              17   \n",
      "1 2019-08-02              19            91602              23   \n",
      "2 2019-08-03              24           112473              14   \n",
      "3 2019-08-04              11            41176              14   \n",
      "4 2019-08-05              22            86383              21   \n",
      "\n",
      "   revenuePerDateB  ordersCummulativeA  revenueCummulativeA  \\\n",
      "0            59758                  23               142779   \n",
      "1           162043                  42               234381   \n",
      "2            67049                  66               346854   \n",
      "3            96890                  77               388030   \n",
      "4            89908                  99               474413   \n",
      "\n",
      "   ordersCummulativeB  revenueCummulativeB  visitorsPerDateA  \\\n",
      "0                  17                59758               719   \n",
      "1                  40               221801               619   \n",
      "2                  54               288850               507   \n",
      "3                  68               385740               717   \n",
      "4                  89               475648               756   \n",
      "\n",
      "   visitorsPerDateB  visitorsCummulativeA  visitorsCummulativeB  \n",
      "0               713                   719                   713  \n",
      "1               581                  1338                  1294  \n",
      "2               509                  1845                  1803  \n",
      "3               770                  2562                  2573  \n",
      "4               707                  3318                  3280  \n"
     ]
    }
   ],
   "source": [
    "visitorsADaily = visitors[visitors['group'] == 'A'][['date', 'visitors']]\n",
    "visitorsADaily.columns = ['date', 'visitorsPerDateA']\n",
    "\n",
    "visitorsACummulative = visitorsADaily.apply(\n",
    "    lambda x: visitorsADaily[visitorsADaily['date'] <= x['date']].agg(\n",
    "        {'date': 'max', 'visitorsPerDateA': 'sum'}\n",
    "    ),\n",
    "    axis=1,\n",
    ")\n",
    "visitorsACummulative.columns = ['date', 'visitorsCummulativeA']\n",
    "\n",
    "visitorsBDaily = visitors[visitors['group'] == 'B'][['date', 'visitors']]\n",
    "visitorsBDaily.columns = ['date', 'visitorsPerDateB']\n",
    "\n",
    "visitorsBCummulative = visitorsBDaily.apply(\n",
    "    lambda x: visitorsBDaily[visitorsBDaily['date'] <= x['date']].agg(\n",
    "        {'date': 'max', 'visitorsPerDateB': 'sum'}\n",
    "    ),\n",
    "    axis=1,\n",
    ")\n",
    "visitorsBCummulative.columns = ['date', 'visitorsCummulativeB']\n",
    "\n",
    "ordersADaily = (\n",
    "    orders[orders['group'] == 'A'][['date', 'transactionId', 'visitorId', 'revenue']]\n",
    "    .groupby('date', as_index=False)\n",
    "    .agg({'transactionId': pd.Series.nunique, 'revenue': 'sum'})\n",
    ")\n",
    "ordersADaily.columns = ['date', 'ordersPerDateA', 'revenuePerDateA']\n",
    "\n",
    "ordersACummulative = ordersADaily.apply(\n",
    "    lambda x: ordersADaily[ordersADaily['date'] <= x['date']].agg(\n",
    "        {'date': 'max', 'ordersPerDateA': 'sum', 'revenuePerDateA': 'sum'}\n",
    "    ),\n",
    "    axis=1,\n",
    ").sort_values(by=['date'])\n",
    "ordersACummulative.columns = [\n",
    "    'date',\n",
    "    'ordersCummulativeA',\n",
    "    'revenueCummulativeA',\n",
    "]\n",
    "\n",
    "ordersBDaily = (\n",
    "    orders[orders['group'] == 'B'][['date', 'transactionId', 'visitorId', 'revenue']]\n",
    "    .groupby('date', as_index=False)\n",
    "    .agg({'transactionId': pd.Series.nunique, 'revenue': 'sum'})\n",
    ")\n",
    "ordersBDaily.columns = ['date', 'ordersPerDateB', 'revenuePerDateB']\n",
    "\n",
    "ordersBCummulative = ordersBDaily.apply(\n",
    "    lambda x: ordersBDaily[ordersBDaily['date'] <= x['date']].agg(\n",
    "        {'date': 'max', 'ordersPerDateB': 'sum', 'revenuePerDateB': 'sum'}\n",
    "    ),\n",
    "    axis=1,\n",
    ").sort_values(by=['date'])\n",
    "ordersBCummulative.columns = [\n",
    "    'date',\n",
    "    'ordersCummulativeB',\n",
    "    'revenueCummulativeB',\n",
    "]\n",
    "\n",
    "data = (\n",
    "    ordersADaily.merge(\n",
    "        ordersBDaily, left_on='date', right_on='date', how='left'\n",
    "    )\n",
    "    .merge(ordersACummulative, left_on='date', right_on='date', how='left')\n",
    "    .merge(ordersBCummulative, left_on='date', right_on='date', how='left')\n",
    "    .merge(visitorsADaily, left_on='date', right_on='date', how='left')\n",
    "    .merge(visitorsBDaily, left_on='date', right_on='date', how='left')\n",
    "    .merge(visitorsACummulative, left_on='date', right_on='date', how='left')\n",
    "    .merge(visitorsBCummulative, left_on='date', right_on='date', how='left')\n",
    ")\n",
    "\n",
    "print(data.head(5))"
   ]
  },
  {
   "cell_type": "markdown",
   "metadata": {},
   "source": [
    "Посчитаем статистическую значимость различия в среднем количестве заказов между группами.  \n",
    "Создадим переменные ordersByUsersA и ordersByUsersB"
   ]
  },
  {
   "cell_type": "code",
   "execution_count": 30,
   "metadata": {},
   "outputs": [],
   "source": [
    "ordersByUsersA = (\n",
    "    orders[orders['group'] == 'A']\n",
    "    .groupby('visitorId', as_index=False)\n",
    "    .agg({'transactionId': pd.Series.nunique})\n",
    ")\n",
    "ordersByUsersA.columns = ['visitorId', 'orders']\n",
    "\n",
    "ordersByUsersB = (\n",
    "    orders[orders['group'] == 'B']\n",
    "    .groupby('visitorId', as_index=False)\n",
    "    .agg({'transactionId': pd.Series.nunique})\n",
    ")\n",
    "ordersByUsersB.columns = ['visitorId', 'orders'] "
   ]
  },
  {
   "cell_type": "markdown",
   "metadata": {},
   "source": [
    "Объявим переменные sampleA и sampleB, в которых пользователям из разных групп будет соответствовать количество заказов.  \n",
    "Тем, кто ничего не заказал, будут соответствовать нули.  \n",
    "Это нужно, чтобы подготовить выборки к проверке критерием Манна-Уитни."
   ]
  },
  {
   "cell_type": "code",
   "execution_count": 31,
   "metadata": {},
   "outputs": [],
   "source": [
    "sampleA = pd.concat([ordersByUsersA['orders'], \n",
    "                     pd.Series(0, index=np.arange(data['visitorsPerDateA'].sum() \n",
    "                     - len(ordersByUsersA['orders'])), name='orders')],axis=0)\n",
    "\n",
    "sampleB = pd.concat([ordersByUsersB['orders'],\n",
    "                     pd.Series(0, index=np.arange(data['visitorsPerDateB'].sum() \n",
    "                     - len(ordersByUsersB['orders'])), name='orders')],axis=0)"
   ]
  },
  {
   "cell_type": "code",
   "execution_count": 32,
   "metadata": {},
   "outputs": [
    {
     "name": "stdout",
     "output_type": "stream",
     "text": [
      "p-value равно 0.011\n"
     ]
    }
   ],
   "source": [
    "alpha = 0.05\n",
    "\n",
    "print(f'p-value равно', '{0:.3f}'.format(stats.mannwhitneyu(sampleA, sampleB)[1]))"
   ]
  },
  {
   "cell_type": "code",
   "execution_count": 33,
   "metadata": {},
   "outputs": [
    {
     "name": "stdout",
     "output_type": "stream",
     "text": [
      "Относительный прирост среднего числа заказов группы B - 0.160\n"
     ]
    }
   ],
   "source": [
    "print(f'Относительный прирост среднего числа заказов группы B -',\n",
    "      '{0:.3f}'.format(sampleB.mean() / sampleA.mean() - 1))"
   ]
  },
  {
   "cell_type": "markdown",
   "metadata": {},
   "source": [
    "По сырым данным p-value = 0.011 - отвергаем нулевую гипотезу. Можем сказать, что различия в среднем между группами есть.  \n",
    "Относительный прирост среднего числа заказов группы B равен 16%. "
   ]
  },
  {
   "cell_type": "markdown",
   "metadata": {},
   "source": [
    "### Расчёт статистической значимости различий в среднем чеке заказа между группами по «сырым» данным."
   ]
  },
  {
   "cell_type": "markdown",
   "metadata": {},
   "source": [
    "Сформируем гипотезы.  \n",
    "H0: различий в среднем чеке между группами нет.  \n",
    "H1: различия в среднем чеке между группами есть. "
   ]
  },
  {
   "cell_type": "code",
   "execution_count": 34,
   "metadata": {
    "scrolled": true
   },
   "outputs": [
    {
     "name": "stdout",
     "output_type": "stream",
     "text": [
      "p-value равно 0.829\n",
      "Относительные различия в среднем чеке между группами B и A - 0.287\n"
     ]
    }
   ],
   "source": [
    "print(f'p-value равно','{0:.3f}'.format(stats.mannwhitneyu(orders[orders['group']=='A']['revenue'], orders[orders['group']=='B']['revenue'])[1]))\n",
    "\n",
    "# Выведем относительные различия в среднем чеке между группами \n",
    "print(f'Относительные различия в среднем чеке между группами B и A -', \n",
    "      '{0:.3f}'.format(orders[orders['group']=='B']['revenue'].mean()/orders[orders['group']=='A']['revenue'].mean()-1))"
   ]
  },
  {
   "cell_type": "markdown",
   "metadata": {},
   "source": [
    "По сырым данным p-value = 0.829, что намного больше 0.05 - следовательно отвергнуть H0 не можем. Можем сказать, что различий в среднем чеке между группами нет.  \n",
    "Но относительные различия в среднем чеке группы B к группе А равен 28.7%, возможно это связано с аномалиями, дальше посмотрим."
   ]
  },
  {
   "cell_type": "markdown",
   "metadata": {},
   "source": [
    "### Расчёт статистической значимости различий в среднем количестве заказов на посетителя между группами по «очищенным» данным."
   ]
  },
  {
   "cell_type": "markdown",
   "metadata": {},
   "source": [
    "За аномальные значения мы приняли тех пользователей, кто совершил больше 1 заказа и дороже 26785."
   ]
  },
  {
   "cell_type": "code",
   "execution_count": 35,
   "metadata": {},
   "outputs": [
    {
     "name": "stdout",
     "output_type": "stream",
     "text": [
      "568     113298937\n",
      "1099    148427295\n",
      "928     204675465\n",
      "33      249864742\n",
      "684     358944393\n",
      "Name: visitorId, dtype: int64\n",
      "86\n"
     ]
    }
   ],
   "source": [
    "usersWithManyOrders = pd.concat(\n",
    "    [\n",
    "        ordersByUsersA[ordersByUsersA['orders'] > np.percentile(ordersByUsers['transactionId'], 95)]['visitorId'],\n",
    "        ordersByUsersB[ordersByUsersB['orders'] > np.percentile(ordersByUsers['transactionId'], 95)]['visitorId'],\n",
    "    ],\n",
    "    axis=0,\n",
    ")\n",
    "usersWithExpensiveOrders = orders[orders['revenue'] > np.percentile(orders['revenue'], 95)]['visitorId']\n",
    "abnormalUsers = (\n",
    "    pd.concat([usersWithManyOrders, usersWithExpensiveOrders], axis=0)\n",
    "    .drop_duplicates()\n",
    "    .sort_values()\n",
    ")\n",
    "print(abnormalUsers.head(5))\n",
    "print(abnormalUsers.shape[0])"
   ]
  },
  {
   "cell_type": "markdown",
   "metadata": {},
   "source": [
    "Итого 86 аномальных пользователей. \n",
    "Узнаем, как их действия повлияли на результаты теста. Посчитаем статистическую значимость различий в среднем количестве заказов между группами теста по очищенным данным.  \n",
    "Сначала подготовим выборки количества заказов по пользователям по группам теста:\n"
   ]
  },
  {
   "cell_type": "code",
   "execution_count": 36,
   "metadata": {},
   "outputs": [],
   "source": [
    "sampleAFiltered = pd.concat(\n",
    "    [\n",
    "        ordersByUsersA[\n",
    "            np.logical_not(ordersByUsersA['visitorId'].isin(abnormalUsers))\n",
    "        ]['orders'],\n",
    "        pd.Series(\n",
    "            0,\n",
    "            index=np.arange(\n",
    "                data['visitorsPerDateA'].sum() - len(ordersByUsersA['orders'])\n",
    "            ),\n",
    "            name='orders',\n",
    "        ),\n",
    "    ],\n",
    "    axis=0,\n",
    ")\n",
    "\n",
    "sampleBFiltered = pd.concat(\n",
    "    [\n",
    "        ordersByUsersB[\n",
    "            np.logical_not(ordersByUsersB['visitorId'].isin(abnormalUsers))\n",
    "        ]['orders'],\n",
    "        pd.Series(\n",
    "            0,\n",
    "            index=np.arange(\n",
    "                data['visitorsPerDateB'].sum() - len(ordersByUsersB['orders'])\n",
    "            ),\n",
    "            name='orders',\n",
    "        ),\n",
    "    ],\n",
    "    axis=0,\n",
    ")"
   ]
  },
  {
   "cell_type": "markdown",
   "metadata": {},
   "source": [
    "Сформулируем гипотезы.  \n",
    "H0: различий в среднем количестве заказов между группами нет.  \n",
    "H1: различия в среднем между группами есть."
   ]
  },
  {
   "cell_type": "code",
   "execution_count": 37,
   "metadata": {},
   "outputs": [
    {
     "name": "stdout",
     "output_type": "stream",
     "text": [
      "p-value равно 0.016\n",
      "Относительный прирост среднего числа заказов группы B - 0.174\n"
     ]
    }
   ],
   "source": [
    "print(f'p-value равно', '{0:.3f}'.format(stats.mannwhitneyu(sampleAFiltered, sampleBFiltered)[1]))\n",
    "print(f'Относительный прирост среднего числа заказов группы B -', '{0:.3f}'.format(sampleBFiltered.mean()/sampleAFiltered.mean()-1))"
   ]
  },
  {
   "cell_type": "markdown",
   "metadata": {},
   "source": [
    "Снова отвергаем нулевую гипотезу: между группами есть разница.  \n",
    "Результаты по среднему количеству заказов практически не изменились. Было 0.011, стало 0.016.  \n",
    "Относительный прирост среднего числа заказов группы B был 16%, стал 17,4%.  \n",
    "Можно сказать, что аномалии особо не повлияли на статистическую значимость. "
   ]
  },
  {
   "cell_type": "markdown",
   "metadata": {},
   "source": [
    "### Расчёт статистической значимости различий в среднем чеке заказа между группами по «очищенным» данным."
   ]
  },
  {
   "cell_type": "markdown",
   "metadata": {},
   "source": [
    "Сформируем гипотезы.  \n",
    "H0: различий в среднем чеке между группами нет.  \n",
    "H1: различия в среднем чеке между группами есть."
   ]
  },
  {
   "cell_type": "code",
   "execution_count": 38,
   "metadata": {},
   "outputs": [
    {
     "name": "stdout",
     "output_type": "stream",
     "text": [
      "p-value равно 0.727\n",
      "Относительные различия в среднем чеке между группами B и A равно -0.034\n"
     ]
    }
   ],
   "source": [
    "print(f'p-value равно',\n",
    "    '{0:.3f}'.format(\n",
    "        stats.mannwhitneyu(\n",
    "            orders[\n",
    "                np.logical_and(\n",
    "                    orders['group'] == 'A',\n",
    "                    np.logical_not(orders['visitorId'].isin(abnormalUsers)),\n",
    "                )\n",
    "            ]['revenue'],\n",
    "            orders[\n",
    "                np.logical_and(\n",
    "                    orders['group'] == 'B',\n",
    "                    np.logical_not(orders['visitorId'].isin(abnormalUsers)),\n",
    "                )\n",
    "            ]['revenue'],\n",
    "        )[1]\n",
    "    )\n",
    ")\n",
    "\n",
    "print(f'Относительные различия в среднем чеке между группами B и A равно',\n",
    "    '{0:.3f}'.format(\n",
    "        orders[\n",
    "            np.logical_and(\n",
    "                orders['group'] == 'B',\n",
    "                np.logical_not(orders['visitorId'].isin(abnormalUsers)),\n",
    "            )\n",
    "        ]['revenue'].mean()\n",
    "        / orders[\n",
    "            np.logical_and(\n",
    "                orders['group'] == 'A',\n",
    "                np.logical_not(orders['visitorId'].isin(abnormalUsers)),\n",
    "            )\n",
    "        ]['revenue'].mean()\n",
    "        - 1\n",
    "    )\n",
    ")"
   ]
  },
  {
   "cell_type": "markdown",
   "metadata": {},
   "source": [
    "p-value уменьшилось на 10% по сравлению с сырыми данными. H0 отвергнуть не можем.  \n",
    "Относительные различия в среднем чеке группы B к группе А упал на 31% и теперь группа А опережает на 3.4% группу В.  \n",
    "Можно заключить, что данная разница связана с аномальными значениями."
   ]
  },
  {
   "cell_type": "markdown",
   "metadata": {},
   "source": [
    "### Принятие решения по результатам теста."
   ]
  },
  {
   "cell_type": "markdown",
   "metadata": {},
   "source": [
    "Имеются следующие факты:  \n",
    "- Относительный прирост среднего числа заказов группы B в сырых и очищенных данных равен 16%-17.4%.  \n",
    "- Нет статистических значимых различий в среднем чеке. \n",
    "- Кумулятивное среднее количество заказов группы В превосходит группу А в среднем на 15%. \n",
    "- Преимущество группы В в графике относительного изменения кумулятивного среднего чека связано с аномальными выбросами.  \n",
    "\n",
    "Исходя из обнаруженных фактов, тест следует остановить, признать его успешным в части улучшения конверсии группы В."
   ]
  },
  {
   "cell_type": "markdown",
   "metadata": {},
   "source": [
    "## Вывод"
   ]
  },
  {
   "cell_type": "markdown",
   "metadata": {},
   "source": [
    "**1.** На входе мы получили от интернет магазина 3 файла для анализа с данными о гипотезах, заказах и посетителях.  \n",
    "\n",
    "**2.** На подготовительном этапе были выполнены следующие действия:\n",
    "\n",
    "- названия столбцов приведены к нижнему регистру,  \n",
    "- столбцы со временем преобразованы в необходимый формат  \n",
    "\n",
    "**3.** Провели приоритизацию гипотез с помощью фреймворков ICE и RICE.  \n",
    "В ICE мы видим, что лидирует 8 гипотеза, далее идут 0 и 7.  \n",
    "В связи с тем, что RICE учитывает количество пользователей, которых затрагивает изменение, у нас изменилась приоритизация.  \n",
    "В RICE с большим отрывом лидирует 7 гипотеза, далее идут 2 и 0.  \n",
    "Лидирующая в ICE 8 гипотеза имеет оценку 1 в Reach, поэтому она опустилась на 5 место, а 7 гипотеза заняла 1 место с оценкой 10.   Мы видим, что добавление формы подписки затронет большинство пользователей, в отличие от запуска акции к дню рождения.  \n",
    "Для нас приоритетными гипотезами будут 7, 2 и 0.\n",
    "\n",
    "**4.** Провели анализ A/B-теста в котором выявились следующие факты:  \n",
    "\n",
    "Относительный прирост среднего числа заказов группы B в сырых и очищенных данных равен 16%-17.4%.  \n",
    "Нет статистических значимых различий в среднем чеке.  \n",
    "Кумулятивное среднее количество заказов группы В превосходит группу А в среднем на 15%.  \n",
    "Преимущество группы В в графике относительного изменения кумулятивного среднего чека связано с аномальными выбросами.  \n",
    "\n",
    "Исходя из обнаруженных фактов, тест следует остановить, признать его успешным и констатировать победу группы В."
   ]
  }
 ],
 "metadata": {
  "ExecuteTimeLog": [
   {
    "duration": 938,
    "start_time": "2023-12-05T13:33:01.045Z"
   },
   {
    "duration": 181,
    "start_time": "2023-12-05T13:39:57.175Z"
   },
   {
    "duration": 27,
    "start_time": "2023-12-05T13:47:52.064Z"
   },
   {
    "duration": 18,
    "start_time": "2023-12-05T13:48:05.501Z"
   },
   {
    "duration": 18,
    "start_time": "2023-12-05T13:48:14.816Z"
   },
   {
    "duration": 3,
    "start_time": "2023-12-05T13:53:54.277Z"
   },
   {
    "duration": 20,
    "start_time": "2023-12-05T13:53:59.656Z"
   },
   {
    "duration": 417,
    "start_time": "2023-12-05T13:56:54.944Z"
   },
   {
    "duration": 10,
    "start_time": "2023-12-05T14:02:23.534Z"
   },
   {
    "duration": 9,
    "start_time": "2023-12-05T14:02:44.103Z"
   },
   {
    "duration": 10,
    "start_time": "2023-12-05T14:03:16.028Z"
   },
   {
    "duration": 8,
    "start_time": "2023-12-05T14:03:29.344Z"
   },
   {
    "duration": 85,
    "start_time": "2023-12-05T14:17:59.354Z"
   },
   {
    "duration": 15,
    "start_time": "2023-12-05T14:21:57.141Z"
   },
   {
    "duration": 24,
    "start_time": "2023-12-05T14:22:03.302Z"
   },
   {
    "duration": 7,
    "start_time": "2023-12-05T14:26:55.863Z"
   },
   {
    "duration": 25,
    "start_time": "2023-12-05T14:26:59.757Z"
   },
   {
    "duration": 383,
    "start_time": "2023-12-05T14:27:22.547Z"
   },
   {
    "duration": 24,
    "start_time": "2023-12-05T14:27:33.371Z"
   },
   {
    "duration": 1110,
    "start_time": "2023-12-05T14:28:08.971Z"
   },
   {
    "duration": 132,
    "start_time": "2023-12-05T14:28:10.083Z"
   },
   {
    "duration": 22,
    "start_time": "2023-12-05T14:28:10.216Z"
   },
   {
    "duration": 28,
    "start_time": "2023-12-05T14:28:10.240Z"
   },
   {
    "duration": 54,
    "start_time": "2023-12-05T14:28:10.270Z"
   },
   {
    "duration": 41,
    "start_time": "2023-12-05T14:28:10.325Z"
   },
   {
    "duration": 58,
    "start_time": "2023-12-05T14:28:10.367Z"
   },
   {
    "duration": 51,
    "start_time": "2023-12-05T14:28:10.427Z"
   },
   {
    "duration": 23,
    "start_time": "2023-12-05T14:28:32.359Z"
   },
   {
    "duration": 23,
    "start_time": "2023-12-05T14:28:37.279Z"
   },
   {
    "duration": 2,
    "start_time": "2023-12-05T14:50:28.521Z"
   },
   {
    "duration": 2,
    "start_time": "2023-12-05T14:50:34.930Z"
   },
   {
    "duration": 2,
    "start_time": "2023-12-05T14:50:40.613Z"
   },
   {
    "duration": 12,
    "start_time": "2023-12-05T14:56:59.847Z"
   },
   {
    "duration": 11,
    "start_time": "2023-12-05T14:57:14.918Z"
   },
   {
    "duration": 6,
    "start_time": "2023-12-05T14:58:05.760Z"
   },
   {
    "duration": 12,
    "start_time": "2023-12-05T14:58:17.767Z"
   },
   {
    "duration": 13,
    "start_time": "2023-12-05T14:58:24.179Z"
   },
   {
    "duration": 14,
    "start_time": "2023-12-05T14:58:31.820Z"
   },
   {
    "duration": 103,
    "start_time": "2023-12-05T14:58:55.541Z"
   },
   {
    "duration": 11,
    "start_time": "2023-12-05T14:59:02.115Z"
   },
   {
    "duration": 10,
    "start_time": "2023-12-05T15:01:34.501Z"
   },
   {
    "duration": 11,
    "start_time": "2023-12-05T15:09:29.473Z"
   },
   {
    "duration": 12,
    "start_time": "2023-12-05T15:10:07.434Z"
   },
   {
    "duration": 11,
    "start_time": "2023-12-05T15:10:19.534Z"
   },
   {
    "duration": 48,
    "start_time": "2023-12-05T18:41:24.935Z"
   },
   {
    "duration": 1226,
    "start_time": "2023-12-05T18:41:31.734Z"
   },
   {
    "duration": 264,
    "start_time": "2023-12-05T18:41:32.962Z"
   },
   {
    "duration": 21,
    "start_time": "2023-12-05T18:41:33.227Z"
   },
   {
    "duration": 4,
    "start_time": "2023-12-05T18:41:33.250Z"
   },
   {
    "duration": 15,
    "start_time": "2023-12-05T18:41:33.256Z"
   },
   {
    "duration": 10,
    "start_time": "2023-12-05T18:41:33.273Z"
   },
   {
    "duration": 35,
    "start_time": "2023-12-05T18:41:33.285Z"
   },
   {
    "duration": 27,
    "start_time": "2023-12-05T18:41:33.321Z"
   },
   {
    "duration": 15,
    "start_time": "2023-12-05T18:41:33.350Z"
   },
   {
    "duration": 13,
    "start_time": "2023-12-05T18:41:33.367Z"
   },
   {
    "duration": 12,
    "start_time": "2023-12-05T18:42:07.471Z"
   },
   {
    "duration": 1177,
    "start_time": "2023-12-06T15:28:23.794Z"
   },
   {
    "duration": 240,
    "start_time": "2023-12-06T15:28:24.973Z"
   },
   {
    "duration": 22,
    "start_time": "2023-12-06T15:28:25.214Z"
   },
   {
    "duration": 3,
    "start_time": "2023-12-06T15:28:25.237Z"
   },
   {
    "duration": 12,
    "start_time": "2023-12-06T15:28:25.243Z"
   },
   {
    "duration": 11,
    "start_time": "2023-12-06T15:28:25.256Z"
   },
   {
    "duration": 24,
    "start_time": "2023-12-06T15:28:25.268Z"
   },
   {
    "duration": 39,
    "start_time": "2023-12-06T15:28:25.294Z"
   },
   {
    "duration": 13,
    "start_time": "2023-12-06T15:28:25.334Z"
   },
   {
    "duration": 15,
    "start_time": "2023-12-06T15:28:25.349Z"
   },
   {
    "duration": 128,
    "start_time": "2023-12-06T15:28:25.366Z"
   },
   {
    "duration": 4,
    "start_time": "2023-12-06T15:52:04.932Z"
   },
   {
    "duration": 8,
    "start_time": "2023-12-06T15:52:37.314Z"
   },
   {
    "duration": 6,
    "start_time": "2023-12-06T16:15:20.028Z"
   },
   {
    "duration": 9,
    "start_time": "2023-12-06T16:15:31.654Z"
   },
   {
    "duration": 6,
    "start_time": "2023-12-06T16:15:39.982Z"
   },
   {
    "duration": 13,
    "start_time": "2023-12-06T16:16:51.153Z"
   },
   {
    "duration": 13,
    "start_time": "2023-12-06T16:17:58.279Z"
   },
   {
    "duration": 19,
    "start_time": "2023-12-06T16:20:17.498Z"
   },
   {
    "duration": 9,
    "start_time": "2023-12-06T17:04:42.965Z"
   },
   {
    "duration": 13,
    "start_time": "2023-12-06T17:06:20.347Z"
   },
   {
    "duration": 13,
    "start_time": "2023-12-06T17:06:55.161Z"
   },
   {
    "duration": 7,
    "start_time": "2023-12-06T17:07:44.989Z"
   },
   {
    "duration": 11,
    "start_time": "2023-12-06T17:07:50.209Z"
   },
   {
    "duration": 11,
    "start_time": "2023-12-06T17:08:07.202Z"
   },
   {
    "duration": 12,
    "start_time": "2023-12-06T17:08:12.660Z"
   },
   {
    "duration": 13,
    "start_time": "2023-12-06T17:08:54.908Z"
   },
   {
    "duration": 10,
    "start_time": "2023-12-06T17:09:31.680Z"
   },
   {
    "duration": 6,
    "start_time": "2023-12-06T17:10:08.290Z"
   },
   {
    "duration": 12,
    "start_time": "2023-12-06T17:10:11.395Z"
   },
   {
    "duration": 1266,
    "start_time": "2023-12-06T17:14:26.949Z"
   },
   {
    "duration": 4,
    "start_time": "2023-12-06T17:14:37.843Z"
   },
   {
    "duration": 7,
    "start_time": "2023-12-06T17:14:48.525Z"
   },
   {
    "duration": 8,
    "start_time": "2023-12-06T17:15:17.673Z"
   },
   {
    "duration": 3,
    "start_time": "2023-12-06T17:16:51.625Z"
   },
   {
    "duration": 9,
    "start_time": "2023-12-06T17:16:58.458Z"
   },
   {
    "duration": 12,
    "start_time": "2023-12-06T17:17:41.646Z"
   },
   {
    "duration": 4,
    "start_time": "2023-12-06T17:17:44.566Z"
   },
   {
    "duration": 6,
    "start_time": "2023-12-06T17:18:10.155Z"
   },
   {
    "duration": 5,
    "start_time": "2023-12-06T17:18:32.611Z"
   },
   {
    "duration": 9,
    "start_time": "2023-12-06T17:19:29.363Z"
   },
   {
    "duration": 7,
    "start_time": "2023-12-06T17:19:59.625Z"
   },
   {
    "duration": 5,
    "start_time": "2023-12-06T17:20:16.839Z"
   },
   {
    "duration": 6,
    "start_time": "2023-12-06T17:20:22.109Z"
   },
   {
    "duration": 1035,
    "start_time": "2023-12-06T18:00:50.050Z"
   },
   {
    "duration": 127,
    "start_time": "2023-12-06T18:00:51.087Z"
   },
   {
    "duration": 20,
    "start_time": "2023-12-06T18:00:51.216Z"
   },
   {
    "duration": 2,
    "start_time": "2023-12-06T18:00:51.238Z"
   },
   {
    "duration": 14,
    "start_time": "2023-12-06T18:00:51.242Z"
   },
   {
    "duration": 14,
    "start_time": "2023-12-06T18:00:51.258Z"
   },
   {
    "duration": 21,
    "start_time": "2023-12-06T18:00:51.273Z"
   },
   {
    "duration": 34,
    "start_time": "2023-12-06T18:00:51.296Z"
   },
   {
    "duration": 19,
    "start_time": "2023-12-06T18:00:51.331Z"
   },
   {
    "duration": 12,
    "start_time": "2023-12-06T18:00:51.353Z"
   },
   {
    "duration": 12,
    "start_time": "2023-12-06T18:00:51.367Z"
   },
   {
    "duration": 26,
    "start_time": "2023-12-06T18:00:51.380Z"
   },
   {
    "duration": 39,
    "start_time": "2023-12-06T18:00:51.407Z"
   },
   {
    "duration": 11,
    "start_time": "2023-12-06T18:00:51.449Z"
   },
   {
    "duration": 21,
    "start_time": "2023-12-06T18:00:51.462Z"
   },
   {
    "duration": 9,
    "start_time": "2023-12-06T18:00:59.238Z"
   },
   {
    "duration": 87,
    "start_time": "2023-12-06T18:02:20.237Z"
   },
   {
    "duration": 15,
    "start_time": "2023-12-06T18:02:37.572Z"
   },
   {
    "duration": 13,
    "start_time": "2023-12-06T18:05:03.478Z"
   },
   {
    "duration": 20,
    "start_time": "2023-12-06T18:05:55.105Z"
   },
   {
    "duration": 19,
    "start_time": "2023-12-06T18:06:25.329Z"
   },
   {
    "duration": 7,
    "start_time": "2023-12-06T18:08:54.601Z"
   },
   {
    "duration": 6,
    "start_time": "2023-12-06T18:23:29.199Z"
   },
   {
    "duration": 1043,
    "start_time": "2023-12-06T18:23:35.556Z"
   },
   {
    "duration": 123,
    "start_time": "2023-12-06T18:23:36.601Z"
   },
   {
    "duration": 21,
    "start_time": "2023-12-06T18:23:36.725Z"
   },
   {
    "duration": 10,
    "start_time": "2023-12-06T18:23:36.748Z"
   },
   {
    "duration": 16,
    "start_time": "2023-12-06T18:23:36.759Z"
   },
   {
    "duration": 12,
    "start_time": "2023-12-06T18:23:36.777Z"
   },
   {
    "duration": 24,
    "start_time": "2023-12-06T18:23:36.790Z"
   },
   {
    "duration": 37,
    "start_time": "2023-12-06T18:23:36.815Z"
   },
   {
    "duration": 13,
    "start_time": "2023-12-06T18:23:36.853Z"
   },
   {
    "duration": 20,
    "start_time": "2023-12-06T18:23:36.867Z"
   },
   {
    "duration": 19,
    "start_time": "2023-12-06T18:23:36.888Z"
   },
   {
    "duration": 114,
    "start_time": "2023-12-06T18:23:36.909Z"
   },
   {
    "duration": 27,
    "start_time": "2023-12-06T18:23:37.024Z"
   },
   {
    "duration": 24,
    "start_time": "2023-12-06T18:23:37.053Z"
   },
   {
    "duration": 1197,
    "start_time": "2023-12-06T20:59:38.571Z"
   },
   {
    "duration": 259,
    "start_time": "2023-12-06T20:59:39.770Z"
   },
   {
    "duration": 21,
    "start_time": "2023-12-06T20:59:40.031Z"
   },
   {
    "duration": 3,
    "start_time": "2023-12-06T20:59:40.054Z"
   },
   {
    "duration": 9,
    "start_time": "2023-12-06T20:59:40.059Z"
   },
   {
    "duration": 13,
    "start_time": "2023-12-06T20:59:40.070Z"
   },
   {
    "duration": 17,
    "start_time": "2023-12-06T20:59:40.084Z"
   },
   {
    "duration": 29,
    "start_time": "2023-12-06T20:59:40.102Z"
   },
   {
    "duration": 12,
    "start_time": "2023-12-06T20:59:40.133Z"
   },
   {
    "duration": 11,
    "start_time": "2023-12-06T20:59:40.146Z"
   },
   {
    "duration": 8,
    "start_time": "2023-12-06T20:59:40.159Z"
   },
   {
    "duration": 119,
    "start_time": "2023-12-06T20:59:40.168Z"
   },
   {
    "duration": 26,
    "start_time": "2023-12-06T20:59:40.289Z"
   },
   {
    "duration": 4,
    "start_time": "2023-12-06T20:59:40.317Z"
   },
   {
    "duration": 29,
    "start_time": "2023-12-06T21:10:09.402Z"
   },
   {
    "duration": 151,
    "start_time": "2023-12-06T21:13:01.147Z"
   },
   {
    "duration": 157,
    "start_time": "2023-12-06T21:13:09.812Z"
   },
   {
    "duration": 149,
    "start_time": "2023-12-06T21:13:19.060Z"
   },
   {
    "duration": 147,
    "start_time": "2023-12-06T21:13:26.015Z"
   },
   {
    "duration": 108,
    "start_time": "2023-12-06T21:17:36.855Z"
   },
   {
    "duration": 12,
    "start_time": "2023-12-06T21:18:04.716Z"
   },
   {
    "duration": 1034,
    "start_time": "2023-12-06T21:19:10.205Z"
   },
   {
    "duration": 133,
    "start_time": "2023-12-06T21:19:11.241Z"
   },
   {
    "duration": 20,
    "start_time": "2023-12-06T21:19:11.376Z"
   },
   {
    "duration": 3,
    "start_time": "2023-12-06T21:19:11.397Z"
   },
   {
    "duration": 11,
    "start_time": "2023-12-06T21:19:11.402Z"
   },
   {
    "duration": 19,
    "start_time": "2023-12-06T21:19:11.414Z"
   },
   {
    "duration": 27,
    "start_time": "2023-12-06T21:19:11.434Z"
   },
   {
    "duration": 26,
    "start_time": "2023-12-06T21:19:11.463Z"
   },
   {
    "duration": 16,
    "start_time": "2023-12-06T21:19:11.491Z"
   },
   {
    "duration": 12,
    "start_time": "2023-12-06T21:19:11.508Z"
   },
   {
    "duration": 12,
    "start_time": "2023-12-06T21:19:11.522Z"
   },
   {
    "duration": 110,
    "start_time": "2023-12-06T21:19:11.535Z"
   },
   {
    "duration": 18,
    "start_time": "2023-12-06T21:19:11.647Z"
   },
   {
    "duration": 5,
    "start_time": "2023-12-06T21:19:11.667Z"
   },
   {
    "duration": 175,
    "start_time": "2023-12-06T21:19:11.673Z"
   },
   {
    "duration": 126,
    "start_time": "2023-12-06T21:19:11.849Z"
   },
   {
    "duration": 11,
    "start_time": "2023-12-06T21:19:11.977Z"
   },
   {
    "duration": 259,
    "start_time": "2023-12-06T21:19:11.989Z"
   },
   {
    "duration": 989,
    "start_time": "2023-12-06T21:19:23.648Z"
   },
   {
    "duration": 127,
    "start_time": "2023-12-06T21:19:24.638Z"
   },
   {
    "duration": 20,
    "start_time": "2023-12-06T21:19:24.766Z"
   },
   {
    "duration": 2,
    "start_time": "2023-12-06T21:19:24.788Z"
   },
   {
    "duration": 9,
    "start_time": "2023-12-06T21:19:24.792Z"
   },
   {
    "duration": 8,
    "start_time": "2023-12-06T21:19:24.803Z"
   },
   {
    "duration": 14,
    "start_time": "2023-12-06T21:19:24.812Z"
   },
   {
    "duration": 22,
    "start_time": "2023-12-06T21:19:24.827Z"
   },
   {
    "duration": 13,
    "start_time": "2023-12-06T21:19:24.851Z"
   },
   {
    "duration": 13,
    "start_time": "2023-12-06T21:19:24.865Z"
   },
   {
    "duration": 37,
    "start_time": "2023-12-06T21:19:24.880Z"
   },
   {
    "duration": 110,
    "start_time": "2023-12-06T21:19:24.919Z"
   },
   {
    "duration": 19,
    "start_time": "2023-12-06T21:19:25.031Z"
   },
   {
    "duration": 5,
    "start_time": "2023-12-06T21:19:25.053Z"
   },
   {
    "duration": 185,
    "start_time": "2023-12-06T21:19:25.059Z"
   },
   {
    "duration": 120,
    "start_time": "2023-12-06T21:19:25.246Z"
   },
   {
    "duration": 12,
    "start_time": "2023-12-06T21:19:25.368Z"
   },
   {
    "duration": 34,
    "start_time": "2023-12-06T21:19:25.382Z"
   },
   {
    "duration": 11,
    "start_time": "2023-12-06T21:19:50.838Z"
   },
   {
    "duration": 254,
    "start_time": "2023-12-06T21:20:09.720Z"
   },
   {
    "duration": 177,
    "start_time": "2023-12-06T21:20:24.519Z"
   },
   {
    "duration": 160,
    "start_time": "2023-12-06T21:20:28.098Z"
   },
   {
    "duration": 206,
    "start_time": "2023-12-06T21:21:24.958Z"
   },
   {
    "duration": 192,
    "start_time": "2023-12-06T21:21:36.345Z"
   },
   {
    "duration": 190,
    "start_time": "2023-12-06T21:21:46.885Z"
   },
   {
    "duration": 298,
    "start_time": "2023-12-06T21:26:10.004Z"
   },
   {
    "duration": 195,
    "start_time": "2023-12-06T21:26:16.875Z"
   },
   {
    "duration": 266,
    "start_time": "2023-12-06T21:29:07.996Z"
   },
   {
    "duration": 196,
    "start_time": "2023-12-06T21:29:17.078Z"
   },
   {
    "duration": 205,
    "start_time": "2023-12-06T21:30:38.098Z"
   },
   {
    "duration": 1297,
    "start_time": "2023-12-07T11:50:47.177Z"
   },
   {
    "duration": 260,
    "start_time": "2023-12-07T11:50:48.476Z"
   },
   {
    "duration": 27,
    "start_time": "2023-12-07T11:50:48.738Z"
   },
   {
    "duration": 3,
    "start_time": "2023-12-07T11:50:48.768Z"
   },
   {
    "duration": 15,
    "start_time": "2023-12-07T11:50:48.773Z"
   },
   {
    "duration": 25,
    "start_time": "2023-12-07T11:50:48.790Z"
   },
   {
    "duration": 25,
    "start_time": "2023-12-07T11:50:48.817Z"
   },
   {
    "duration": 30,
    "start_time": "2023-12-07T11:50:48.844Z"
   },
   {
    "duration": 13,
    "start_time": "2023-12-07T11:50:48.876Z"
   },
   {
    "duration": 14,
    "start_time": "2023-12-07T11:50:48.892Z"
   },
   {
    "duration": 12,
    "start_time": "2023-12-07T11:50:48.907Z"
   },
   {
    "duration": 140,
    "start_time": "2023-12-07T11:50:48.921Z"
   },
   {
    "duration": 24,
    "start_time": "2023-12-07T11:50:49.062Z"
   },
   {
    "duration": 5,
    "start_time": "2023-12-07T11:50:49.088Z"
   },
   {
    "duration": 202,
    "start_time": "2023-12-07T11:50:49.095Z"
   },
   {
    "duration": 145,
    "start_time": "2023-12-07T11:50:49.299Z"
   },
   {
    "duration": 26,
    "start_time": "2023-12-07T11:50:49.445Z"
   },
   {
    "duration": 336,
    "start_time": "2023-12-07T11:50:49.473Z"
   },
   {
    "duration": 224,
    "start_time": "2023-12-07T11:50:59.939Z"
   },
   {
    "duration": 182,
    "start_time": "2023-12-07T11:56:47.754Z"
   },
   {
    "duration": 181,
    "start_time": "2023-12-07T11:57:06.031Z"
   },
   {
    "duration": 187,
    "start_time": "2023-12-07T11:57:12.830Z"
   },
   {
    "duration": 215,
    "start_time": "2023-12-07T12:02:02.979Z"
   },
   {
    "duration": 215,
    "start_time": "2023-12-07T12:02:51.933Z"
   },
   {
    "duration": 235,
    "start_time": "2023-12-07T12:03:14.691Z"
   },
   {
    "duration": 232,
    "start_time": "2023-12-07T12:04:14.195Z"
   },
   {
    "duration": 429,
    "start_time": "2023-12-07T12:20:20.266Z"
   },
   {
    "duration": 312,
    "start_time": "2023-12-07T12:20:43.145Z"
   },
   {
    "duration": 317,
    "start_time": "2023-12-07T12:21:09.842Z"
   },
   {
    "duration": 314,
    "start_time": "2023-12-07T12:21:13.825Z"
   },
   {
    "duration": 295,
    "start_time": "2023-12-07T12:21:36.121Z"
   },
   {
    "duration": 350,
    "start_time": "2023-12-07T12:22:10.848Z"
   },
   {
    "duration": 315,
    "start_time": "2023-12-07T12:25:31.519Z"
   },
   {
    "duration": 327,
    "start_time": "2023-12-07T12:25:53.398Z"
   },
   {
    "duration": 342,
    "start_time": "2023-12-07T12:26:08.126Z"
   },
   {
    "duration": 212,
    "start_time": "2023-12-07T13:05:36.149Z"
   },
   {
    "duration": 1004,
    "start_time": "2023-12-07T13:05:43.215Z"
   },
   {
    "duration": 130,
    "start_time": "2023-12-07T13:05:44.221Z"
   },
   {
    "duration": 20,
    "start_time": "2023-12-07T13:05:44.353Z"
   },
   {
    "duration": 3,
    "start_time": "2023-12-07T13:05:44.375Z"
   },
   {
    "duration": 11,
    "start_time": "2023-12-07T13:05:44.379Z"
   },
   {
    "duration": 15,
    "start_time": "2023-12-07T13:05:44.392Z"
   },
   {
    "duration": 15,
    "start_time": "2023-12-07T13:05:44.409Z"
   },
   {
    "duration": 23,
    "start_time": "2023-12-07T13:05:44.425Z"
   },
   {
    "duration": 30,
    "start_time": "2023-12-07T13:05:44.449Z"
   },
   {
    "duration": 12,
    "start_time": "2023-12-07T13:05:44.481Z"
   },
   {
    "duration": 21,
    "start_time": "2023-12-07T13:05:44.495Z"
   },
   {
    "duration": 112,
    "start_time": "2023-12-07T13:05:44.517Z"
   },
   {
    "duration": 19,
    "start_time": "2023-12-07T13:05:44.631Z"
   },
   {
    "duration": 20,
    "start_time": "2023-12-07T13:05:44.651Z"
   },
   {
    "duration": 180,
    "start_time": "2023-12-07T13:05:44.672Z"
   },
   {
    "duration": 133,
    "start_time": "2023-12-07T13:05:44.854Z"
   },
   {
    "duration": 13,
    "start_time": "2023-12-07T13:05:44.988Z"
   },
   {
    "duration": 360,
    "start_time": "2023-12-07T13:05:45.003Z"
   },
   {
    "duration": 231,
    "start_time": "2023-12-07T13:05:45.365Z"
   },
   {
    "duration": 327,
    "start_time": "2023-12-07T13:05:45.597Z"
   },
   {
    "duration": 218,
    "start_time": "2023-12-07T13:05:45.926Z"
   },
   {
    "duration": 202,
    "start_time": "2023-12-07T13:06:18.132Z"
   },
   {
    "duration": 194,
    "start_time": "2023-12-07T13:06:44.756Z"
   },
   {
    "duration": 211,
    "start_time": "2023-12-07T13:06:53.059Z"
   },
   {
    "duration": 173,
    "start_time": "2023-12-07T13:07:08.548Z"
   },
   {
    "duration": 216,
    "start_time": "2023-12-07T13:07:27.636Z"
   },
   {
    "duration": 293,
    "start_time": "2023-12-07T13:08:17.170Z"
   },
   {
    "duration": 225,
    "start_time": "2023-12-07T13:08:49.138Z"
   },
   {
    "duration": 227,
    "start_time": "2023-12-07T13:11:43.041Z"
   },
   {
    "duration": 211,
    "start_time": "2023-12-07T13:12:53.336Z"
   },
   {
    "duration": 221,
    "start_time": "2023-12-07T13:13:09.983Z"
   },
   {
    "duration": 225,
    "start_time": "2023-12-07T13:13:21.095Z"
   },
   {
    "duration": 209,
    "start_time": "2023-12-07T13:16:18.925Z"
   },
   {
    "duration": 243,
    "start_time": "2023-12-07T13:16:58.132Z"
   },
   {
    "duration": 242,
    "start_time": "2023-12-07T13:17:40.220Z"
   },
   {
    "duration": 67,
    "start_time": "2023-12-07T13:31:23.341Z"
   },
   {
    "duration": 46,
    "start_time": "2023-12-07T13:31:37.643Z"
   },
   {
    "duration": 296,
    "start_time": "2023-12-07T13:31:58.380Z"
   },
   {
    "duration": 299,
    "start_time": "2023-12-07T13:32:42.853Z"
   },
   {
    "duration": 402,
    "start_time": "2023-12-07T13:33:07.482Z"
   },
   {
    "duration": 50,
    "start_time": "2023-12-07T20:11:43.937Z"
   },
   {
    "duration": 1158,
    "start_time": "2023-12-07T20:11:50.331Z"
   },
   {
    "duration": 261,
    "start_time": "2023-12-07T20:11:51.492Z"
   },
   {
    "duration": 21,
    "start_time": "2023-12-07T20:11:51.755Z"
   },
   {
    "duration": 7,
    "start_time": "2023-12-07T20:11:51.778Z"
   },
   {
    "duration": 24,
    "start_time": "2023-12-07T20:11:51.787Z"
   },
   {
    "duration": 16,
    "start_time": "2023-12-07T20:11:51.812Z"
   },
   {
    "duration": 24,
    "start_time": "2023-12-07T20:11:51.831Z"
   },
   {
    "duration": 29,
    "start_time": "2023-12-07T20:11:51.857Z"
   },
   {
    "duration": 20,
    "start_time": "2023-12-07T20:11:51.888Z"
   },
   {
    "duration": 39,
    "start_time": "2023-12-07T20:11:51.910Z"
   },
   {
    "duration": 73,
    "start_time": "2023-12-07T20:11:51.951Z"
   },
   {
    "duration": 163,
    "start_time": "2023-12-07T20:11:52.027Z"
   },
   {
    "duration": 29,
    "start_time": "2023-12-07T20:11:52.192Z"
   },
   {
    "duration": 6,
    "start_time": "2023-12-07T20:11:52.224Z"
   },
   {
    "duration": 195,
    "start_time": "2023-12-07T20:11:52.232Z"
   },
   {
    "duration": 169,
    "start_time": "2023-12-07T20:11:52.429Z"
   },
   {
    "duration": 13,
    "start_time": "2023-12-07T20:11:52.600Z"
   },
   {
    "duration": 345,
    "start_time": "2023-12-07T20:11:52.614Z"
   },
   {
    "duration": 307,
    "start_time": "2023-12-07T20:11:52.960Z"
   },
   {
    "duration": 407,
    "start_time": "2023-12-07T20:11:53.269Z"
   },
   {
    "duration": 274,
    "start_time": "2023-12-07T20:11:53.677Z"
   },
   {
    "duration": 387,
    "start_time": "2023-12-07T20:11:53.953Z"
   },
   {
    "duration": 322,
    "start_time": "2023-12-07T20:12:06.446Z"
   },
   {
    "duration": 9,
    "start_time": "2023-12-07T20:30:01.553Z"
   },
   {
    "duration": 8,
    "start_time": "2023-12-07T20:30:44.862Z"
   },
   {
    "duration": 7,
    "start_time": "2023-12-07T20:30:48.273Z"
   },
   {
    "duration": 8,
    "start_time": "2023-12-07T20:31:08.633Z"
   },
   {
    "duration": 1182,
    "start_time": "2023-12-07T20:32:09.162Z"
   },
   {
    "duration": 116,
    "start_time": "2023-12-07T20:32:17.058Z"
   },
   {
    "duration": 11,
    "start_time": "2023-12-07T20:33:40.531Z"
   },
   {
    "duration": 12,
    "start_time": "2023-12-07T20:34:17.356Z"
   },
   {
    "duration": 16,
    "start_time": "2023-12-07T20:34:43.564Z"
   },
   {
    "duration": 53,
    "start_time": "2023-12-07T20:35:08.611Z"
   },
   {
    "duration": 214,
    "start_time": "2023-12-07T20:35:12.123Z"
   },
   {
    "duration": 129,
    "start_time": "2023-12-07T20:35:46.292Z"
   },
   {
    "duration": 364,
    "start_time": "2023-12-07T20:36:35.581Z"
   },
   {
    "duration": 126,
    "start_time": "2023-12-07T20:36:46.276Z"
   },
   {
    "duration": 1244,
    "start_time": "2023-12-07T20:37:21.741Z"
   },
   {
    "duration": 129,
    "start_time": "2023-12-07T20:37:33.301Z"
   },
   {
    "duration": 108,
    "start_time": "2023-12-07T20:37:40.117Z"
   },
   {
    "duration": 112,
    "start_time": "2023-12-07T20:38:24.062Z"
   },
   {
    "duration": 121,
    "start_time": "2023-12-07T20:38:29.261Z"
   },
   {
    "duration": 47,
    "start_time": "2023-12-07T20:39:55.449Z"
   },
   {
    "duration": 1032,
    "start_time": "2023-12-07T20:40:39.746Z"
   },
   {
    "duration": 73,
    "start_time": "2023-12-07T20:40:40.780Z"
   },
   {
    "duration": 19,
    "start_time": "2023-12-07T20:40:40.854Z"
   },
   {
    "duration": 2,
    "start_time": "2023-12-07T20:40:40.875Z"
   },
   {
    "duration": 11,
    "start_time": "2023-12-07T20:40:40.879Z"
   },
   {
    "duration": 8,
    "start_time": "2023-12-07T20:40:40.891Z"
   },
   {
    "duration": 12,
    "start_time": "2023-12-07T20:40:40.901Z"
   },
   {
    "duration": 23,
    "start_time": "2023-12-07T20:40:40.915Z"
   },
   {
    "duration": 12,
    "start_time": "2023-12-07T20:40:40.940Z"
   },
   {
    "duration": 36,
    "start_time": "2023-12-07T20:40:40.954Z"
   },
   {
    "duration": 10,
    "start_time": "2023-12-07T20:40:40.991Z"
   },
   {
    "duration": 12,
    "start_time": "2023-12-07T20:40:41.002Z"
   },
   {
    "duration": 18,
    "start_time": "2023-12-07T20:40:41.015Z"
   },
   {
    "duration": 4,
    "start_time": "2023-12-07T20:40:41.036Z"
   },
   {
    "duration": 167,
    "start_time": "2023-12-07T20:40:41.041Z"
   },
   {
    "duration": 124,
    "start_time": "2023-12-07T20:40:41.209Z"
   },
   {
    "duration": 12,
    "start_time": "2023-12-07T20:40:41.335Z"
   },
   {
    "duration": 305,
    "start_time": "2023-12-07T20:40:41.348Z"
   },
   {
    "duration": 214,
    "start_time": "2023-12-07T20:40:41.655Z"
   },
   {
    "duration": 360,
    "start_time": "2023-12-07T20:40:41.870Z"
   },
   {
    "duration": 216,
    "start_time": "2023-12-07T20:40:42.231Z"
   },
   {
    "duration": 381,
    "start_time": "2023-12-07T20:40:42.449Z"
   },
   {
    "duration": 114,
    "start_time": "2023-12-07T20:40:42.832Z"
   },
   {
    "duration": 1072,
    "start_time": "2023-12-07T20:41:12.493Z"
   },
   {
    "duration": 74,
    "start_time": "2023-12-07T20:41:13.566Z"
   },
   {
    "duration": 19,
    "start_time": "2023-12-07T20:41:13.641Z"
   },
   {
    "duration": 3,
    "start_time": "2023-12-07T20:41:13.661Z"
   },
   {
    "duration": 9,
    "start_time": "2023-12-07T20:41:13.665Z"
   },
   {
    "duration": 9,
    "start_time": "2023-12-07T20:41:13.675Z"
   },
   {
    "duration": 12,
    "start_time": "2023-12-07T20:41:13.685Z"
   },
   {
    "duration": 21,
    "start_time": "2023-12-07T20:41:13.698Z"
   },
   {
    "duration": 12,
    "start_time": "2023-12-07T20:41:13.721Z"
   },
   {
    "duration": 11,
    "start_time": "2023-12-07T20:41:13.734Z"
   },
   {
    "duration": 39,
    "start_time": "2023-12-07T20:41:13.746Z"
   },
   {
    "duration": 119,
    "start_time": "2023-12-07T20:41:13.787Z"
   },
   {
    "duration": 19,
    "start_time": "2023-12-07T20:41:13.907Z"
   },
   {
    "duration": 25,
    "start_time": "2023-12-07T20:41:13.928Z"
   },
   {
    "duration": 177,
    "start_time": "2023-12-07T20:41:13.955Z"
   },
   {
    "duration": 129,
    "start_time": "2023-12-07T20:41:14.134Z"
   },
   {
    "duration": 19,
    "start_time": "2023-12-07T20:41:14.264Z"
   },
   {
    "duration": 301,
    "start_time": "2023-12-07T20:41:14.284Z"
   },
   {
    "duration": 208,
    "start_time": "2023-12-07T20:41:14.586Z"
   },
   {
    "duration": 319,
    "start_time": "2023-12-07T20:41:14.795Z"
   },
   {
    "duration": 231,
    "start_time": "2023-12-07T20:41:15.116Z"
   },
   {
    "duration": 353,
    "start_time": "2023-12-07T20:41:15.348Z"
   },
   {
    "duration": 126,
    "start_time": "2023-12-07T20:41:15.702Z"
   },
   {
    "duration": 142,
    "start_time": "2023-12-07T20:41:37.719Z"
   },
   {
    "duration": 156,
    "start_time": "2023-12-07T20:41:47.271Z"
   },
   {
    "duration": 219,
    "start_time": "2023-12-07T20:41:49.503Z"
   },
   {
    "duration": 1109,
    "start_time": "2023-12-07T20:46:10.746Z"
   },
   {
    "duration": 1109,
    "start_time": "2023-12-07T20:46:41.877Z"
   },
   {
    "duration": 74,
    "start_time": "2023-12-07T20:46:42.987Z"
   },
   {
    "duration": 22,
    "start_time": "2023-12-07T20:46:43.062Z"
   },
   {
    "duration": 3,
    "start_time": "2023-12-07T20:46:43.085Z"
   },
   {
    "duration": 7,
    "start_time": "2023-12-07T20:46:43.091Z"
   },
   {
    "duration": 18,
    "start_time": "2023-12-07T20:46:43.100Z"
   },
   {
    "duration": 13,
    "start_time": "2023-12-07T20:46:43.119Z"
   },
   {
    "duration": 23,
    "start_time": "2023-12-07T20:46:43.133Z"
   },
   {
    "duration": 35,
    "start_time": "2023-12-07T20:46:43.158Z"
   },
   {
    "duration": 18,
    "start_time": "2023-12-07T20:46:43.195Z"
   },
   {
    "duration": 9,
    "start_time": "2023-12-07T20:46:43.215Z"
   },
   {
    "duration": 118,
    "start_time": "2023-12-07T20:46:43.225Z"
   },
   {
    "duration": 17,
    "start_time": "2023-12-07T20:46:43.344Z"
   },
   {
    "duration": 20,
    "start_time": "2023-12-07T20:46:43.364Z"
   },
   {
    "duration": 158,
    "start_time": "2023-12-07T20:46:43.386Z"
   },
   {
    "duration": 111,
    "start_time": "2023-12-07T20:46:43.546Z"
   },
   {
    "duration": 11,
    "start_time": "2023-12-07T20:46:43.659Z"
   },
   {
    "duration": 283,
    "start_time": "2023-12-07T20:46:43.682Z"
   },
   {
    "duration": 215,
    "start_time": "2023-12-07T20:46:43.967Z"
   },
   {
    "duration": 327,
    "start_time": "2023-12-07T20:46:44.184Z"
   },
   {
    "duration": 221,
    "start_time": "2023-12-07T20:46:44.512Z"
   },
   {
    "duration": 322,
    "start_time": "2023-12-07T20:46:44.735Z"
   },
   {
    "duration": 166,
    "start_time": "2023-12-07T20:46:45.059Z"
   },
   {
    "duration": 1402,
    "start_time": "2023-12-07T20:46:45.226Z"
   },
   {
    "duration": 3,
    "start_time": "2023-12-07T20:46:50.258Z"
   },
   {
    "duration": 4,
    "start_time": "2023-12-07T20:47:38.227Z"
   },
   {
    "duration": 1123,
    "start_time": "2023-12-07T21:02:24.171Z"
   },
   {
    "duration": 1238,
    "start_time": "2023-12-07T21:02:35.323Z"
   },
   {
    "duration": 10,
    "start_time": "2023-12-07T21:04:50.645Z"
   },
   {
    "duration": 182,
    "start_time": "2023-12-07T21:05:17.030Z"
   },
   {
    "duration": 161,
    "start_time": "2023-12-07T21:05:32.141Z"
   },
   {
    "duration": 153,
    "start_time": "2023-12-07T21:08:27.335Z"
   },
   {
    "duration": 160,
    "start_time": "2023-12-07T21:11:27.738Z"
   },
   {
    "duration": 152,
    "start_time": "2023-12-07T21:11:50.306Z"
   },
   {
    "duration": 157,
    "start_time": "2023-12-07T21:11:55.337Z"
   },
   {
    "duration": 158,
    "start_time": "2023-12-07T21:11:59.272Z"
   },
   {
    "duration": 4,
    "start_time": "2023-12-07T21:15:42.987Z"
   },
   {
    "duration": 1150,
    "start_time": "2023-12-08T23:53:31.709Z"
   },
   {
    "duration": 232,
    "start_time": "2023-12-08T23:53:32.861Z"
   },
   {
    "duration": 20,
    "start_time": "2023-12-08T23:53:33.094Z"
   },
   {
    "duration": 3,
    "start_time": "2023-12-08T23:53:33.116Z"
   },
   {
    "duration": 17,
    "start_time": "2023-12-08T23:53:33.121Z"
   },
   {
    "duration": 13,
    "start_time": "2023-12-08T23:53:33.139Z"
   },
   {
    "duration": 16,
    "start_time": "2023-12-08T23:53:33.154Z"
   },
   {
    "duration": 30,
    "start_time": "2023-12-08T23:53:33.172Z"
   },
   {
    "duration": 26,
    "start_time": "2023-12-08T23:53:33.204Z"
   },
   {
    "duration": 13,
    "start_time": "2023-12-08T23:53:33.232Z"
   },
   {
    "duration": 10,
    "start_time": "2023-12-08T23:53:33.247Z"
   },
   {
    "duration": 123,
    "start_time": "2023-12-08T23:53:33.258Z"
   },
   {
    "duration": 18,
    "start_time": "2023-12-08T23:53:33.382Z"
   },
   {
    "duration": 6,
    "start_time": "2023-12-08T23:53:33.414Z"
   },
   {
    "duration": 155,
    "start_time": "2023-12-08T23:53:33.421Z"
   },
   {
    "duration": 149,
    "start_time": "2023-12-08T23:53:33.577Z"
   },
   {
    "duration": 14,
    "start_time": "2023-12-08T23:53:33.728Z"
   },
   {
    "duration": 308,
    "start_time": "2023-12-08T23:53:33.743Z"
   },
   {
    "duration": 202,
    "start_time": "2023-12-08T23:53:34.052Z"
   },
   {
    "duration": 344,
    "start_time": "2023-12-08T23:53:34.256Z"
   },
   {
    "duration": 217,
    "start_time": "2023-12-08T23:53:34.602Z"
   },
   {
    "duration": 329,
    "start_time": "2023-12-08T23:53:34.821Z"
   },
   {
    "duration": 152,
    "start_time": "2023-12-08T23:53:35.152Z"
   },
   {
    "duration": 10,
    "start_time": "2023-12-08T23:53:35.305Z"
   },
   {
    "duration": 147,
    "start_time": "2023-12-08T23:53:35.316Z"
   },
   {
    "duration": 157,
    "start_time": "2023-12-08T23:53:35.464Z"
   },
   {
    "duration": 4,
    "start_time": "2023-12-08T23:53:35.622Z"
   },
   {
    "duration": 85,
    "start_time": "2023-12-09T00:05:23.613Z"
   },
   {
    "duration": 87,
    "start_time": "2023-12-09T00:08:46.213Z"
   },
   {
    "duration": 173,
    "start_time": "2023-12-09T00:09:19.986Z"
   },
   {
    "duration": 112,
    "start_time": "2023-12-09T00:13:31.510Z"
   },
   {
    "duration": 6,
    "start_time": "2023-12-09T00:14:33.632Z"
   },
   {
    "duration": 5,
    "start_time": "2023-12-09T00:15:37.596Z"
   },
   {
    "duration": 4,
    "start_time": "2023-12-09T00:15:58.342Z"
   },
   {
    "duration": 19,
    "start_time": "2023-12-09T00:27:40.223Z"
   },
   {
    "duration": 21,
    "start_time": "2023-12-09T00:32:29.905Z"
   },
   {
    "duration": 23,
    "start_time": "2023-12-09T00:33:04.193Z"
   },
   {
    "duration": 17,
    "start_time": "2023-12-09T00:34:31.496Z"
   },
   {
    "duration": 19,
    "start_time": "2023-12-09T00:34:55.242Z"
   },
   {
    "duration": 78,
    "start_time": "2023-12-09T00:35:27.253Z"
   },
   {
    "duration": 28,
    "start_time": "2023-12-09T00:35:39.153Z"
   },
   {
    "duration": 3,
    "start_time": "2023-12-09T00:37:28.385Z"
   },
   {
    "duration": 4,
    "start_time": "2023-12-09T00:38:12.613Z"
   },
   {
    "duration": 17,
    "start_time": "2023-12-09T00:41:12.504Z"
   },
   {
    "duration": 18,
    "start_time": "2023-12-09T00:51:15.519Z"
   },
   {
    "duration": 29,
    "start_time": "2023-12-09T00:52:05.120Z"
   },
   {
    "duration": 20,
    "start_time": "2023-12-09T00:52:10.510Z"
   },
   {
    "duration": 18,
    "start_time": "2023-12-09T00:52:33.196Z"
   },
   {
    "duration": 18,
    "start_time": "2023-12-09T00:55:49.583Z"
   },
   {
    "duration": 4,
    "start_time": "2023-12-09T00:56:01.634Z"
   },
   {
    "duration": 9,
    "start_time": "2023-12-09T00:56:35.161Z"
   },
   {
    "duration": 942,
    "start_time": "2023-12-09T00:57:30.553Z"
   },
   {
    "duration": 107,
    "start_time": "2023-12-09T00:57:31.496Z"
   },
   {
    "duration": 20,
    "start_time": "2023-12-09T00:57:31.604Z"
   },
   {
    "duration": 14,
    "start_time": "2023-12-09T00:57:31.626Z"
   },
   {
    "duration": 31,
    "start_time": "2023-12-09T00:57:31.642Z"
   },
   {
    "duration": 34,
    "start_time": "2023-12-09T00:57:31.675Z"
   },
   {
    "duration": 31,
    "start_time": "2023-12-09T00:57:31.711Z"
   },
   {
    "duration": 39,
    "start_time": "2023-12-09T00:57:31.744Z"
   },
   {
    "duration": 11,
    "start_time": "2023-12-09T00:57:31.785Z"
   },
   {
    "duration": 27,
    "start_time": "2023-12-09T00:57:31.797Z"
   },
   {
    "duration": 28,
    "start_time": "2023-12-09T00:57:31.825Z"
   },
   {
    "duration": 101,
    "start_time": "2023-12-09T00:57:31.855Z"
   },
   {
    "duration": 22,
    "start_time": "2023-12-09T00:57:31.958Z"
   },
   {
    "duration": 11,
    "start_time": "2023-12-09T00:57:31.983Z"
   },
   {
    "duration": 169,
    "start_time": "2023-12-09T00:57:31.995Z"
   },
   {
    "duration": 112,
    "start_time": "2023-12-09T00:57:32.166Z"
   },
   {
    "duration": 19,
    "start_time": "2023-12-09T00:57:32.280Z"
   },
   {
    "duration": 274,
    "start_time": "2023-12-09T00:57:32.300Z"
   },
   {
    "duration": 234,
    "start_time": "2023-12-09T00:57:32.575Z"
   },
   {
    "duration": 324,
    "start_time": "2023-12-09T00:57:32.810Z"
   },
   {
    "duration": 208,
    "start_time": "2023-12-09T00:57:33.135Z"
   },
   {
    "duration": 294,
    "start_time": "2023-12-09T00:57:33.345Z"
   },
   {
    "duration": 156,
    "start_time": "2023-12-09T00:57:33.640Z"
   },
   {
    "duration": 4,
    "start_time": "2023-12-09T00:57:33.798Z"
   },
   {
    "duration": 147,
    "start_time": "2023-12-09T00:57:33.804Z"
   },
   {
    "duration": 147,
    "start_time": "2023-12-09T00:57:33.952Z"
   },
   {
    "duration": 4,
    "start_time": "2023-12-09T00:57:34.101Z"
   },
   {
    "duration": 206,
    "start_time": "2023-12-09T00:57:34.116Z"
   },
   {
    "duration": 121,
    "start_time": "2023-12-09T00:57:34.323Z"
   },
   {
    "duration": 6,
    "start_time": "2023-12-09T00:57:34.445Z"
   },
   {
    "duration": 25,
    "start_time": "2023-12-09T00:57:34.452Z"
   },
   {
    "duration": 0,
    "start_time": "2023-12-09T00:57:34.479Z"
   },
   {
    "duration": 0,
    "start_time": "2023-12-09T00:57:34.479Z"
   },
   {
    "duration": 19,
    "start_time": "2023-12-09T00:58:29.965Z"
   },
   {
    "duration": 9,
    "start_time": "2023-12-09T00:58:48.407Z"
   },
   {
    "duration": 129,
    "start_time": "2023-12-09T01:00:16.455Z"
   },
   {
    "duration": 12,
    "start_time": "2023-12-09T01:01:49.498Z"
   },
   {
    "duration": 75,
    "start_time": "2023-12-09T01:02:14.778Z"
   },
   {
    "duration": 9,
    "start_time": "2023-12-09T01:02:23.589Z"
   },
   {
    "duration": 9,
    "start_time": "2023-12-09T01:02:47.739Z"
   },
   {
    "duration": 8,
    "start_time": "2023-12-09T01:05:34.745Z"
   },
   {
    "duration": 9,
    "start_time": "2023-12-09T01:05:41.209Z"
   },
   {
    "duration": 1169,
    "start_time": "2023-12-09T01:16:38.740Z"
   },
   {
    "duration": 7,
    "start_time": "2023-12-09T01:17:01.025Z"
   },
   {
    "duration": 7,
    "start_time": "2023-12-09T01:21:13.300Z"
   },
   {
    "duration": 97,
    "start_time": "2023-12-09T01:24:00.848Z"
   },
   {
    "duration": 81,
    "start_time": "2023-12-09T01:24:15.083Z"
   },
   {
    "duration": 79,
    "start_time": "2023-12-09T01:24:51.002Z"
   },
   {
    "duration": 3,
    "start_time": "2023-12-09T01:24:57.708Z"
   },
   {
    "duration": 70,
    "start_time": "2023-12-09T01:25:07.798Z"
   },
   {
    "duration": 4,
    "start_time": "2023-12-09T01:25:33.907Z"
   },
   {
    "duration": 82,
    "start_time": "2023-12-09T01:25:39.097Z"
   },
   {
    "duration": 4,
    "start_time": "2023-12-09T01:25:46.927Z"
   },
   {
    "duration": 3,
    "start_time": "2023-12-09T01:25:54.901Z"
   },
   {
    "duration": 18,
    "start_time": "2023-12-09T01:26:28.997Z"
   },
   {
    "duration": 12,
    "start_time": "2023-12-09T01:34:47.503Z"
   },
   {
    "duration": 11,
    "start_time": "2023-12-09T01:36:35.946Z"
   },
   {
    "duration": 85,
    "start_time": "2023-12-09T01:37:07.533Z"
   },
   {
    "duration": 78,
    "start_time": "2023-12-09T01:37:12.164Z"
   },
   {
    "duration": 11,
    "start_time": "2023-12-09T01:37:16.252Z"
   },
   {
    "duration": 11,
    "start_time": "2023-12-09T01:37:35.684Z"
   },
   {
    "duration": 1356,
    "start_time": "2023-12-09T12:06:57.920Z"
   },
   {
    "duration": 250,
    "start_time": "2023-12-09T12:06:59.278Z"
   },
   {
    "duration": 25,
    "start_time": "2023-12-09T12:06:59.530Z"
   },
   {
    "duration": 4,
    "start_time": "2023-12-09T12:06:59.557Z"
   },
   {
    "duration": 12,
    "start_time": "2023-12-09T12:06:59.564Z"
   },
   {
    "duration": 15,
    "start_time": "2023-12-09T12:06:59.577Z"
   },
   {
    "duration": 37,
    "start_time": "2023-12-09T12:06:59.594Z"
   },
   {
    "duration": 48,
    "start_time": "2023-12-09T12:06:59.633Z"
   },
   {
    "duration": 14,
    "start_time": "2023-12-09T12:06:59.683Z"
   },
   {
    "duration": 29,
    "start_time": "2023-12-09T12:06:59.699Z"
   },
   {
    "duration": 13,
    "start_time": "2023-12-09T12:06:59.730Z"
   },
   {
    "duration": 145,
    "start_time": "2023-12-09T12:06:59.745Z"
   },
   {
    "duration": 35,
    "start_time": "2023-12-09T12:06:59.892Z"
   },
   {
    "duration": 7,
    "start_time": "2023-12-09T12:06:59.931Z"
   },
   {
    "duration": 203,
    "start_time": "2023-12-09T12:06:59.939Z"
   },
   {
    "duration": 172,
    "start_time": "2023-12-09T12:07:00.144Z"
   },
   {
    "duration": 20,
    "start_time": "2023-12-09T12:07:00.321Z"
   },
   {
    "duration": 428,
    "start_time": "2023-12-09T12:07:00.344Z"
   },
   {
    "duration": 304,
    "start_time": "2023-12-09T12:07:00.774Z"
   },
   {
    "duration": 489,
    "start_time": "2023-12-09T12:07:01.080Z"
   },
   {
    "duration": 258,
    "start_time": "2023-12-09T12:07:01.571Z"
   },
   {
    "duration": 403,
    "start_time": "2023-12-09T12:07:01.831Z"
   },
   {
    "duration": 202,
    "start_time": "2023-12-09T12:07:02.236Z"
   },
   {
    "duration": 78,
    "start_time": "2023-12-09T12:07:02.440Z"
   },
   {
    "duration": 298,
    "start_time": "2023-12-09T12:07:02.520Z"
   },
   {
    "duration": 210,
    "start_time": "2023-12-09T12:07:02.819Z"
   },
   {
    "duration": 6,
    "start_time": "2023-12-09T12:07:03.031Z"
   },
   {
    "duration": 629,
    "start_time": "2023-12-09T12:07:03.039Z"
   },
   {
    "duration": 306,
    "start_time": "2023-12-09T12:07:03.722Z"
   },
   {
    "duration": 7,
    "start_time": "2023-12-09T12:07:04.030Z"
   },
   {
    "duration": 90,
    "start_time": "2023-12-09T12:07:04.039Z"
   },
   {
    "duration": 5,
    "start_time": "2023-12-09T12:07:04.131Z"
   },
   {
    "duration": 24,
    "start_time": "2023-12-09T12:07:04.138Z"
   },
   {
    "duration": 62,
    "start_time": "2023-12-09T12:07:04.163Z"
   },
   {
    "duration": 25,
    "start_time": "2023-12-09T12:07:04.227Z"
   },
   {
    "duration": 81,
    "start_time": "2023-12-09T12:07:04.257Z"
   },
   {
    "duration": 15,
    "start_time": "2023-12-09T12:07:04.340Z"
   },
   {
    "duration": 1185,
    "start_time": "2023-12-09T12:25:25.789Z"
   },
   {
    "duration": 239,
    "start_time": "2023-12-09T12:25:26.976Z"
   },
   {
    "duration": 20,
    "start_time": "2023-12-09T12:25:27.216Z"
   },
   {
    "duration": 2,
    "start_time": "2023-12-09T12:25:27.239Z"
   },
   {
    "duration": 12,
    "start_time": "2023-12-09T12:25:27.243Z"
   },
   {
    "duration": 12,
    "start_time": "2023-12-09T12:25:27.257Z"
   },
   {
    "duration": 12,
    "start_time": "2023-12-09T12:25:27.270Z"
   },
   {
    "duration": 40,
    "start_time": "2023-12-09T12:25:27.283Z"
   },
   {
    "duration": 10,
    "start_time": "2023-12-09T12:25:27.325Z"
   },
   {
    "duration": 11,
    "start_time": "2023-12-09T12:25:27.337Z"
   },
   {
    "duration": 13,
    "start_time": "2023-12-09T12:25:27.349Z"
   },
   {
    "duration": 117,
    "start_time": "2023-12-09T12:25:27.364Z"
   },
   {
    "duration": 30,
    "start_time": "2023-12-09T12:25:27.482Z"
   },
   {
    "duration": 5,
    "start_time": "2023-12-09T12:25:27.513Z"
   },
   {
    "duration": 162,
    "start_time": "2023-12-09T12:25:27.520Z"
   },
   {
    "duration": 120,
    "start_time": "2023-12-09T12:25:27.683Z"
   },
   {
    "duration": 16,
    "start_time": "2023-12-09T12:25:27.804Z"
   },
   {
    "duration": 301,
    "start_time": "2023-12-09T12:25:27.821Z"
   },
   {
    "duration": 232,
    "start_time": "2023-12-09T12:25:28.123Z"
   },
   {
    "duration": 377,
    "start_time": "2023-12-09T12:25:28.357Z"
   },
   {
    "duration": 230,
    "start_time": "2023-12-09T12:25:28.735Z"
   },
   {
    "duration": 317,
    "start_time": "2023-12-09T12:25:28.967Z"
   },
   {
    "duration": 178,
    "start_time": "2023-12-09T12:25:29.286Z"
   },
   {
    "duration": 4,
    "start_time": "2023-12-09T12:25:29.465Z"
   },
   {
    "duration": 161,
    "start_time": "2023-12-09T12:25:29.471Z"
   },
   {
    "duration": 160,
    "start_time": "2023-12-09T12:25:29.634Z"
   },
   {
    "duration": 4,
    "start_time": "2023-12-09T12:25:29.796Z"
   },
   {
    "duration": 204,
    "start_time": "2023-12-09T12:25:29.802Z"
   },
   {
    "duration": 124,
    "start_time": "2023-12-09T12:25:30.007Z"
   },
   {
    "duration": 5,
    "start_time": "2023-12-09T12:25:30.133Z"
   },
   {
    "duration": 41,
    "start_time": "2023-12-09T12:25:30.139Z"
   },
   {
    "duration": 7,
    "start_time": "2023-12-09T12:25:30.182Z"
   },
   {
    "duration": 40,
    "start_time": "2023-12-09T12:25:30.191Z"
   },
   {
    "duration": 42,
    "start_time": "2023-12-09T12:25:30.233Z"
   },
   {
    "duration": 38,
    "start_time": "2023-12-09T12:25:30.277Z"
   },
   {
    "duration": 44,
    "start_time": "2023-12-09T12:25:30.316Z"
   },
   {
    "duration": 49,
    "start_time": "2023-12-09T12:25:30.362Z"
   },
   {
    "duration": 47,
    "start_time": "2023-12-09T16:09:27.282Z"
   },
   {
    "duration": 1208,
    "start_time": "2023-12-09T16:13:16.224Z"
   },
   {
    "duration": 246,
    "start_time": "2023-12-09T16:13:17.434Z"
   },
   {
    "duration": 22,
    "start_time": "2023-12-09T16:13:17.682Z"
   },
   {
    "duration": 13,
    "start_time": "2023-12-09T16:13:17.705Z"
   },
   {
    "duration": 11,
    "start_time": "2023-12-09T16:13:17.720Z"
   },
   {
    "duration": 18,
    "start_time": "2023-12-09T16:13:17.733Z"
   },
   {
    "duration": 14,
    "start_time": "2023-12-09T16:13:17.753Z"
   },
   {
    "duration": 46,
    "start_time": "2023-12-09T16:13:17.768Z"
   },
   {
    "duration": 20,
    "start_time": "2023-12-09T16:13:17.816Z"
   },
   {
    "duration": 13,
    "start_time": "2023-12-09T16:13:17.838Z"
   },
   {
    "duration": 21,
    "start_time": "2023-12-09T16:13:17.852Z"
   },
   {
    "duration": 116,
    "start_time": "2023-12-09T16:13:17.874Z"
   },
   {
    "duration": 20,
    "start_time": "2023-12-09T16:13:17.992Z"
   },
   {
    "duration": 6,
    "start_time": "2023-12-09T16:13:18.033Z"
   },
   {
    "duration": 190,
    "start_time": "2023-12-09T16:13:18.041Z"
   },
   {
    "duration": 122,
    "start_time": "2023-12-09T16:13:18.233Z"
   },
   {
    "duration": 11,
    "start_time": "2023-12-09T16:13:18.357Z"
   },
   {
    "duration": 292,
    "start_time": "2023-12-09T16:13:18.369Z"
   },
   {
    "duration": 225,
    "start_time": "2023-12-09T16:13:18.663Z"
   },
   {
    "duration": 453,
    "start_time": "2023-12-09T16:13:18.890Z"
   },
   {
    "duration": 232,
    "start_time": "2023-12-09T16:13:19.346Z"
   },
   {
    "duration": 303,
    "start_time": "2023-12-09T16:13:19.581Z"
   },
   {
    "duration": 174,
    "start_time": "2023-12-09T16:13:19.886Z"
   },
   {
    "duration": 5,
    "start_time": "2023-12-09T16:13:20.063Z"
   },
   {
    "duration": 202,
    "start_time": "2023-12-09T16:13:20.070Z"
   },
   {
    "duration": 162,
    "start_time": "2023-12-09T16:13:20.274Z"
   },
   {
    "duration": 4,
    "start_time": "2023-12-09T16:13:20.438Z"
   },
   {
    "duration": 231,
    "start_time": "2023-12-09T16:13:20.444Z"
   },
   {
    "duration": 156,
    "start_time": "2023-12-09T16:13:20.676Z"
   },
   {
    "duration": 7,
    "start_time": "2023-12-09T16:13:20.834Z"
   },
   {
    "duration": 38,
    "start_time": "2023-12-09T16:13:20.843Z"
   },
   {
    "duration": 4,
    "start_time": "2023-12-09T16:13:20.883Z"
   },
   {
    "duration": 14,
    "start_time": "2023-12-09T16:13:20.889Z"
   },
   {
    "duration": 34,
    "start_time": "2023-12-09T16:13:20.905Z"
   },
   {
    "duration": 12,
    "start_time": "2023-12-09T16:13:20.940Z"
   },
   {
    "duration": 31,
    "start_time": "2023-12-09T16:13:20.954Z"
   },
   {
    "duration": 15,
    "start_time": "2023-12-09T16:13:20.987Z"
   },
   {
    "duration": 360,
    "start_time": "2023-12-09T16:14:01.105Z"
   },
   {
    "duration": 1375,
    "start_time": "2023-12-09T19:11:29.080Z"
   },
   {
    "duration": 267,
    "start_time": "2023-12-09T19:11:30.458Z"
   },
   {
    "duration": 32,
    "start_time": "2023-12-09T19:11:30.727Z"
   },
   {
    "duration": 128,
    "start_time": "2023-12-09T19:11:30.762Z"
   },
   {
    "duration": 99,
    "start_time": "2023-12-09T19:11:30.893Z"
   },
   {
    "duration": 153,
    "start_time": "2023-12-09T19:11:30.994Z"
   },
   {
    "duration": 103,
    "start_time": "2023-12-09T19:11:31.149Z"
   },
   {
    "duration": 88,
    "start_time": "2023-12-09T19:11:31.253Z"
   },
   {
    "duration": 50,
    "start_time": "2023-12-09T19:11:31.343Z"
   },
   {
    "duration": 151,
    "start_time": "2023-12-09T19:11:31.396Z"
   },
   {
    "duration": 13,
    "start_time": "2023-12-09T19:11:31.549Z"
   },
   {
    "duration": 6,
    "start_time": "2023-12-09T19:11:54.406Z"
   },
   {
    "duration": 5,
    "start_time": "2023-12-09T19:12:08.397Z"
   },
   {
    "duration": 4,
    "start_time": "2023-12-09T19:12:17.641Z"
   },
   {
    "duration": 4,
    "start_time": "2023-12-09T19:12:42.039Z"
   },
   {
    "duration": 133,
    "start_time": "2023-12-09T19:12:50.899Z"
   },
   {
    "duration": 5,
    "start_time": "2023-12-09T19:12:59.480Z"
   },
   {
    "duration": 5,
    "start_time": "2023-12-09T19:13:01.634Z"
   },
   {
    "duration": 59,
    "start_time": "2023-12-09T19:13:23.822Z"
   },
   {
    "duration": 8,
    "start_time": "2023-12-09T19:13:26.339Z"
   },
   {
    "duration": 1210,
    "start_time": "2023-12-09T19:13:41.769Z"
   },
   {
    "duration": 157,
    "start_time": "2023-12-09T19:13:42.981Z"
   },
   {
    "duration": 24,
    "start_time": "2023-12-09T19:13:43.140Z"
   },
   {
    "duration": 4,
    "start_time": "2023-12-09T19:13:43.166Z"
   },
   {
    "duration": 14,
    "start_time": "2023-12-09T19:13:43.171Z"
   },
   {
    "duration": 10,
    "start_time": "2023-12-09T19:13:43.187Z"
   },
   {
    "duration": 41,
    "start_time": "2023-12-09T19:13:43.198Z"
   },
   {
    "duration": 25,
    "start_time": "2023-12-09T19:13:43.241Z"
   },
   {
    "duration": 13,
    "start_time": "2023-12-09T19:13:43.268Z"
   },
   {
    "duration": 13,
    "start_time": "2023-12-09T19:13:43.284Z"
   },
   {
    "duration": 41,
    "start_time": "2023-12-09T19:13:43.299Z"
   },
   {
    "duration": 21,
    "start_time": "2023-12-09T19:13:51.558Z"
   },
   {
    "duration": 23,
    "start_time": "2023-12-09T19:22:00.809Z"
   },
   {
    "duration": 4,
    "start_time": "2023-12-09T19:22:02.308Z"
   },
   {
    "duration": 4,
    "start_time": "2023-12-09T19:22:03.179Z"
   },
   {
    "duration": 82,
    "start_time": "2023-12-09T19:22:04.407Z"
   },
   {
    "duration": 11,
    "start_time": "2023-12-09T19:22:08.033Z"
   },
   {
    "duration": 4,
    "start_time": "2023-12-09T19:22:08.895Z"
   },
   {
    "duration": 5,
    "start_time": "2023-12-09T19:22:09.454Z"
   },
   {
    "duration": 1098,
    "start_time": "2023-12-09T19:33:27.047Z"
   },
   {
    "duration": 135,
    "start_time": "2023-12-09T19:33:28.148Z"
   },
   {
    "duration": 25,
    "start_time": "2023-12-09T19:33:28.285Z"
   },
   {
    "duration": 3,
    "start_time": "2023-12-09T19:33:28.311Z"
   },
   {
    "duration": 11,
    "start_time": "2023-12-09T19:33:28.316Z"
   },
   {
    "duration": 22,
    "start_time": "2023-12-09T19:33:28.329Z"
   },
   {
    "duration": 16,
    "start_time": "2023-12-09T19:33:28.353Z"
   },
   {
    "duration": 27,
    "start_time": "2023-12-09T19:33:28.370Z"
   },
   {
    "duration": 40,
    "start_time": "2023-12-09T19:33:28.398Z"
   },
   {
    "duration": 14,
    "start_time": "2023-12-09T19:33:28.440Z"
   },
   {
    "duration": 14,
    "start_time": "2023-12-09T19:33:28.456Z"
   },
   {
    "duration": 10,
    "start_time": "2023-12-09T19:33:42.542Z"
   },
   {
    "duration": 135,
    "start_time": "2023-12-09T19:35:34.746Z"
   },
   {
    "duration": 11,
    "start_time": "2023-12-09T19:35:37.664Z"
   },
   {
    "duration": 5,
    "start_time": "2023-12-09T19:35:38.659Z"
   },
   {
    "duration": 4,
    "start_time": "2023-12-09T19:35:39.836Z"
   },
   {
    "duration": 82,
    "start_time": "2023-12-09T19:36:00.666Z"
   },
   {
    "duration": 1150,
    "start_time": "2023-12-09T19:36:21.703Z"
   },
   {
    "duration": 132,
    "start_time": "2023-12-09T19:36:22.855Z"
   },
   {
    "duration": 23,
    "start_time": "2023-12-09T19:36:22.989Z"
   },
   {
    "duration": 3,
    "start_time": "2023-12-09T19:36:23.013Z"
   },
   {
    "duration": 22,
    "start_time": "2023-12-09T19:36:23.018Z"
   },
   {
    "duration": 24,
    "start_time": "2023-12-09T19:36:23.042Z"
   },
   {
    "duration": 19,
    "start_time": "2023-12-09T19:36:23.068Z"
   },
   {
    "duration": 29,
    "start_time": "2023-12-09T19:36:23.089Z"
   },
   {
    "duration": 18,
    "start_time": "2023-12-09T19:36:23.120Z"
   },
   {
    "duration": 20,
    "start_time": "2023-12-09T19:36:23.142Z"
   },
   {
    "duration": 10,
    "start_time": "2023-12-09T19:36:27.864Z"
   },
   {
    "duration": 7,
    "start_time": "2023-12-09T19:36:28.433Z"
   },
   {
    "duration": 5,
    "start_time": "2023-12-09T19:36:34.062Z"
   },
   {
    "duration": 1000,
    "start_time": "2023-12-09T19:38:00.551Z"
   },
   {
    "duration": 10,
    "start_time": "2023-12-09T19:38:17.103Z"
   },
   {
    "duration": 866,
    "start_time": "2023-12-09T19:38:19.793Z"
   },
   {
    "duration": 833,
    "start_time": "2023-12-09T19:38:41.498Z"
   },
   {
    "duration": 6,
    "start_time": "2023-12-09T19:38:46.282Z"
   },
   {
    "duration": 15,
    "start_time": "2023-12-09T19:39:12.283Z"
   },
   {
    "duration": 6,
    "start_time": "2023-12-09T19:39:22.810Z"
   },
   {
    "duration": 4,
    "start_time": "2023-12-09T19:39:34.411Z"
   },
   {
    "duration": 6,
    "start_time": "2023-12-09T19:39:45.303Z"
   },
   {
    "duration": 5,
    "start_time": "2023-12-09T19:39:48.996Z"
   },
   {
    "duration": 5,
    "start_time": "2023-12-09T19:40:03.795Z"
   },
   {
    "duration": 8,
    "start_time": "2023-12-09T19:41:01.455Z"
   },
   {
    "duration": 5,
    "start_time": "2023-12-09T19:41:09.990Z"
   },
   {
    "duration": 9,
    "start_time": "2023-12-09T19:41:24.944Z"
   },
   {
    "duration": 4,
    "start_time": "2023-12-09T19:42:14.208Z"
   },
   {
    "duration": 13,
    "start_time": "2023-12-09T19:42:29.331Z"
   },
   {
    "duration": 5,
    "start_time": "2023-12-09T19:43:59.395Z"
   },
   {
    "duration": 8,
    "start_time": "2023-12-09T19:47:07.619Z"
   },
   {
    "duration": 4,
    "start_time": "2023-12-09T19:47:53.136Z"
   },
   {
    "duration": 105,
    "start_time": "2023-12-09T19:48:00.891Z"
   },
   {
    "duration": 71,
    "start_time": "2023-12-09T19:48:17.705Z"
   },
   {
    "duration": 4,
    "start_time": "2023-12-09T19:48:22.063Z"
   },
   {
    "duration": 5,
    "start_time": "2023-12-09T19:49:47.455Z"
   },
   {
    "duration": 68,
    "start_time": "2023-12-09T19:49:55.936Z"
   },
   {
    "duration": 83,
    "start_time": "2023-12-09T19:50:17.492Z"
   },
   {
    "duration": 106,
    "start_time": "2023-12-09T19:50:30.970Z"
   },
   {
    "duration": 10,
    "start_time": "2023-12-09T19:50:58.696Z"
   },
   {
    "duration": 1136,
    "start_time": "2023-12-09T19:51:13.885Z"
   },
   {
    "duration": 134,
    "start_time": "2023-12-09T19:51:15.023Z"
   },
   {
    "duration": 24,
    "start_time": "2023-12-09T19:51:15.159Z"
   },
   {
    "duration": 6,
    "start_time": "2023-12-09T19:51:15.185Z"
   },
   {
    "duration": 17,
    "start_time": "2023-12-09T19:51:15.193Z"
   },
   {
    "duration": 26,
    "start_time": "2023-12-09T19:51:15.212Z"
   },
   {
    "duration": 14,
    "start_time": "2023-12-09T19:51:15.240Z"
   },
   {
    "duration": 43,
    "start_time": "2023-12-09T19:51:15.256Z"
   },
   {
    "duration": 28,
    "start_time": "2023-12-09T19:51:15.301Z"
   },
   {
    "duration": 14,
    "start_time": "2023-12-09T19:51:15.332Z"
   },
   {
    "duration": 49,
    "start_time": "2023-12-09T19:51:15.348Z"
   },
   {
    "duration": 17,
    "start_time": "2023-12-09T19:51:15.398Z"
   },
   {
    "duration": 119,
    "start_time": "2023-12-09T19:51:15.417Z"
   },
   {
    "duration": 21,
    "start_time": "2023-12-09T19:51:15.537Z"
   },
   {
    "duration": 6,
    "start_time": "2023-12-09T19:51:15.560Z"
   },
   {
    "duration": 211,
    "start_time": "2023-12-09T19:51:15.567Z"
   },
   {
    "duration": 131,
    "start_time": "2023-12-09T19:51:15.780Z"
   },
   {
    "duration": 20,
    "start_time": "2023-12-09T19:51:15.912Z"
   },
   {
    "duration": 342,
    "start_time": "2023-12-09T19:51:15.934Z"
   },
   {
    "duration": 245,
    "start_time": "2023-12-09T19:51:16.277Z"
   },
   {
    "duration": 394,
    "start_time": "2023-12-09T19:51:16.524Z"
   },
   {
    "duration": 264,
    "start_time": "2023-12-09T19:51:16.921Z"
   },
   {
    "duration": 388,
    "start_time": "2023-12-09T19:51:17.187Z"
   },
   {
    "duration": 194,
    "start_time": "2023-12-09T19:51:17.577Z"
   },
   {
    "duration": 5,
    "start_time": "2023-12-09T19:51:17.772Z"
   },
   {
    "duration": 198,
    "start_time": "2023-12-09T19:51:17.779Z"
   },
   {
    "duration": 187,
    "start_time": "2023-12-09T19:51:17.979Z"
   },
   {
    "duration": 5,
    "start_time": "2023-12-09T19:51:18.169Z"
   },
   {
    "duration": 237,
    "start_time": "2023-12-09T19:51:18.175Z"
   },
   {
    "duration": 149,
    "start_time": "2023-12-09T19:51:18.413Z"
   },
   {
    "duration": 7,
    "start_time": "2023-12-09T19:51:18.563Z"
   },
   {
    "duration": 30,
    "start_time": "2023-12-09T19:51:18.571Z"
   },
   {
    "duration": 20,
    "start_time": "2023-12-09T19:51:18.603Z"
   },
   {
    "duration": 16,
    "start_time": "2023-12-09T19:51:18.625Z"
   },
   {
    "duration": 11,
    "start_time": "2023-12-09T19:51:18.643Z"
   },
   {
    "duration": 11,
    "start_time": "2023-12-09T19:51:18.655Z"
   },
   {
    "duration": 54,
    "start_time": "2023-12-09T19:51:18.668Z"
   },
   {
    "duration": 14,
    "start_time": "2023-12-09T19:51:18.724Z"
   },
   {
    "duration": 14,
    "start_time": "2023-12-09T19:52:05.813Z"
   },
   {
    "duration": 51,
    "start_time": "2023-12-28T14:17:31.477Z"
   },
   {
    "duration": 1110,
    "start_time": "2023-12-28T14:17:47.891Z"
   },
   {
    "duration": 233,
    "start_time": "2023-12-28T14:17:49.003Z"
   },
   {
    "duration": 33,
    "start_time": "2023-12-28T14:17:49.238Z"
   },
   {
    "duration": 4,
    "start_time": "2023-12-28T14:17:49.272Z"
   },
   {
    "duration": 13,
    "start_time": "2023-12-28T14:17:49.278Z"
   },
   {
    "duration": 11,
    "start_time": "2023-12-28T14:17:49.293Z"
   },
   {
    "duration": 15,
    "start_time": "2023-12-28T14:17:49.305Z"
   },
   {
    "duration": 32,
    "start_time": "2023-12-28T14:17:49.321Z"
   },
   {
    "duration": 32,
    "start_time": "2023-12-28T14:17:49.355Z"
   },
   {
    "duration": 13,
    "start_time": "2023-12-28T14:17:49.389Z"
   },
   {
    "duration": 12,
    "start_time": "2023-12-28T14:17:49.404Z"
   },
   {
    "duration": 5,
    "start_time": "2023-12-28T14:17:49.417Z"
   },
   {
    "duration": 137,
    "start_time": "2023-12-28T14:17:49.423Z"
   },
   {
    "duration": 26,
    "start_time": "2023-12-28T14:17:49.562Z"
   },
   {
    "duration": 5,
    "start_time": "2023-12-28T14:17:49.589Z"
   },
   {
    "duration": 189,
    "start_time": "2023-12-28T14:17:49.596Z"
   },
   {
    "duration": 143,
    "start_time": "2023-12-28T14:17:49.786Z"
   },
   {
    "duration": 12,
    "start_time": "2023-12-28T14:17:49.930Z"
   },
   {
    "duration": 334,
    "start_time": "2023-12-28T14:17:49.943Z"
   },
   {
    "duration": 1152,
    "start_time": "2023-12-28T14:17:50.279Z"
   },
   {
    "duration": 0,
    "start_time": "2023-12-28T14:17:51.432Z"
   },
   {
    "duration": 0,
    "start_time": "2023-12-28T14:17:51.433Z"
   },
   {
    "duration": 0,
    "start_time": "2023-12-28T14:17:51.434Z"
   },
   {
    "duration": 0,
    "start_time": "2023-12-28T14:17:51.435Z"
   },
   {
    "duration": 0,
    "start_time": "2023-12-28T14:17:51.436Z"
   },
   {
    "duration": 0,
    "start_time": "2023-12-28T14:17:51.437Z"
   },
   {
    "duration": 0,
    "start_time": "2023-12-28T14:17:51.438Z"
   },
   {
    "duration": 0,
    "start_time": "2023-12-28T14:17:51.439Z"
   },
   {
    "duration": 0,
    "start_time": "2023-12-28T14:17:51.440Z"
   },
   {
    "duration": 0,
    "start_time": "2023-12-28T14:17:51.441Z"
   },
   {
    "duration": 0,
    "start_time": "2023-12-28T14:17:51.442Z"
   },
   {
    "duration": 0,
    "start_time": "2023-12-28T14:17:51.443Z"
   },
   {
    "duration": 0,
    "start_time": "2023-12-28T14:17:51.444Z"
   },
   {
    "duration": 0,
    "start_time": "2023-12-28T14:17:51.445Z"
   },
   {
    "duration": 0,
    "start_time": "2023-12-28T14:17:51.445Z"
   },
   {
    "duration": 0,
    "start_time": "2023-12-28T14:17:51.446Z"
   },
   {
    "duration": 0,
    "start_time": "2023-12-28T14:17:51.447Z"
   },
   {
    "duration": 0,
    "start_time": "2023-12-28T14:17:51.448Z"
   },
   {
    "duration": 231,
    "start_time": "2023-12-28T14:18:16.717Z"
   },
   {
    "duration": 226,
    "start_time": "2023-12-28T14:19:16.697Z"
   },
   {
    "duration": 244,
    "start_time": "2023-12-28T14:20:01.496Z"
   },
   {
    "duration": 227,
    "start_time": "2023-12-28T14:20:06.799Z"
   },
   {
    "duration": 243,
    "start_time": "2023-12-28T14:20:36.849Z"
   },
   {
    "duration": 229,
    "start_time": "2023-12-28T14:20:46.648Z"
   },
   {
    "duration": 1296,
    "start_time": "2024-04-07T20:08:34.956Z"
   },
   {
    "duration": 280,
    "start_time": "2024-04-07T20:08:36.255Z"
   },
   {
    "duration": 23,
    "start_time": "2024-04-07T20:08:36.537Z"
   },
   {
    "duration": 3,
    "start_time": "2024-04-07T20:08:36.562Z"
   },
   {
    "duration": 11,
    "start_time": "2024-04-07T20:08:36.566Z"
   },
   {
    "duration": 10,
    "start_time": "2024-04-07T20:08:36.579Z"
   },
   {
    "duration": 13,
    "start_time": "2024-04-07T20:08:36.590Z"
   },
   {
    "duration": 26,
    "start_time": "2024-04-07T20:08:36.605Z"
   },
   {
    "duration": 12,
    "start_time": "2024-04-07T20:08:36.633Z"
   },
   {
    "duration": 13,
    "start_time": "2024-04-07T20:08:36.648Z"
   },
   {
    "duration": 38,
    "start_time": "2024-04-07T20:08:36.662Z"
   },
   {
    "duration": 5,
    "start_time": "2024-04-07T20:08:36.701Z"
   },
   {
    "duration": 130,
    "start_time": "2024-04-07T20:08:36.707Z"
   },
   {
    "duration": 20,
    "start_time": "2024-04-07T20:08:36.839Z"
   },
   {
    "duration": 6,
    "start_time": "2024-04-07T20:08:36.860Z"
   },
   {
    "duration": 196,
    "start_time": "2024-04-07T20:08:36.867Z"
   },
   {
    "duration": 148,
    "start_time": "2024-04-07T20:08:37.065Z"
   },
   {
    "duration": 12,
    "start_time": "2024-04-07T20:08:37.215Z"
   },
   {
    "duration": 331,
    "start_time": "2024-04-07T20:08:37.228Z"
   },
   {
    "duration": 291,
    "start_time": "2024-04-07T20:08:37.561Z"
   },
   {
    "duration": 427,
    "start_time": "2024-04-07T20:08:37.854Z"
   },
   {
    "duration": 262,
    "start_time": "2024-04-07T20:08:38.282Z"
   },
   {
    "duration": 347,
    "start_time": "2024-04-07T20:08:38.545Z"
   },
   {
    "duration": 195,
    "start_time": "2024-04-07T20:08:38.893Z"
   },
   {
    "duration": 5,
    "start_time": "2024-04-07T20:08:39.090Z"
   },
   {
    "duration": 187,
    "start_time": "2024-04-07T20:08:39.097Z"
   },
   {
    "duration": 175,
    "start_time": "2024-04-07T20:08:39.291Z"
   },
   {
    "duration": 4,
    "start_time": "2024-04-07T20:08:39.470Z"
   },
   {
    "duration": 223,
    "start_time": "2024-04-07T20:08:39.491Z"
   },
   {
    "duration": 170,
    "start_time": "2024-04-07T20:08:39.716Z"
   },
   {
    "duration": 7,
    "start_time": "2024-04-07T20:08:39.888Z"
   },
   {
    "duration": 31,
    "start_time": "2024-04-07T20:08:39.897Z"
   },
   {
    "duration": 4,
    "start_time": "2024-04-07T20:08:39.930Z"
   },
   {
    "duration": 15,
    "start_time": "2024-04-07T20:08:39.936Z"
   },
   {
    "duration": 16,
    "start_time": "2024-04-07T20:08:39.953Z"
   },
   {
    "duration": 10,
    "start_time": "2024-04-07T20:08:39.991Z"
   },
   {
    "duration": 48,
    "start_time": "2024-04-07T20:08:40.003Z"
   },
   {
    "duration": 17,
    "start_time": "2024-04-07T20:08:40.052Z"
   }
  ],
  "kernelspec": {
   "display_name": "Python 3 (ipykernel)",
   "language": "python",
   "name": "python3"
  },
  "language_info": {
   "codemirror_mode": {
    "name": "ipython",
    "version": 3
   },
   "file_extension": ".py",
   "mimetype": "text/x-python",
   "name": "python",
   "nbconvert_exporter": "python",
   "pygments_lexer": "ipython3",
   "version": "3.9.12"
  },
  "toc": {
   "base_numbering": 1,
   "nav_menu": {
    "height": "67.9896px",
    "width": "187.99px"
   },
   "number_sections": true,
   "sideBar": true,
   "skip_h1_title": true,
   "title_cell": "Table of Contents",
   "title_sidebar": "Contents",
   "toc_cell": false,
   "toc_position": {
    "height": "calc(100% - 180px)",
    "left": "10px",
    "top": "150px",
    "width": "276.24px"
   },
   "toc_section_display": true,
   "toc_window_display": true
  },
  "varInspector": {
   "cols": {
    "lenName": 16,
    "lenType": 16,
    "lenVar": 40
   },
   "kernels_config": {
    "python": {
     "delete_cmd_postfix": "",
     "delete_cmd_prefix": "del ",
     "library": "var_list.py",
     "varRefreshCmd": "print(var_dic_list())"
    },
    "r": {
     "delete_cmd_postfix": ") ",
     "delete_cmd_prefix": "rm(",
     "library": "var_list.r",
     "varRefreshCmd": "cat(var_dic_list()) "
    }
   },
   "types_to_exclude": [
    "module",
    "function",
    "builtin_function_or_method",
    "instance",
    "_Feature"
   ],
   "window_display": false
  }
 },
 "nbformat": 4,
 "nbformat_minor": 2
}
