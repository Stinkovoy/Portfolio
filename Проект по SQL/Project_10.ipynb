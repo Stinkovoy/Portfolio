{
 "cells": [
  {
   "cell_type": "markdown",
   "metadata": {},
   "source": [
    "# Проект по SQL"
   ]
  },
  {
   "cell_type": "markdown",
   "metadata": {},
   "source": [
    "**Задания**  \n",
    "- Посчитать, сколько книг вышло после 1 января 2000 года;  \n",
    "- Для каждой книги посчитать количество обзоров и среднюю оценку;  \n",
    "- Определить издательство, которое выпустило наибольшее число книг толще 50 страниц — так мы исключим из анализа брошюры;  \n",
    "- Определить автора с самой высокой средней оценкой книг — учитывать только книги с 50 и более оценками;  \n",
    "- Посчитать среднее количество обзоров от пользователей, которые поставили больше 48 оценок."
   ]
  },
  {
   "cell_type": "markdown",
   "metadata": {},
   "source": [
    "## Ознакомление с данными"
   ]
  },
  {
   "cell_type": "markdown",
   "metadata": {},
   "source": [
    "### Выведем books"
   ]
  },
  {
   "cell_type": "code",
   "execution_count": 3,
   "metadata": {},
   "outputs": [
    {
     "data": {
      "text/html": [
       "<div>\n",
       "<style scoped>\n",
       "    .dataframe tbody tr th:only-of-type {\n",
       "        vertical-align: middle;\n",
       "    }\n",
       "\n",
       "    .dataframe tbody tr th {\n",
       "        vertical-align: top;\n",
       "    }\n",
       "\n",
       "    .dataframe thead th {\n",
       "        text-align: right;\n",
       "    }\n",
       "</style>\n",
       "<table border=\"1\" class=\"dataframe\">\n",
       "  <thead>\n",
       "    <tr style=\"text-align: right;\">\n",
       "      <th></th>\n",
       "      <th>book_id</th>\n",
       "      <th>author_id</th>\n",
       "      <th>title</th>\n",
       "      <th>num_pages</th>\n",
       "      <th>publication_date</th>\n",
       "      <th>publisher_id</th>\n",
       "    </tr>\n",
       "  </thead>\n",
       "  <tbody>\n",
       "    <tr>\n",
       "      <th>0</th>\n",
       "      <td>1</td>\n",
       "      <td>546</td>\n",
       "      <td>'Salem's Lot</td>\n",
       "      <td>594</td>\n",
       "      <td>2005-11-01</td>\n",
       "      <td>93</td>\n",
       "    </tr>\n",
       "    <tr>\n",
       "      <th>1</th>\n",
       "      <td>2</td>\n",
       "      <td>465</td>\n",
       "      <td>1 000 Places to See Before You Die</td>\n",
       "      <td>992</td>\n",
       "      <td>2003-05-22</td>\n",
       "      <td>336</td>\n",
       "    </tr>\n",
       "    <tr>\n",
       "      <th>2</th>\n",
       "      <td>3</td>\n",
       "      <td>407</td>\n",
       "      <td>13 Little Blue Envelopes (Little Blue Envelope...</td>\n",
       "      <td>322</td>\n",
       "      <td>2010-12-21</td>\n",
       "      <td>135</td>\n",
       "    </tr>\n",
       "    <tr>\n",
       "      <th>3</th>\n",
       "      <td>4</td>\n",
       "      <td>82</td>\n",
       "      <td>1491: New Revelations of the Americas Before C...</td>\n",
       "      <td>541</td>\n",
       "      <td>2006-10-10</td>\n",
       "      <td>309</td>\n",
       "    </tr>\n",
       "    <tr>\n",
       "      <th>4</th>\n",
       "      <td>5</td>\n",
       "      <td>125</td>\n",
       "      <td>1776</td>\n",
       "      <td>386</td>\n",
       "      <td>2006-07-04</td>\n",
       "      <td>268</td>\n",
       "    </tr>\n",
       "  </tbody>\n",
       "</table>\n",
       "</div>"
      ],
      "text/plain": [
       "   book_id  author_id                                              title  \\\n",
       "0        1        546                                       'Salem's Lot   \n",
       "1        2        465                 1 000 Places to See Before You Die   \n",
       "2        3        407  13 Little Blue Envelopes (Little Blue Envelope...   \n",
       "3        4         82  1491: New Revelations of the Americas Before C...   \n",
       "4        5        125                                               1776   \n",
       "\n",
       "   num_pages publication_date  publisher_id  \n",
       "0        594       2005-11-01            93  \n",
       "1        992       2003-05-22           336  \n",
       "2        322       2010-12-21           135  \n",
       "3        541       2006-10-10           309  \n",
       "4        386       2006-07-04           268  "
      ]
     },
     "execution_count": 3,
     "metadata": {},
     "output_type": "execute_result"
    }
   ],
   "source": [
    "query = '''SELECT * FROM books LIMIT 5'''\n",
    "books = pd.io.sql.read_sql(sql=text(query), con = con)\n",
    "books"
   ]
  },
  {
   "cell_type": "markdown",
   "metadata": {},
   "source": [
    "### Выведем authors"
   ]
  },
  {
   "cell_type": "code",
   "execution_count": 4,
   "metadata": {},
   "outputs": [
    {
     "data": {
      "text/html": [
       "<div>\n",
       "<style scoped>\n",
       "    .dataframe tbody tr th:only-of-type {\n",
       "        vertical-align: middle;\n",
       "    }\n",
       "\n",
       "    .dataframe tbody tr th {\n",
       "        vertical-align: top;\n",
       "    }\n",
       "\n",
       "    .dataframe thead th {\n",
       "        text-align: right;\n",
       "    }\n",
       "</style>\n",
       "<table border=\"1\" class=\"dataframe\">\n",
       "  <thead>\n",
       "    <tr style=\"text-align: right;\">\n",
       "      <th></th>\n",
       "      <th>author_id</th>\n",
       "      <th>author</th>\n",
       "    </tr>\n",
       "  </thead>\n",
       "  <tbody>\n",
       "    <tr>\n",
       "      <th>0</th>\n",
       "      <td>1</td>\n",
       "      <td>A.S. Byatt</td>\n",
       "    </tr>\n",
       "    <tr>\n",
       "      <th>1</th>\n",
       "      <td>2</td>\n",
       "      <td>Aesop/Laura Harris/Laura Gibbs</td>\n",
       "    </tr>\n",
       "    <tr>\n",
       "      <th>2</th>\n",
       "      <td>3</td>\n",
       "      <td>Agatha Christie</td>\n",
       "    </tr>\n",
       "    <tr>\n",
       "      <th>3</th>\n",
       "      <td>4</td>\n",
       "      <td>Alan Brennert</td>\n",
       "    </tr>\n",
       "    <tr>\n",
       "      <th>4</th>\n",
       "      <td>5</td>\n",
       "      <td>Alan Moore/David   Lloyd</td>\n",
       "    </tr>\n",
       "  </tbody>\n",
       "</table>\n",
       "</div>"
      ],
      "text/plain": [
       "   author_id                          author\n",
       "0          1                      A.S. Byatt\n",
       "1          2  Aesop/Laura Harris/Laura Gibbs\n",
       "2          3                 Agatha Christie\n",
       "3          4                   Alan Brennert\n",
       "4          5        Alan Moore/David   Lloyd"
      ]
     },
     "execution_count": 4,
     "metadata": {},
     "output_type": "execute_result"
    }
   ],
   "source": [
    "query = '''SELECT * FROM authors LIMIT 5'''\n",
    "authors = pd.io.sql.read_sql(sql=text(query), con = con)\n",
    "authors"
   ]
  },
  {
   "cell_type": "markdown",
   "metadata": {},
   "source": [
    "### Выведем ratings"
   ]
  },
  {
   "cell_type": "code",
   "execution_count": 5,
   "metadata": {},
   "outputs": [
    {
     "data": {
      "text/html": [
       "<div>\n",
       "<style scoped>\n",
       "    .dataframe tbody tr th:only-of-type {\n",
       "        vertical-align: middle;\n",
       "    }\n",
       "\n",
       "    .dataframe tbody tr th {\n",
       "        vertical-align: top;\n",
       "    }\n",
       "\n",
       "    .dataframe thead th {\n",
       "        text-align: right;\n",
       "    }\n",
       "</style>\n",
       "<table border=\"1\" class=\"dataframe\">\n",
       "  <thead>\n",
       "    <tr style=\"text-align: right;\">\n",
       "      <th></th>\n",
       "      <th>rating_id</th>\n",
       "      <th>book_id</th>\n",
       "      <th>username</th>\n",
       "      <th>rating</th>\n",
       "    </tr>\n",
       "  </thead>\n",
       "  <tbody>\n",
       "    <tr>\n",
       "      <th>0</th>\n",
       "      <td>1</td>\n",
       "      <td>1</td>\n",
       "      <td>ryanfranco</td>\n",
       "      <td>4</td>\n",
       "    </tr>\n",
       "    <tr>\n",
       "      <th>1</th>\n",
       "      <td>2</td>\n",
       "      <td>1</td>\n",
       "      <td>grantpatricia</td>\n",
       "      <td>2</td>\n",
       "    </tr>\n",
       "    <tr>\n",
       "      <th>2</th>\n",
       "      <td>3</td>\n",
       "      <td>1</td>\n",
       "      <td>brandtandrea</td>\n",
       "      <td>5</td>\n",
       "    </tr>\n",
       "    <tr>\n",
       "      <th>3</th>\n",
       "      <td>4</td>\n",
       "      <td>2</td>\n",
       "      <td>lorichen</td>\n",
       "      <td>3</td>\n",
       "    </tr>\n",
       "    <tr>\n",
       "      <th>4</th>\n",
       "      <td>5</td>\n",
       "      <td>2</td>\n",
       "      <td>mariokeller</td>\n",
       "      <td>2</td>\n",
       "    </tr>\n",
       "  </tbody>\n",
       "</table>\n",
       "</div>"
      ],
      "text/plain": [
       "   rating_id  book_id       username  rating\n",
       "0          1        1     ryanfranco       4\n",
       "1          2        1  grantpatricia       2\n",
       "2          3        1   brandtandrea       5\n",
       "3          4        2       lorichen       3\n",
       "4          5        2    mariokeller       2"
      ]
     },
     "execution_count": 5,
     "metadata": {},
     "output_type": "execute_result"
    }
   ],
   "source": [
    "query = '''SELECT * FROM ratings LIMIT 5'''\n",
    "ratings = pd.io.sql.read_sql(sql=text(query), con = con)\n",
    "ratings"
   ]
  },
  {
   "cell_type": "markdown",
   "metadata": {},
   "source": [
    "### Выведем reviews"
   ]
  },
  {
   "cell_type": "code",
   "execution_count": 6,
   "metadata": {},
   "outputs": [
    {
     "data": {
      "text/html": [
       "<div>\n",
       "<style scoped>\n",
       "    .dataframe tbody tr th:only-of-type {\n",
       "        vertical-align: middle;\n",
       "    }\n",
       "\n",
       "    .dataframe tbody tr th {\n",
       "        vertical-align: top;\n",
       "    }\n",
       "\n",
       "    .dataframe thead th {\n",
       "        text-align: right;\n",
       "    }\n",
       "</style>\n",
       "<table border=\"1\" class=\"dataframe\">\n",
       "  <thead>\n",
       "    <tr style=\"text-align: right;\">\n",
       "      <th></th>\n",
       "      <th>review_id</th>\n",
       "      <th>book_id</th>\n",
       "      <th>username</th>\n",
       "      <th>text</th>\n",
       "    </tr>\n",
       "  </thead>\n",
       "  <tbody>\n",
       "    <tr>\n",
       "      <th>0</th>\n",
       "      <td>1</td>\n",
       "      <td>1</td>\n",
       "      <td>brandtandrea</td>\n",
       "      <td>Mention society tell send professor analysis. ...</td>\n",
       "    </tr>\n",
       "    <tr>\n",
       "      <th>1</th>\n",
       "      <td>2</td>\n",
       "      <td>1</td>\n",
       "      <td>ryanfranco</td>\n",
       "      <td>Foot glass pretty audience hit themselves. Amo...</td>\n",
       "    </tr>\n",
       "    <tr>\n",
       "      <th>2</th>\n",
       "      <td>3</td>\n",
       "      <td>2</td>\n",
       "      <td>lorichen</td>\n",
       "      <td>Listen treat keep worry. Miss husband tax but ...</td>\n",
       "    </tr>\n",
       "    <tr>\n",
       "      <th>3</th>\n",
       "      <td>4</td>\n",
       "      <td>3</td>\n",
       "      <td>johnsonamanda</td>\n",
       "      <td>Finally month interesting blue could nature cu...</td>\n",
       "    </tr>\n",
       "    <tr>\n",
       "      <th>4</th>\n",
       "      <td>5</td>\n",
       "      <td>3</td>\n",
       "      <td>scotttamara</td>\n",
       "      <td>Nation purpose heavy give wait song will. List...</td>\n",
       "    </tr>\n",
       "  </tbody>\n",
       "</table>\n",
       "</div>"
      ],
      "text/plain": [
       "   review_id  book_id       username  \\\n",
       "0          1        1   brandtandrea   \n",
       "1          2        1     ryanfranco   \n",
       "2          3        2       lorichen   \n",
       "3          4        3  johnsonamanda   \n",
       "4          5        3    scotttamara   \n",
       "\n",
       "                                                text  \n",
       "0  Mention society tell send professor analysis. ...  \n",
       "1  Foot glass pretty audience hit themselves. Amo...  \n",
       "2  Listen treat keep worry. Miss husband tax but ...  \n",
       "3  Finally month interesting blue could nature cu...  \n",
       "4  Nation purpose heavy give wait song will. List...  "
      ]
     },
     "execution_count": 6,
     "metadata": {},
     "output_type": "execute_result"
    }
   ],
   "source": [
    "query = '''SELECT * FROM reviews LIMIT 5'''\n",
    "reviews = pd.io.sql.read_sql(sql=text(query), con = con)\n",
    "reviews"
   ]
  },
  {
   "cell_type": "markdown",
   "metadata": {},
   "source": [
    "### Выведем publishers"
   ]
  },
  {
   "cell_type": "code",
   "execution_count": 7,
   "metadata": {},
   "outputs": [
    {
     "data": {
      "text/html": [
       "<div>\n",
       "<style scoped>\n",
       "    .dataframe tbody tr th:only-of-type {\n",
       "        vertical-align: middle;\n",
       "    }\n",
       "\n",
       "    .dataframe tbody tr th {\n",
       "        vertical-align: top;\n",
       "    }\n",
       "\n",
       "    .dataframe thead th {\n",
       "        text-align: right;\n",
       "    }\n",
       "</style>\n",
       "<table border=\"1\" class=\"dataframe\">\n",
       "  <thead>\n",
       "    <tr style=\"text-align: right;\">\n",
       "      <th></th>\n",
       "      <th>publisher_id</th>\n",
       "      <th>publisher</th>\n",
       "    </tr>\n",
       "  </thead>\n",
       "  <tbody>\n",
       "    <tr>\n",
       "      <th>0</th>\n",
       "      <td>1</td>\n",
       "      <td>Ace</td>\n",
       "    </tr>\n",
       "    <tr>\n",
       "      <th>1</th>\n",
       "      <td>2</td>\n",
       "      <td>Ace Book</td>\n",
       "    </tr>\n",
       "    <tr>\n",
       "      <th>2</th>\n",
       "      <td>3</td>\n",
       "      <td>Ace Books</td>\n",
       "    </tr>\n",
       "    <tr>\n",
       "      <th>3</th>\n",
       "      <td>4</td>\n",
       "      <td>Ace Hardcover</td>\n",
       "    </tr>\n",
       "    <tr>\n",
       "      <th>4</th>\n",
       "      <td>5</td>\n",
       "      <td>Addison Wesley Publishing Company</td>\n",
       "    </tr>\n",
       "  </tbody>\n",
       "</table>\n",
       "</div>"
      ],
      "text/plain": [
       "   publisher_id                          publisher\n",
       "0             1                                Ace\n",
       "1             2                           Ace Book\n",
       "2             3                          Ace Books\n",
       "3             4                      Ace Hardcover\n",
       "4             5  Addison Wesley Publishing Company"
      ]
     },
     "execution_count": 7,
     "metadata": {},
     "output_type": "execute_result"
    }
   ],
   "source": [
    "query = '''SELECT * FROM publishers LIMIT 5'''\n",
    "publishers = pd.io.sql.read_sql(sql=text(query), con = con)\n",
    "publishers"
   ]
  },
  {
   "cell_type": "markdown",
   "metadata": {},
   "source": [
    "## Выполнение заданий"
   ]
  },
  {
   "cell_type": "markdown",
   "metadata": {},
   "source": [
    "Создадим функцию для выполнения запросов"
   ]
  },
  {
   "cell_type": "code",
   "execution_count": 8,
   "metadata": {},
   "outputs": [],
   "source": [
    "def sql_query(query):\n",
    "    data = pd.io.sql.read_sql(sql=text(query), con = con)\n",
    "    return data"
   ]
  },
  {
   "cell_type": "markdown",
   "metadata": {},
   "source": [
    "### Задача № 1"
   ]
  },
  {
   "cell_type": "markdown",
   "metadata": {},
   "source": [
    "Необходимо посчитать сколько книг вышло после 1 января 2000 года"
   ]
  },
  {
   "cell_type": "code",
   "execution_count": 9,
   "metadata": {},
   "outputs": [
    {
     "data": {
      "text/html": [
       "<div>\n",
       "<style scoped>\n",
       "    .dataframe tbody tr th:only-of-type {\n",
       "        vertical-align: middle;\n",
       "    }\n",
       "\n",
       "    .dataframe tbody tr th {\n",
       "        vertical-align: top;\n",
       "    }\n",
       "\n",
       "    .dataframe thead th {\n",
       "        text-align: right;\n",
       "    }\n",
       "</style>\n",
       "<table border=\"1\" class=\"dataframe\">\n",
       "  <thead>\n",
       "    <tr style=\"text-align: right;\">\n",
       "      <th></th>\n",
       "      <th>count</th>\n",
       "    </tr>\n",
       "  </thead>\n",
       "  <tbody>\n",
       "    <tr>\n",
       "      <th>0</th>\n",
       "      <td>819</td>\n",
       "    </tr>\n",
       "  </tbody>\n",
       "</table>\n",
       "</div>"
      ],
      "text/plain": [
       "   count\n",
       "0    819"
      ]
     },
     "execution_count": 9,
     "metadata": {},
     "output_type": "execute_result"
    }
   ],
   "source": [
    "query = '''\n",
    "SELECT COUNT(DISTINCT book_id)\n",
    "FROM books\n",
    "WHERE publication_date > '2000-01-01'\n",
    "'''\n",
    "books_count = sql_query(query)\n",
    "books_count"
   ]
  },
  {
   "cell_type": "markdown",
   "metadata": {},
   "source": [
    "После 1 января 2000 года вышло 819 книг."
   ]
  },
  {
   "cell_type": "markdown",
   "metadata": {},
   "source": [
    "### Задача № 2"
   ]
  },
  {
   "cell_type": "markdown",
   "metadata": {},
   "source": [
    "Необходимо посчитать для каждой книги количество обзоров и среднюю оценку"
   ]
  },
  {
   "cell_type": "code",
   "execution_count": 10,
   "metadata": {},
   "outputs": [
    {
     "data": {
      "text/html": [
       "<div>\n",
       "<style scoped>\n",
       "    .dataframe tbody tr th:only-of-type {\n",
       "        vertical-align: middle;\n",
       "    }\n",
       "\n",
       "    .dataframe tbody tr th {\n",
       "        vertical-align: top;\n",
       "    }\n",
       "\n",
       "    .dataframe thead th {\n",
       "        text-align: right;\n",
       "    }\n",
       "</style>\n",
       "<table border=\"1\" class=\"dataframe\">\n",
       "  <thead>\n",
       "    <tr style=\"text-align: right;\">\n",
       "      <th></th>\n",
       "      <th>book_id</th>\n",
       "      <th>book_title</th>\n",
       "      <th>rating</th>\n",
       "      <th>cnt_review</th>\n",
       "    </tr>\n",
       "  </thead>\n",
       "  <tbody>\n",
       "    <tr>\n",
       "      <th>0</th>\n",
       "      <td>948</td>\n",
       "      <td>Twilight (Twilight  #1)</td>\n",
       "      <td>3.7</td>\n",
       "      <td>7</td>\n",
       "    </tr>\n",
       "    <tr>\n",
       "      <th>1</th>\n",
       "      <td>302</td>\n",
       "      <td>Harry Potter and the Prisoner of Azkaban (Harr...</td>\n",
       "      <td>4.4</td>\n",
       "      <td>6</td>\n",
       "    </tr>\n",
       "    <tr>\n",
       "      <th>2</th>\n",
       "      <td>656</td>\n",
       "      <td>The Book Thief</td>\n",
       "      <td>4.3</td>\n",
       "      <td>6</td>\n",
       "    </tr>\n",
       "    <tr>\n",
       "      <th>3</th>\n",
       "      <td>299</td>\n",
       "      <td>Harry Potter and the Chamber of Secrets (Harry...</td>\n",
       "      <td>4.3</td>\n",
       "      <td>6</td>\n",
       "    </tr>\n",
       "    <tr>\n",
       "      <th>4</th>\n",
       "      <td>734</td>\n",
       "      <td>The Glass Castle</td>\n",
       "      <td>4.2</td>\n",
       "      <td>6</td>\n",
       "    </tr>\n",
       "    <tr>\n",
       "      <th>...</th>\n",
       "      <td>...</td>\n",
       "      <td>...</td>\n",
       "      <td>...</td>\n",
       "      <td>...</td>\n",
       "    </tr>\n",
       "    <tr>\n",
       "      <th>995</th>\n",
       "      <td>191</td>\n",
       "      <td>Disney's Beauty and the Beast (A Little Golden...</td>\n",
       "      <td>4.0</td>\n",
       "      <td>0</td>\n",
       "    </tr>\n",
       "    <tr>\n",
       "      <th>996</th>\n",
       "      <td>387</td>\n",
       "      <td>Leonardo's Notebooks</td>\n",
       "      <td>4.0</td>\n",
       "      <td>0</td>\n",
       "    </tr>\n",
       "    <tr>\n",
       "      <th>997</th>\n",
       "      <td>221</td>\n",
       "      <td>Essential Tales and Poems</td>\n",
       "      <td>4.0</td>\n",
       "      <td>0</td>\n",
       "    </tr>\n",
       "    <tr>\n",
       "      <th>998</th>\n",
       "      <td>83</td>\n",
       "      <td>Anne Rice's The Vampire Lestat: A Graphic Novel</td>\n",
       "      <td>3.7</td>\n",
       "      <td>0</td>\n",
       "    </tr>\n",
       "    <tr>\n",
       "      <th>999</th>\n",
       "      <td>808</td>\n",
       "      <td>The Natural Way to Draw</td>\n",
       "      <td>3.0</td>\n",
       "      <td>0</td>\n",
       "    </tr>\n",
       "  </tbody>\n",
       "</table>\n",
       "<p>1000 rows × 4 columns</p>\n",
       "</div>"
      ],
      "text/plain": [
       "     book_id                                         book_title  rating  \\\n",
       "0        948                            Twilight (Twilight  #1)     3.7   \n",
       "1        302  Harry Potter and the Prisoner of Azkaban (Harr...     4.4   \n",
       "2        656                                     The Book Thief     4.3   \n",
       "3        299  Harry Potter and the Chamber of Secrets (Harry...     4.3   \n",
       "4        734                                   The Glass Castle     4.2   \n",
       "..       ...                                                ...     ...   \n",
       "995      191  Disney's Beauty and the Beast (A Little Golden...     4.0   \n",
       "996      387                               Leonardo's Notebooks     4.0   \n",
       "997      221                          Essential Tales and Poems     4.0   \n",
       "998       83    Anne Rice's The Vampire Lestat: A Graphic Novel     3.7   \n",
       "999      808                            The Natural Way to Draw     3.0   \n",
       "\n",
       "     cnt_review  \n",
       "0             7  \n",
       "1             6  \n",
       "2             6  \n",
       "3             6  \n",
       "4             6  \n",
       "..          ...  \n",
       "995           0  \n",
       "996           0  \n",
       "997           0  \n",
       "998           0  \n",
       "999           0  \n",
       "\n",
       "[1000 rows x 4 columns]"
      ]
     },
     "execution_count": 10,
     "metadata": {},
     "output_type": "execute_result"
    }
   ],
   "source": [
    "query = '''\n",
    "SELECT b.book_id AS book_id,\n",
    "       b.title AS book_title,\n",
    "       ROUND(AVG(rt.rating), 1) AS rating,\n",
    "       COUNT(DISTINCT rw.review_id) AS cnt_review\n",
    "FROM books AS b\n",
    "LEFT JOIN ratings AS rt ON b.book_id = rt.book_id\n",
    "LEFT JOIN reviews AS rw ON rt.book_id = rw.book_id\n",
    "GROUP BY b.book_id\n",
    "ORDER BY cnt_review DESC, rating DESC\n",
    "'''\n",
    "count_avg_books = sql_query(query)\n",
    "count_avg_books"
   ]
  },
  {
   "cell_type": "markdown",
   "metadata": {},
   "source": [
    "Книга Twilight (Twilight #1) имеет больше всего обзоров (7) и рейтинг 3.7"
   ]
  },
  {
   "cell_type": "markdown",
   "metadata": {},
   "source": [
    "### Задача № 3"
   ]
  },
  {
   "cell_type": "markdown",
   "metadata": {},
   "source": [
    "Необходимо определить издательство, которое выпустило наибольшее число книг толще 50 страниц"
   ]
  },
  {
   "cell_type": "code",
   "execution_count": 11,
   "metadata": {},
   "outputs": [
    {
     "data": {
      "text/html": [
       "<div>\n",
       "<style scoped>\n",
       "    .dataframe tbody tr th:only-of-type {\n",
       "        vertical-align: middle;\n",
       "    }\n",
       "\n",
       "    .dataframe tbody tr th {\n",
       "        vertical-align: top;\n",
       "    }\n",
       "\n",
       "    .dataframe thead th {\n",
       "        text-align: right;\n",
       "    }\n",
       "</style>\n",
       "<table border=\"1\" class=\"dataframe\">\n",
       "  <thead>\n",
       "    <tr style=\"text-align: right;\">\n",
       "      <th></th>\n",
       "      <th>publisher</th>\n",
       "      <th>cnt_books</th>\n",
       "    </tr>\n",
       "  </thead>\n",
       "  <tbody>\n",
       "    <tr>\n",
       "      <th>0</th>\n",
       "      <td>Penguin Books</td>\n",
       "      <td>42</td>\n",
       "    </tr>\n",
       "  </tbody>\n",
       "</table>\n",
       "</div>"
      ],
      "text/plain": [
       "       publisher  cnt_books\n",
       "0  Penguin Books         42"
      ]
     },
     "execution_count": 11,
     "metadata": {},
     "output_type": "execute_result"
    }
   ],
   "source": [
    "query = '''\n",
    "SELECT p.publisher AS publisher,\n",
    "       COUNT(b.book_id) AS cnt_books\n",
    "FROM books AS b\n",
    "JOIN publishers AS p ON b.publisher_id = p.publisher_id\n",
    "WHERE b.num_pages > 50\n",
    "GROUP BY publisher\n",
    "ORDER BY cnt_books DESC\n",
    "LIMIT 1\n",
    "'''\n",
    "publisher_top1 = sql_query(query)\n",
    "publisher_top1"
   ]
  },
  {
   "cell_type": "markdown",
   "metadata": {},
   "source": [
    "Издательство 'Penguin Books' выпустило наибольшее количество книг толще 50 страниц - 42 шт."
   ]
  },
  {
   "cell_type": "markdown",
   "metadata": {},
   "source": [
    "### Задача № 4"
   ]
  },
  {
   "cell_type": "markdown",
   "metadata": {},
   "source": [
    "Необходимо определить автора с самой высокой средней оценкой книг. Учитываются только книги с 50 и более оценками"
   ]
  },
  {
   "cell_type": "code",
   "execution_count": 39,
   "metadata": {},
   "outputs": [
    {
     "data": {
      "text/html": [
       "<div>\n",
       "<style scoped>\n",
       "    .dataframe tbody tr th:only-of-type {\n",
       "        vertical-align: middle;\n",
       "    }\n",
       "\n",
       "    .dataframe tbody tr th {\n",
       "        vertical-align: top;\n",
       "    }\n",
       "\n",
       "    .dataframe thead th {\n",
       "        text-align: right;\n",
       "    }\n",
       "</style>\n",
       "<table border=\"1\" class=\"dataframe\">\n",
       "  <thead>\n",
       "    <tr style=\"text-align: right;\">\n",
       "      <th></th>\n",
       "      <th>author</th>\n",
       "      <th>rating</th>\n",
       "      <th>cnt_rating</th>\n",
       "    </tr>\n",
       "  </thead>\n",
       "  <tbody>\n",
       "    <tr>\n",
       "      <th>0</th>\n",
       "      <td>J.K. Rowling/Mary GrandPré</td>\n",
       "      <td>4.29</td>\n",
       "      <td>310</td>\n",
       "    </tr>\n",
       "  </tbody>\n",
       "</table>\n",
       "</div>"
      ],
      "text/plain": [
       "                       author  rating  cnt_rating\n",
       "0  J.K. Rowling/Mary GrandPré    4.29         310"
      ]
     },
     "execution_count": 39,
     "metadata": {},
     "output_type": "execute_result"
    }
   ],
   "source": [
    "query = '''\n",
    "SELECT a.author AS author,\n",
    "       ROUND(AVG(r.rating), 2) AS rating,\n",
    "       COUNT(r.rating) AS cnt_rating\n",
    "FROM books AS b\n",
    "JOIN ratings AS r ON b.book_id = r.book_id\n",
    "JOIN authors AS a ON b.author_id = a.author_id\n",
    "WHERE b.book_id IN (\n",
    "       SELECT book_id\n",
    "       FROM ratings\n",
    "       GROUP BY book_id\n",
    "       HAVING COUNT(DISTINCT rating_id) >= 50)\n",
    "GROUP BY a.author\n",
    "ORDER BY rating DESC\n",
    "LIMIT 1\n",
    "'''\n",
    "author_top1 = sql_query(query)\n",
    "author_top1"
   ]
  },
  {
   "cell_type": "markdown",
   "metadata": {},
   "source": [
    "Автор с самой высокой средней оценкой книг - J.K. Rowling/Mary GrandPré\t (4.29)"
   ]
  },
  {
   "cell_type": "markdown",
   "metadata": {},
   "source": [
    "### Задача № 5"
   ]
  },
  {
   "cell_type": "markdown",
   "metadata": {},
   "source": [
    "Необходимо посчитать среднее количество обзоров от пользователей, которые поставили больше 48 оценок."
   ]
  },
  {
   "cell_type": "code",
   "execution_count": 13,
   "metadata": {},
   "outputs": [
    {
     "data": {
      "text/html": [
       "<div>\n",
       "<style scoped>\n",
       "    .dataframe tbody tr th:only-of-type {\n",
       "        vertical-align: middle;\n",
       "    }\n",
       "\n",
       "    .dataframe tbody tr th {\n",
       "        vertical-align: top;\n",
       "    }\n",
       "\n",
       "    .dataframe thead th {\n",
       "        text-align: right;\n",
       "    }\n",
       "</style>\n",
       "<table border=\"1\" class=\"dataframe\">\n",
       "  <thead>\n",
       "    <tr style=\"text-align: right;\">\n",
       "      <th></th>\n",
       "      <th>avg_review</th>\n",
       "    </tr>\n",
       "  </thead>\n",
       "  <tbody>\n",
       "    <tr>\n",
       "      <th>0</th>\n",
       "      <td>24.0</td>\n",
       "    </tr>\n",
       "  </tbody>\n",
       "</table>\n",
       "</div>"
      ],
      "text/plain": [
       "   avg_review\n",
       "0        24.0"
      ]
     },
     "execution_count": 13,
     "metadata": {},
     "output_type": "execute_result"
    }
   ],
   "source": [
    "query = '''\n",
    "SELECT AVG(cnt_review) AS avg_review\n",
    "FROM (SELECT COUNT(review_id) AS cnt_review\n",
    "    FROM reviews\n",
    "    WHERE username IN (\n",
    "        SELECT rt.username\n",
    "        FROM ratings AS rt\n",
    "        GROUP BY rt.username\n",
    "        HAVING COUNT(DISTINCT rt.rating_id) > 48)\n",
    "GROUP BY username) AS avg\n",
    "'''\n",
    "avg_reviews = sql_query(query)\n",
    "avg_reviews"
   ]
  },
  {
   "cell_type": "markdown",
   "metadata": {},
   "source": [
    "Cреднее количество обзоров от пользователей, которые поставили больше 48 оценок равняется 24."
   ]
  },
  {
   "cell_type": "markdown",
   "metadata": {},
   "source": [
    "## Вывод"
   ]
  },
  {
   "cell_type": "markdown",
   "metadata": {},
   "source": [
    "1. На входе были получены следующие таблицы:  \n",
    "- books  \n",
    "- authors  \n",
    "- ratings  \n",
    "- reviews  \n",
    "- publishers  \n",
    "\n",
    "2. На этапе подготовки мы импортировали библиотеки и подключили базу данных.  \n",
    "\n",
    "\n",
    "3. Произвели ознакомление со всеми таблицами из списка.  \n",
    "\n",
    "\n",
    "4. Далее мы выявили следующую информацию:  \n",
    "- после 1 января 2000 года вышло 819 книг  \n",
    "- для каждой книги определили средний рейтинг и количество обзоров на неё. Книга Twilight (Twilight #1) имеет больше всего обзоров (7) и рейтинг 3.7  \n",
    "- издательство 'Penguin Books' выпустило наибольшее количество книг толще 50 страниц - 42 шт.  \n",
    "- автор с самой высокой средней оценкой книг - J.K. Rowling/Mary GrandPré (4.29)  \n",
    "- среднее количество обзоров от пользователей, которые поставили больше 48 оценок равняется 24."
   ]
  }
 ],
 "metadata": {
  "ExecuteTimeLog": [
   {
    "duration": 9946,
    "start_time": "2024-02-24T00:08:22.180Z"
   },
   {
    "duration": 245,
    "start_time": "2024-02-24T00:09:02.096Z"
   },
   {
    "duration": 3,
    "start_time": "2024-02-24T00:09:10.067Z"
   },
   {
    "duration": 233,
    "start_time": "2024-02-24T00:09:12.127Z"
   },
   {
    "duration": 240,
    "start_time": "2024-02-24T00:10:21.935Z"
   },
   {
    "duration": 242,
    "start_time": "2024-02-24T00:10:25.603Z"
   },
   {
    "duration": 47,
    "start_time": "2024-02-24T18:48:36.890Z"
   },
   {
    "duration": 537,
    "start_time": "2024-02-24T18:48:47.723Z"
   },
   {
    "duration": 220,
    "start_time": "2024-02-24T18:48:56.049Z"
   },
   {
    "duration": 317,
    "start_time": "2024-02-24T18:49:06.138Z"
   },
   {
    "duration": 207,
    "start_time": "2024-02-24T18:49:13.576Z"
   },
   {
    "duration": 191,
    "start_time": "2024-02-24T18:50:35.576Z"
   },
   {
    "duration": 179,
    "start_time": "2024-02-24T18:51:38.058Z"
   },
   {
    "duration": 40,
    "start_time": "2024-02-24T18:51:39.366Z"
   },
   {
    "duration": 30,
    "start_time": "2024-02-24T18:51:45.431Z"
   },
   {
    "duration": 108,
    "start_time": "2024-02-24T18:53:24.706Z"
   },
   {
    "duration": 40,
    "start_time": "2024-02-24T18:53:30.001Z"
   },
   {
    "duration": 32,
    "start_time": "2024-02-24T18:54:22.533Z"
   },
   {
    "duration": 32,
    "start_time": "2024-02-24T18:54:58.531Z"
   },
   {
    "duration": 31,
    "start_time": "2024-02-24T18:55:31.522Z"
   },
   {
    "duration": 8,
    "start_time": "2024-02-24T19:01:12.157Z"
   },
   {
    "duration": 3,
    "start_time": "2024-02-24T19:08:27.534Z"
   },
   {
    "duration": 5,
    "start_time": "2024-02-24T19:12:59.384Z"
   },
   {
    "duration": 5,
    "start_time": "2024-02-24T19:13:09.716Z"
   },
   {
    "duration": 50,
    "start_time": "2024-02-24T19:18:54.148Z"
   },
   {
    "duration": 38,
    "start_time": "2024-02-24T19:19:17.106Z"
   },
   {
    "duration": 30,
    "start_time": "2024-02-24T19:19:24.544Z"
   },
   {
    "duration": 29,
    "start_time": "2024-02-24T19:19:33.551Z"
   },
   {
    "duration": 29,
    "start_time": "2024-02-24T19:19:36.655Z"
   },
   {
    "duration": 29,
    "start_time": "2024-02-24T19:26:44.901Z"
   },
   {
    "duration": 5,
    "start_time": "2024-02-24T19:26:55.490Z"
   },
   {
    "duration": 48,
    "start_time": "2024-02-24T19:37:27.509Z"
   },
   {
    "duration": 66,
    "start_time": "2024-02-24T19:39:11.589Z"
   },
   {
    "duration": 47,
    "start_time": "2024-02-24T19:39:37.808Z"
   },
   {
    "duration": 47,
    "start_time": "2024-02-24T19:40:01.040Z"
   },
   {
    "duration": 67,
    "start_time": "2024-02-24T19:45:36.213Z"
   },
   {
    "duration": 3,
    "start_time": "2024-02-24T19:46:07.622Z"
   },
   {
    "duration": 3,
    "start_time": "2024-02-24T19:48:19.818Z"
   },
   {
    "duration": 3,
    "start_time": "2024-02-24T19:48:41.318Z"
   },
   {
    "duration": 28,
    "start_time": "2024-02-24T19:49:15.849Z"
   },
   {
    "duration": 28,
    "start_time": "2024-02-24T19:50:07.047Z"
   },
   {
    "duration": 46,
    "start_time": "2024-02-24T19:50:53.278Z"
   },
   {
    "duration": 51,
    "start_time": "2024-02-24T19:55:38.049Z"
   },
   {
    "duration": 52,
    "start_time": "2024-02-24T19:57:02.318Z"
   },
   {
    "duration": 66,
    "start_time": "2024-02-24T19:59:19.072Z"
   },
   {
    "duration": 55,
    "start_time": "2024-02-24T20:01:39.756Z"
   },
   {
    "duration": 29,
    "start_time": "2024-02-24T20:03:43.539Z"
   },
   {
    "duration": 68,
    "start_time": "2024-02-24T20:04:51.671Z"
   },
   {
    "duration": 63,
    "start_time": "2024-02-24T20:04:56.029Z"
   },
   {
    "duration": 71,
    "start_time": "2024-02-24T20:05:04.127Z"
   },
   {
    "duration": 61,
    "start_time": "2024-02-24T20:05:31.721Z"
   },
   {
    "duration": 72,
    "start_time": "2024-02-24T20:06:23.800Z"
   },
   {
    "duration": 79,
    "start_time": "2024-02-24T20:06:34.338Z"
   },
   {
    "duration": 72,
    "start_time": "2024-02-24T20:06:58.213Z"
   },
   {
    "duration": 76,
    "start_time": "2024-02-24T20:10:09.495Z"
   },
   {
    "duration": 51,
    "start_time": "2024-02-24T20:10:18.932Z"
   },
   {
    "duration": 82,
    "start_time": "2024-02-24T20:10:23.610Z"
   },
   {
    "duration": 80,
    "start_time": "2024-02-24T20:10:49.891Z"
   },
   {
    "duration": 82,
    "start_time": "2024-02-24T20:11:14.352Z"
   },
   {
    "duration": 72,
    "start_time": "2024-02-24T20:11:27.090Z"
   },
   {
    "duration": 77,
    "start_time": "2024-02-24T20:11:38.978Z"
   },
   {
    "duration": 73,
    "start_time": "2024-02-24T20:12:58.171Z"
   },
   {
    "duration": 56,
    "start_time": "2024-02-24T20:16:12.484Z"
   },
   {
    "duration": 64,
    "start_time": "2024-02-24T20:16:30.915Z"
   },
   {
    "duration": 92,
    "start_time": "2024-02-24T20:16:52.158Z"
   },
   {
    "duration": 87,
    "start_time": "2024-02-24T20:18:16.793Z"
   },
   {
    "duration": 78,
    "start_time": "2024-02-24T20:18:27.442Z"
   },
   {
    "duration": 80,
    "start_time": "2024-02-24T20:20:23.719Z"
   },
   {
    "duration": 73,
    "start_time": "2024-02-24T20:21:08.973Z"
   },
   {
    "duration": 80,
    "start_time": "2024-02-24T20:21:15.463Z"
   },
   {
    "duration": 32,
    "start_time": "2024-02-24T20:23:15.224Z"
   },
   {
    "duration": 74,
    "start_time": "2024-02-24T20:23:28.143Z"
   },
   {
    "duration": 29,
    "start_time": "2024-02-24T20:23:33.275Z"
   },
   {
    "duration": 28,
    "start_time": "2024-02-24T20:23:51.315Z"
   },
   {
    "duration": 29,
    "start_time": "2024-02-24T20:24:03.053Z"
   },
   {
    "duration": 30,
    "start_time": "2024-02-24T20:24:09.906Z"
   },
   {
    "duration": 50,
    "start_time": "2024-02-24T20:24:15.913Z"
   },
   {
    "duration": 97,
    "start_time": "2024-02-24T20:24:24.933Z"
   },
   {
    "duration": 52,
    "start_time": "2024-02-24T20:24:44.478Z"
   },
   {
    "duration": 40,
    "start_time": "2024-02-24T20:25:51.412Z"
   },
   {
    "duration": 29,
    "start_time": "2024-02-24T20:25:54.932Z"
   },
   {
    "duration": 30,
    "start_time": "2024-02-24T20:26:08.318Z"
   },
   {
    "duration": 30,
    "start_time": "2024-02-24T20:26:13.493Z"
   },
   {
    "duration": 29,
    "start_time": "2024-02-24T20:26:17.342Z"
   },
   {
    "duration": 62,
    "start_time": "2024-02-24T20:26:35.090Z"
   },
   {
    "duration": 30,
    "start_time": "2024-02-24T20:26:45.808Z"
   },
   {
    "duration": 29,
    "start_time": "2024-02-24T20:26:51.788Z"
   },
   {
    "duration": 30,
    "start_time": "2024-02-24T20:26:59.818Z"
   },
   {
    "duration": 31,
    "start_time": "2024-02-24T20:27:03.286Z"
   },
   {
    "duration": 29,
    "start_time": "2024-02-24T20:27:06.084Z"
   },
   {
    "duration": 31,
    "start_time": "2024-02-24T20:30:01.192Z"
   },
   {
    "duration": 33,
    "start_time": "2024-02-24T20:30:18.139Z"
   },
   {
    "duration": 30,
    "start_time": "2024-02-24T20:30:27.257Z"
   },
   {
    "duration": 29,
    "start_time": "2024-02-24T20:30:41.413Z"
   },
   {
    "duration": 30,
    "start_time": "2024-02-24T20:30:44.441Z"
   },
   {
    "duration": 30,
    "start_time": "2024-02-24T20:30:53.320Z"
   },
   {
    "duration": 50,
    "start_time": "2024-02-24T20:32:12.352Z"
   },
   {
    "duration": 61,
    "start_time": "2024-02-24T20:32:20.311Z"
   },
   {
    "duration": 60,
    "start_time": "2024-02-24T20:32:43.363Z"
   },
   {
    "duration": 61,
    "start_time": "2024-02-24T20:33:32.932Z"
   },
   {
    "duration": 42,
    "start_time": "2024-02-24T20:33:56.614Z"
   },
   {
    "duration": 33,
    "start_time": "2024-02-24T20:34:06.230Z"
   },
   {
    "duration": 65,
    "start_time": "2024-02-24T20:34:24.472Z"
   },
   {
    "duration": 72,
    "start_time": "2024-02-24T20:34:44.523Z"
   },
   {
    "duration": 35,
    "start_time": "2024-02-24T20:34:55.862Z"
   },
   {
    "duration": 69,
    "start_time": "2024-02-24T20:37:36.510Z"
   },
   {
    "duration": 33,
    "start_time": "2024-02-24T20:52:38.555Z"
   },
   {
    "duration": 50,
    "start_time": "2024-02-24T20:52:47.014Z"
   },
   {
    "duration": 43,
    "start_time": "2024-02-24T20:52:52.135Z"
   },
   {
    "duration": 33,
    "start_time": "2024-02-24T20:53:22.294Z"
   },
   {
    "duration": 50,
    "start_time": "2024-02-24T20:53:38.248Z"
   },
   {
    "duration": 39,
    "start_time": "2024-02-24T20:53:41.256Z"
   },
   {
    "duration": 29,
    "start_time": "2024-02-24T20:55:42.311Z"
   },
   {
    "duration": 51,
    "start_time": "2024-02-24T21:12:23.102Z"
   },
   {
    "duration": 59,
    "start_time": "2024-02-24T21:13:53.414Z"
   },
   {
    "duration": 53,
    "start_time": "2024-02-24T21:15:49.649Z"
   },
   {
    "duration": 61,
    "start_time": "2024-02-24T21:16:00.130Z"
   },
   {
    "duration": 61,
    "start_time": "2024-02-24T21:17:39.499Z"
   },
   {
    "duration": 61,
    "start_time": "2024-02-24T21:18:15.942Z"
   },
   {
    "duration": 60,
    "start_time": "2024-02-24T21:18:31.938Z"
   },
   {
    "duration": 48,
    "start_time": "2024-02-24T21:18:36.929Z"
   },
   {
    "duration": 37,
    "start_time": "2024-02-24T21:19:11.724Z"
   },
   {
    "duration": 50,
    "start_time": "2024-02-24T21:19:52.225Z"
   },
   {
    "duration": 61,
    "start_time": "2024-02-24T21:20:07.620Z"
   },
   {
    "duration": 46,
    "start_time": "2024-02-24T21:21:40.039Z"
   },
   {
    "duration": 58,
    "start_time": "2024-02-24T21:21:57.399Z"
   },
   {
    "duration": 46,
    "start_time": "2024-02-24T21:22:06.445Z"
   },
   {
    "duration": 4,
    "start_time": "2024-02-24T21:22:52.500Z"
   },
   {
    "duration": 34,
    "start_time": "2024-02-24T21:24:39.973Z"
   },
   {
    "duration": 36,
    "start_time": "2024-02-24T21:24:52.201Z"
   },
   {
    "duration": 35,
    "start_time": "2024-02-24T21:26:58.884Z"
   },
   {
    "duration": 36,
    "start_time": "2024-02-24T21:27:09.765Z"
   },
   {
    "duration": 39,
    "start_time": "2024-02-24T21:27:38.776Z"
   },
   {
    "duration": 36,
    "start_time": "2024-02-24T21:28:53.783Z"
   },
   {
    "duration": 35,
    "start_time": "2024-02-24T21:28:59.393Z"
   },
   {
    "duration": 33,
    "start_time": "2024-02-24T21:38:22.083Z"
   },
   {
    "duration": 51,
    "start_time": "2024-02-24T21:45:11.525Z"
   },
   {
    "duration": 61,
    "start_time": "2024-02-24T21:46:44.916Z"
   },
   {
    "duration": 62,
    "start_time": "2024-02-24T21:48:15.075Z"
   },
   {
    "duration": 61,
    "start_time": "2024-02-24T21:49:21.894Z"
   },
   {
    "duration": 47,
    "start_time": "2024-02-24T21:49:58.387Z"
   },
   {
    "duration": 37,
    "start_time": "2024-02-24T21:51:03.998Z"
   },
   {
    "duration": 50,
    "start_time": "2024-02-24T21:51:18.645Z"
   },
   {
    "duration": 47,
    "start_time": "2024-02-24T21:51:29.442Z"
   },
   {
    "duration": 38,
    "start_time": "2024-02-24T21:51:52.770Z"
   },
   {
    "duration": 32,
    "start_time": "2024-02-24T21:54:54.526Z"
   },
   {
    "duration": 50,
    "start_time": "2024-02-24T21:57:10.921Z"
   },
   {
    "duration": 44,
    "start_time": "2024-02-24T21:57:20.184Z"
   },
   {
    "duration": 50,
    "start_time": "2024-02-24T22:01:11.889Z"
   },
   {
    "duration": 61,
    "start_time": "2024-02-24T22:01:47.606Z"
   },
   {
    "duration": 60,
    "start_time": "2024-02-24T22:02:06.931Z"
   },
   {
    "duration": 60,
    "start_time": "2024-02-24T22:02:22.682Z"
   },
   {
    "duration": 44,
    "start_time": "2024-02-24T22:03:17.261Z"
   },
   {
    "duration": 33,
    "start_time": "2024-02-24T22:04:44.954Z"
   },
   {
    "duration": 33,
    "start_time": "2024-02-24T22:04:49.526Z"
   },
   {
    "duration": 33,
    "start_time": "2024-02-24T22:05:13.192Z"
   },
   {
    "duration": 33,
    "start_time": "2024-02-24T22:05:17.206Z"
   },
   {
    "duration": 533,
    "start_time": "2024-02-24T22:07:00.693Z"
   },
   {
    "duration": 8337,
    "start_time": "2024-02-24T22:07:01.228Z"
   },
   {
    "duration": 52,
    "start_time": "2024-02-24T22:07:09.568Z"
   },
   {
    "duration": 31,
    "start_time": "2024-02-24T22:07:09.623Z"
   },
   {
    "duration": 61,
    "start_time": "2024-02-24T22:07:09.656Z"
   },
   {
    "duration": 32,
    "start_time": "2024-02-24T22:07:09.719Z"
   },
   {
    "duration": 63,
    "start_time": "2024-02-24T22:07:09.753Z"
   },
   {
    "duration": 3,
    "start_time": "2024-02-24T22:07:09.818Z"
   },
   {
    "duration": 35,
    "start_time": "2024-02-24T22:07:09.823Z"
   },
   {
    "duration": 74,
    "start_time": "2024-02-24T22:07:09.860Z"
   },
   {
    "duration": 30,
    "start_time": "2024-02-24T22:07:09.935Z"
   },
   {
    "duration": 50,
    "start_time": "2024-02-24T22:07:09.967Z"
   },
   {
    "duration": 33,
    "start_time": "2024-02-24T22:07:10.019Z"
   },
   {
    "duration": 557,
    "start_time": "2024-02-25T13:33:15.067Z"
   },
   {
    "duration": 10877,
    "start_time": "2024-02-25T13:33:15.626Z"
   },
   {
    "duration": 22,
    "start_time": "2024-02-25T13:33:26.505Z"
   },
   {
    "duration": 10,
    "start_time": "2024-02-25T13:33:26.529Z"
   },
   {
    "duration": 13,
    "start_time": "2024-02-25T13:33:26.540Z"
   },
   {
    "duration": 12,
    "start_time": "2024-02-25T13:33:26.555Z"
   },
   {
    "duration": 13,
    "start_time": "2024-02-25T13:33:26.581Z"
   },
   {
    "duration": 11,
    "start_time": "2024-02-25T13:33:26.597Z"
   },
   {
    "duration": 29,
    "start_time": "2024-02-25T13:33:26.609Z"
   },
   {
    "duration": 36,
    "start_time": "2024-02-25T13:33:26.640Z"
   },
   {
    "duration": 10,
    "start_time": "2024-02-25T13:33:26.678Z"
   },
   {
    "duration": 20,
    "start_time": "2024-02-25T13:33:26.690Z"
   },
   {
    "duration": 15,
    "start_time": "2024-02-25T13:33:26.711Z"
   },
   {
    "duration": 43,
    "start_time": "2024-02-25T17:28:40.942Z"
   },
   {
    "duration": 526,
    "start_time": "2024-02-25T17:28:48.253Z"
   },
   {
    "duration": 7643,
    "start_time": "2024-02-25T17:28:48.781Z"
   },
   {
    "duration": 47,
    "start_time": "2024-02-25T17:28:56.425Z"
   },
   {
    "duration": 28,
    "start_time": "2024-02-25T17:28:56.473Z"
   },
   {
    "duration": 29,
    "start_time": "2024-02-25T17:28:56.503Z"
   },
   {
    "duration": 30,
    "start_time": "2024-02-25T17:28:56.534Z"
   },
   {
    "duration": 28,
    "start_time": "2024-02-25T17:28:56.565Z"
   },
   {
    "duration": 3,
    "start_time": "2024-02-25T17:28:56.595Z"
   },
   {
    "duration": 29,
    "start_time": "2024-02-25T17:28:56.599Z"
   },
   {
    "duration": 107,
    "start_time": "2024-02-25T17:28:56.629Z"
   },
   {
    "duration": 0,
    "start_time": "2024-02-25T17:28:56.738Z"
   },
   {
    "duration": 0,
    "start_time": "2024-02-25T17:28:56.739Z"
   },
   {
    "duration": 0,
    "start_time": "2024-02-25T17:28:56.740Z"
   },
   {
    "duration": 84,
    "start_time": "2024-02-25T17:29:19.188Z"
   },
   {
    "duration": 519,
    "start_time": "2024-02-25T18:12:58.467Z"
   },
   {
    "duration": 7646,
    "start_time": "2024-02-25T18:12:58.988Z"
   },
   {
    "duration": 50,
    "start_time": "2024-02-25T18:13:06.636Z"
   },
   {
    "duration": 29,
    "start_time": "2024-02-25T18:13:06.688Z"
   },
   {
    "duration": 30,
    "start_time": "2024-02-25T18:13:06.719Z"
   },
   {
    "duration": 30,
    "start_time": "2024-02-25T18:13:06.750Z"
   },
   {
    "duration": 30,
    "start_time": "2024-02-25T18:13:06.781Z"
   },
   {
    "duration": 2,
    "start_time": "2024-02-25T18:13:06.813Z"
   },
   {
    "duration": 32,
    "start_time": "2024-02-25T18:13:06.817Z"
   },
   {
    "duration": 73,
    "start_time": "2024-02-25T18:13:06.851Z"
   },
   {
    "duration": 30,
    "start_time": "2024-02-25T18:13:06.925Z"
   },
   {
    "duration": 33,
    "start_time": "2024-02-25T18:13:06.956Z"
   },
   {
    "duration": 33,
    "start_time": "2024-02-25T18:13:06.991Z"
   },
   {
    "duration": 34,
    "start_time": "2024-02-25T18:17:16.181Z"
   },
   {
    "duration": 36,
    "start_time": "2024-02-25T18:29:07.168Z"
   },
   {
    "duration": 116,
    "start_time": "2024-02-25T18:30:28.484Z"
   },
   {
    "duration": 44,
    "start_time": "2024-02-25T18:31:11.580Z"
   },
   {
    "duration": 35,
    "start_time": "2024-02-25T18:31:19.532Z"
   },
   {
    "duration": 49,
    "start_time": "2024-02-25T18:37:33.603Z"
   },
   {
    "duration": 61,
    "start_time": "2024-02-25T18:40:57.186Z"
   },
   {
    "duration": 60,
    "start_time": "2024-02-25T18:41:26.594Z"
   },
   {
    "duration": 62,
    "start_time": "2024-02-25T18:41:47.583Z"
   },
   {
    "duration": 60,
    "start_time": "2024-02-25T18:41:59.112Z"
   },
   {
    "duration": 60,
    "start_time": "2024-02-25T18:42:20.600Z"
   },
   {
    "duration": 49,
    "start_time": "2024-02-25T18:42:27.973Z"
   },
   {
    "duration": 42,
    "start_time": "2024-02-25T18:42:51.243Z"
   },
   {
    "duration": 38,
    "start_time": "2024-02-25T18:43:22.366Z"
   },
   {
    "duration": 36,
    "start_time": "2024-02-25T18:46:10.003Z"
   },
   {
    "duration": 37,
    "start_time": "2024-02-25T18:47:14.803Z"
   },
   {
    "duration": 35,
    "start_time": "2024-02-25T18:48:27.104Z"
   },
   {
    "duration": 50,
    "start_time": "2024-02-25T18:48:36.444Z"
   },
   {
    "duration": 45,
    "start_time": "2024-02-25T18:48:41.832Z"
   },
   {
    "duration": 36,
    "start_time": "2024-02-25T18:48:58.499Z"
   },
   {
    "duration": 36,
    "start_time": "2024-02-25T18:49:13.817Z"
   },
   {
    "duration": 35,
    "start_time": "2024-02-25T18:51:49.167Z"
   },
   {
    "duration": 37,
    "start_time": "2024-02-25T18:52:01.345Z"
   },
   {
    "duration": 35,
    "start_time": "2024-02-25T18:52:05.955Z"
   },
   {
    "duration": 2,
    "start_time": "2024-02-25T18:52:46.952Z"
   },
   {
    "duration": 36,
    "start_time": "2024-02-25T18:53:05.235Z"
   }
  ],
  "kernelspec": {
   "display_name": "Python 3 (ipykernel)",
   "language": "python",
   "name": "python3"
  },
  "language_info": {
   "codemirror_mode": {
    "name": "ipython",
    "version": 3
   },
   "file_extension": ".py",
   "mimetype": "text/x-python",
   "name": "python",
   "nbconvert_exporter": "python",
   "pygments_lexer": "ipython3",
   "version": "3.9.12"
  },
  "toc": {
   "base_numbering": 1,
   "nav_menu": {},
   "number_sections": true,
   "sideBar": true,
   "skip_h1_title": true,
   "title_cell": "Table of Contents",
   "title_sidebar": "Contents",
   "toc_cell": false,
   "toc_position": {
    "height": "calc(100% - 180px)",
    "left": "10px",
    "top": "150px",
    "width": "203.917px"
   },
   "toc_section_display": true,
   "toc_window_display": true
  },
  "varInspector": {
   "cols": {
    "lenName": 16,
    "lenType": 16,
    "lenVar": 40
   },
   "kernels_config": {
    "python": {
     "delete_cmd_postfix": "",
     "delete_cmd_prefix": "del ",
     "library": "var_list.py",
     "varRefreshCmd": "print(var_dic_list())"
    },
    "r": {
     "delete_cmd_postfix": ") ",
     "delete_cmd_prefix": "rm(",
     "library": "var_list.r",
     "varRefreshCmd": "cat(var_dic_list()) "
    }
   },
   "types_to_exclude": [
    "module",
    "function",
    "builtin_function_or_method",
    "instance",
    "_Feature"
   ],
   "window_display": false
  }
 },
 "nbformat": 4,
 "nbformat_minor": 2
}
