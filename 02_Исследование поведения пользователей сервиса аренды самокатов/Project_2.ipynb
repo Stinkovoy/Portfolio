{
 "cells": [
  {
   "cell_type": "markdown",
   "id": "9657439a",
   "metadata": {},
   "source": [
    "# **Анализ аренды самокатов GoFast**  \n",
    "\n",
    "Имеются данные о некоторых пользователях из нескольких городов, а также об их поездках. Небходимо проанализировать данные и проверьте некоторые гипотезы, которые могут помочь бизнесу вырасти.\n",
    "Чтобы совершать поездки по городу, пользователи сервиса GoFast пользуются мобильным приложением.  \n",
    "Сервисом можно пользоваться:\n",
    "- **без подписки:**  \n",
    "абонентская плата отсутствует;  \n",
    "стоимость одной минуты поездки — 8 рублей;  \n",
    "стоимость старта (начала поездки) — 50 рублей;  \n",
    "\n",
    "- **с подпиской Ultra:**  \n",
    "абонентская плата — 199 рублей в месяц;  \n",
    "стоимость одной минуты поездки — 6 рублей;  \n",
    "стоимость старта — бесплатно.  \n",
    "\n",
    "# **Описание данных:**  \n",
    "**Пользователи — users_go.csv**  \n",
    "\n",
    "- `user_id` — уникальный идентификатор пользователя  \n",
    "- `name` — имя пользователя  \n",
    "- `age`  — возраст  \n",
    "- `city` — город  \n",
    "- `subscription_type` —\tтип подписки (free, ultra)  \n",
    "\n",
    "**Поездки — rides_go.csv**\n",
    "- `user_id` — уникальный идентификатор пользователя\n",
    "- `distance` — расстояние, которое пользователь проехал в текущей сессии (в метрах)\n",
    "- `duration` — продолжительность сессии (в минутах) — время с того момента, как пользователь нажал кнопку «Начать поездку» до момента, как он нажал кнопку «Завершить поездку»\n",
    "- `date` — дата совершения поездки  \n",
    "\n",
    "**Подписки — subscriptions_go.csv**\n",
    "- `subscription_type` — тип подписки\n",
    "- `minute_price` — стоимость одной минуты поездки по данной подписке\n",
    "- `start_ride_price` — стоимость начала поездки\n",
    "- `subscription_fee` — стоимость ежемесячного платежа"
   ]
  },
  {
   "cell_type": "code",
   "execution_count": 1,
   "id": "1c3a4709",
   "metadata": {},
   "outputs": [],
   "source": [
    "import pandas as pd\n",
    "from scipy import stats as st\n",
    "import numpy as np\n",
    "import matplotlib.pyplot as plt"
   ]
  },
  {
   "cell_type": "markdown",
   "id": "372e22a3",
   "metadata": {},
   "source": [
    "## Загрузка данных"
   ]
  },
  {
   "cell_type": "code",
   "execution_count": null,
   "id": "4daba1d6",
   "metadata": {},
   "outputs": [],
   "source": [
    "data_users = pd.read_csv('/datasets/users_go.csv')\n",
    "data_rides = pd.read_csv('/datasets/rides_go.csv')\n",
    "data_subscriptions = pd.read_csv('/datasets/subscriptions_go.csv')"
   ]
  },
  {
   "cell_type": "markdown",
   "id": "93b2b925",
   "metadata": {},
   "source": [
    "### Изучаем общую информацию"
   ]
  },
  {
   "cell_type": "code",
   "execution_count": 3,
   "id": "b917fc99",
   "metadata": {},
   "outputs": [
    {
     "data": {
      "text/html": [
       "<div>\n",
       "<style scoped>\n",
       "    .dataframe tbody tr th:only-of-type {\n",
       "        vertical-align: middle;\n",
       "    }\n",
       "\n",
       "    .dataframe tbody tr th {\n",
       "        vertical-align: top;\n",
       "    }\n",
       "\n",
       "    .dataframe thead th {\n",
       "        text-align: right;\n",
       "    }\n",
       "</style>\n",
       "<table border=\"1\" class=\"dataframe\">\n",
       "  <thead>\n",
       "    <tr style=\"text-align: right;\">\n",
       "      <th></th>\n",
       "      <th>user_id</th>\n",
       "      <th>name</th>\n",
       "      <th>age</th>\n",
       "      <th>city</th>\n",
       "      <th>subscription_type</th>\n",
       "    </tr>\n",
       "  </thead>\n",
       "  <tbody>\n",
       "    <tr>\n",
       "      <th>0</th>\n",
       "      <td>1</td>\n",
       "      <td>Кира</td>\n",
       "      <td>22</td>\n",
       "      <td>Тюмень</td>\n",
       "      <td>ultra</td>\n",
       "    </tr>\n",
       "    <tr>\n",
       "      <th>1</th>\n",
       "      <td>2</td>\n",
       "      <td>Станислав</td>\n",
       "      <td>31</td>\n",
       "      <td>Омск</td>\n",
       "      <td>ultra</td>\n",
       "    </tr>\n",
       "    <tr>\n",
       "      <th>2</th>\n",
       "      <td>3</td>\n",
       "      <td>Алексей</td>\n",
       "      <td>20</td>\n",
       "      <td>Москва</td>\n",
       "      <td>ultra</td>\n",
       "    </tr>\n",
       "    <tr>\n",
       "      <th>3</th>\n",
       "      <td>4</td>\n",
       "      <td>Константин</td>\n",
       "      <td>26</td>\n",
       "      <td>Ростов-на-Дону</td>\n",
       "      <td>ultra</td>\n",
       "    </tr>\n",
       "    <tr>\n",
       "      <th>4</th>\n",
       "      <td>5</td>\n",
       "      <td>Адель</td>\n",
       "      <td>28</td>\n",
       "      <td>Омск</td>\n",
       "      <td>ultra</td>\n",
       "    </tr>\n",
       "    <tr>\n",
       "      <th>5</th>\n",
       "      <td>6</td>\n",
       "      <td>Регина</td>\n",
       "      <td>25</td>\n",
       "      <td>Краснодар</td>\n",
       "      <td>ultra</td>\n",
       "    </tr>\n",
       "    <tr>\n",
       "      <th>6</th>\n",
       "      <td>7</td>\n",
       "      <td>Игорь</td>\n",
       "      <td>23</td>\n",
       "      <td>Омск</td>\n",
       "      <td>ultra</td>\n",
       "    </tr>\n",
       "    <tr>\n",
       "      <th>7</th>\n",
       "      <td>8</td>\n",
       "      <td>Юрий</td>\n",
       "      <td>23</td>\n",
       "      <td>Краснодар</td>\n",
       "      <td>ultra</td>\n",
       "    </tr>\n",
       "    <tr>\n",
       "      <th>8</th>\n",
       "      <td>9</td>\n",
       "      <td>Ян</td>\n",
       "      <td>21</td>\n",
       "      <td>Пятигорск</td>\n",
       "      <td>ultra</td>\n",
       "    </tr>\n",
       "    <tr>\n",
       "      <th>9</th>\n",
       "      <td>10</td>\n",
       "      <td>Валерий</td>\n",
       "      <td>18</td>\n",
       "      <td>Екатеринбург</td>\n",
       "      <td>ultra</td>\n",
       "    </tr>\n",
       "  </tbody>\n",
       "</table>\n",
       "</div>"
      ],
      "text/plain": [
       "   user_id        name  age            city subscription_type\n",
       "0        1        Кира   22          Тюмень             ultra\n",
       "1        2   Станислав   31            Омск             ultra\n",
       "2        3     Алексей   20          Москва             ultra\n",
       "3        4  Константин   26  Ростов-на-Дону             ultra\n",
       "4        5       Адель   28            Омск             ultra\n",
       "5        6      Регина   25       Краснодар             ultra\n",
       "6        7       Игорь   23            Омск             ultra\n",
       "7        8        Юрий   23       Краснодар             ultra\n",
       "8        9          Ян   21       Пятигорск             ultra\n",
       "9       10     Валерий   18    Екатеринбург             ultra"
      ]
     },
     "execution_count": 3,
     "metadata": {},
     "output_type": "execute_result"
    }
   ],
   "source": [
    "data_users.head(10)"
   ]
  },
  {
   "cell_type": "code",
   "execution_count": 4,
   "id": "1cdbbc2a",
   "metadata": {},
   "outputs": [
    {
     "name": "stdout",
     "output_type": "stream",
     "text": [
      "<class 'pandas.core.frame.DataFrame'>\n",
      "RangeIndex: 1565 entries, 0 to 1564\n",
      "Data columns (total 5 columns):\n",
      " #   Column             Non-Null Count  Dtype \n",
      "---  ------             --------------  ----- \n",
      " 0   user_id            1565 non-null   int64 \n",
      " 1   name               1565 non-null   object\n",
      " 2   age                1565 non-null   int64 \n",
      " 3   city               1565 non-null   object\n",
      " 4   subscription_type  1565 non-null   object\n",
      "dtypes: int64(2), object(3)\n",
      "memory usage: 61.3+ KB\n"
     ]
    }
   ],
   "source": [
    "data_users.info()"
   ]
  },
  {
   "cell_type": "code",
   "execution_count": 5,
   "id": "448a31e3",
   "metadata": {
    "scrolled": true
   },
   "outputs": [
    {
     "data": {
      "text/html": [
       "<div>\n",
       "<style scoped>\n",
       "    .dataframe tbody tr th:only-of-type {\n",
       "        vertical-align: middle;\n",
       "    }\n",
       "\n",
       "    .dataframe tbody tr th {\n",
       "        vertical-align: top;\n",
       "    }\n",
       "\n",
       "    .dataframe thead th {\n",
       "        text-align: right;\n",
       "    }\n",
       "</style>\n",
       "<table border=\"1\" class=\"dataframe\">\n",
       "  <thead>\n",
       "    <tr style=\"text-align: right;\">\n",
       "      <th></th>\n",
       "      <th>user_id</th>\n",
       "      <th>distance</th>\n",
       "      <th>duration</th>\n",
       "      <th>date</th>\n",
       "    </tr>\n",
       "  </thead>\n",
       "  <tbody>\n",
       "    <tr>\n",
       "      <th>0</th>\n",
       "      <td>1</td>\n",
       "      <td>4409.919140</td>\n",
       "      <td>25.599769</td>\n",
       "      <td>2021-01-01</td>\n",
       "    </tr>\n",
       "    <tr>\n",
       "      <th>1</th>\n",
       "      <td>1</td>\n",
       "      <td>2617.592153</td>\n",
       "      <td>15.816871</td>\n",
       "      <td>2021-01-18</td>\n",
       "    </tr>\n",
       "    <tr>\n",
       "      <th>2</th>\n",
       "      <td>1</td>\n",
       "      <td>754.159807</td>\n",
       "      <td>6.232113</td>\n",
       "      <td>2021-04-20</td>\n",
       "    </tr>\n",
       "    <tr>\n",
       "      <th>3</th>\n",
       "      <td>1</td>\n",
       "      <td>2694.783254</td>\n",
       "      <td>18.511000</td>\n",
       "      <td>2021-08-11</td>\n",
       "    </tr>\n",
       "    <tr>\n",
       "      <th>4</th>\n",
       "      <td>1</td>\n",
       "      <td>4028.687306</td>\n",
       "      <td>26.265803</td>\n",
       "      <td>2021-08-28</td>\n",
       "    </tr>\n",
       "    <tr>\n",
       "      <th>5</th>\n",
       "      <td>1</td>\n",
       "      <td>2770.890808</td>\n",
       "      <td>16.650138</td>\n",
       "      <td>2021-10-09</td>\n",
       "    </tr>\n",
       "    <tr>\n",
       "      <th>6</th>\n",
       "      <td>1</td>\n",
       "      <td>3039.020292</td>\n",
       "      <td>14.927879</td>\n",
       "      <td>2021-10-19</td>\n",
       "    </tr>\n",
       "    <tr>\n",
       "      <th>7</th>\n",
       "      <td>1</td>\n",
       "      <td>2842.118050</td>\n",
       "      <td>23.117468</td>\n",
       "      <td>2021-11-06</td>\n",
       "    </tr>\n",
       "    <tr>\n",
       "      <th>8</th>\n",
       "      <td>1</td>\n",
       "      <td>3412.690668</td>\n",
       "      <td>15.238072</td>\n",
       "      <td>2021-11-14</td>\n",
       "    </tr>\n",
       "    <tr>\n",
       "      <th>9</th>\n",
       "      <td>1</td>\n",
       "      <td>748.690645</td>\n",
       "      <td>15.041884</td>\n",
       "      <td>2021-11-22</td>\n",
       "    </tr>\n",
       "  </tbody>\n",
       "</table>\n",
       "</div>"
      ],
      "text/plain": [
       "   user_id     distance   duration        date\n",
       "0        1  4409.919140  25.599769  2021-01-01\n",
       "1        1  2617.592153  15.816871  2021-01-18\n",
       "2        1   754.159807   6.232113  2021-04-20\n",
       "3        1  2694.783254  18.511000  2021-08-11\n",
       "4        1  4028.687306  26.265803  2021-08-28\n",
       "5        1  2770.890808  16.650138  2021-10-09\n",
       "6        1  3039.020292  14.927879  2021-10-19\n",
       "7        1  2842.118050  23.117468  2021-11-06\n",
       "8        1  3412.690668  15.238072  2021-11-14\n",
       "9        1   748.690645  15.041884  2021-11-22"
      ]
     },
     "execution_count": 5,
     "metadata": {},
     "output_type": "execute_result"
    }
   ],
   "source": [
    "data_rides.head(10)"
   ]
  },
  {
   "cell_type": "code",
   "execution_count": 6,
   "id": "0a4be0d7",
   "metadata": {},
   "outputs": [
    {
     "name": "stdout",
     "output_type": "stream",
     "text": [
      "<class 'pandas.core.frame.DataFrame'>\n",
      "RangeIndex: 18068 entries, 0 to 18067\n",
      "Data columns (total 4 columns):\n",
      " #   Column    Non-Null Count  Dtype  \n",
      "---  ------    --------------  -----  \n",
      " 0   user_id   18068 non-null  int64  \n",
      " 1   distance  18068 non-null  float64\n",
      " 2   duration  18068 non-null  float64\n",
      " 3   date      18068 non-null  object \n",
      "dtypes: float64(2), int64(1), object(1)\n",
      "memory usage: 564.8+ KB\n"
     ]
    }
   ],
   "source": [
    "data_rides.info()"
   ]
  },
  {
   "cell_type": "code",
   "execution_count": 7,
   "id": "dcd18a73",
   "metadata": {},
   "outputs": [
    {
     "data": {
      "text/html": [
       "<div>\n",
       "<style scoped>\n",
       "    .dataframe tbody tr th:only-of-type {\n",
       "        vertical-align: middle;\n",
       "    }\n",
       "\n",
       "    .dataframe tbody tr th {\n",
       "        vertical-align: top;\n",
       "    }\n",
       "\n",
       "    .dataframe thead th {\n",
       "        text-align: right;\n",
       "    }\n",
       "</style>\n",
       "<table border=\"1\" class=\"dataframe\">\n",
       "  <thead>\n",
       "    <tr style=\"text-align: right;\">\n",
       "      <th></th>\n",
       "      <th>subscription_type</th>\n",
       "      <th>minute_price</th>\n",
       "      <th>start_ride_price</th>\n",
       "      <th>subscription_fee</th>\n",
       "    </tr>\n",
       "  </thead>\n",
       "  <tbody>\n",
       "    <tr>\n",
       "      <th>0</th>\n",
       "      <td>free</td>\n",
       "      <td>8</td>\n",
       "      <td>50</td>\n",
       "      <td>0</td>\n",
       "    </tr>\n",
       "    <tr>\n",
       "      <th>1</th>\n",
       "      <td>ultra</td>\n",
       "      <td>6</td>\n",
       "      <td>0</td>\n",
       "      <td>199</td>\n",
       "    </tr>\n",
       "  </tbody>\n",
       "</table>\n",
       "</div>"
      ],
      "text/plain": [
       "  subscription_type  minute_price  start_ride_price  subscription_fee\n",
       "0              free             8                50                 0\n",
       "1             ultra             6                 0               199"
      ]
     },
     "execution_count": 7,
     "metadata": {},
     "output_type": "execute_result"
    }
   ],
   "source": [
    "data_subscriptions.head(10)"
   ]
  },
  {
   "cell_type": "code",
   "execution_count": 8,
   "id": "e99f1219",
   "metadata": {},
   "outputs": [
    {
     "name": "stdout",
     "output_type": "stream",
     "text": [
      "<class 'pandas.core.frame.DataFrame'>\n",
      "RangeIndex: 2 entries, 0 to 1\n",
      "Data columns (total 4 columns):\n",
      " #   Column             Non-Null Count  Dtype \n",
      "---  ------             --------------  ----- \n",
      " 0   subscription_type  2 non-null      object\n",
      " 1   minute_price       2 non-null      int64 \n",
      " 2   start_ride_price   2 non-null      int64 \n",
      " 3   subscription_fee   2 non-null      int64 \n",
      "dtypes: int64(3), object(1)\n",
      "memory usage: 192.0+ bytes\n"
     ]
    }
   ],
   "source": [
    "data_subscriptions.info()"
   ]
  },
  {
   "cell_type": "markdown",
   "id": "750cfb49",
   "metadata": {},
   "source": [
    "### Промежуточный вывод "
   ]
  },
  {
   "cell_type": "markdown",
   "id": "7ab496ca",
   "metadata": {},
   "source": [
    "Из файла users_go мы видим, что всего отобрано 1565 пользователей, за которыми зафиксировано 18068\n",
    "записей по поездкам, находящиеся в файле rides_go.  \n",
    "В файле subscriptions_go находятся данные о параметрах подписок."
   ]
  },
  {
   "cell_type": "markdown",
   "id": "fd02743f",
   "metadata": {},
   "source": [
    "## Предобработка данных"
   ]
  },
  {
   "cell_type": "markdown",
   "id": "08134548",
   "metadata": {},
   "source": [
    "### Приведем столбец date к типу в формате даты"
   ]
  },
  {
   "cell_type": "code",
   "execution_count": 9,
   "id": "182f71b7",
   "metadata": {},
   "outputs": [],
   "source": [
    "data_rides['date'] = pd.to_datetime(data_rides['date'], format='%Y-%m-%d')"
   ]
  },
  {
   "cell_type": "code",
   "execution_count": 10,
   "id": "a734d031",
   "metadata": {},
   "outputs": [
    {
     "data": {
      "text/plain": [
       "2021    18068\n",
       "Name: date, dtype: int64"
      ]
     },
     "execution_count": 10,
     "metadata": {},
     "output_type": "execute_result"
    }
   ],
   "source": [
    "data_rides['date'].dt.year.value_counts()"
   ]
  },
  {
   "cell_type": "code",
   "execution_count": 11,
   "id": "0d461caa",
   "metadata": {},
   "outputs": [],
   "source": [
    "data_rides['month'] = data_rides['date'].dt.month"
   ]
  },
  {
   "cell_type": "code",
   "execution_count": 12,
   "id": "af6df7e3",
   "metadata": {},
   "outputs": [
    {
     "data": {
      "text/html": [
       "<div>\n",
       "<style scoped>\n",
       "    .dataframe tbody tr th:only-of-type {\n",
       "        vertical-align: middle;\n",
       "    }\n",
       "\n",
       "    .dataframe tbody tr th {\n",
       "        vertical-align: top;\n",
       "    }\n",
       "\n",
       "    .dataframe thead th {\n",
       "        text-align: right;\n",
       "    }\n",
       "</style>\n",
       "<table border=\"1\" class=\"dataframe\">\n",
       "  <thead>\n",
       "    <tr style=\"text-align: right;\">\n",
       "      <th></th>\n",
       "      <th>user_id</th>\n",
       "      <th>distance</th>\n",
       "      <th>duration</th>\n",
       "      <th>date</th>\n",
       "      <th>month</th>\n",
       "    </tr>\n",
       "  </thead>\n",
       "  <tbody>\n",
       "    <tr>\n",
       "      <th>0</th>\n",
       "      <td>1</td>\n",
       "      <td>4409.919140</td>\n",
       "      <td>25.599769</td>\n",
       "      <td>2021-01-01</td>\n",
       "      <td>1</td>\n",
       "    </tr>\n",
       "    <tr>\n",
       "      <th>1</th>\n",
       "      <td>1</td>\n",
       "      <td>2617.592153</td>\n",
       "      <td>15.816871</td>\n",
       "      <td>2021-01-18</td>\n",
       "      <td>1</td>\n",
       "    </tr>\n",
       "    <tr>\n",
       "      <th>2</th>\n",
       "      <td>1</td>\n",
       "      <td>754.159807</td>\n",
       "      <td>6.232113</td>\n",
       "      <td>2021-04-20</td>\n",
       "      <td>4</td>\n",
       "    </tr>\n",
       "    <tr>\n",
       "      <th>3</th>\n",
       "      <td>1</td>\n",
       "      <td>2694.783254</td>\n",
       "      <td>18.511000</td>\n",
       "      <td>2021-08-11</td>\n",
       "      <td>8</td>\n",
       "    </tr>\n",
       "    <tr>\n",
       "      <th>4</th>\n",
       "      <td>1</td>\n",
       "      <td>4028.687306</td>\n",
       "      <td>26.265803</td>\n",
       "      <td>2021-08-28</td>\n",
       "      <td>8</td>\n",
       "    </tr>\n",
       "  </tbody>\n",
       "</table>\n",
       "</div>"
      ],
      "text/plain": [
       "   user_id     distance   duration       date  month\n",
       "0        1  4409.919140  25.599769 2021-01-01      1\n",
       "1        1  2617.592153  15.816871 2021-01-18      1\n",
       "2        1   754.159807   6.232113 2021-04-20      4\n",
       "3        1  2694.783254  18.511000 2021-08-11      8\n",
       "4        1  4028.687306  26.265803 2021-08-28      8"
      ]
     },
     "execution_count": 12,
     "metadata": {},
     "output_type": "execute_result"
    }
   ],
   "source": [
    "data_rides.head() # проверяем результат"
   ]
  },
  {
   "cell_type": "markdown",
   "id": "b55e3263",
   "metadata": {},
   "source": [
    "### Проверяем датафреймы на наличие пропусков и дубликатов"
   ]
  },
  {
   "cell_type": "code",
   "execution_count": 13,
   "id": "cf9b9fde",
   "metadata": {},
   "outputs": [
    {
     "data": {
      "text/plain": [
       "user_id              0\n",
       "name                 0\n",
       "age                  0\n",
       "city                 0\n",
       "subscription_type    0\n",
       "dtype: int64"
      ]
     },
     "execution_count": 13,
     "metadata": {},
     "output_type": "execute_result"
    }
   ],
   "source": [
    "data_users.isna().sum()"
   ]
  },
  {
   "cell_type": "code",
   "execution_count": 14,
   "id": "6fca5edd",
   "metadata": {},
   "outputs": [
    {
     "data": {
      "text/plain": [
       "user_id     0\n",
       "distance    0\n",
       "duration    0\n",
       "date        0\n",
       "month       0\n",
       "dtype: int64"
      ]
     },
     "execution_count": 14,
     "metadata": {},
     "output_type": "execute_result"
    }
   ],
   "source": [
    "data_rides.isna().sum()"
   ]
  },
  {
   "cell_type": "code",
   "execution_count": 15,
   "id": "9181ad67",
   "metadata": {},
   "outputs": [
    {
     "data": {
      "text/plain": [
       "subscription_type    0\n",
       "minute_price         0\n",
       "start_ride_price     0\n",
       "subscription_fee     0\n",
       "dtype: int64"
      ]
     },
     "execution_count": 15,
     "metadata": {},
     "output_type": "execute_result"
    }
   ],
   "source": [
    "data_subscriptions.isna().sum()"
   ]
  },
  {
   "cell_type": "code",
   "execution_count": 16,
   "id": "d372be68",
   "metadata": {},
   "outputs": [
    {
     "data": {
      "text/plain": [
       "31"
      ]
     },
     "execution_count": 16,
     "metadata": {},
     "output_type": "execute_result"
    }
   ],
   "source": [
    "data_users.duplicated().sum()"
   ]
  },
  {
   "cell_type": "code",
   "execution_count": 17,
   "id": "e9fe161b",
   "metadata": {},
   "outputs": [],
   "source": [
    "data_users = data_users.drop_duplicates().reset_index() # удаляем дубликаты"
   ]
  },
  {
   "cell_type": "code",
   "execution_count": 18,
   "id": "a27f8502",
   "metadata": {},
   "outputs": [
    {
     "name": "stdout",
     "output_type": "stream",
     "text": [
      "<class 'pandas.core.frame.DataFrame'>\n",
      "RangeIndex: 1534 entries, 0 to 1533\n",
      "Data columns (total 6 columns):\n",
      " #   Column             Non-Null Count  Dtype \n",
      "---  ------             --------------  ----- \n",
      " 0   index              1534 non-null   int64 \n",
      " 1   user_id            1534 non-null   int64 \n",
      " 2   name               1534 non-null   object\n",
      " 3   age                1534 non-null   int64 \n",
      " 4   city               1534 non-null   object\n",
      " 5   subscription_type  1534 non-null   object\n",
      "dtypes: int64(3), object(3)\n",
      "memory usage: 72.0+ KB\n"
     ]
    }
   ],
   "source": [
    "data_users.info() # проверяем результат"
   ]
  },
  {
   "cell_type": "code",
   "execution_count": 19,
   "id": "95e1a51c",
   "metadata": {},
   "outputs": [
    {
     "data": {
      "text/plain": [
       "0"
      ]
     },
     "execution_count": 19,
     "metadata": {},
     "output_type": "execute_result"
    }
   ],
   "source": [
    "data_rides.duplicated().sum()"
   ]
  },
  {
   "cell_type": "code",
   "execution_count": 20,
   "id": "24dc78af",
   "metadata": {},
   "outputs": [
    {
     "data": {
      "text/plain": [
       "0"
      ]
     },
     "execution_count": 20,
     "metadata": {},
     "output_type": "execute_result"
    }
   ],
   "source": [
    "data_subscriptions.duplicated().sum()"
   ]
  },
  {
   "cell_type": "markdown",
   "id": "8c4e7bfd",
   "metadata": {},
   "source": [
    "### Промежуточный вывод "
   ]
  },
  {
   "cell_type": "markdown",
   "id": "51e9ea9d",
   "metadata": {},
   "source": [
    "На данном этапе добавили столбец с номером месяца в data_rides.  \n",
    "Проверили датафреймы на пропуски. Пропусков не обнаружилось.  \n",
    "Далее проверили датафреймы на дубликаты. Дубликаты обнаружились в количестве 31 шт. в data_users. В связи с тем, что дубликатов мало, можно их спокойно удалить без критической потери данных."
   ]
  },
  {
   "cell_type": "markdown",
   "id": "2e16cc1d",
   "metadata": {},
   "source": [
    "## Исследовательский анализ данных"
   ]
  },
  {
   "cell_type": "markdown",
   "id": "3158a1b0",
   "metadata": {},
   "source": [
    "### Частота встречаемости городов"
   ]
  },
  {
   "cell_type": "code",
   "execution_count": 21,
   "id": "257c7c3c",
   "metadata": {},
   "outputs": [
    {
     "data": {
      "text/plain": [
       "Пятигорск         219\n",
       "Екатеринбург      204\n",
       "Ростов-на-Дону    198\n",
       "Краснодар         193\n",
       "Сочи              189\n",
       "Омск              183\n",
       "Тюмень            180\n",
       "Москва            168\n",
       "Name: city, dtype: int64"
      ]
     },
     "execution_count": 21,
     "metadata": {},
     "output_type": "execute_result"
    }
   ],
   "source": [
    "data_users['city'].value_counts()"
   ]
  },
  {
   "cell_type": "code",
   "execution_count": 22,
   "id": "d6960718",
   "metadata": {},
   "outputs": [
    {
     "data": {
      "image/png": "[encoded data removed]",
      "text/plain": [
       "<Figure size 1080x504 with 1 Axes>"
      ]
     },
     "metadata": {
      "needs_background": "light"
     },
     "output_type": "display_data"
    }
   ],
   "source": [
    "data_users['city'].value_counts().plot(kind='bar', grid=True, figsize=(15, 7),\n",
    "                                      title='Количество пользователей в городах',\n",
    "                                      xlabel='Названия городов', ylabel='Количество пользователей');"
   ]
  },
  {
   "cell_type": "markdown",
   "id": "6b1f1e8c",
   "metadata": {},
   "source": [
    "Пользователи г. Пятигорск чаще всего всего пользуются сервисом - 14% от общего кол-ва  \n",
    "Пользователи из Москвы наоборот реже всего пользуются сервисом - 11% от общего кол-ва"
   ]
  },
  {
   "cell_type": "markdown",
   "id": "a13b8772",
   "metadata": {},
   "source": [
    "### Соотношение пользователей с подпиской и без подписки"
   ]
  },
  {
   "cell_type": "code",
   "execution_count": 23,
   "id": "19511d31",
   "metadata": {},
   "outputs": [
    {
     "data": {
      "text/plain": [
       "free     835\n",
       "ultra    699\n",
       "Name: subscription_type, dtype: int64"
      ]
     },
     "execution_count": 23,
     "metadata": {},
     "output_type": "execute_result"
    }
   ],
   "source": [
    "data_users['subscription_type'].value_counts()"
   ]
  },
  {
   "cell_type": "code",
   "execution_count": 24,
   "id": "ce11ed5d",
   "metadata": {},
   "outputs": [
    {
     "data": {
      "image/png": "[encoded data removed]",
      "text/plain": [
       "<Figure size 432x432 with 1 Axes>"
      ]
     },
     "metadata": {},
     "output_type": "display_data"
    }
   ],
   "source": [
    "data_users['subscription_type'].value_counts().plot(title='Соотношение пользователей с подпиской и без подписки',\n",
    "                                                    kind='pie', autopct='%1.0f%%', figsize=(6, 6));"
   ]
  },
  {
   "cell_type": "markdown",
   "id": "1eece3c4",
   "metadata": {},
   "source": [
    "Пользователей без подписки больше, чем пользователей с подпиской, на 8%"
   ]
  },
  {
   "cell_type": "markdown",
   "id": "0b2d57e5",
   "metadata": {},
   "source": [
    "### Возраст пользователей"
   ]
  },
  {
   "cell_type": "code",
   "execution_count": 25,
   "id": "9f8b2f61",
   "metadata": {},
   "outputs": [
    {
     "data": {
      "text/plain": [
       "count    1534.000000\n",
       "mean       24.903520\n",
       "std         4.572367\n",
       "min        12.000000\n",
       "25%        22.000000\n",
       "50%        25.000000\n",
       "75%        28.000000\n",
       "max        43.000000\n",
       "Name: age, dtype: float64"
      ]
     },
     "execution_count": 25,
     "metadata": {},
     "output_type": "execute_result"
    }
   ],
   "source": [
    "data_users['age'].describe()"
   ]
  },
  {
   "cell_type": "code",
   "execution_count": 26,
   "id": "fac091d7",
   "metadata": {},
   "outputs": [
    {
     "data": {
      "text/plain": [
       "887"
      ]
     },
     "execution_count": 26,
     "metadata": {},
     "output_type": "execute_result"
    }
   ],
   "source": [
    "data_users.query('22 <= age <= 28')['age'].count()"
   ]
  },
  {
   "cell_type": "code",
   "execution_count": 27,
   "id": "695bf2f4",
   "metadata": {},
   "outputs": [
    {
     "data": {
      "image/png": "[encoded data removed]",
      "text/plain": [
       "<Figure size 1080x504 with 1 Axes>"
      ]
     },
     "metadata": {
      "needs_background": "light"
     },
     "output_type": "display_data"
    }
   ],
   "source": [
    "data_users['age'].hist(bins=30,figsize=(15, 7))\n",
    "plt.title('Возраст пользователей')\n",
    "plt.xlabel('Возраст')\n",
    "plt.ylabel('Колличество пользователей');"
   ]
  },
  {
   "cell_type": "markdown",
   "id": "cecb5494",
   "metadata": {},
   "source": [
    "На графике мы видим преобладание пользователей в возрасте 25 лет.<br>\n",
    "Большинство пользователей сервиса находится в диапазоне 22-28 лет.<br>\n",
    "Минимальный возраст 12 лет, максимальный 43."
   ]
  },
  {
   "cell_type": "markdown",
   "id": "965e01f1",
   "metadata": {},
   "source": [
    "### Расстояние, которое пользователь преодолел за одну поездку"
   ]
  },
  {
   "cell_type": "code",
   "execution_count": 28,
   "id": "c90a5ac7",
   "metadata": {},
   "outputs": [
    {
     "data": {
      "text/plain": [
       "count    18068.000000\n",
       "mean      3070.659976\n",
       "std       1116.831209\n",
       "min          0.855683\n",
       "25%       2543.226360\n",
       "50%       3133.609994\n",
       "75%       3776.222735\n",
       "max       7211.007745\n",
       "Name: distance, dtype: float64"
      ]
     },
     "execution_count": 28,
     "metadata": {},
     "output_type": "execute_result"
    }
   ],
   "source": [
    "data_rides['distance'].describe()"
   ]
  },
  {
   "cell_type": "code",
   "execution_count": 29,
   "id": "008f6f53",
   "metadata": {},
   "outputs": [
    {
     "data": {
      "image/png": "[encoded data removed]",
      "text/plain": [
       "<Figure size 1080x504 with 1 Axes>"
      ]
     },
     "metadata": {
      "needs_background": "light"
     },
     "output_type": "display_data"
    }
   ],
   "source": [
    "data_rides['distance'].hist(bins=50, figsize=(15, 7))\n",
    "plt.title('Расстояние, пройденное за одну поездку')\n",
    "plt.xlabel('Расстояние, м.')\n",
    "plt.ylabel('Колличество поездок');"
   ]
  },
  {
   "cell_type": "markdown",
   "id": "5b8624c1",
   "metadata": {},
   "source": [
    "В среднем пользователи проезжают 3070 метров.<br>\n",
    "В основном это от 2543 м. до 3776 м.<br>\n",
    "Минимальное расстояние это 0.8 м. - сразу завершают аренду.<br>\n",
    "Максимальное расстояние 7211 м."
   ]
  },
  {
   "cell_type": "markdown",
   "id": "433abe20",
   "metadata": {},
   "source": [
    "### Продолжительность поездок"
   ]
  },
  {
   "cell_type": "code",
   "execution_count": 30,
   "id": "84ea757a",
   "metadata": {},
   "outputs": [
    {
     "data": {
      "text/plain": [
       "count    18068.000000\n",
       "mean        17.805011\n",
       "std          6.091051\n",
       "min          0.500000\n",
       "25%         13.597563\n",
       "50%         17.678395\n",
       "75%         21.724800\n",
       "max         40.823963\n",
       "Name: duration, dtype: float64"
      ]
     },
     "execution_count": 30,
     "metadata": {},
     "output_type": "execute_result"
    }
   ],
   "source": [
    "data_rides['duration'].describe()"
   ]
  },
  {
   "cell_type": "code",
   "execution_count": 31,
   "id": "ec12c99b",
   "metadata": {},
   "outputs": [
    {
     "data": {
      "image/png": "[encoded data removed]",
      "text/plain": [
       "<Figure size 1080x504 with 1 Axes>"
      ]
     },
     "metadata": {
      "needs_background": "light"
     },
     "output_type": "display_data"
    }
   ],
   "source": [
    "data_rides['duration'].hist(bins=30, figsize=(15,7))\n",
    "plt.title('Продолжительность поездок')\n",
    "plt.xlabel('Время, мин.')\n",
    "plt.ylabel('Колличество поездок');"
   ]
  },
  {
   "cell_type": "markdown",
   "id": "a0f2c4bb",
   "metadata": {},
   "source": [
    "В среднем пользователи ездят 17.8 мин.<br>\n",
    "В основном это от 13.6 мин. до 21.7 мин.<br>\n",
    "Минимальное время аренды это 30 сек.<br>\n",
    "Максимальное время аренды 40.8 мин."
   ]
  },
  {
   "cell_type": "markdown",
   "id": "4aac223d",
   "metadata": {},
   "source": [
    "## Объединение данных"
   ]
  },
  {
   "cell_type": "markdown",
   "id": "2ce824e6",
   "metadata": {},
   "source": [
    "### Объединяем данные о пользователях, поездках и подписках в один датафрейм"
   ]
  },
  {
   "cell_type": "code",
   "execution_count": 32,
   "id": "acdbbec4",
   "metadata": {},
   "outputs": [],
   "source": [
    "data = data_users.merge(data_rides, on='user_id', how='outer')"
   ]
  },
  {
   "cell_type": "code",
   "execution_count": 33,
   "id": "2a44f68b",
   "metadata": {},
   "outputs": [],
   "source": [
    "data = data.merge(data_subscriptions, on='subscription_type', how='outer')"
   ]
  },
  {
   "cell_type": "code",
   "execution_count": 34,
   "id": "97569317",
   "metadata": {},
   "outputs": [
    {
     "data": {
      "text/html": [
       "<div>\n",
       "<style scoped>\n",
       "    .dataframe tbody tr th:only-of-type {\n",
       "        vertical-align: middle;\n",
       "    }\n",
       "\n",
       "    .dataframe tbody tr th {\n",
       "        vertical-align: top;\n",
       "    }\n",
       "\n",
       "    .dataframe thead th {\n",
       "        text-align: right;\n",
       "    }\n",
       "</style>\n",
       "<table border=\"1\" class=\"dataframe\">\n",
       "  <thead>\n",
       "    <tr style=\"text-align: right;\">\n",
       "      <th></th>\n",
       "      <th>index</th>\n",
       "      <th>user_id</th>\n",
       "      <th>name</th>\n",
       "      <th>age</th>\n",
       "      <th>city</th>\n",
       "      <th>subscription_type</th>\n",
       "      <th>distance</th>\n",
       "      <th>duration</th>\n",
       "      <th>date</th>\n",
       "      <th>month</th>\n",
       "      <th>minute_price</th>\n",
       "      <th>start_ride_price</th>\n",
       "      <th>subscription_fee</th>\n",
       "    </tr>\n",
       "  </thead>\n",
       "  <tbody>\n",
       "    <tr>\n",
       "      <th>0</th>\n",
       "      <td>0</td>\n",
       "      <td>1</td>\n",
       "      <td>Кира</td>\n",
       "      <td>22</td>\n",
       "      <td>Тюмень</td>\n",
       "      <td>ultra</td>\n",
       "      <td>4409.919140</td>\n",
       "      <td>25.599769</td>\n",
       "      <td>2021-01-01</td>\n",
       "      <td>1</td>\n",
       "      <td>6</td>\n",
       "      <td>0</td>\n",
       "      <td>199</td>\n",
       "    </tr>\n",
       "    <tr>\n",
       "      <th>1</th>\n",
       "      <td>0</td>\n",
       "      <td>1</td>\n",
       "      <td>Кира</td>\n",
       "      <td>22</td>\n",
       "      <td>Тюмень</td>\n",
       "      <td>ultra</td>\n",
       "      <td>2617.592153</td>\n",
       "      <td>15.816871</td>\n",
       "      <td>2021-01-18</td>\n",
       "      <td>1</td>\n",
       "      <td>6</td>\n",
       "      <td>0</td>\n",
       "      <td>199</td>\n",
       "    </tr>\n",
       "    <tr>\n",
       "      <th>2</th>\n",
       "      <td>0</td>\n",
       "      <td>1</td>\n",
       "      <td>Кира</td>\n",
       "      <td>22</td>\n",
       "      <td>Тюмень</td>\n",
       "      <td>ultra</td>\n",
       "      <td>754.159807</td>\n",
       "      <td>6.232113</td>\n",
       "      <td>2021-04-20</td>\n",
       "      <td>4</td>\n",
       "      <td>6</td>\n",
       "      <td>0</td>\n",
       "      <td>199</td>\n",
       "    </tr>\n",
       "    <tr>\n",
       "      <th>3</th>\n",
       "      <td>0</td>\n",
       "      <td>1</td>\n",
       "      <td>Кира</td>\n",
       "      <td>22</td>\n",
       "      <td>Тюмень</td>\n",
       "      <td>ultra</td>\n",
       "      <td>2694.783254</td>\n",
       "      <td>18.511000</td>\n",
       "      <td>2021-08-11</td>\n",
       "      <td>8</td>\n",
       "      <td>6</td>\n",
       "      <td>0</td>\n",
       "      <td>199</td>\n",
       "    </tr>\n",
       "    <tr>\n",
       "      <th>4</th>\n",
       "      <td>0</td>\n",
       "      <td>1</td>\n",
       "      <td>Кира</td>\n",
       "      <td>22</td>\n",
       "      <td>Тюмень</td>\n",
       "      <td>ultra</td>\n",
       "      <td>4028.687306</td>\n",
       "      <td>26.265803</td>\n",
       "      <td>2021-08-28</td>\n",
       "      <td>8</td>\n",
       "      <td>6</td>\n",
       "      <td>0</td>\n",
       "      <td>199</td>\n",
       "    </tr>\n",
       "  </tbody>\n",
       "</table>\n",
       "</div>"
      ],
      "text/plain": [
       "   index  user_id  name  age    city subscription_type     distance  \\\n",
       "0      0        1  Кира   22  Тюмень             ultra  4409.919140   \n",
       "1      0        1  Кира   22  Тюмень             ultra  2617.592153   \n",
       "2      0        1  Кира   22  Тюмень             ultra   754.159807   \n",
       "3      0        1  Кира   22  Тюмень             ultra  2694.783254   \n",
       "4      0        1  Кира   22  Тюмень             ultra  4028.687306   \n",
       "\n",
       "    duration       date  month  minute_price  start_ride_price  \\\n",
       "0  25.599769 2021-01-01      1             6                 0   \n",
       "1  15.816871 2021-01-18      1             6                 0   \n",
       "2   6.232113 2021-04-20      4             6                 0   \n",
       "3  18.511000 2021-08-11      8             6                 0   \n",
       "4  26.265803 2021-08-28      8             6                 0   \n",
       "\n",
       "   subscription_fee  \n",
       "0               199  \n",
       "1               199  \n",
       "2               199  \n",
       "3               199  \n",
       "4               199  "
      ]
     },
     "execution_count": 34,
     "metadata": {},
     "output_type": "execute_result"
    }
   ],
   "source": [
    "data.head()"
   ]
  },
  {
   "cell_type": "code",
   "execution_count": 35,
   "id": "d4473ca3",
   "metadata": {},
   "outputs": [
    {
     "name": "stdout",
     "output_type": "stream",
     "text": [
      "<class 'pandas.core.frame.DataFrame'>\n",
      "Int64Index: 18068 entries, 0 to 18067\n",
      "Data columns (total 13 columns):\n",
      " #   Column             Non-Null Count  Dtype         \n",
      "---  ------             --------------  -----         \n",
      " 0   index              18068 non-null  int64         \n",
      " 1   user_id            18068 non-null  int64         \n",
      " 2   name               18068 non-null  object        \n",
      " 3   age                18068 non-null  int64         \n",
      " 4   city               18068 non-null  object        \n",
      " 5   subscription_type  18068 non-null  object        \n",
      " 6   distance           18068 non-null  float64       \n",
      " 7   duration           18068 non-null  float64       \n",
      " 8   date               18068 non-null  datetime64[ns]\n",
      " 9   month              18068 non-null  int64         \n",
      " 10  minute_price       18068 non-null  int64         \n",
      " 11  start_ride_price   18068 non-null  int64         \n",
      " 12  subscription_fee   18068 non-null  int64         \n",
      "dtypes: datetime64[ns](1), float64(2), int64(7), object(3)\n",
      "memory usage: 1.9+ MB\n"
     ]
    }
   ],
   "source": [
    "data.info()"
   ]
  },
  {
   "cell_type": "markdown",
   "id": "8a674db4",
   "metadata": {},
   "source": [
    "### Создаем датафрейм c данными о пользователях без подписки"
   ]
  },
  {
   "cell_type": "code",
   "execution_count": 36,
   "id": "c5cb0365",
   "metadata": {},
   "outputs": [],
   "source": [
    "subscription_type_free = data.query('subscription_type == \"free\"')"
   ]
  },
  {
   "cell_type": "markdown",
   "id": "51108055",
   "metadata": {},
   "source": [
    "### Создаем датафрейм c данными о пользователях с подпиской"
   ]
  },
  {
   "cell_type": "code",
   "execution_count": 37,
   "id": "78557709",
   "metadata": {},
   "outputs": [],
   "source": [
    "subscription_type_ultra = data.query('subscription_type == \"ultra\"')"
   ]
  },
  {
   "cell_type": "markdown",
   "id": "8bffb0e9",
   "metadata": {},
   "source": [
    "### Визуализируем информацию о расстоянии и времени поездок для пользователей обеих категорий"
   ]
  },
  {
   "cell_type": "code",
   "execution_count": 38,
   "id": "054119f4",
   "metadata": {},
   "outputs": [
    {
     "data": {
      "image/png": "[encoded data removed]",
      "text/plain": [
       "<Figure size 1080x504 with 1 Axes>"
      ]
     },
     "metadata": {
      "needs_background": "light"
     },
     "output_type": "display_data"
    }
   ],
   "source": [
    "subscription_type_free['distance'].hist(bins=50, figsize=(15, 7))\n",
    "plt.title('Пройденное расстояние пользователями без подписки')\n",
    "plt.xlabel('Расстояние, м.')\n",
    "plt.ylabel('Колличество поездок');"
   ]
  },
  {
   "cell_type": "code",
   "execution_count": 39,
   "id": "7eb354f6",
   "metadata": {},
   "outputs": [
    {
     "data": {
      "image/png": "[encoded data removed]",
      "text/plain": [
       "<Figure size 1080x504 with 1 Axes>"
      ]
     },
     "metadata": {
      "needs_background": "light"
     },
     "output_type": "display_data"
    }
   ],
   "source": [
    "subscription_type_ultra['distance'].hist(bins=50, figsize=(15, 7))\n",
    "plt.title('Пройденное расстояние пользователями с подпиской')\n",
    "plt.xlabel('Расстояние, м.')\n",
    "plt.ylabel('Колличество поездок');"
   ]
  },
  {
   "cell_type": "markdown",
   "id": "682e3904",
   "metadata": {},
   "source": [
    "Пользователи без подписки проезжают в основном от 2.3 до 3.9 км.<br>\n",
    "Пользователи с подпиской проезжают в основном от 2.8 до 3.6 км."
   ]
  },
  {
   "cell_type": "code",
   "execution_count": 40,
   "id": "8e5f4473",
   "metadata": {},
   "outputs": [
    {
     "data": {
      "image/png": "[encoded data removed]",
      "text/plain": [
       "<Figure size 1080x504 with 1 Axes>"
      ]
     },
     "metadata": {
      "needs_background": "light"
     },
     "output_type": "display_data"
    }
   ],
   "source": [
    "subscription_type_free['duration'].hist(bins=35, figsize=(15, 7))\n",
    "plt.title('Время в пути пользователей без подписки')\n",
    "plt.xlabel('Время, мин.')\n",
    "plt.ylabel('Колличество поездок');"
   ]
  },
  {
   "cell_type": "code",
   "execution_count": 41,
   "id": "4960592c",
   "metadata": {},
   "outputs": [
    {
     "data": {
      "image/png": "[encoded data removed]",
      "text/plain": [
       "<Figure size 1080x504 with 1 Axes>"
      ]
     },
     "metadata": {
      "needs_background": "light"
     },
     "output_type": "display_data"
    }
   ],
   "source": [
    "subscription_type_ultra['duration'].hist(bins=35, figsize=(15, 7))\n",
    "plt.title('Время в пути пользователей с подпиской')\n",
    "plt.xlabel('Время, мин.')\n",
    "plt.ylabel('Колличество поездок');"
   ]
  },
  {
   "cell_type": "markdown",
   "id": "6e0f675d",
   "metadata": {},
   "source": [
    "Пользователи без подписки тратят на поездки в основном от 13 до 22 мин.<br>\n",
    "Пользователи с подпиской тратят на поездки в основном от 14.5 до 22 мин."
   ]
  },
  {
   "cell_type": "markdown",
   "id": "215c2307",
   "metadata": {},
   "source": [
    "## Подсчёт выручки"
   ]
  },
  {
   "cell_type": "markdown",
   "id": "99d10e27",
   "metadata": {},
   "source": [
    "### Создаем датафрейм с агрегированными данными о поездках"
   ]
  },
  {
   "cell_type": "code",
   "execution_count": 42,
   "id": "2d5d7b16",
   "metadata": {},
   "outputs": [],
   "source": [
    "agregate_data = data.pivot_table(index=['user_id', 'month'], \n",
    "                                 values=['distance', 'name', 'duration', 'subscription_type'], \n",
    "                                 aggfunc={'distance':'sum', 'name':'count', \n",
    "                                          'duration':'sum', 'subscription_type': 'max'})"
   ]
  },
  {
   "cell_type": "code",
   "execution_count": 43,
   "id": "eb11e32a",
   "metadata": {},
   "outputs": [],
   "source": [
    "agregate_data['duration'] = np.ceil(agregate_data['duration']) "
   ]
  },
  {
   "cell_type": "code",
   "execution_count": 44,
   "id": "4c6b3fd3",
   "metadata": {},
   "outputs": [
    {
     "data": {
      "text/html": [
       "<div>\n",
       "<style scoped>\n",
       "    .dataframe tbody tr th:only-of-type {\n",
       "        vertical-align: middle;\n",
       "    }\n",
       "\n",
       "    .dataframe tbody tr th {\n",
       "        vertical-align: top;\n",
       "    }\n",
       "\n",
       "    .dataframe thead th {\n",
       "        text-align: right;\n",
       "    }\n",
       "</style>\n",
       "<table border=\"1\" class=\"dataframe\">\n",
       "  <thead>\n",
       "    <tr style=\"text-align: right;\">\n",
       "      <th></th>\n",
       "      <th></th>\n",
       "      <th>distance</th>\n",
       "      <th>duration</th>\n",
       "      <th>name</th>\n",
       "      <th>subscription_type</th>\n",
       "    </tr>\n",
       "    <tr>\n",
       "      <th>user_id</th>\n",
       "      <th>month</th>\n",
       "      <th></th>\n",
       "      <th></th>\n",
       "      <th></th>\n",
       "      <th></th>\n",
       "    </tr>\n",
       "  </thead>\n",
       "  <tbody>\n",
       "    <tr>\n",
       "      <th rowspan=\"5\" valign=\"top\">1</th>\n",
       "      <th>1</th>\n",
       "      <td>7027.511294</td>\n",
       "      <td>42.0</td>\n",
       "      <td>2</td>\n",
       "      <td>ultra</td>\n",
       "    </tr>\n",
       "    <tr>\n",
       "      <th>4</th>\n",
       "      <td>754.159807</td>\n",
       "      <td>7.0</td>\n",
       "      <td>1</td>\n",
       "      <td>ultra</td>\n",
       "    </tr>\n",
       "    <tr>\n",
       "      <th>8</th>\n",
       "      <td>6723.470560</td>\n",
       "      <td>45.0</td>\n",
       "      <td>2</td>\n",
       "      <td>ultra</td>\n",
       "    </tr>\n",
       "    <tr>\n",
       "      <th>10</th>\n",
       "      <td>5809.911100</td>\n",
       "      <td>32.0</td>\n",
       "      <td>2</td>\n",
       "      <td>ultra</td>\n",
       "    </tr>\n",
       "    <tr>\n",
       "      <th>11</th>\n",
       "      <td>7003.499363</td>\n",
       "      <td>54.0</td>\n",
       "      <td>3</td>\n",
       "      <td>ultra</td>\n",
       "    </tr>\n",
       "    <tr>\n",
       "      <th>...</th>\n",
       "      <th>...</th>\n",
       "      <td>...</td>\n",
       "      <td>...</td>\n",
       "      <td>...</td>\n",
       "      <td>...</td>\n",
       "    </tr>\n",
       "    <tr>\n",
       "      <th rowspan=\"5\" valign=\"top\">1534</th>\n",
       "      <th>6</th>\n",
       "      <td>3409.468534</td>\n",
       "      <td>25.0</td>\n",
       "      <td>2</td>\n",
       "      <td>free</td>\n",
       "    </tr>\n",
       "    <tr>\n",
       "      <th>8</th>\n",
       "      <td>7622.453034</td>\n",
       "      <td>48.0</td>\n",
       "      <td>2</td>\n",
       "      <td>free</td>\n",
       "    </tr>\n",
       "    <tr>\n",
       "      <th>9</th>\n",
       "      <td>4928.173852</td>\n",
       "      <td>23.0</td>\n",
       "      <td>1</td>\n",
       "      <td>free</td>\n",
       "    </tr>\n",
       "    <tr>\n",
       "      <th>11</th>\n",
       "      <td>13350.015305</td>\n",
       "      <td>77.0</td>\n",
       "      <td>4</td>\n",
       "      <td>free</td>\n",
       "    </tr>\n",
       "    <tr>\n",
       "      <th>12</th>\n",
       "      <td>2371.711192</td>\n",
       "      <td>16.0</td>\n",
       "      <td>1</td>\n",
       "      <td>free</td>\n",
       "    </tr>\n",
       "  </tbody>\n",
       "</table>\n",
       "<p>11331 rows × 4 columns</p>\n",
       "</div>"
      ],
      "text/plain": [
       "                   distance  duration  name subscription_type\n",
       "user_id month                                                \n",
       "1       1       7027.511294      42.0     2             ultra\n",
       "        4        754.159807       7.0     1             ultra\n",
       "        8       6723.470560      45.0     2             ultra\n",
       "        10      5809.911100      32.0     2             ultra\n",
       "        11      7003.499363      54.0     3             ultra\n",
       "...                     ...       ...   ...               ...\n",
       "1534    6       3409.468534      25.0     2              free\n",
       "        8       7622.453034      48.0     2              free\n",
       "        9       4928.173852      23.0     1              free\n",
       "        11     13350.015305      77.0     4              free\n",
       "        12      2371.711192      16.0     1              free\n",
       "\n",
       "[11331 rows x 4 columns]"
      ]
     },
     "execution_count": 44,
     "metadata": {},
     "output_type": "execute_result"
    }
   ],
   "source": [
    "agregate_data"
   ]
  },
  {
   "cell_type": "markdown",
   "id": "40d7bc51",
   "metadata": {},
   "source": [
    "### Добавляем в датафрейм столбец с помесячной выручкой"
   ]
  },
  {
   "cell_type": "code",
   "execution_count": 45,
   "id": "429d7c4a",
   "metadata": {},
   "outputs": [],
   "source": [
    "def revenue(row):\n",
    "    if row['subscription_type'] == 'ultra':\n",
    "        return (6 * row['duration'] + 199)\n",
    "    else:\n",
    "        return (50 * row['name'] + 8 * row['duration'])"
   ]
  },
  {
   "cell_type": "code",
   "execution_count": 46,
   "id": "715718b0",
   "metadata": {},
   "outputs": [],
   "source": [
    "agregate_data['revenue'] = agregate_data.apply(revenue, axis=1)"
   ]
  },
  {
   "cell_type": "code",
   "execution_count": 47,
   "id": "2ae221d5",
   "metadata": {},
   "outputs": [
    {
     "data": {
      "text/html": [
       "<div>\n",
       "<style scoped>\n",
       "    .dataframe tbody tr th:only-of-type {\n",
       "        vertical-align: middle;\n",
       "    }\n",
       "\n",
       "    .dataframe tbody tr th {\n",
       "        vertical-align: top;\n",
       "    }\n",
       "\n",
       "    .dataframe thead th {\n",
       "        text-align: right;\n",
       "    }\n",
       "</style>\n",
       "<table border=\"1\" class=\"dataframe\">\n",
       "  <thead>\n",
       "    <tr style=\"text-align: right;\">\n",
       "      <th></th>\n",
       "      <th></th>\n",
       "      <th>distance</th>\n",
       "      <th>duration</th>\n",
       "      <th>name</th>\n",
       "      <th>subscription_type</th>\n",
       "      <th>revenue</th>\n",
       "    </tr>\n",
       "    <tr>\n",
       "      <th>user_id</th>\n",
       "      <th>month</th>\n",
       "      <th></th>\n",
       "      <th></th>\n",
       "      <th></th>\n",
       "      <th></th>\n",
       "      <th></th>\n",
       "    </tr>\n",
       "  </thead>\n",
       "  <tbody>\n",
       "    <tr>\n",
       "      <th rowspan=\"5\" valign=\"top\">1</th>\n",
       "      <th>1</th>\n",
       "      <td>7027.511294</td>\n",
       "      <td>42.0</td>\n",
       "      <td>2</td>\n",
       "      <td>ultra</td>\n",
       "      <td>451.0</td>\n",
       "    </tr>\n",
       "    <tr>\n",
       "      <th>4</th>\n",
       "      <td>754.159807</td>\n",
       "      <td>7.0</td>\n",
       "      <td>1</td>\n",
       "      <td>ultra</td>\n",
       "      <td>241.0</td>\n",
       "    </tr>\n",
       "    <tr>\n",
       "      <th>8</th>\n",
       "      <td>6723.470560</td>\n",
       "      <td>45.0</td>\n",
       "      <td>2</td>\n",
       "      <td>ultra</td>\n",
       "      <td>469.0</td>\n",
       "    </tr>\n",
       "    <tr>\n",
       "      <th>10</th>\n",
       "      <td>5809.911100</td>\n",
       "      <td>32.0</td>\n",
       "      <td>2</td>\n",
       "      <td>ultra</td>\n",
       "      <td>391.0</td>\n",
       "    </tr>\n",
       "    <tr>\n",
       "      <th>11</th>\n",
       "      <td>7003.499363</td>\n",
       "      <td>54.0</td>\n",
       "      <td>3</td>\n",
       "      <td>ultra</td>\n",
       "      <td>523.0</td>\n",
       "    </tr>\n",
       "    <tr>\n",
       "      <th>...</th>\n",
       "      <th>...</th>\n",
       "      <td>...</td>\n",
       "      <td>...</td>\n",
       "      <td>...</td>\n",
       "      <td>...</td>\n",
       "      <td>...</td>\n",
       "    </tr>\n",
       "    <tr>\n",
       "      <th rowspan=\"5\" valign=\"top\">1534</th>\n",
       "      <th>6</th>\n",
       "      <td>3409.468534</td>\n",
       "      <td>25.0</td>\n",
       "      <td>2</td>\n",
       "      <td>free</td>\n",
       "      <td>300.0</td>\n",
       "    </tr>\n",
       "    <tr>\n",
       "      <th>8</th>\n",
       "      <td>7622.453034</td>\n",
       "      <td>48.0</td>\n",
       "      <td>2</td>\n",
       "      <td>free</td>\n",
       "      <td>484.0</td>\n",
       "    </tr>\n",
       "    <tr>\n",
       "      <th>9</th>\n",
       "      <td>4928.173852</td>\n",
       "      <td>23.0</td>\n",
       "      <td>1</td>\n",
       "      <td>free</td>\n",
       "      <td>234.0</td>\n",
       "    </tr>\n",
       "    <tr>\n",
       "      <th>11</th>\n",
       "      <td>13350.015305</td>\n",
       "      <td>77.0</td>\n",
       "      <td>4</td>\n",
       "      <td>free</td>\n",
       "      <td>816.0</td>\n",
       "    </tr>\n",
       "    <tr>\n",
       "      <th>12</th>\n",
       "      <td>2371.711192</td>\n",
       "      <td>16.0</td>\n",
       "      <td>1</td>\n",
       "      <td>free</td>\n",
       "      <td>178.0</td>\n",
       "    </tr>\n",
       "  </tbody>\n",
       "</table>\n",
       "<p>11331 rows × 5 columns</p>\n",
       "</div>"
      ],
      "text/plain": [
       "                   distance  duration  name subscription_type  revenue\n",
       "user_id month                                                         \n",
       "1       1       7027.511294      42.0     2             ultra    451.0\n",
       "        4        754.159807       7.0     1             ultra    241.0\n",
       "        8       6723.470560      45.0     2             ultra    469.0\n",
       "        10      5809.911100      32.0     2             ultra    391.0\n",
       "        11      7003.499363      54.0     3             ultra    523.0\n",
       "...                     ...       ...   ...               ...      ...\n",
       "1534    6       3409.468534      25.0     2              free    300.0\n",
       "        8       7622.453034      48.0     2              free    484.0\n",
       "        9       4928.173852      23.0     1              free    234.0\n",
       "        11     13350.015305      77.0     4              free    816.0\n",
       "        12      2371.711192      16.0     1              free    178.0\n",
       "\n",
       "[11331 rows x 5 columns]"
      ]
     },
     "execution_count": 47,
     "metadata": {},
     "output_type": "execute_result"
    }
   ],
   "source": [
    "agregate_data"
   ]
  },
  {
   "cell_type": "markdown",
   "id": "706e33e7",
   "metadata": {},
   "source": [
    "## Проверка гипотез"
   ]
  },
  {
   "cell_type": "markdown",
   "id": "f07a8678",
   "metadata": {},
   "source": [
    "### Проверка гипотезы № 1"
   ]
  },
  {
   "cell_type": "markdown",
   "id": "fa9e1b78",
   "metadata": {},
   "source": [
    "Гипотеза H0: пользователи с подпиской и без подписки тратят одинаковое количество времени на поездки.<br>\n",
    "Гипотеза H1: пользователи с подпиской тратят больше времени на поездки, чем пользователи без подписки."
   ]
  },
  {
   "cell_type": "code",
   "execution_count": 48,
   "id": "9954d3bf",
   "metadata": {},
   "outputs": [],
   "source": [
    "ultra_duration = data.query('subscription_type == \"ultra\"')['duration']\n",
    "free_duration = data.query('subscription_type == \"free\"')['duration']"
   ]
  },
  {
   "cell_type": "code",
   "execution_count": 49,
   "id": "63d2ff3f",
   "metadata": {},
   "outputs": [
    {
     "data": {
      "text/plain": [
       "count    6500.000000\n",
       "mean       18.541985\n",
       "std         5.572048\n",
       "min         3.760353\n",
       "25%        14.524654\n",
       "50%        18.178153\n",
       "75%        21.884129\n",
       "max        40.823963\n",
       "Name: duration, dtype: float64"
      ]
     },
     "metadata": {},
     "output_type": "display_data"
    },
    {
     "data": {
      "text/plain": [
       "count    11568.000000\n",
       "mean        17.390909\n",
       "std          6.326803\n",
       "min          0.500000\n",
       "25%         12.958437\n",
       "50%         17.326890\n",
       "75%         21.594071\n",
       "max         34.948498\n",
       "Name: duration, dtype: float64"
      ]
     },
     "metadata": {},
     "output_type": "display_data"
    }
   ],
   "source": [
    "display(ultra_duration.describe())\n",
    "display(free_duration.describe())"
   ]
  },
  {
   "cell_type": "code",
   "execution_count": 50,
   "id": "710871f6",
   "metadata": {},
   "outputs": [
    {
     "name": "stdout",
     "output_type": "stream",
     "text": [
      "p-значение: 1.2804098316645618e-34\n",
      "Отвергаем нулевую гипотезу\n"
     ]
    }
   ],
   "source": [
    "results = st.ttest_ind(ultra_duration, free_duration, alternative='greater')\n",
    "\n",
    "print('p-значение:', results.pvalue)\n",
    "\n",
    "alpha = 0.05\n",
    "\n",
    "if results.pvalue < alpha:\n",
    "    print('Отвергаем нулевую гипотезу')\n",
    "else:\n",
    "    print('Не получилось отвергнуть нулевую гипотезу') "
   ]
  },
  {
   "cell_type": "markdown",
   "id": "336f299e",
   "metadata": {},
   "source": [
    "p-значение < alpha - отвергаем нулевую гипотезу.  \n",
    "Можно сказать, что пользователи с подпиской тратят больше времени на поездки, чем пользователи без подписки."
   ]
  },
  {
   "cell_type": "markdown",
   "id": "9e842d3b",
   "metadata": {},
   "source": [
    "### Проверка гипотезы № 2"
   ]
  },
  {
   "cell_type": "markdown",
   "id": "e7eae342",
   "metadata": {},
   "source": [
    "Гипотеза H0: пользователи с подпиской проезжают за одну поездку 3130 метров.<br>\n",
    "Гипотеза H1: пользователи с подпиской проезжают за одну поездку меньше 3130 метров."
   ]
  },
  {
   "cell_type": "code",
   "execution_count": 51,
   "id": "711fecec",
   "metadata": {},
   "outputs": [],
   "source": [
    "ultra_distance = data.query('subscription_type == \"ultra\"')['distance']\n",
    "free_distance = data.query('subscription_type == \"free\"')['distance']"
   ]
  },
  {
   "cell_type": "code",
   "execution_count": 52,
   "id": "471c6b95",
   "metadata": {},
   "outputs": [
    {
     "data": {
      "text/plain": [
       "count    6500.000000\n",
       "mean     3115.445388\n",
       "std       836.895330\n",
       "min       244.210438\n",
       "25%      2785.444017\n",
       "50%      3148.637229\n",
       "75%      3560.574425\n",
       "max      5699.769662\n",
       "Name: distance, dtype: float64"
      ]
     },
     "metadata": {},
     "output_type": "display_data"
    },
    {
     "data": {
      "text/plain": [
       "count    11568.000000\n",
       "mean      3045.495282\n",
       "std       1246.173806\n",
       "min          0.855683\n",
       "25%       2366.562689\n",
       "50%       3114.648465\n",
       "75%       3905.697894\n",
       "max       7211.007745\n",
       "Name: distance, dtype: float64"
      ]
     },
     "metadata": {},
     "output_type": "display_data"
    }
   ],
   "source": [
    "display(ultra_distance.describe())\n",
    "display(free_distance.describe())"
   ]
  },
  {
   "cell_type": "code",
   "execution_count": 53,
   "id": "1544c64a",
   "metadata": {},
   "outputs": [
    {
     "name": "stdout",
     "output_type": "stream",
     "text": [
      "p-значение: 0.08046311521502146\n",
      "Не отвергаем нулевую гипотезу\n"
     ]
    }
   ],
   "source": [
    "distance_value = 3130\n",
    "\n",
    "results = st.ttest_1samp(ultra_distance, distance_value, alternative='less')\n",
    "\n",
    "print('p-значение:', results.pvalue)\n",
    "\n",
    "alpha = 0.05\n",
    "\n",
    "if (results.pvalue < alpha):\n",
    "    print('Отвергаем нулевую гипотезу')\n",
    "else:\n",
    "    print('Не отвергаем нулевую гипотезу')"
   ]
  },
  {
   "cell_type": "markdown",
   "id": "f480af02",
   "metadata": {},
   "source": [
    "p-значение > alpha - нулевую гипотезу отвергнуть не можем. <br>\n",
    "Можем сказать, что пользователи с подпиской проезжают за одну поездку 3130 метров или больше."
   ]
  },
  {
   "cell_type": "markdown",
   "id": "8a723ed7",
   "metadata": {},
   "source": [
    "### Проверка гипотезы № 3"
   ]
  },
  {
   "cell_type": "markdown",
   "id": "141bba16",
   "metadata": {},
   "source": [
    "Гипотеза H0: выручка пользователей с подпиской и пользователей без подписки равна.<br>\n",
    "Гипотеза H1: выручка от пользователей с подпиской выше, чем выручка от пользователей без подписки. "
   ]
  },
  {
   "cell_type": "code",
   "execution_count": 54,
   "id": "10449360",
   "metadata": {},
   "outputs": [],
   "source": [
    "ultra_revenue = agregate_data.query('subscription_type == \"ultra\"')['revenue']\n",
    "free_revenue = agregate_data.query('subscription_type == \"free\"')['revenue']"
   ]
  },
  {
   "cell_type": "code",
   "execution_count": 55,
   "id": "acb69472",
   "metadata": {},
   "outputs": [
    {
     "data": {
      "text/plain": [
       "count    4533.000000\n",
       "mean      361.481800\n",
       "std        86.399966\n",
       "min       223.000000\n",
       "25%       301.000000\n",
       "50%       331.000000\n",
       "75%       403.000000\n",
       "max       943.000000\n",
       "Name: revenue, dtype: float64"
      ]
     },
     "metadata": {},
     "output_type": "display_data"
    },
    {
     "data": {
      "text/plain": [
       "count    6798.000000\n",
       "mean      325.842895\n",
       "std       180.515646\n",
       "min        58.000000\n",
       "25%       194.000000\n",
       "50%       268.000000\n",
       "75%       420.000000\n",
       "max      1428.000000\n",
       "Name: revenue, dtype: float64"
      ]
     },
     "metadata": {},
     "output_type": "display_data"
    }
   ],
   "source": [
    "display(ultra_revenue.describe())\n",
    "display(free_revenue.describe())"
   ]
  },
  {
   "cell_type": "code",
   "execution_count": 56,
   "id": "6a3ef421",
   "metadata": {},
   "outputs": [
    {
     "name": "stdout",
     "output_type": "stream",
     "text": [
      "p-значение: 2.8130926188487286e-35\n",
      "Отвергаем нулевую гипотезу\n"
     ]
    }
   ],
   "source": [
    "results = st.ttest_ind(ultra_revenue, free_revenue, alternative='greater')\n",
    "\n",
    "print('p-значение:', results.pvalue)\n",
    "\n",
    "alpha = 0.05\n",
    "\n",
    "if results.pvalue < alpha:\n",
    "    print('Отвергаем нулевую гипотезу')\n",
    "else:\n",
    "    print('Не получилось отвергнуть нулевую гипотезу') "
   ]
  },
  {
   "cell_type": "markdown",
   "id": "86143edf",
   "metadata": {},
   "source": [
    "p-значение < alpha - нулевую гипотезу отвергаем.<br>\n",
    "Можем сказать, что выручка от пользователей с подпиской выше, чем выручка от пользователей без подписки."
   ]
  },
  {
   "cell_type": "markdown",
   "id": "247f6252",
   "metadata": {},
   "source": [
    "## Вывод"
   ]
  },
  {
   "cell_type": "markdown",
   "id": "78494b36",
   "metadata": {},
   "source": [
    "На входе были получены таблицы с информацией о пользователях, их поездках и подписка в сервисе аренды самокатов GoFast.<br>\n",
    "<br>\n",
    "Проанализировав таблицу, выяснились некоторые проблемы, которые требовалось исправить, а именно:<br>\n",
    "    -исправить тип данных в столбце date таблицы rides_go.<br>\n",
    "    -выявлены дубликаты в таблице users_go.<br>\n",
    "Тип данных приведен к типу даты, дубликаты удалены.<br>\n",
    "<br>\n",
    "Далее исследовали следующую информацию:<br>\n",
    "    - частота встречаемости городов;<br>\n",
    "    - соотношение пользователей с подпиской и без подписки;<br>\n",
    "    - возраст пользователей;<br>\n",
    "    - расстояние, которое пользователь преодолел за одну поездку;<br>\n",
    "    - продолжительность поездок.<br>\n",
    "Пользователи г. Пятигорск чаще всего всего пользуются сервисом - 14% от общего кол-ва.<br>\n",
    "Пользователи из Москвы наоборот реже всего пользуются сервисом - 11% от общего кол-ва.<br>\n",
    "<br>\n",
    "Количество пользователей с подпиской составило 46%, а без подписки 54% соответственно.<br>\n",
    "<br>\n",
    "Самое больше кол-во пользователей в возрасте 25 лет. Большинство пользователей сервиса находится в диапазоне 22-28 лет, таких 887 из 1534. Минимальный возраст пользователей 12 лет, максимальный 43.<br>\n",
    "<br>\n",
    "В среднем пользователи проезжают 3070 метров. Основная часть поездок приходится на расстояния от 2543 м. до 3776 м. Минимальное расстояние поездки 0.8 м. - возможно, пользователю, не понравился самокат или были технические неисправности. Максимальное расстояние поездки 7211 м.<br>\n",
    "<br>\n",
    "В среднем пользователи ездят 17.8 мин. Основная часть поездок приходится по времени от 13.6 мин. до 21.7 мин. Минимальное время аренды это 30 сек, максимальное время аренды 40.8 мин.<br>\n",
    "<br>\n",
    "Далее мы построили гистограммы пройденного расстояния и затраченного времени пользователями с подпиской и без.<br>\n",
    "Исходя из графиков, можно сказать, пользователи без подписки проезжают в основном от 2.3 до 3.9 км. Пользователи с подпиской проезжают в основном от 2.8 до 3.6 км.<br>\n",
    "Пользователи без подписки тратят на поездки в основном от 13 до 22 мин. Пользователи с подпиской тратят на поездки в основном от 14.5 до 22 мин.<br>\n",
    "В конце проверили 3 гипотезы:<br>\n",
    "- Пользователи с подпиской и без подписки тратят одинаковое количество времени на поездки.<br>\n",
    "Гипотезу отвергаем. Можем сказать, что пользователи с подпиской тратят больше времени на поездки, чем пользователи без подписки.<br>\n",
    "- Пользователи с подпиской проезжают за одну поездку 3130 метров.<br>\n",
    "Гипотезу отвергнуть не можем.<br>\n",
    "- Выручка пользователей с подпиской и пользователей без подписки равна.<br>\n",
    "Гипотезу отвергаем. Можем сказать, что выручка от пользователей с подпиской выше, чем выручка от пользователей без подписки."
   ]
  }
 ],
 "metadata": {
  "ExecuteTimeLog": [
   {
    "duration": 47,
    "start_time": "2023-10-01T13:10:23.847Z"
   },
   {
    "duration": 909,
    "start_time": "2023-10-01T13:10:25.868Z"
   },
   {
    "duration": 200,
    "start_time": "2023-10-01T13:10:27.170Z"
   },
   {
    "duration": 18,
    "start_time": "2023-10-01T13:11:15.667Z"
   },
   {
    "duration": 8,
    "start_time": "2023-10-01T13:11:23.443Z"
   },
   {
    "duration": 14,
    "start_time": "2023-10-01T13:11:27.675Z"
   },
   {
    "duration": 9,
    "start_time": "2023-10-01T13:11:31.739Z"
   },
   {
    "duration": 8,
    "start_time": "2023-10-01T13:11:36.540Z"
   },
   {
    "duration": 8,
    "start_time": "2023-10-01T13:11:40.812Z"
   },
   {
    "duration": 12,
    "start_time": "2023-10-01T13:17:09.199Z"
   },
   {
    "duration": 9,
    "start_time": "2023-10-01T13:17:32.424Z"
   },
   {
    "duration": 11,
    "start_time": "2023-10-01T13:17:32.712Z"
   },
   {
    "duration": 9,
    "start_time": "2023-10-01T13:17:33.232Z"
   },
   {
    "duration": 14,
    "start_time": "2023-10-01T13:17:33.975Z"
   },
   {
    "duration": 10,
    "start_time": "2023-10-01T13:23:34.499Z"
   },
   {
    "duration": 47,
    "start_time": "2023-10-01T13:25:31.292Z"
   },
   {
    "duration": 5,
    "start_time": "2023-10-01T13:25:38.157Z"
   },
   {
    "duration": 8,
    "start_time": "2023-10-01T13:25:49.436Z"
   },
   {
    "duration": 10,
    "start_time": "2023-10-01T13:25:59.796Z"
   },
   {
    "duration": 5,
    "start_time": "2023-10-01T13:26:07.492Z"
   },
   {
    "duration": 8,
    "start_time": "2023-10-01T13:26:09.029Z"
   },
   {
    "duration": 2,
    "start_time": "2023-10-01T13:26:40.453Z"
   },
   {
    "duration": 10,
    "start_time": "2023-10-01T13:34:16.338Z"
   },
   {
    "duration": 9,
    "start_time": "2023-10-01T13:34:38.475Z"
   },
   {
    "duration": 8,
    "start_time": "2023-10-01T13:34:42.153Z"
   },
   {
    "duration": 6,
    "start_time": "2023-10-01T13:35:55.042Z"
   },
   {
    "duration": 7,
    "start_time": "2023-10-01T13:36:01.483Z"
   },
   {
    "duration": 8,
    "start_time": "2023-10-01T13:36:07.499Z"
   },
   {
    "duration": 9,
    "start_time": "2023-10-01T13:36:15.311Z"
   },
   {
    "duration": 6,
    "start_time": "2023-10-01T13:36:25.650Z"
   },
   {
    "duration": 7,
    "start_time": "2023-10-01T13:37:07.539Z"
   },
   {
    "duration": 6,
    "start_time": "2023-10-01T13:38:23.067Z"
   },
   {
    "duration": 16,
    "start_time": "2023-10-01T13:39:48.021Z"
   },
   {
    "duration": 8,
    "start_time": "2023-10-01T13:41:05.581Z"
   },
   {
    "duration": 17,
    "start_time": "2023-10-01T13:41:22.476Z"
   },
   {
    "duration": 49,
    "start_time": "2023-10-01T20:21:19.197Z"
   },
   {
    "duration": 853,
    "start_time": "2023-10-01T20:21:33.215Z"
   },
   {
    "duration": 188,
    "start_time": "2023-10-01T20:21:34.070Z"
   },
   {
    "duration": 15,
    "start_time": "2023-10-01T20:21:34.259Z"
   },
   {
    "duration": 15,
    "start_time": "2023-10-01T20:21:34.276Z"
   },
   {
    "duration": 11,
    "start_time": "2023-10-01T20:21:34.293Z"
   },
   {
    "duration": 12,
    "start_time": "2023-10-01T20:21:34.305Z"
   },
   {
    "duration": 105,
    "start_time": "2023-10-01T20:21:34.318Z"
   },
   {
    "duration": 0,
    "start_time": "2023-10-01T20:21:34.425Z"
   },
   {
    "duration": 0,
    "start_time": "2023-10-01T20:21:34.426Z"
   },
   {
    "duration": 0,
    "start_time": "2023-10-01T20:21:34.427Z"
   },
   {
    "duration": 0,
    "start_time": "2023-10-01T20:21:34.428Z"
   },
   {
    "duration": 0,
    "start_time": "2023-10-01T20:21:34.430Z"
   },
   {
    "duration": 0,
    "start_time": "2023-10-01T20:21:34.431Z"
   },
   {
    "duration": 0,
    "start_time": "2023-10-01T20:21:34.432Z"
   },
   {
    "duration": 0,
    "start_time": "2023-10-01T20:21:34.433Z"
   },
   {
    "duration": 0,
    "start_time": "2023-10-01T20:21:34.434Z"
   },
   {
    "duration": 0,
    "start_time": "2023-10-01T20:21:34.435Z"
   },
   {
    "duration": 0,
    "start_time": "2023-10-01T20:21:34.436Z"
   },
   {
    "duration": 0,
    "start_time": "2023-10-01T20:21:34.437Z"
   },
   {
    "duration": 0,
    "start_time": "2023-10-01T20:21:34.438Z"
   },
   {
    "duration": 7,
    "start_time": "2023-10-01T20:21:53.976Z"
   },
   {
    "duration": 66,
    "start_time": "2023-10-01T20:22:20.466Z"
   },
   {
    "duration": 8,
    "start_time": "2023-10-01T20:22:30.070Z"
   },
   {
    "duration": 12,
    "start_time": "2023-10-01T20:22:36.310Z"
   },
   {
    "duration": 866,
    "start_time": "2023-10-01T20:22:49.617Z"
   },
   {
    "duration": 70,
    "start_time": "2023-10-01T20:22:50.485Z"
   },
   {
    "duration": 14,
    "start_time": "2023-10-01T20:22:50.556Z"
   },
   {
    "duration": 17,
    "start_time": "2023-10-01T20:22:50.572Z"
   },
   {
    "duration": 21,
    "start_time": "2023-10-01T20:22:50.591Z"
   },
   {
    "duration": 41,
    "start_time": "2023-10-01T20:22:50.613Z"
   },
   {
    "duration": 19,
    "start_time": "2023-10-01T20:22:50.656Z"
   },
   {
    "duration": 29,
    "start_time": "2023-10-01T20:22:50.677Z"
   },
   {
    "duration": 28,
    "start_time": "2023-10-01T20:22:50.707Z"
   },
   {
    "duration": 33,
    "start_time": "2023-10-01T20:22:50.738Z"
   },
   {
    "duration": 23,
    "start_time": "2023-10-01T20:22:50.773Z"
   },
   {
    "duration": 27,
    "start_time": "2023-10-01T20:22:50.798Z"
   },
   {
    "duration": 33,
    "start_time": "2023-10-01T20:22:50.827Z"
   },
   {
    "duration": 21,
    "start_time": "2023-10-01T20:22:50.861Z"
   },
   {
    "duration": 24,
    "start_time": "2023-10-01T20:22:50.884Z"
   },
   {
    "duration": 21,
    "start_time": "2023-10-01T20:22:50.910Z"
   },
   {
    "duration": 27,
    "start_time": "2023-10-01T20:22:50.933Z"
   },
   {
    "duration": 31,
    "start_time": "2023-10-01T20:22:50.962Z"
   },
   {
    "duration": 19,
    "start_time": "2023-10-01T20:22:50.995Z"
   },
   {
    "duration": 38,
    "start_time": "2023-10-01T20:22:51.015Z"
   },
   {
    "duration": 8,
    "start_time": "2023-10-01T20:23:09.945Z"
   },
   {
    "duration": 6,
    "start_time": "2023-10-01T20:23:20.871Z"
   },
   {
    "duration": 9,
    "start_time": "2023-10-01T20:25:05.954Z"
   },
   {
    "duration": 5,
    "start_time": "2023-10-01T20:25:15.918Z"
   },
   {
    "duration": 86,
    "start_time": "2023-10-01T20:25:33.234Z"
   },
   {
    "duration": 6,
    "start_time": "2023-10-01T20:25:37.622Z"
   },
   {
    "duration": 6,
    "start_time": "2023-10-01T20:25:53.518Z"
   },
   {
    "duration": 6,
    "start_time": "2023-10-01T20:26:11.835Z"
   },
   {
    "duration": 338,
    "start_time": "2023-10-01T20:28:05.279Z"
   },
   {
    "duration": 882,
    "start_time": "2023-10-01T20:31:51.454Z"
   },
   {
    "duration": 131,
    "start_time": "2023-10-01T20:38:51.915Z"
   },
   {
    "duration": 138,
    "start_time": "2023-10-01T20:39:58.403Z"
   },
   {
    "duration": 12,
    "start_time": "2023-10-01T20:46:34.725Z"
   },
   {
    "duration": 11,
    "start_time": "2023-10-01T20:46:47.742Z"
   },
   {
    "duration": 8,
    "start_time": "2023-10-01T20:47:00.051Z"
   },
   {
    "duration": 20,
    "start_time": "2023-10-01T20:50:26.070Z"
   },
   {
    "duration": 27,
    "start_time": "2023-10-01T20:50:50.581Z"
   },
   {
    "duration": 26,
    "start_time": "2023-10-01T20:51:28.323Z"
   },
   {
    "duration": 11,
    "start_time": "2023-10-01T20:52:03.108Z"
   },
   {
    "duration": 81,
    "start_time": "2023-10-01T20:53:40.951Z"
   },
   {
    "duration": 154,
    "start_time": "2023-10-01T20:53:47.871Z"
   },
   {
    "duration": 7,
    "start_time": "2023-10-01T20:54:00.073Z"
   },
   {
    "duration": 6,
    "start_time": "2023-10-01T20:55:21.466Z"
   },
   {
    "duration": 128,
    "start_time": "2023-10-01T20:56:47.799Z"
   },
   {
    "duration": 132,
    "start_time": "2023-10-01T20:56:57.252Z"
   },
   {
    "duration": 84,
    "start_time": "2023-10-01T20:57:05.966Z"
   },
   {
    "duration": 6,
    "start_time": "2023-10-01T21:00:22.390Z"
   },
   {
    "duration": 136,
    "start_time": "2023-10-01T21:02:31.481Z"
   },
   {
    "duration": 149,
    "start_time": "2023-10-01T21:02:45.432Z"
   },
   {
    "duration": 144,
    "start_time": "2023-10-01T21:03:08.452Z"
   },
   {
    "duration": 177,
    "start_time": "2023-10-01T21:03:24.932Z"
   },
   {
    "duration": 8,
    "start_time": "2023-10-01T21:04:58.750Z"
   },
   {
    "duration": 275,
    "start_time": "2023-10-01T21:05:29.983Z"
   },
   {
    "duration": 165,
    "start_time": "2023-10-01T21:05:38.510Z"
   },
   {
    "duration": 8,
    "start_time": "2023-10-01T21:12:20.142Z"
   },
   {
    "duration": 75,
    "start_time": "2023-10-01T21:13:15.273Z"
   },
   {
    "duration": 188,
    "start_time": "2023-10-01T21:13:29.093Z"
   },
   {
    "duration": 224,
    "start_time": "2023-10-01T21:14:15.082Z"
   },
   {
    "duration": 192,
    "start_time": "2023-10-01T21:16:32.302Z"
   },
   {
    "duration": 8,
    "start_time": "2023-10-01T21:17:24.651Z"
   },
   {
    "duration": 182,
    "start_time": "2023-10-01T21:19:35.003Z"
   },
   {
    "duration": 10,
    "start_time": "2023-10-01T21:34:48.212Z"
   },
   {
    "duration": 9,
    "start_time": "2023-10-01T21:35:32.203Z"
   },
   {
    "duration": 9,
    "start_time": "2023-10-01T21:35:44.042Z"
   },
   {
    "duration": 20,
    "start_time": "2023-10-01T21:35:53.614Z"
   },
   {
    "duration": 13,
    "start_time": "2023-10-01T21:37:05.832Z"
   },
   {
    "duration": 12,
    "start_time": "2023-10-01T21:37:07.722Z"
   },
   {
    "duration": 20,
    "start_time": "2023-10-01T21:37:08.324Z"
   },
   {
    "duration": 11,
    "start_time": "2023-10-01T21:37:44.742Z"
   },
   {
    "duration": 11,
    "start_time": "2023-10-01T21:37:45.101Z"
   },
   {
    "duration": 25,
    "start_time": "2023-10-01T21:37:45.782Z"
   },
   {
    "duration": 11,
    "start_time": "2023-10-01T21:38:42.977Z"
   },
   {
    "duration": 11,
    "start_time": "2023-10-01T21:38:44.465Z"
   },
   {
    "duration": 20,
    "start_time": "2023-10-01T21:38:44.992Z"
   },
   {
    "duration": 11,
    "start_time": "2023-10-01T21:39:03.777Z"
   },
   {
    "duration": 12,
    "start_time": "2023-10-01T21:39:04.082Z"
   },
   {
    "duration": 21,
    "start_time": "2023-10-01T21:39:04.402Z"
   },
   {
    "duration": 11,
    "start_time": "2023-10-01T21:39:14.078Z"
   },
   {
    "duration": 12,
    "start_time": "2023-10-01T21:39:14.721Z"
   },
   {
    "duration": 18,
    "start_time": "2023-10-01T21:39:15.084Z"
   },
   {
    "duration": 13,
    "start_time": "2023-10-01T21:39:54.743Z"
   },
   {
    "duration": 15,
    "start_time": "2023-10-01T21:40:20.385Z"
   },
   {
    "duration": 21,
    "start_time": "2023-10-01T21:40:21.392Z"
   },
   {
    "duration": 11,
    "start_time": "2023-10-01T21:40:37.303Z"
   },
   {
    "duration": 19,
    "start_time": "2023-10-01T21:40:38.369Z"
   },
   {
    "duration": 11,
    "start_time": "2023-10-01T21:40:59.481Z"
   },
   {
    "duration": 11,
    "start_time": "2023-10-01T21:40:59.922Z"
   },
   {
    "duration": 18,
    "start_time": "2023-10-01T21:41:00.441Z"
   },
   {
    "duration": 10,
    "start_time": "2023-10-01T21:43:31.990Z"
   },
   {
    "duration": 11,
    "start_time": "2023-10-01T21:44:40.984Z"
   },
   {
    "duration": 8,
    "start_time": "2023-10-01T21:44:41.522Z"
   },
   {
    "duration": 18,
    "start_time": "2023-10-01T21:44:42.093Z"
   },
   {
    "duration": 12,
    "start_time": "2023-10-01T21:44:57.985Z"
   },
   {
    "duration": 25,
    "start_time": "2023-10-01T21:44:58.882Z"
   },
   {
    "duration": 18,
    "start_time": "2023-10-01T21:45:11.727Z"
   },
   {
    "duration": 12,
    "start_time": "2023-10-01T21:48:12.304Z"
   },
   {
    "duration": 10,
    "start_time": "2023-10-01T21:48:12.824Z"
   },
   {
    "duration": 20,
    "start_time": "2023-10-01T21:48:13.466Z"
   },
   {
    "duration": 9,
    "start_time": "2023-10-01T21:49:01.442Z"
   },
   {
    "duration": 20,
    "start_time": "2023-10-01T21:49:01.694Z"
   },
   {
    "duration": 10,
    "start_time": "2023-10-01T21:49:26.993Z"
   },
   {
    "duration": 20,
    "start_time": "2023-10-01T21:49:29.453Z"
   },
   {
    "duration": 15,
    "start_time": "2023-10-01T21:49:33.593Z"
   },
   {
    "duration": 16,
    "start_time": "2023-10-01T21:49:33.965Z"
   },
   {
    "duration": 30,
    "start_time": "2023-10-01T21:49:34.389Z"
   },
   {
    "duration": 3,
    "start_time": "2023-10-01T21:51:28.423Z"
   },
   {
    "duration": 12,
    "start_time": "2023-10-01T21:53:44.244Z"
   },
   {
    "duration": 10,
    "start_time": "2023-10-01T21:55:24.304Z"
   },
   {
    "duration": 21,
    "start_time": "2023-10-01T21:55:37.666Z"
   },
   {
    "duration": 7,
    "start_time": "2023-10-01T21:57:38.112Z"
   },
   {
    "duration": 211,
    "start_time": "2023-10-01T22:02:51.387Z"
   },
   {
    "duration": 189,
    "start_time": "2023-10-01T22:03:25.183Z"
   },
   {
    "duration": 197,
    "start_time": "2023-10-01T22:03:31.435Z"
   },
   {
    "duration": 194,
    "start_time": "2023-10-01T22:03:57.367Z"
   },
   {
    "duration": 292,
    "start_time": "2023-10-01T22:04:24.614Z"
   },
   {
    "duration": 193,
    "start_time": "2023-10-01T22:04:51.215Z"
   },
   {
    "duration": 15,
    "start_time": "2023-10-01T22:23:09.680Z"
   },
   {
    "duration": 9,
    "start_time": "2023-10-01T22:23:41.944Z"
   },
   {
    "duration": 12,
    "start_time": "2023-10-01T22:30:05.826Z"
   },
   {
    "duration": 10,
    "start_time": "2023-10-01T22:30:18.684Z"
   },
   {
    "duration": 27,
    "start_time": "2023-10-01T22:30:50.446Z"
   },
   {
    "duration": 36,
    "start_time": "2023-10-01T22:31:08.243Z"
   },
   {
    "duration": 19,
    "start_time": "2023-10-01T22:31:28.085Z"
   },
   {
    "duration": 73,
    "start_time": "2023-10-01T22:33:15.553Z"
   },
   {
    "duration": 19,
    "start_time": "2023-10-01T22:33:36.557Z"
   },
   {
    "duration": 15,
    "start_time": "2023-10-01T22:33:38.065Z"
   },
   {
    "duration": 18,
    "start_time": "2023-10-01T22:33:54.985Z"
   },
   {
    "duration": 17,
    "start_time": "2023-10-01T22:34:54.447Z"
   },
   {
    "duration": 17,
    "start_time": "2023-10-01T22:34:55.795Z"
   },
   {
    "duration": 9,
    "start_time": "2023-10-01T22:35:40.814Z"
   },
   {
    "duration": 21,
    "start_time": "2023-10-01T22:35:48.796Z"
   },
   {
    "duration": 16,
    "start_time": "2023-10-01T22:39:39.745Z"
   },
   {
    "duration": 13,
    "start_time": "2023-10-01T22:39:40.198Z"
   },
   {
    "duration": 822,
    "start_time": "2023-10-01T22:40:00.547Z"
   },
   {
    "duration": 16,
    "start_time": "2023-10-01T22:40:01.616Z"
   },
   {
    "duration": 25,
    "start_time": "2023-10-01T22:40:10.130Z"
   },
   {
    "duration": 21,
    "start_time": "2023-10-01T22:40:22.064Z"
   },
   {
    "duration": 15,
    "start_time": "2023-10-01T22:40:26.904Z"
   },
   {
    "duration": 22,
    "start_time": "2023-10-01T22:43:51.810Z"
   },
   {
    "duration": 16,
    "start_time": "2023-10-01T22:43:52.164Z"
   },
   {
    "duration": 22,
    "start_time": "2023-10-01T22:44:02.546Z"
   },
   {
    "duration": 15,
    "start_time": "2023-10-01T22:44:03.045Z"
   },
   {
    "duration": 772,
    "start_time": "2023-10-01T22:45:48.783Z"
   },
   {
    "duration": 15,
    "start_time": "2023-10-01T22:45:49.557Z"
   },
   {
    "duration": 8,
    "start_time": "2023-10-01T22:46:24.134Z"
   },
   {
    "duration": 849,
    "start_time": "2023-10-01T22:46:35.666Z"
   },
   {
    "duration": 17,
    "start_time": "2023-10-01T22:46:36.518Z"
   },
   {
    "duration": 3,
    "start_time": "2023-10-01T22:47:34.627Z"
   },
   {
    "duration": 9,
    "start_time": "2023-10-01T22:58:48.676Z"
   },
   {
    "duration": 3,
    "start_time": "2023-10-01T22:59:05.585Z"
   },
   {
    "duration": 4,
    "start_time": "2023-10-01T22:59:21.035Z"
   },
   {
    "duration": 3,
    "start_time": "2023-10-01T23:10:32.417Z"
   },
   {
    "duration": 3,
    "start_time": "2023-10-01T23:10:50.635Z"
   },
   {
    "duration": 1008,
    "start_time": "2023-10-01T23:12:32.266Z"
   },
   {
    "duration": 121,
    "start_time": "2023-10-01T23:12:43.826Z"
   },
   {
    "duration": 22,
    "start_time": "2023-10-01T23:12:58.875Z"
   },
   {
    "duration": 3,
    "start_time": "2023-10-01T23:15:55.468Z"
   },
   {
    "duration": 45,
    "start_time": "2023-10-02T09:42:04.109Z"
   },
   {
    "duration": 864,
    "start_time": "2023-10-02T09:42:13.796Z"
   },
   {
    "duration": 196,
    "start_time": "2023-10-02T09:42:14.663Z"
   },
   {
    "duration": 14,
    "start_time": "2023-10-02T09:42:14.860Z"
   },
   {
    "duration": 23,
    "start_time": "2023-10-02T09:42:14.875Z"
   },
   {
    "duration": 32,
    "start_time": "2023-10-02T09:42:14.899Z"
   },
   {
    "duration": 35,
    "start_time": "2023-10-02T09:42:14.933Z"
   },
   {
    "duration": 26,
    "start_time": "2023-10-02T09:42:14.970Z"
   },
   {
    "duration": 69,
    "start_time": "2023-10-02T09:42:14.998Z"
   },
   {
    "duration": 38,
    "start_time": "2023-10-02T09:42:15.068Z"
   },
   {
    "duration": 29,
    "start_time": "2023-10-02T09:42:15.108Z"
   },
   {
    "duration": 39,
    "start_time": "2023-10-02T09:42:15.138Z"
   },
   {
    "duration": 41,
    "start_time": "2023-10-02T09:42:15.179Z"
   },
   {
    "duration": 30,
    "start_time": "2023-10-02T09:42:15.222Z"
   },
   {
    "duration": 22,
    "start_time": "2023-10-02T09:42:15.255Z"
   },
   {
    "duration": 36,
    "start_time": "2023-10-02T09:42:15.279Z"
   },
   {
    "duration": 22,
    "start_time": "2023-10-02T09:42:15.316Z"
   },
   {
    "duration": 26,
    "start_time": "2023-10-02T09:42:15.340Z"
   },
   {
    "duration": 29,
    "start_time": "2023-10-02T09:42:15.368Z"
   },
   {
    "duration": 39,
    "start_time": "2023-10-02T09:42:15.399Z"
   },
   {
    "duration": 29,
    "start_time": "2023-10-02T09:42:15.439Z"
   },
   {
    "duration": 569,
    "start_time": "2023-10-02T09:42:15.470Z"
   },
   {
    "duration": 5,
    "start_time": "2023-10-02T09:42:16.043Z"
   },
   {
    "duration": 112,
    "start_time": "2023-10-02T09:42:16.050Z"
   },
   {
    "duration": 8,
    "start_time": "2023-10-02T09:42:16.164Z"
   },
   {
    "duration": 203,
    "start_time": "2023-10-02T09:42:16.174Z"
   },
   {
    "duration": 11,
    "start_time": "2023-10-02T09:42:16.379Z"
   },
   {
    "duration": 275,
    "start_time": "2023-10-02T09:42:16.391Z"
   },
   {
    "duration": 8,
    "start_time": "2023-10-02T09:42:16.668Z"
   },
   {
    "duration": 202,
    "start_time": "2023-10-02T09:42:16.677Z"
   },
   {
    "duration": 9,
    "start_time": "2023-10-02T09:42:16.882Z"
   },
   {
    "duration": 20,
    "start_time": "2023-10-02T09:42:16.892Z"
   },
   {
    "duration": 40,
    "start_time": "2023-10-02T09:42:16.914Z"
   },
   {
    "duration": 38,
    "start_time": "2023-10-02T09:42:16.956Z"
   },
   {
    "duration": 20,
    "start_time": "2023-10-02T09:42:16.996Z"
   },
   {
    "duration": 234,
    "start_time": "2023-10-02T09:42:17.018Z"
   },
   {
    "duration": 209,
    "start_time": "2023-10-02T09:42:17.254Z"
   },
   {
    "duration": 215,
    "start_time": "2023-10-02T09:42:17.465Z"
   },
   {
    "duration": 270,
    "start_time": "2023-10-02T09:42:17.682Z"
   },
   {
    "duration": 785,
    "start_time": "2023-10-02T09:42:17.954Z"
   },
   {
    "duration": 16,
    "start_time": "2023-10-02T09:42:18.740Z"
   },
   {
    "duration": 19,
    "start_time": "2023-10-02T09:42:18.759Z"
   },
   {
    "duration": 28,
    "start_time": "2023-10-02T09:42:18.780Z"
   },
   {
    "duration": 126,
    "start_time": "2023-10-02T09:42:18.810Z"
   },
   {
    "duration": 20,
    "start_time": "2023-10-02T09:42:18.938Z"
   },
   {
    "duration": 19,
    "start_time": "2023-10-02T09:42:18.959Z"
   },
   {
    "duration": 94,
    "start_time": "2023-10-02T09:43:26.013Z"
   },
   {
    "duration": 7,
    "start_time": "2023-10-02T09:45:45.215Z"
   },
   {
    "duration": 5,
    "start_time": "2023-10-02T09:46:42.458Z"
   },
   {
    "duration": 5,
    "start_time": "2023-10-02T09:46:48.916Z"
   },
   {
    "duration": 5,
    "start_time": "2023-10-02T09:46:53.150Z"
   },
   {
    "duration": 3,
    "start_time": "2023-10-02T09:47:03.985Z"
   },
   {
    "duration": 5,
    "start_time": "2023-10-02T09:47:15.595Z"
   },
   {
    "duration": 4,
    "start_time": "2023-10-02T09:49:49.097Z"
   },
   {
    "duration": 7,
    "start_time": "2023-10-02T09:49:53.878Z"
   },
   {
    "duration": 13,
    "start_time": "2023-10-02T09:50:14.825Z"
   },
   {
    "duration": 12,
    "start_time": "2023-10-02T09:50:26.467Z"
   },
   {
    "duration": 5,
    "start_time": "2023-10-02T10:03:36.381Z"
   },
   {
    "duration": 10,
    "start_time": "2023-10-02T10:10:01.173Z"
   },
   {
    "duration": 9,
    "start_time": "2023-10-02T10:10:04.024Z"
   },
   {
    "duration": 7,
    "start_time": "2023-10-02T10:10:06.086Z"
   },
   {
    "duration": 13,
    "start_time": "2023-10-02T10:10:18.034Z"
   },
   {
    "duration": 7,
    "start_time": "2023-10-02T10:11:11.166Z"
   },
   {
    "duration": 4,
    "start_time": "2023-10-02T10:11:43.936Z"
   },
   {
    "duration": 6,
    "start_time": "2023-10-02T10:12:12.693Z"
   },
   {
    "duration": 10,
    "start_time": "2023-10-02T10:18:08.442Z"
   },
   {
    "duration": 19,
    "start_time": "2023-10-02T10:19:03.778Z"
   },
   {
    "duration": 11,
    "start_time": "2023-10-02T10:22:21.004Z"
   },
   {
    "duration": 5,
    "start_time": "2023-10-02T10:29:43.425Z"
   },
   {
    "duration": 5,
    "start_time": "2023-10-02T10:32:06.791Z"
   },
   {
    "duration": 13,
    "start_time": "2023-10-02T10:33:07.552Z"
   },
   {
    "duration": 3,
    "start_time": "2023-10-02T10:44:43.907Z"
   },
   {
    "duration": 863,
    "start_time": "2023-10-02T10:45:31.344Z"
   },
   {
    "duration": 66,
    "start_time": "2023-10-02T10:45:32.209Z"
   },
   {
    "duration": 60,
    "start_time": "2023-10-02T10:45:32.277Z"
   },
   {
    "duration": 69,
    "start_time": "2023-10-02T10:45:32.339Z"
   },
   {
    "duration": 46,
    "start_time": "2023-10-02T10:45:32.410Z"
   },
   {
    "duration": 55,
    "start_time": "2023-10-02T10:45:32.457Z"
   },
   {
    "duration": 16,
    "start_time": "2023-10-02T10:45:32.514Z"
   },
   {
    "duration": 27,
    "start_time": "2023-10-02T10:45:32.532Z"
   },
   {
    "duration": 30,
    "start_time": "2023-10-02T10:45:32.560Z"
   },
   {
    "duration": 30,
    "start_time": "2023-10-02T10:45:32.593Z"
   },
   {
    "duration": 40,
    "start_time": "2023-10-02T10:45:32.624Z"
   },
   {
    "duration": 26,
    "start_time": "2023-10-02T10:45:32.666Z"
   },
   {
    "duration": 32,
    "start_time": "2023-10-02T10:45:32.694Z"
   },
   {
    "duration": 29,
    "start_time": "2023-10-02T10:45:32.728Z"
   },
   {
    "duration": 56,
    "start_time": "2023-10-02T10:45:32.758Z"
   },
   {
    "duration": 42,
    "start_time": "2023-10-02T10:45:32.815Z"
   },
   {
    "duration": 39,
    "start_time": "2023-10-02T10:45:32.859Z"
   },
   {
    "duration": 19,
    "start_time": "2023-10-02T10:45:32.900Z"
   },
   {
    "duration": 26,
    "start_time": "2023-10-02T10:45:32.921Z"
   },
   {
    "duration": 36,
    "start_time": "2023-10-02T10:45:32.949Z"
   },
   {
    "duration": 468,
    "start_time": "2023-10-02T10:45:32.986Z"
   },
   {
    "duration": 7,
    "start_time": "2023-10-02T10:45:33.455Z"
   },
   {
    "duration": 123,
    "start_time": "2023-10-02T10:45:33.463Z"
   },
   {
    "duration": 10,
    "start_time": "2023-10-02T10:45:33.588Z"
   },
   {
    "duration": 224,
    "start_time": "2023-10-02T10:45:33.599Z"
   },
   {
    "duration": 23,
    "start_time": "2023-10-02T10:45:33.825Z"
   },
   {
    "duration": 217,
    "start_time": "2023-10-02T10:45:33.850Z"
   },
   {
    "duration": 9,
    "start_time": "2023-10-02T10:45:34.071Z"
   },
   {
    "duration": 214,
    "start_time": "2023-10-02T10:45:34.081Z"
   },
   {
    "duration": 9,
    "start_time": "2023-10-02T10:45:34.297Z"
   },
   {
    "duration": 30,
    "start_time": "2023-10-02T10:45:34.307Z"
   },
   {
    "duration": 36,
    "start_time": "2023-10-02T10:45:34.339Z"
   },
   {
    "duration": 30,
    "start_time": "2023-10-02T10:45:34.377Z"
   },
   {
    "duration": 40,
    "start_time": "2023-10-02T10:45:34.410Z"
   },
   {
    "duration": 265,
    "start_time": "2023-10-02T10:45:34.452Z"
   },
   {
    "duration": 203,
    "start_time": "2023-10-02T10:45:34.719Z"
   },
   {
    "duration": 219,
    "start_time": "2023-10-02T10:45:34.924Z"
   },
   {
    "duration": 188,
    "start_time": "2023-10-02T10:45:35.145Z"
   },
   {
    "duration": 784,
    "start_time": "2023-10-02T10:45:35.335Z"
   },
   {
    "duration": 13,
    "start_time": "2023-10-02T10:45:36.121Z"
   },
   {
    "duration": 27,
    "start_time": "2023-10-02T10:45:36.136Z"
   },
   {
    "duration": 27,
    "start_time": "2023-10-02T10:45:36.165Z"
   },
   {
    "duration": 212,
    "start_time": "2023-10-02T10:45:36.194Z"
   },
   {
    "duration": 20,
    "start_time": "2023-10-02T10:45:36.407Z"
   },
   {
    "duration": 16,
    "start_time": "2023-10-02T10:45:36.429Z"
   },
   {
    "duration": 33,
    "start_time": "2023-10-02T10:45:36.447Z"
   },
   {
    "duration": 7,
    "start_time": "2023-10-02T10:45:36.482Z"
   },
   {
    "duration": 40,
    "start_time": "2023-10-02T10:45:36.491Z"
   },
   {
    "duration": 23,
    "start_time": "2023-10-02T10:45:36.532Z"
   },
   {
    "duration": 12,
    "start_time": "2023-10-02T10:45:36.557Z"
   },
   {
    "duration": 14,
    "start_time": "2023-10-02T10:45:36.571Z"
   },
   {
    "duration": 25,
    "start_time": "2023-10-02T10:45:36.586Z"
   },
   {
    "duration": 44,
    "start_time": "2023-10-02T10:45:36.612Z"
   },
   {
    "duration": 8,
    "start_time": "2023-10-02T11:04:36.949Z"
   },
   {
    "duration": 7,
    "start_time": "2023-10-02T11:04:48.654Z"
   },
   {
    "duration": 139,
    "start_time": "2023-10-02T11:13:34.429Z"
   },
   {
    "duration": 5,
    "start_time": "2023-10-02T11:35:01.843Z"
   },
   {
    "duration": 5,
    "start_time": "2023-10-02T11:35:06.316Z"
   },
   {
    "duration": 6,
    "start_time": "2023-10-02T11:36:30.143Z"
   },
   {
    "duration": 6,
    "start_time": "2023-10-02T11:36:36.657Z"
   },
   {
    "duration": 5,
    "start_time": "2023-10-02T11:36:45.715Z"
   },
   {
    "duration": 82,
    "start_time": "2023-10-02T11:37:05.782Z"
   },
   {
    "duration": 53,
    "start_time": "2023-10-02T13:38:40.523Z"
   },
   {
    "duration": 6,
    "start_time": "2023-10-02T13:39:01.960Z"
   },
   {
    "duration": 990,
    "start_time": "2023-10-02T13:39:39.481Z"
   },
   {
    "duration": 193,
    "start_time": "2023-10-02T13:39:40.473Z"
   },
   {
    "duration": 145,
    "start_time": "2023-10-02T13:39:40.668Z"
   },
   {
    "duration": 312,
    "start_time": "2023-10-02T13:39:40.815Z"
   },
   {
    "duration": 328,
    "start_time": "2023-10-02T13:39:41.130Z"
   },
   {
    "duration": 190,
    "start_time": "2023-10-02T13:39:41.460Z"
   },
   {
    "duration": 46,
    "start_time": "2023-10-02T13:39:41.652Z"
   },
   {
    "duration": 48,
    "start_time": "2023-10-02T13:39:41.700Z"
   },
   {
    "duration": 44,
    "start_time": "2023-10-02T13:39:41.750Z"
   },
   {
    "duration": 48,
    "start_time": "2023-10-02T13:39:41.795Z"
   },
   {
    "duration": 50,
    "start_time": "2023-10-02T13:39:41.845Z"
   },
   {
    "duration": 41,
    "start_time": "2023-10-02T13:39:41.897Z"
   },
   {
    "duration": 34,
    "start_time": "2023-10-02T13:39:41.940Z"
   },
   {
    "duration": 37,
    "start_time": "2023-10-02T13:39:41.977Z"
   },
   {
    "duration": 55,
    "start_time": "2023-10-02T13:39:42.016Z"
   },
   {
    "duration": 109,
    "start_time": "2023-10-02T13:39:42.073Z"
   },
   {
    "duration": 30,
    "start_time": "2023-10-02T13:39:42.184Z"
   },
   {
    "duration": 41,
    "start_time": "2023-10-02T13:39:42.216Z"
   },
   {
    "duration": 34,
    "start_time": "2023-10-02T13:39:42.259Z"
   },
   {
    "duration": 61,
    "start_time": "2023-10-02T13:39:42.295Z"
   },
   {
    "duration": 686,
    "start_time": "2023-10-02T13:39:42.358Z"
   },
   {
    "duration": 6,
    "start_time": "2023-10-02T13:39:43.046Z"
   },
   {
    "duration": 122,
    "start_time": "2023-10-02T13:39:43.053Z"
   },
   {
    "duration": 26,
    "start_time": "2023-10-02T13:39:43.176Z"
   },
   {
    "duration": 8,
    "start_time": "2023-10-02T13:39:43.204Z"
   },
   {
    "duration": 209,
    "start_time": "2023-10-02T13:39:43.214Z"
   },
   {
    "duration": 9,
    "start_time": "2023-10-02T13:39:43.425Z"
   },
   {
    "duration": 241,
    "start_time": "2023-10-02T13:39:43.436Z"
   },
   {
    "duration": 10,
    "start_time": "2023-10-02T13:39:43.678Z"
   },
   {
    "duration": 219,
    "start_time": "2023-10-02T13:39:43.689Z"
   },
   {
    "duration": 10,
    "start_time": "2023-10-02T13:39:43.909Z"
   },
   {
    "duration": 39,
    "start_time": "2023-10-02T13:39:43.920Z"
   },
   {
    "duration": 35,
    "start_time": "2023-10-02T13:39:43.961Z"
   },
   {
    "duration": 30,
    "start_time": "2023-10-02T13:39:43.998Z"
   },
   {
    "duration": 6,
    "start_time": "2023-10-02T13:39:44.031Z"
   },
   {
    "duration": 247,
    "start_time": "2023-10-02T13:39:44.038Z"
   },
   {
    "duration": 20,
    "start_time": "2023-10-02T13:39:44.288Z"
   },
   {
    "duration": 211,
    "start_time": "2023-10-02T13:39:44.310Z"
   },
   {
    "duration": 295,
    "start_time": "2023-10-02T13:39:44.523Z"
   },
   {
    "duration": 284,
    "start_time": "2023-10-02T13:39:44.819Z"
   },
   {
    "duration": 992,
    "start_time": "2023-10-02T13:39:45.107Z"
   },
   {
    "duration": 18,
    "start_time": "2023-10-02T13:39:46.102Z"
   },
   {
    "duration": 37,
    "start_time": "2023-10-02T13:39:46.122Z"
   },
   {
    "duration": 32,
    "start_time": "2023-10-02T13:39:46.161Z"
   },
   {
    "duration": 135,
    "start_time": "2023-10-02T13:39:46.195Z"
   },
   {
    "duration": 18,
    "start_time": "2023-10-02T13:39:46.332Z"
   },
   {
    "duration": 14,
    "start_time": "2023-10-02T13:39:46.352Z"
   },
   {
    "duration": 34,
    "start_time": "2023-10-02T13:39:46.368Z"
   },
   {
    "duration": 18,
    "start_time": "2023-10-02T13:39:46.404Z"
   },
   {
    "duration": 12,
    "start_time": "2023-10-02T13:39:46.424Z"
   },
   {
    "duration": 30,
    "start_time": "2023-10-02T13:39:46.438Z"
   },
   {
    "duration": 5,
    "start_time": "2023-10-02T13:39:46.470Z"
   },
   {
    "duration": 38,
    "start_time": "2023-10-02T13:39:46.477Z"
   },
   {
    "duration": 49,
    "start_time": "2023-10-02T13:39:46.517Z"
   },
   {
    "duration": 6,
    "start_time": "2023-10-02T13:39:46.568Z"
   },
   {
    "duration": 10,
    "start_time": "2023-10-02T13:40:06.293Z"
   },
   {
    "duration": 10,
    "start_time": "2023-10-02T13:41:39.361Z"
   },
   {
    "duration": 9,
    "start_time": "2023-10-02T13:41:55.522Z"
   },
   {
    "duration": 906,
    "start_time": "2023-10-02T14:02:20.052Z"
   },
   {
    "duration": 71,
    "start_time": "2023-10-02T14:02:20.960Z"
   },
   {
    "duration": 18,
    "start_time": "2023-10-02T14:02:21.032Z"
   },
   {
    "duration": 75,
    "start_time": "2023-10-02T14:02:21.052Z"
   },
   {
    "duration": 41,
    "start_time": "2023-10-02T14:02:21.130Z"
   },
   {
    "duration": 75,
    "start_time": "2023-10-02T14:02:21.173Z"
   },
   {
    "duration": 155,
    "start_time": "2023-10-02T14:02:21.250Z"
   },
   {
    "duration": 158,
    "start_time": "2023-10-02T14:02:21.406Z"
   },
   {
    "duration": 31,
    "start_time": "2023-10-02T14:02:21.565Z"
   },
   {
    "duration": 35,
    "start_time": "2023-10-02T14:02:21.600Z"
   },
   {
    "duration": 38,
    "start_time": "2023-10-02T14:02:21.637Z"
   },
   {
    "duration": 35,
    "start_time": "2023-10-02T14:02:21.677Z"
   },
   {
    "duration": 44,
    "start_time": "2023-10-02T14:02:21.714Z"
   },
   {
    "duration": 177,
    "start_time": "2023-10-02T14:02:21.760Z"
   },
   {
    "duration": 56,
    "start_time": "2023-10-02T14:02:21.938Z"
   },
   {
    "duration": 62,
    "start_time": "2023-10-02T14:02:21.996Z"
   },
   {
    "duration": 39,
    "start_time": "2023-10-02T14:02:22.060Z"
   },
   {
    "duration": 47,
    "start_time": "2023-10-02T14:02:22.101Z"
   },
   {
    "duration": 32,
    "start_time": "2023-10-02T14:02:22.150Z"
   },
   {
    "duration": 58,
    "start_time": "2023-10-02T14:02:22.184Z"
   },
   {
    "duration": 506,
    "start_time": "2023-10-02T14:02:22.243Z"
   },
   {
    "duration": 8,
    "start_time": "2023-10-02T14:02:22.751Z"
   },
   {
    "duration": 260,
    "start_time": "2023-10-02T14:02:22.760Z"
   },
   {
    "duration": 30,
    "start_time": "2023-10-02T14:02:23.022Z"
   },
   {
    "duration": 413,
    "start_time": "2023-10-02T14:02:23.054Z"
   },
   {
    "duration": 321,
    "start_time": "2023-10-02T14:02:23.469Z"
   },
   {
    "duration": 17,
    "start_time": "2023-10-02T14:02:23.791Z"
   },
   {
    "duration": 277,
    "start_time": "2023-10-02T14:02:23.811Z"
   },
   {
    "duration": 14,
    "start_time": "2023-10-02T14:02:24.089Z"
   },
   {
    "duration": 246,
    "start_time": "2023-10-02T14:02:24.105Z"
   },
   {
    "duration": 10,
    "start_time": "2023-10-02T14:02:24.353Z"
   },
   {
    "duration": 33,
    "start_time": "2023-10-02T14:02:24.365Z"
   },
   {
    "duration": 45,
    "start_time": "2023-10-02T14:02:24.400Z"
   },
   {
    "duration": 106,
    "start_time": "2023-10-02T14:02:24.447Z"
   },
   {
    "duration": 50,
    "start_time": "2023-10-02T14:02:24.556Z"
   },
   {
    "duration": 314,
    "start_time": "2023-10-02T14:02:24.609Z"
   },
   {
    "duration": 222,
    "start_time": "2023-10-02T14:02:24.926Z"
   },
   {
    "duration": 219,
    "start_time": "2023-10-02T14:02:25.150Z"
   },
   {
    "duration": 212,
    "start_time": "2023-10-02T14:02:25.371Z"
   },
   {
    "duration": 877,
    "start_time": "2023-10-02T14:02:25.585Z"
   },
   {
    "duration": 17,
    "start_time": "2023-10-02T14:02:26.464Z"
   },
   {
    "duration": 94,
    "start_time": "2023-10-02T14:02:26.483Z"
   },
   {
    "duration": 15,
    "start_time": "2023-10-02T14:02:26.579Z"
   },
   {
    "duration": 247,
    "start_time": "2023-10-02T14:02:26.596Z"
   },
   {
    "duration": 19,
    "start_time": "2023-10-02T14:02:26.845Z"
   },
   {
    "duration": 58,
    "start_time": "2023-10-02T14:02:26.865Z"
   },
   {
    "duration": 84,
    "start_time": "2023-10-02T14:02:26.925Z"
   },
   {
    "duration": 263,
    "start_time": "2023-10-02T14:02:27.011Z"
   },
   {
    "duration": 309,
    "start_time": "2023-10-02T14:02:27.275Z"
   },
   {
    "duration": 135,
    "start_time": "2023-10-02T14:02:27.586Z"
   },
   {
    "duration": 22,
    "start_time": "2023-10-02T14:02:27.723Z"
   },
   {
    "duration": 35,
    "start_time": "2023-10-02T14:02:27.747Z"
   },
   {
    "duration": 21,
    "start_time": "2023-10-02T14:02:27.784Z"
   },
   {
    "duration": 26,
    "start_time": "2023-10-02T14:02:27.807Z"
   },
   {
    "duration": 896,
    "start_time": "2023-10-02T18:37:20.564Z"
   },
   {
    "duration": 189,
    "start_time": "2023-10-02T18:37:21.462Z"
   },
   {
    "duration": 17,
    "start_time": "2023-10-02T18:37:21.653Z"
   },
   {
    "duration": 32,
    "start_time": "2023-10-02T18:37:21.673Z"
   },
   {
    "duration": 52,
    "start_time": "2023-10-02T18:37:21.706Z"
   },
   {
    "duration": 41,
    "start_time": "2023-10-02T18:37:21.760Z"
   },
   {
    "duration": 44,
    "start_time": "2023-10-02T18:37:21.803Z"
   },
   {
    "duration": 54,
    "start_time": "2023-10-02T18:37:21.849Z"
   },
   {
    "duration": 54,
    "start_time": "2023-10-02T18:37:21.905Z"
   },
   {
    "duration": 50,
    "start_time": "2023-10-02T18:37:21.961Z"
   },
   {
    "duration": 65,
    "start_time": "2023-10-02T18:37:22.013Z"
   },
   {
    "duration": 27,
    "start_time": "2023-10-02T18:37:22.080Z"
   },
   {
    "duration": 18,
    "start_time": "2023-10-02T18:37:22.109Z"
   },
   {
    "duration": 25,
    "start_time": "2023-10-02T18:37:22.129Z"
   },
   {
    "duration": 53,
    "start_time": "2023-10-02T18:37:22.156Z"
   },
   {
    "duration": 81,
    "start_time": "2023-10-02T18:37:22.211Z"
   },
   {
    "duration": 55,
    "start_time": "2023-10-02T18:37:22.293Z"
   },
   {
    "duration": 48,
    "start_time": "2023-10-02T18:37:22.350Z"
   },
   {
    "duration": 25,
    "start_time": "2023-10-02T18:37:22.399Z"
   },
   {
    "duration": 42,
    "start_time": "2023-10-02T18:37:22.426Z"
   },
   {
    "duration": 484,
    "start_time": "2023-10-02T18:37:22.469Z"
   },
   {
    "duration": 6,
    "start_time": "2023-10-02T18:37:22.955Z"
   },
   {
    "duration": 129,
    "start_time": "2023-10-02T18:37:22.963Z"
   },
   {
    "duration": 16,
    "start_time": "2023-10-02T18:37:23.094Z"
   },
   {
    "duration": 48,
    "start_time": "2023-10-02T18:37:23.112Z"
   },
   {
    "duration": 212,
    "start_time": "2023-10-02T18:37:23.162Z"
   },
   {
    "duration": 9,
    "start_time": "2023-10-02T18:37:23.376Z"
   },
   {
    "duration": 231,
    "start_time": "2023-10-02T18:37:23.401Z"
   },
   {
    "duration": 9,
    "start_time": "2023-10-02T18:37:23.634Z"
   },
   {
    "duration": 225,
    "start_time": "2023-10-02T18:37:23.645Z"
   },
   {
    "duration": 11,
    "start_time": "2023-10-02T18:37:23.871Z"
   },
   {
    "duration": 39,
    "start_time": "2023-10-02T18:37:23.883Z"
   },
   {
    "duration": 37,
    "start_time": "2023-10-02T18:37:23.924Z"
   },
   {
    "duration": 30,
    "start_time": "2023-10-02T18:37:23.963Z"
   },
   {
    "duration": 30,
    "start_time": "2023-10-02T18:37:23.995Z"
   },
   {
    "duration": 247,
    "start_time": "2023-10-02T18:37:24.026Z"
   },
   {
    "duration": 228,
    "start_time": "2023-10-02T18:37:24.275Z"
   },
   {
    "duration": 268,
    "start_time": "2023-10-02T18:37:24.505Z"
   },
   {
    "duration": 219,
    "start_time": "2023-10-02T18:37:24.775Z"
   },
   {
    "duration": 938,
    "start_time": "2023-10-02T18:37:25.000Z"
   },
   {
    "duration": 68,
    "start_time": "2023-10-02T18:37:25.940Z"
   },
   {
    "duration": 4,
    "start_time": "2023-10-02T18:37:26.010Z"
   },
   {
    "duration": 55,
    "start_time": "2023-10-02T18:37:26.016Z"
   },
   {
    "duration": 406,
    "start_time": "2023-10-02T18:37:26.101Z"
   },
   {
    "duration": 22,
    "start_time": "2023-10-02T18:37:26.509Z"
   },
   {
    "duration": 77,
    "start_time": "2023-10-02T18:37:26.532Z"
   },
   {
    "duration": 100,
    "start_time": "2023-10-02T18:37:26.610Z"
   },
   {
    "duration": 6,
    "start_time": "2023-10-02T18:37:26.711Z"
   },
   {
    "duration": 82,
    "start_time": "2023-10-02T18:37:26.719Z"
   },
   {
    "duration": 24,
    "start_time": "2023-10-02T18:37:26.803Z"
   },
   {
    "duration": 75,
    "start_time": "2023-10-02T18:37:26.829Z"
   },
   {
    "duration": 66,
    "start_time": "2023-10-02T18:37:26.906Z"
   },
   {
    "duration": 19,
    "start_time": "2023-10-02T18:37:27.002Z"
   },
   {
    "duration": 6,
    "start_time": "2023-10-02T18:37:27.024Z"
   },
   {
    "duration": 10,
    "start_time": "2023-10-02T18:43:07.605Z"
   },
   {
    "duration": 6,
    "start_time": "2023-10-02T18:44:01.777Z"
   },
   {
    "duration": 6,
    "start_time": "2023-10-02T18:44:13.774Z"
   },
   {
    "duration": 19,
    "start_time": "2023-10-02T18:44:21.367Z"
   },
   {
    "duration": 94,
    "start_time": "2023-10-02T18:44:35.728Z"
   },
   {
    "duration": 7,
    "start_time": "2023-10-02T18:44:45.192Z"
   },
   {
    "duration": 117,
    "start_time": "2023-10-02T20:00:15.359Z"
   },
   {
    "duration": 83,
    "start_time": "2023-10-02T20:19:42.600Z"
   },
   {
    "duration": 46,
    "start_time": "2023-10-02T20:22:16.340Z"
   },
   {
    "duration": 923,
    "start_time": "2023-10-02T20:22:23.672Z"
   },
   {
    "duration": 208,
    "start_time": "2023-10-02T20:22:24.598Z"
   },
   {
    "duration": 18,
    "start_time": "2023-10-02T20:22:24.808Z"
   },
   {
    "duration": 36,
    "start_time": "2023-10-02T20:22:24.828Z"
   },
   {
    "duration": 18,
    "start_time": "2023-10-02T20:22:24.866Z"
   },
   {
    "duration": 43,
    "start_time": "2023-10-02T20:22:24.886Z"
   },
   {
    "duration": 10,
    "start_time": "2023-10-02T20:22:24.931Z"
   },
   {
    "duration": 29,
    "start_time": "2023-10-02T20:22:24.943Z"
   },
   {
    "duration": 29,
    "start_time": "2023-10-02T20:22:24.974Z"
   },
   {
    "duration": 106,
    "start_time": "2023-10-02T20:22:25.006Z"
   },
   {
    "duration": 125,
    "start_time": "2023-10-02T20:22:25.114Z"
   },
   {
    "duration": 75,
    "start_time": "2023-10-02T20:22:25.241Z"
   },
   {
    "duration": 24,
    "start_time": "2023-10-02T20:22:25.318Z"
   },
   {
    "duration": 27,
    "start_time": "2023-10-02T20:22:25.344Z"
   },
   {
    "duration": 22,
    "start_time": "2023-10-02T20:22:25.373Z"
   },
   {
    "duration": 13,
    "start_time": "2023-10-02T20:22:25.397Z"
   },
   {
    "duration": 8,
    "start_time": "2023-10-02T20:22:25.412Z"
   },
   {
    "duration": 17,
    "start_time": "2023-10-02T20:22:25.422Z"
   },
   {
    "duration": 17,
    "start_time": "2023-10-02T20:22:25.441Z"
   },
   {
    "duration": 5,
    "start_time": "2023-10-02T20:22:25.460Z"
   },
   {
    "duration": 13,
    "start_time": "2023-10-02T20:22:25.467Z"
   },
   {
    "duration": 674,
    "start_time": "2023-10-02T20:22:25.482Z"
   },
   {
    "duration": 6,
    "start_time": "2023-10-02T20:22:26.157Z"
   },
   {
    "duration": 107,
    "start_time": "2023-10-02T20:22:26.165Z"
   },
   {
    "duration": 9,
    "start_time": "2023-10-02T20:22:26.274Z"
   },
   {
    "duration": 28,
    "start_time": "2023-10-02T20:22:26.285Z"
   },
   {
    "duration": 223,
    "start_time": "2023-10-02T20:22:26.315Z"
   },
   {
    "duration": 8,
    "start_time": "2023-10-02T20:22:26.542Z"
   },
   {
    "duration": 244,
    "start_time": "2023-10-02T20:22:26.552Z"
   },
   {
    "duration": 16,
    "start_time": "2023-10-02T20:22:26.797Z"
   },
   {
    "duration": 220,
    "start_time": "2023-10-02T20:22:26.815Z"
   },
   {
    "duration": 10,
    "start_time": "2023-10-02T20:22:27.037Z"
   },
   {
    "duration": 36,
    "start_time": "2023-10-02T20:22:27.049Z"
   },
   {
    "duration": 35,
    "start_time": "2023-10-02T20:22:27.087Z"
   },
   {
    "duration": 20,
    "start_time": "2023-10-02T20:22:27.124Z"
   },
   {
    "duration": 21,
    "start_time": "2023-10-02T20:22:27.146Z"
   },
   {
    "duration": 251,
    "start_time": "2023-10-02T20:22:27.169Z"
   },
   {
    "duration": 245,
    "start_time": "2023-10-02T20:22:27.422Z"
   },
   {
    "duration": 300,
    "start_time": "2023-10-02T20:22:27.670Z"
   },
   {
    "duration": 212,
    "start_time": "2023-10-02T20:22:27.972Z"
   },
   {
    "duration": 876,
    "start_time": "2023-10-02T20:22:28.186Z"
   },
   {
    "duration": 22,
    "start_time": "2023-10-02T20:22:29.064Z"
   },
   {
    "duration": 7,
    "start_time": "2023-10-02T20:22:29.088Z"
   },
   {
    "duration": 5,
    "start_time": "2023-10-02T20:22:29.110Z"
   },
   {
    "duration": 139,
    "start_time": "2023-10-02T20:22:29.117Z"
   },
   {
    "duration": 19,
    "start_time": "2023-10-02T20:22:29.258Z"
   },
   {
    "duration": 31,
    "start_time": "2023-10-02T20:22:29.278Z"
   },
   {
    "duration": 25,
    "start_time": "2023-10-02T20:22:29.311Z"
   },
   {
    "duration": 6,
    "start_time": "2023-10-02T20:22:29.339Z"
   },
   {
    "duration": 12,
    "start_time": "2023-10-02T20:22:29.347Z"
   },
   {
    "duration": 16,
    "start_time": "2023-10-02T20:22:29.360Z"
   },
   {
    "duration": 32,
    "start_time": "2023-10-02T20:22:29.378Z"
   },
   {
    "duration": 10,
    "start_time": "2023-10-02T20:22:29.412Z"
   },
   {
    "duration": 21,
    "start_time": "2023-10-02T20:22:29.424Z"
   },
   {
    "duration": 6,
    "start_time": "2023-10-02T20:22:29.447Z"
   },
   {
    "duration": 8,
    "start_time": "2023-10-02T20:24:09.883Z"
   },
   {
    "duration": 7,
    "start_time": "2023-10-02T20:24:17.942Z"
   },
   {
    "duration": 92,
    "start_time": "2023-10-02T20:24:46.837Z"
   },
   {
    "duration": 138,
    "start_time": "2023-10-02T20:34:35.641Z"
   },
   {
    "duration": 171,
    "start_time": "2023-10-02T20:35:15.672Z"
   },
   {
    "duration": 178,
    "start_time": "2023-10-02T20:37:43.859Z"
   },
   {
    "duration": 85,
    "start_time": "2023-10-02T20:43:36.637Z"
   },
   {
    "duration": 276,
    "start_time": "2023-10-02T20:44:20.511Z"
   },
   {
    "duration": 231,
    "start_time": "2023-10-02T20:44:42.568Z"
   },
   {
    "duration": 195,
    "start_time": "2023-10-02T20:45:35.939Z"
   },
   {
    "duration": 188,
    "start_time": "2023-10-02T20:45:40.072Z"
   },
   {
    "duration": 206,
    "start_time": "2023-10-02T20:46:24.088Z"
   },
   {
    "duration": 297,
    "start_time": "2023-10-02T20:46:46.216Z"
   },
   {
    "duration": 196,
    "start_time": "2023-10-02T20:47:24.558Z"
   },
   {
    "duration": 203,
    "start_time": "2023-10-02T20:47:32.628Z"
   },
   {
    "duration": 203,
    "start_time": "2023-10-02T20:47:38.811Z"
   },
   {
    "duration": 192,
    "start_time": "2023-10-02T20:47:45.424Z"
   },
   {
    "duration": 189,
    "start_time": "2023-10-02T20:48:22.016Z"
   },
   {
    "duration": 191,
    "start_time": "2023-10-02T20:49:55.550Z"
   },
   {
    "duration": 191,
    "start_time": "2023-10-02T20:50:21.195Z"
   },
   {
    "duration": 189,
    "start_time": "2023-10-02T20:50:27.471Z"
   },
   {
    "duration": 204,
    "start_time": "2023-10-02T20:57:55.405Z"
   },
   {
    "duration": 3,
    "start_time": "2023-10-02T20:58:30.577Z"
   },
   {
    "duration": 203,
    "start_time": "2023-10-02T20:58:41.097Z"
   },
   {
    "duration": 210,
    "start_time": "2023-10-02T20:59:31.840Z"
   },
   {
    "duration": 308,
    "start_time": "2023-10-02T20:59:51.336Z"
   },
   {
    "duration": 224,
    "start_time": "2023-10-02T21:00:15.726Z"
   },
   {
    "duration": 216,
    "start_time": "2023-10-02T21:00:33.708Z"
   },
   {
    "duration": 97,
    "start_time": "2023-10-02T21:02:01.090Z"
   },
   {
    "duration": 94,
    "start_time": "2023-10-02T21:02:48.115Z"
   },
   {
    "duration": 94,
    "start_time": "2023-10-02T21:03:03.733Z"
   },
   {
    "duration": 98,
    "start_time": "2023-10-02T21:03:27.600Z"
   },
   {
    "duration": 234,
    "start_time": "2023-10-02T21:06:52.929Z"
   },
   {
    "duration": 223,
    "start_time": "2023-10-02T21:08:04.448Z"
   },
   {
    "duration": 13,
    "start_time": "2023-10-02T21:08:52.009Z"
   },
   {
    "duration": 240,
    "start_time": "2023-10-02T21:12:35.728Z"
   },
   {
    "duration": 288,
    "start_time": "2023-10-02T21:13:12.326Z"
   },
   {
    "duration": 227,
    "start_time": "2023-10-02T21:14:24.506Z"
   },
   {
    "duration": 223,
    "start_time": "2023-10-02T21:14:40.048Z"
   },
   {
    "duration": 3,
    "start_time": "2023-10-02T21:18:25.371Z"
   },
   {
    "duration": 12,
    "start_time": "2023-10-02T21:18:27.431Z"
   },
   {
    "duration": 1135,
    "start_time": "2023-10-02T21:18:47.122Z"
   },
   {
    "duration": 134,
    "start_time": "2023-10-02T21:18:48.260Z"
   },
   {
    "duration": 13,
    "start_time": "2023-10-02T21:18:48.396Z"
   },
   {
    "duration": 20,
    "start_time": "2023-10-02T21:18:48.411Z"
   },
   {
    "duration": 23,
    "start_time": "2023-10-02T21:18:48.433Z"
   },
   {
    "duration": 22,
    "start_time": "2023-10-02T21:18:48.458Z"
   },
   {
    "duration": 7,
    "start_time": "2023-10-02T21:18:48.481Z"
   },
   {
    "duration": 30,
    "start_time": "2023-10-02T21:18:48.490Z"
   },
   {
    "duration": 12,
    "start_time": "2023-10-02T21:18:48.522Z"
   },
   {
    "duration": 13,
    "start_time": "2023-10-02T21:18:48.536Z"
   },
   {
    "duration": 20,
    "start_time": "2023-10-02T21:18:48.551Z"
   },
   {
    "duration": 31,
    "start_time": "2023-10-02T21:18:48.572Z"
   },
   {
    "duration": 7,
    "start_time": "2023-10-02T21:18:48.605Z"
   },
   {
    "duration": 17,
    "start_time": "2023-10-02T21:18:48.616Z"
   },
   {
    "duration": 19,
    "start_time": "2023-10-02T21:18:48.634Z"
   },
   {
    "duration": 25,
    "start_time": "2023-10-02T21:18:48.655Z"
   },
   {
    "duration": 6,
    "start_time": "2023-10-02T21:18:48.681Z"
   },
   {
    "duration": 24,
    "start_time": "2023-10-02T21:18:48.689Z"
   },
   {
    "duration": 15,
    "start_time": "2023-10-02T21:18:48.715Z"
   },
   {
    "duration": 6,
    "start_time": "2023-10-02T21:18:48.732Z"
   },
   {
    "duration": 15,
    "start_time": "2023-10-02T21:18:48.740Z"
   },
   {
    "duration": 228,
    "start_time": "2023-10-02T21:18:48.757Z"
   },
   {
    "duration": 6,
    "start_time": "2023-10-02T21:18:48.987Z"
   },
   {
    "duration": 130,
    "start_time": "2023-10-02T21:18:48.995Z"
   },
   {
    "duration": 10,
    "start_time": "2023-10-02T21:18:49.127Z"
   },
   {
    "duration": 12,
    "start_time": "2023-10-02T21:18:49.139Z"
   },
   {
    "duration": 231,
    "start_time": "2023-10-02T21:18:49.153Z"
   },
   {
    "duration": 8,
    "start_time": "2023-10-02T21:18:49.386Z"
   },
   {
    "duration": 255,
    "start_time": "2023-10-02T21:18:49.396Z"
   },
   {
    "duration": 9,
    "start_time": "2023-10-02T21:18:49.653Z"
   },
   {
    "duration": 245,
    "start_time": "2023-10-02T21:18:49.664Z"
   },
   {
    "duration": 10,
    "start_time": "2023-10-02T21:18:49.911Z"
   },
   {
    "duration": 13,
    "start_time": "2023-10-02T21:18:49.923Z"
   },
   {
    "duration": 15,
    "start_time": "2023-10-02T21:18:49.938Z"
   },
   {
    "duration": 35,
    "start_time": "2023-10-02T21:18:49.955Z"
   },
   {
    "duration": 26,
    "start_time": "2023-10-02T21:18:49.992Z"
   },
   {
    "duration": 19,
    "start_time": "2023-10-02T21:18:50.020Z"
   },
   {
    "duration": 258,
    "start_time": "2023-10-02T21:18:50.040Z"
   },
   {
    "duration": 244,
    "start_time": "2023-10-02T21:18:50.300Z"
   },
   {
    "duration": 252,
    "start_time": "2023-10-02T21:18:50.546Z"
   },
   {
    "duration": 235,
    "start_time": "2023-10-02T21:18:50.802Z"
   },
   {
    "duration": 4,
    "start_time": "2023-10-02T21:18:51.039Z"
   },
   {
    "duration": 133,
    "start_time": "2023-10-02T21:18:51.045Z"
   },
   {
    "duration": 0,
    "start_time": "2023-10-02T21:18:51.180Z"
   },
   {
    "duration": 0,
    "start_time": "2023-10-02T21:18:51.181Z"
   },
   {
    "duration": 0,
    "start_time": "2023-10-02T21:18:51.183Z"
   },
   {
    "duration": 0,
    "start_time": "2023-10-02T21:18:51.184Z"
   },
   {
    "duration": 0,
    "start_time": "2023-10-02T21:18:51.185Z"
   },
   {
    "duration": 0,
    "start_time": "2023-10-02T21:18:51.186Z"
   },
   {
    "duration": 0,
    "start_time": "2023-10-02T21:18:51.187Z"
   },
   {
    "duration": 0,
    "start_time": "2023-10-02T21:18:51.188Z"
   },
   {
    "duration": 0,
    "start_time": "2023-10-02T21:18:51.189Z"
   },
   {
    "duration": 0,
    "start_time": "2023-10-02T21:18:51.190Z"
   },
   {
    "duration": 0,
    "start_time": "2023-10-02T21:18:51.210Z"
   },
   {
    "duration": 0,
    "start_time": "2023-10-02T21:18:51.211Z"
   },
   {
    "duration": 0,
    "start_time": "2023-10-02T21:18:51.212Z"
   },
   {
    "duration": 0,
    "start_time": "2023-10-02T21:18:51.213Z"
   },
   {
    "duration": 1155,
    "start_time": "2023-10-02T21:19:21.141Z"
   },
   {
    "duration": 0,
    "start_time": "2023-10-02T21:19:22.298Z"
   },
   {
    "duration": 1116,
    "start_time": "2023-10-02T21:24:22.637Z"
   },
   {
    "duration": 10,
    "start_time": "2023-10-02T21:25:42.998Z"
   },
   {
    "duration": 11,
    "start_time": "2023-10-02T21:25:47.135Z"
   },
   {
    "duration": 1164,
    "start_time": "2023-10-02T21:26:13.351Z"
   },
   {
    "duration": 137,
    "start_time": "2023-10-02T21:26:14.517Z"
   },
   {
    "duration": 14,
    "start_time": "2023-10-02T21:26:14.655Z"
   },
   {
    "duration": 18,
    "start_time": "2023-10-02T21:26:14.671Z"
   },
   {
    "duration": 38,
    "start_time": "2023-10-02T21:26:14.691Z"
   },
   {
    "duration": 33,
    "start_time": "2023-10-02T21:26:14.732Z"
   },
   {
    "duration": 8,
    "start_time": "2023-10-02T21:26:14.768Z"
   },
   {
    "duration": 37,
    "start_time": "2023-10-02T21:26:14.778Z"
   },
   {
    "duration": 14,
    "start_time": "2023-10-02T21:26:14.816Z"
   },
   {
    "duration": 33,
    "start_time": "2023-10-02T21:26:14.833Z"
   },
   {
    "duration": 7,
    "start_time": "2023-10-02T21:26:14.868Z"
   },
   {
    "duration": 21,
    "start_time": "2023-10-02T21:26:14.877Z"
   },
   {
    "duration": 11,
    "start_time": "2023-10-02T21:26:14.900Z"
   },
   {
    "duration": 28,
    "start_time": "2023-10-02T21:26:14.913Z"
   },
   {
    "duration": 32,
    "start_time": "2023-10-02T21:26:14.943Z"
   },
   {
    "duration": 33,
    "start_time": "2023-10-02T21:26:14.976Z"
   },
   {
    "duration": 73,
    "start_time": "2023-10-02T21:26:15.011Z"
   },
   {
    "duration": 37,
    "start_time": "2023-10-02T21:26:15.086Z"
   },
   {
    "duration": 32,
    "start_time": "2023-10-02T21:26:15.125Z"
   },
   {
    "duration": 29,
    "start_time": "2023-10-02T21:26:15.159Z"
   },
   {
    "duration": 31,
    "start_time": "2023-10-02T21:26:15.190Z"
   },
   {
    "duration": 259,
    "start_time": "2023-10-02T21:26:15.223Z"
   },
   {
    "duration": 5,
    "start_time": "2023-10-02T21:26:15.485Z"
   },
   {
    "duration": 103,
    "start_time": "2023-10-02T21:26:15.492Z"
   },
   {
    "duration": 19,
    "start_time": "2023-10-02T21:26:15.597Z"
   },
   {
    "duration": 44,
    "start_time": "2023-10-02T21:26:15.618Z"
   },
   {
    "duration": 215,
    "start_time": "2023-10-02T21:26:15.664Z"
   },
   {
    "duration": 9,
    "start_time": "2023-10-02T21:26:15.883Z"
   },
   {
    "duration": 257,
    "start_time": "2023-10-02T21:26:15.894Z"
   },
   {
    "duration": 12,
    "start_time": "2023-10-02T21:26:16.153Z"
   },
   {
    "duration": 243,
    "start_time": "2023-10-02T21:26:16.166Z"
   },
   {
    "duration": 9,
    "start_time": "2023-10-02T21:26:16.411Z"
   },
   {
    "duration": 19,
    "start_time": "2023-10-02T21:26:16.422Z"
   },
   {
    "duration": 14,
    "start_time": "2023-10-02T21:26:16.444Z"
   },
   {
    "duration": 43,
    "start_time": "2023-10-02T21:26:16.460Z"
   },
   {
    "duration": 16,
    "start_time": "2023-10-02T21:26:16.505Z"
   },
   {
    "duration": 37,
    "start_time": "2023-10-02T21:26:16.522Z"
   },
   {
    "duration": 277,
    "start_time": "2023-10-02T21:26:16.561Z"
   },
   {
    "duration": 245,
    "start_time": "2023-10-02T21:26:16.840Z"
   },
   {
    "duration": 239,
    "start_time": "2023-10-02T21:26:17.087Z"
   },
   {
    "duration": 318,
    "start_time": "2023-10-02T21:26:17.328Z"
   },
   {
    "duration": 957,
    "start_time": "2023-10-02T21:26:17.648Z"
   },
   {
    "duration": 4,
    "start_time": "2023-10-02T21:26:18.607Z"
   },
   {
    "duration": 23,
    "start_time": "2023-10-02T21:26:18.614Z"
   },
   {
    "duration": 12,
    "start_time": "2023-10-02T21:26:18.639Z"
   },
   {
    "duration": 7,
    "start_time": "2023-10-02T21:26:18.653Z"
   },
   {
    "duration": 161,
    "start_time": "2023-10-02T21:26:18.662Z"
   },
   {
    "duration": 19,
    "start_time": "2023-10-02T21:26:18.825Z"
   },
   {
    "duration": 10,
    "start_time": "2023-10-02T21:26:18.845Z"
   },
   {
    "duration": 22,
    "start_time": "2023-10-02T21:26:18.857Z"
   },
   {
    "duration": 28,
    "start_time": "2023-10-02T21:26:18.881Z"
   },
   {
    "duration": 10,
    "start_time": "2023-10-02T21:26:18.912Z"
   },
   {
    "duration": 20,
    "start_time": "2023-10-02T21:26:18.923Z"
   },
   {
    "duration": 5,
    "start_time": "2023-10-02T21:26:18.945Z"
   },
   {
    "duration": 26,
    "start_time": "2023-10-02T21:26:18.952Z"
   },
   {
    "duration": 31,
    "start_time": "2023-10-02T21:26:18.980Z"
   },
   {
    "duration": 6,
    "start_time": "2023-10-02T21:26:19.013Z"
   },
   {
    "duration": 1198,
    "start_time": "2023-10-02T21:29:05.858Z"
   },
   {
    "duration": 138,
    "start_time": "2023-10-02T21:29:07.059Z"
   },
   {
    "duration": 14,
    "start_time": "2023-10-02T21:29:07.198Z"
   },
   {
    "duration": 23,
    "start_time": "2023-10-02T21:29:07.214Z"
   },
   {
    "duration": 36,
    "start_time": "2023-10-02T21:29:07.240Z"
   },
   {
    "duration": 22,
    "start_time": "2023-10-02T21:29:07.278Z"
   },
   {
    "duration": 8,
    "start_time": "2023-10-02T21:29:07.302Z"
   },
   {
    "duration": 13,
    "start_time": "2023-10-02T21:29:07.311Z"
   },
   {
    "duration": 14,
    "start_time": "2023-10-02T21:29:07.325Z"
   },
   {
    "duration": 7,
    "start_time": "2023-10-02T21:29:07.341Z"
   },
   {
    "duration": 7,
    "start_time": "2023-10-02T21:29:07.349Z"
   },
   {
    "duration": 9,
    "start_time": "2023-10-02T21:29:07.358Z"
   },
   {
    "duration": 10,
    "start_time": "2023-10-02T21:29:07.369Z"
   },
   {
    "duration": 6,
    "start_time": "2023-10-02T21:29:07.410Z"
   },
   {
    "duration": 15,
    "start_time": "2023-10-02T21:29:07.418Z"
   },
   {
    "duration": 15,
    "start_time": "2023-10-02T21:29:07.435Z"
   },
   {
    "duration": 6,
    "start_time": "2023-10-02T21:29:07.452Z"
   },
   {
    "duration": 35,
    "start_time": "2023-10-02T21:29:07.460Z"
   },
   {
    "duration": 21,
    "start_time": "2023-10-02T21:29:07.498Z"
   },
   {
    "duration": 9,
    "start_time": "2023-10-02T21:29:07.521Z"
   },
   {
    "duration": 11,
    "start_time": "2023-10-02T21:29:07.532Z"
   },
   {
    "duration": 219,
    "start_time": "2023-10-02T21:29:07.545Z"
   },
   {
    "duration": 7,
    "start_time": "2023-10-02T21:29:07.766Z"
   },
   {
    "duration": 121,
    "start_time": "2023-10-02T21:29:07.775Z"
   },
   {
    "duration": 12,
    "start_time": "2023-10-02T21:29:07.898Z"
   },
   {
    "duration": 28,
    "start_time": "2023-10-02T21:29:07.912Z"
   },
   {
    "duration": 227,
    "start_time": "2023-10-02T21:29:07.942Z"
   },
   {
    "duration": 9,
    "start_time": "2023-10-02T21:29:08.171Z"
   },
   {
    "duration": 263,
    "start_time": "2023-10-02T21:29:08.182Z"
   },
   {
    "duration": 9,
    "start_time": "2023-10-02T21:29:08.447Z"
   },
   {
    "duration": 255,
    "start_time": "2023-10-02T21:29:08.457Z"
   },
   {
    "duration": 13,
    "start_time": "2023-10-02T21:29:08.714Z"
   },
   {
    "duration": 9,
    "start_time": "2023-10-02T21:29:08.730Z"
   },
   {
    "duration": 13,
    "start_time": "2023-10-02T21:29:08.741Z"
   },
   {
    "duration": 25,
    "start_time": "2023-10-02T21:29:08.756Z"
   },
   {
    "duration": 32,
    "start_time": "2023-10-02T21:29:08.783Z"
   },
   {
    "duration": 25,
    "start_time": "2023-10-02T21:29:08.817Z"
   },
   {
    "duration": 281,
    "start_time": "2023-10-02T21:29:08.844Z"
   },
   {
    "duration": 247,
    "start_time": "2023-10-02T21:29:09.128Z"
   },
   {
    "duration": 245,
    "start_time": "2023-10-02T21:29:09.377Z"
   },
   {
    "duration": 320,
    "start_time": "2023-10-02T21:29:09.626Z"
   },
   {
    "duration": 923,
    "start_time": "2023-10-02T21:29:09.948Z"
   },
   {
    "duration": 4,
    "start_time": "2023-10-02T21:29:10.873Z"
   },
   {
    "duration": 43,
    "start_time": "2023-10-02T21:29:10.879Z"
   },
   {
    "duration": 55,
    "start_time": "2023-10-02T21:29:10.924Z"
   },
   {
    "duration": 184,
    "start_time": "2023-10-02T21:29:10.982Z"
   },
   {
    "duration": 29,
    "start_time": "2023-10-02T21:29:11.168Z"
   },
   {
    "duration": 84,
    "start_time": "2023-10-02T21:29:11.209Z"
   },
   {
    "duration": 72,
    "start_time": "2023-10-02T21:29:11.296Z"
   },
   {
    "duration": 115,
    "start_time": "2023-10-02T21:29:11.370Z"
   },
   {
    "duration": 11,
    "start_time": "2023-10-02T21:29:11.488Z"
   },
   {
    "duration": 22,
    "start_time": "2023-10-02T21:29:11.501Z"
   },
   {
    "duration": 5,
    "start_time": "2023-10-02T21:29:11.525Z"
   },
   {
    "duration": 12,
    "start_time": "2023-10-02T21:29:11.532Z"
   },
   {
    "duration": 14,
    "start_time": "2023-10-02T21:29:11.546Z"
   },
   {
    "duration": 6,
    "start_time": "2023-10-02T21:29:11.562Z"
   },
   {
    "duration": 14,
    "start_time": "2023-10-02T21:31:48.381Z"
   },
   {
    "duration": 17,
    "start_time": "2023-10-02T21:31:53.456Z"
   },
   {
    "duration": 7,
    "start_time": "2023-10-02T21:32:00.805Z"
   },
   {
    "duration": 12,
    "start_time": "2023-10-02T21:35:19.588Z"
   },
   {
    "duration": 14,
    "start_time": "2023-10-02T21:35:20.822Z"
   },
   {
    "duration": 5,
    "start_time": "2023-10-02T21:35:38.082Z"
   },
   {
    "duration": 1161,
    "start_time": "2023-10-02T21:41:24.163Z"
   },
   {
    "duration": 137,
    "start_time": "2023-10-02T21:41:25.328Z"
   },
   {
    "duration": 19,
    "start_time": "2023-10-02T21:41:25.467Z"
   },
   {
    "duration": 23,
    "start_time": "2023-10-02T21:41:25.488Z"
   },
   {
    "duration": 12,
    "start_time": "2023-10-02T21:41:25.514Z"
   },
   {
    "duration": 21,
    "start_time": "2023-10-02T21:41:25.528Z"
   },
   {
    "duration": 9,
    "start_time": "2023-10-02T21:41:25.551Z"
   },
   {
    "duration": 16,
    "start_time": "2023-10-02T21:41:25.562Z"
   },
   {
    "duration": 30,
    "start_time": "2023-10-02T21:41:25.579Z"
   },
   {
    "duration": 11,
    "start_time": "2023-10-02T21:41:25.611Z"
   },
   {
    "duration": 26,
    "start_time": "2023-10-02T21:41:25.624Z"
   },
   {
    "duration": 13,
    "start_time": "2023-10-02T21:41:25.652Z"
   },
   {
    "duration": 8,
    "start_time": "2023-10-02T21:41:25.667Z"
   },
   {
    "duration": 8,
    "start_time": "2023-10-02T21:41:25.677Z"
   },
   {
    "duration": 25,
    "start_time": "2023-10-02T21:41:25.686Z"
   },
   {
    "duration": 18,
    "start_time": "2023-10-02T21:41:25.713Z"
   },
   {
    "duration": 5,
    "start_time": "2023-10-02T21:41:25.733Z"
   },
   {
    "duration": 19,
    "start_time": "2023-10-02T21:41:25.740Z"
   },
   {
    "duration": 20,
    "start_time": "2023-10-02T21:41:25.761Z"
   },
   {
    "duration": 6,
    "start_time": "2023-10-02T21:41:25.783Z"
   },
   {
    "duration": 27,
    "start_time": "2023-10-02T21:41:25.792Z"
   },
   {
    "duration": 218,
    "start_time": "2023-10-02T21:41:25.821Z"
   },
   {
    "duration": 6,
    "start_time": "2023-10-02T21:41:26.041Z"
   },
   {
    "duration": 116,
    "start_time": "2023-10-02T21:41:26.048Z"
   },
   {
    "duration": 9,
    "start_time": "2023-10-02T21:41:26.166Z"
   },
   {
    "duration": 8,
    "start_time": "2023-10-02T21:41:26.177Z"
   },
   {
    "duration": 217,
    "start_time": "2023-10-02T21:41:26.210Z"
   },
   {
    "duration": 10,
    "start_time": "2023-10-02T21:41:26.429Z"
   },
   {
    "duration": 261,
    "start_time": "2023-10-02T21:41:26.441Z"
   },
   {
    "duration": 12,
    "start_time": "2023-10-02T21:41:26.704Z"
   },
   {
    "duration": 240,
    "start_time": "2023-10-02T21:41:26.718Z"
   },
   {
    "duration": 10,
    "start_time": "2023-10-02T21:41:26.960Z"
   },
   {
    "duration": 14,
    "start_time": "2023-10-02T21:41:26.972Z"
   },
   {
    "duration": 25,
    "start_time": "2023-10-02T21:41:26.987Z"
   },
   {
    "duration": 18,
    "start_time": "2023-10-02T21:41:27.014Z"
   },
   {
    "duration": 8,
    "start_time": "2023-10-02T21:41:27.035Z"
   },
   {
    "duration": 7,
    "start_time": "2023-10-02T21:41:27.044Z"
   },
   {
    "duration": 272,
    "start_time": "2023-10-02T21:41:27.052Z"
   },
   {
    "duration": 235,
    "start_time": "2023-10-02T21:41:27.326Z"
   },
   {
    "duration": 246,
    "start_time": "2023-10-02T21:41:27.563Z"
   },
   {
    "duration": 323,
    "start_time": "2023-10-02T21:41:27.814Z"
   },
   {
    "duration": 858,
    "start_time": "2023-10-02T21:41:28.139Z"
   },
   {
    "duration": 11,
    "start_time": "2023-10-02T21:41:28.999Z"
   },
   {
    "duration": 25,
    "start_time": "2023-10-02T21:41:29.012Z"
   },
   {
    "duration": 4,
    "start_time": "2023-10-02T21:41:29.041Z"
   },
   {
    "duration": 143,
    "start_time": "2023-10-02T21:41:29.047Z"
   },
   {
    "duration": 22,
    "start_time": "2023-10-02T21:41:29.192Z"
   },
   {
    "duration": 26,
    "start_time": "2023-10-02T21:41:29.215Z"
   },
   {
    "duration": 37,
    "start_time": "2023-10-02T21:41:29.243Z"
   },
   {
    "duration": 20,
    "start_time": "2023-10-02T21:41:29.282Z"
   },
   {
    "duration": 51,
    "start_time": "2023-10-02T21:41:29.304Z"
   },
   {
    "duration": 34,
    "start_time": "2023-10-02T21:41:29.357Z"
   },
   {
    "duration": 22,
    "start_time": "2023-10-02T21:41:29.393Z"
   },
   {
    "duration": 25,
    "start_time": "2023-10-02T21:41:29.417Z"
   },
   {
    "duration": 27,
    "start_time": "2023-10-02T21:41:29.444Z"
   },
   {
    "duration": 6,
    "start_time": "2023-10-02T21:41:29.473Z"
   },
   {
    "duration": 1155,
    "start_time": "2023-10-03T07:30:17.394Z"
   },
   {
    "duration": 351,
    "start_time": "2023-10-03T07:30:18.551Z"
   },
   {
    "duration": 13,
    "start_time": "2023-10-03T07:30:18.904Z"
   },
   {
    "duration": 34,
    "start_time": "2023-10-03T07:30:18.919Z"
   },
   {
    "duration": 37,
    "start_time": "2023-10-03T07:30:18.954Z"
   },
   {
    "duration": 17,
    "start_time": "2023-10-03T07:30:18.992Z"
   },
   {
    "duration": 35,
    "start_time": "2023-10-03T07:30:19.011Z"
   },
   {
    "duration": 16,
    "start_time": "2023-10-03T07:30:19.047Z"
   },
   {
    "duration": 22,
    "start_time": "2023-10-03T07:30:19.064Z"
   },
   {
    "duration": 12,
    "start_time": "2023-10-03T07:30:19.089Z"
   },
   {
    "duration": 4,
    "start_time": "2023-10-03T07:30:19.103Z"
   },
   {
    "duration": 26,
    "start_time": "2023-10-03T07:30:19.109Z"
   },
   {
    "duration": 19,
    "start_time": "2023-10-03T07:30:19.137Z"
   },
   {
    "duration": 21,
    "start_time": "2023-10-03T07:30:19.157Z"
   },
   {
    "duration": 20,
    "start_time": "2023-10-03T07:30:19.180Z"
   },
   {
    "duration": 19,
    "start_time": "2023-10-03T07:30:19.201Z"
   },
   {
    "duration": 210,
    "start_time": "2023-10-03T07:30:19.222Z"
   },
   {
    "duration": 177,
    "start_time": "2023-10-03T07:30:19.433Z"
   },
   {
    "duration": 12,
    "start_time": "2023-10-03T07:30:19.611Z"
   },
   {
    "duration": 9,
    "start_time": "2023-10-03T07:30:19.624Z"
   },
   {
    "duration": 16,
    "start_time": "2023-10-03T07:30:19.635Z"
   },
   {
    "duration": 184,
    "start_time": "2023-10-03T07:30:19.653Z"
   },
   {
    "duration": 9,
    "start_time": "2023-10-03T07:30:19.839Z"
   },
   {
    "duration": 87,
    "start_time": "2023-10-03T07:30:19.849Z"
   },
   {
    "duration": 8,
    "start_time": "2023-10-03T07:30:19.944Z"
   },
   {
    "duration": 31,
    "start_time": "2023-10-03T07:30:19.953Z"
   },
   {
    "duration": 190,
    "start_time": "2023-10-03T07:30:19.986Z"
   },
   {
    "duration": 7,
    "start_time": "2023-10-03T07:30:20.180Z"
   },
   {
    "duration": 224,
    "start_time": "2023-10-03T07:30:20.188Z"
   },
   {
    "duration": 7,
    "start_time": "2023-10-03T07:30:20.414Z"
   },
   {
    "duration": 212,
    "start_time": "2023-10-03T07:30:20.423Z"
   },
   {
    "duration": 12,
    "start_time": "2023-10-03T07:30:20.636Z"
   },
   {
    "duration": 78,
    "start_time": "2023-10-03T07:30:20.650Z"
   },
   {
    "duration": 48,
    "start_time": "2023-10-03T07:30:20.730Z"
   },
   {
    "duration": 82,
    "start_time": "2023-10-03T07:30:20.780Z"
   },
   {
    "duration": 37,
    "start_time": "2023-10-03T07:30:20.863Z"
   },
   {
    "duration": 34,
    "start_time": "2023-10-03T07:30:20.902Z"
   },
   {
    "duration": 240,
    "start_time": "2023-10-03T07:30:20.938Z"
   },
   {
    "duration": 411,
    "start_time": "2023-10-03T07:30:21.179Z"
   },
   {
    "duration": 417,
    "start_time": "2023-10-03T07:30:21.644Z"
   },
   {
    "duration": 527,
    "start_time": "2023-10-03T07:30:22.062Z"
   },
   {
    "duration": 981,
    "start_time": "2023-10-03T07:30:22.591Z"
   },
   {
    "duration": 3,
    "start_time": "2023-10-03T07:30:23.574Z"
   },
   {
    "duration": 18,
    "start_time": "2023-10-03T07:30:23.579Z"
   },
   {
    "duration": 4,
    "start_time": "2023-10-03T07:30:23.599Z"
   },
   {
    "duration": 135,
    "start_time": "2023-10-03T07:30:23.604Z"
   },
   {
    "duration": 19,
    "start_time": "2023-10-03T07:30:23.741Z"
   },
   {
    "duration": 9,
    "start_time": "2023-10-03T07:30:23.762Z"
   },
   {
    "duration": 14,
    "start_time": "2023-10-03T07:30:23.772Z"
   },
   {
    "duration": 5,
    "start_time": "2023-10-03T07:30:23.787Z"
   },
   {
    "duration": 24,
    "start_time": "2023-10-03T07:30:23.794Z"
   },
   {
    "duration": 34,
    "start_time": "2023-10-03T07:30:23.820Z"
   },
   {
    "duration": 5,
    "start_time": "2023-10-03T07:30:23.856Z"
   },
   {
    "duration": 14,
    "start_time": "2023-10-03T07:30:23.863Z"
   },
   {
    "duration": 56,
    "start_time": "2023-10-03T07:30:23.879Z"
   },
   {
    "duration": 71,
    "start_time": "2023-10-03T07:30:23.936Z"
   }
  ],
  "kernelspec": {
   "display_name": "Python 3 (ipykernel)",
   "language": "python",
   "name": "python3"
  },
  "language_info": {
   "codemirror_mode": {
    "name": "ipython",
    "version": 3
   },
   "file_extension": ".py",
   "mimetype": "text/x-python",
   "name": "python",
   "nbconvert_exporter": "python",
   "pygments_lexer": "ipython3",
   "version": "3.9.12"
  },
  "toc": {
   "base_numbering": 1,
   "nav_menu": {},
   "number_sections": true,
   "sideBar": true,
   "skip_h1_title": true,
   "title_cell": "Table of Contents",
   "title_sidebar": "Contents",
   "toc_cell": false,
   "toc_position": {
    "height": "calc(100% - 180px)",
    "left": "10px",
    "top": "150px",
    "width": "287.594px"
   },
   "toc_section_display": true,
   "toc_window_display": true
  },
  "varInspector": {
   "cols": {
    "lenName": 16,
    "lenType": 16,
    "lenVar": 40
   },
   "kernels_config": {
    "python": {
     "delete_cmd_postfix": "",
     "delete_cmd_prefix": "del ",
     "library": "var_list.py",
     "varRefreshCmd": "print(var_dic_list())"
    },
    "r": {
     "delete_cmd_postfix": ") ",
     "delete_cmd_prefix": "rm(",
     "library": "var_list.r",
     "varRefreshCmd": "cat(var_dic_list()) "
    }
   },
   "types_to_exclude": [
    "module",
    "function",
    "builtin_function_or_method",
    "instance",
    "_Feature"
   ],
   "window_display": false
  }
 },
 "nbformat": 4,
 "nbformat_minor": 5
}
